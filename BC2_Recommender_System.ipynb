{
 "cells": [
  {
   "cell_type": "markdown",
   "metadata": {},
   "source": [
    "# Data Loading"
   ]
  },
  {
   "cell_type": "code",
   "execution_count": 1,
   "metadata": {
    "collapsed": true
   },
   "outputs": [],
   "source": [
    "spark.conf.set(\"spark.sql.shuffle.partitions\", 1000)\n",
    "spark.conf.set(\"spark.sql.autoBroadcastJoinThreshold\", -1)"
   ]
  },
  {
   "cell_type": "code",
   "execution_count": 2,
   "metadata": {},
   "outputs": [
    {
     "name": "stderr",
     "output_type": "stream",
     "text": [
      "/opt/conda/lib/python3.5/site-packages/matplotlib/font_manager.py:273: UserWarning: Matplotlib is building the font cache using fc-list. This may take a moment.\n",
      "  warnings.warn('Matplotlib is building the font cache using fc-list. This may take a moment.')\n",
      "/opt/conda/lib/python3.5/site-packages/matplotlib/font_manager.py:273: UserWarning: Matplotlib is building the font cache using fc-list. This may take a moment.\n",
      "  warnings.warn('Matplotlib is building the font cache using fc-list. This may take a moment.')\n"
     ]
    }
   ],
   "source": [
    "from pyspark.sql.types import DateType, IntegerType\n",
    "from pyspark.sql.functions import from_unixtime, unix_timestamp,to_date, max, when\n",
    "from pyspark.sql.functions import col, sum, greatest, expr, count, countDistinct, concat,substring, lit, length, lpad\n",
    "from pyspark.sql.types import *\n",
    "from pyspark.sql.functions import broadcast\n",
    "from pyspark.ml.recommendation import ALS, ALSModel\n",
    "import pandas as pd\n",
    "import matplotlib.pylab as plt\n",
    "\n",
    "from pyspark.ml.clustering import KMeans, KMeansModel, BisectingKMeans, BisectingKMeansModel\n",
    "from pyspark.ml.feature import VectorAssembler, StandardScaler, PCA, PCAModel, ElementwiseProduct\n",
    "from pyspark.ml import Pipeline, PipelineModel\n",
    "#import datetime"
   ]
  },
  {
   "cell_type": "code",
   "execution_count": 3,
   "metadata": {
    "collapsed": true
   },
   "outputs": [],
   "source": [
    "#FUNCIONES PARA EXTRAER NULOS POR COLUMNA\n",
    "def count_null(col_name):\n",
    "  return sum(col(col_name).isNull().cast('integer')).alias(col_name)\n",
    "\n",
    "def mostrarNulos(dataframe):\n",
    "    # Run the aggregation. The *exprs converts the list of expressions into\n",
    "    # variable function arguments.\n",
    "    exprs = []\n",
    "    for col_name in dataframe.columns:\n",
    "      exprs.append(count_null(col_name))\n",
    "    return dataframe.agg(*exprs)"
   ]
  },
  {
   "cell_type": "code",
   "execution_count": 4,
   "metadata": {
    "collapsed": true
   },
   "outputs": [],
   "source": [
    "#PARA LOCAL DEL TRABAJO\n",
    "#spark = SparkSession.builder.getOrCreate()"
   ]
  },
  {
   "cell_type": "markdown",
   "metadata": {},
   "source": [
    "## Buffer Ticket"
   ]
  },
  {
   "cell_type": "markdown",
   "metadata": {},
   "source": [
    "#### PRODUTOFAM"
   ]
  },
  {
   "cell_type": "code",
   "execution_count": 5,
   "metadata": {
    "scrolled": true
   },
   "outputs": [
    {
     "data": {
      "text/plain": [
       "DataFrame[PRF_CD_SUBFAMILIA: bigint, PRF_DS_SUBFAMILIA: string, PRF_CD_FAMILIA: bigint, PRF_DT_INCLUSAO: timestamp, PRF_DT_ALTERACAO: timestamp, TM_TRUSTED: timestamp, DT_TRUSTED: int]"
      ]
     },
     "execution_count": 5,
     "metadata": {},
     "output_type": "execute_result"
    }
   ],
   "source": [
    "#LECTURA DE TABLA PARQUET\n",
    "dfProdutofam=spark.read.parquet(\"/user/sparta-server/trusted/bufferticket/PRODUTOFAM\")\n",
    "dfProdutofam.persist()"
   ]
  },
  {
   "cell_type": "code",
   "execution_count": 6,
   "metadata": {
    "scrolled": false
   },
   "outputs": [
    {
     "name": "stdout",
     "output_type": "stream",
     "text": [
      "root\n",
      " |-- PRF_CD_SUBFAMILIA: long (nullable = true)\n",
      " |-- PRF_DS_SUBFAMILIA: string (nullable = true)\n",
      " |-- PRF_CD_FAMILIA: long (nullable = true)\n",
      " |-- PRF_DT_INCLUSAO: timestamp (nullable = true)\n",
      " |-- PRF_DT_ALTERACAO: timestamp (nullable = true)\n",
      " |-- TM_TRUSTED: timestamp (nullable = true)\n",
      " |-- DT_TRUSTED: integer (nullable = true)\n",
      "\n"
     ]
    }
   ],
   "source": [
    "dfProdutofam.printSchema()"
   ]
  },
  {
   "cell_type": "code",
   "execution_count": null,
   "metadata": {},
   "outputs": [],
   "source": [
    "dfProdutofam.describe().show()"
   ]
  },
  {
   "cell_type": "code",
   "execution_count": 14,
   "metadata": {},
   "outputs": [
    {
     "data": {
      "text/plain": [
       "3076"
      ]
     },
     "execution_count": 14,
     "metadata": {},
     "output_type": "execute_result"
    }
   ],
   "source": [
    "#DETECTAR DUPLICADOS\n",
    "dfProdutofam.count()"
   ]
  },
  {
   "cell_type": "code",
   "execution_count": 7,
   "metadata": {},
   "outputs": [
    {
     "data": {
      "text/plain": [
       "3076"
      ]
     },
     "execution_count": 7,
     "metadata": {},
     "output_type": "execute_result"
    }
   ],
   "source": [
    "dfProdutofam.select(\"PRF_CD_SUBFAMILIA\").distinct().count()"
   ]
  },
  {
   "cell_type": "code",
   "execution_count": 13,
   "metadata": {
    "collapsed": true
   },
   "outputs": [],
   "source": [
    "dfProdutofam=dfProdutofam.dropDuplicates([\"PRF_CD_SUBFAMILIA\"])"
   ]
  },
  {
   "cell_type": "code",
   "execution_count": null,
   "metadata": {},
   "outputs": [],
   "source": [
    "#CONVERSION A FECHA, PARA CUANDO SEA NECESARIO\n",
    "\n",
    "#dfProdutofam.select(\"PRF_DT_INCLUSAO\").cast(DateType)\n",
    "#dfProdutofam.withColumn(\"record_date\",dfProdutofam['PRF_DT_INCLUSAO'].cast(DateType())).show()\n",
    "#dfProdutofam.withColumn(\"parsed\", to_date(to_timestamp(\"PRF_DT_INCLUSAO\", \"dd/MM/yy\"))).show()\n",
    "dfProdutofam.withColumn(\"parsed\", to_date(from_unixtime(unix_timestamp(\"PRF_DT_INCLUSAO\", \"dd/MM/yy\")))).show()\n",
    "\n",
    "#ESCRITURA A PARQUET\n",
    "\n",
    "#df.write.parquet(\"testparquet\")\n",
    "#df2= spark.read.parquet(\"testparquet\")"
   ]
  },
  {
   "cell_type": "code",
   "execution_count": null,
   "metadata": {
    "scrolled": false
   },
   "outputs": [],
   "source": [
    "mostrarNulos(dfProdutofam).show()"
   ]
  },
  {
   "cell_type": "code",
   "execution_count": 58,
   "metadata": {},
   "outputs": [
    {
     "name": "stdout",
     "output_type": "stream",
     "text": [
      "+-----------------+--------------------+--------------+--------------------+----------------+--------------------+----------+\n",
      "|PRF_CD_SUBFAMILIA|   PRF_DS_SUBFAMILIA|PRF_CD_FAMILIA|     PRF_DT_INCLUSAO|PRF_DT_ALTERACAO|          TM_TRUSTED|DT_TRUSTED|\n",
      "+-----------------+--------------------+--------------+--------------------+----------------+--------------------+----------+\n",
      "|       1015552000|PAO FORMA ESP INT...|      10155520|2018-02-26 23:02:...|            null|2018-02-27 22:14:...|  20180227|\n",
      "|       2020044800|         PROVOLONETE|      20200448|2018-02-26 23:02:...|            null|2018-02-27 22:14:...|  20180227|\n",
      "|       1014685700|ORGANICOS SABORIZ...|      10146857|2018-02-26 23:02:...|            null|2018-02-27 22:14:...|  20180227|\n",
      "|       2023201800|      BOLO CHOCOLATE|      20232018|2018-02-26 23:02:...|            null|2018-02-27 22:14:...|  20180227|\n",
      "|       1011541000|ACESSO LIMPA FERR...|      10115410|2018-02-26 23:02:...|            null|2018-02-27 22:14:...|  20180227|\n",
      "+-----------------+--------------------+--------------+--------------------+----------------+--------------------+----------+\n",
      "only showing top 5 rows\n",
      "\n"
     ]
    }
   ],
   "source": [
    "dfProdutofam.show(5)"
   ]
  },
  {
   "cell_type": "code",
   "execution_count": 55,
   "metadata": {},
   "outputs": [
    {
     "name": "stdout",
     "output_type": "stream",
     "text": [
      "+----------+\n",
      "|  FECHAMAX|\n",
      "+----------+\n",
      "|9099010100|\n",
      "+----------+\n",
      "\n"
     ]
    }
   ],
   "source": [
    "dfProdutofam.agg(max('PRF_CD_SUBFAMILIA').alias('FECHAMAX')).show()"
   ]
  },
  {
   "cell_type": "markdown",
   "metadata": {},
   "source": [
    "#### PRODUTOFAMDEP"
   ]
  },
  {
   "cell_type": "code",
   "execution_count": 6,
   "metadata": {
    "scrolled": true
   },
   "outputs": [
    {
     "data": {
      "text/plain": [
       "DataFrame[PRF_CD_DEPARTAMENTO: int, PRF_DS_DEPARTAMENTO: string, PRF_DT_INCLUSAO: timestamp, PRF_DT_ALTERACAO: timestamp, TM_TRUSTED: timestamp, DT_TRUSTED: int]"
      ]
     },
     "execution_count": 6,
     "metadata": {},
     "output_type": "execute_result"
    }
   ],
   "source": [
    "#LECTURA DE TABLA PARQUET\n",
    "dfProdutofamdep=spark.read.parquet(\"/user/sparta-server/trusted/bufferticket/PRODUTOFAMDEP\")\n",
    "dfProdutofamdep.persist()"
   ]
  },
  {
   "cell_type": "code",
   "execution_count": 8,
   "metadata": {
    "scrolled": false
   },
   "outputs": [
    {
     "name": "stdout",
     "output_type": "stream",
     "text": [
      "root\n",
      " |-- PRF_CD_DEPARTAMENTO: integer (nullable = true)\n",
      " |-- PRF_DS_DEPARTAMENTO: string (nullable = true)\n",
      " |-- PRF_DT_INCLUSAO: timestamp (nullable = true)\n",
      " |-- PRF_DT_ALTERACAO: timestamp (nullable = true)\n",
      " |-- TM_TRUSTED: timestamp (nullable = true)\n",
      " |-- DT_TRUSTED: integer (nullable = true)\n",
      "\n"
     ]
    }
   ],
   "source": [
    "dfProdutofamdep.printSchema()"
   ]
  },
  {
   "cell_type": "code",
   "execution_count": 20,
   "metadata": {},
   "outputs": [
    {
     "data": {
      "text/plain": [
       "9"
      ]
     },
     "execution_count": 20,
     "metadata": {},
     "output_type": "execute_result"
    }
   ],
   "source": [
    "#DETECTAR DUPLICADOS\n",
    "dfProdutofamdep.count()"
   ]
  },
  {
   "cell_type": "code",
   "execution_count": 18,
   "metadata": {},
   "outputs": [
    {
     "data": {
      "text/plain": [
       "9"
      ]
     },
     "execution_count": 18,
     "metadata": {},
     "output_type": "execute_result"
    }
   ],
   "source": [
    "dfProdutofamdep.select(\"PRF_CD_DEPARTAMENTO\").distinct().count()"
   ]
  },
  {
   "cell_type": "code",
   "execution_count": 19,
   "metadata": {},
   "outputs": [],
   "source": [
    "dfProdutofamdep=dfProdutofamdep.dropDuplicates([\"PRF_CD_DEPARTAMENTO\"])"
   ]
  },
  {
   "cell_type": "code",
   "execution_count": null,
   "metadata": {},
   "outputs": [],
   "source": [
    "dfProdutofamdep.describe().show()"
   ]
  },
  {
   "cell_type": "code",
   "execution_count": null,
   "metadata": {
    "scrolled": true
   },
   "outputs": [],
   "source": [
    "mostrarNulos(dfProdutofamdep).show()"
   ]
  },
  {
   "cell_type": "markdown",
   "metadata": {},
   "source": [
    "#### PRODUTOFAMFAM"
   ]
  },
  {
   "cell_type": "code",
   "execution_count": 7,
   "metadata": {
    "scrolled": true
   },
   "outputs": [
    {
     "data": {
      "text/plain": [
       "DataFrame[PRF_CD_FAMILIA: bigint, PRF_DS_FAMILIA: string, PRF_CD_GRUPO: bigint, PRF_DT_INCLUSAO: timestamp, PRF_DT_ALTERACAO: timestamp, TM_TRUSTED: timestamp, DT_TRUSTED: int]"
      ]
     },
     "execution_count": 7,
     "metadata": {},
     "output_type": "execute_result"
    }
   ],
   "source": [
    "#LECTURA DE TABLA PARQUET\n",
    "dfProdutofamfam=spark.read.parquet(\"/user/sparta-server/trusted/bufferticket/PRODUTOFAMFAM\")\n",
    "dfProdutofamfam.persist()"
   ]
  },
  {
   "cell_type": "code",
   "execution_count": 10,
   "metadata": {
    "scrolled": false
   },
   "outputs": [
    {
     "name": "stdout",
     "output_type": "stream",
     "text": [
      "root\n",
      " |-- PRF_CD_FAMILIA: long (nullable = true)\n",
      " |-- PRF_DS_FAMILIA: string (nullable = true)\n",
      " |-- PRF_CD_GRUPO: long (nullable = true)\n",
      " |-- PRF_DT_INCLUSAO: timestamp (nullable = true)\n",
      " |-- PRF_DT_ALTERACAO: timestamp (nullable = true)\n",
      " |-- TM_TRUSTED: timestamp (nullable = true)\n",
      " |-- DT_TRUSTED: integer (nullable = true)\n",
      "\n"
     ]
    }
   ],
   "source": [
    "dfProdutofamfam.printSchema()"
   ]
  },
  {
   "cell_type": "code",
   "execution_count": null,
   "metadata": {
    "scrolled": false
   },
   "outputs": [],
   "source": [
    "#DETECTAR DUPLICADOS\n",
    "dfProdutofamfam.count()==dfProdutofamfam.distinct().count()"
   ]
  },
  {
   "cell_type": "code",
   "execution_count": null,
   "metadata": {},
   "outputs": [],
   "source": [
    "dfProdutofamfam.describe().show()"
   ]
  },
  {
   "cell_type": "code",
   "execution_count": 12,
   "metadata": {},
   "outputs": [
    {
     "data": {
      "text/plain": [
       "3079"
      ]
     },
     "execution_count": 12,
     "metadata": {},
     "output_type": "execute_result"
    }
   ],
   "source": [
    "dfProdutofamfam.count()"
   ]
  },
  {
   "cell_type": "code",
   "execution_count": 10,
   "metadata": {},
   "outputs": [
    {
     "data": {
      "text/plain": [
       "3079"
      ]
     },
     "execution_count": 10,
     "metadata": {},
     "output_type": "execute_result"
    }
   ],
   "source": [
    "dfProdutofamfam.select(\"PRF_CD_FAMILIA\").distinct().count()"
   ]
  },
  {
   "cell_type": "code",
   "execution_count": 11,
   "metadata": {},
   "outputs": [],
   "source": [
    "dfProdutofamfam=dfProdutofamfam.dropDuplicates([\"PRF_CD_FAMILIA\"])"
   ]
  },
  {
   "cell_type": "code",
   "execution_count": null,
   "metadata": {},
   "outputs": [],
   "source": [
    "dfProdutofamfam.groupBy(\"PRF_CD_FAMILIA\").count().where(col('count')>1).show(50)"
   ]
  },
  {
   "cell_type": "code",
   "execution_count": null,
   "metadata": {
    "scrolled": false
   },
   "outputs": [],
   "source": [
    "mostrarNulos(dfProdutofamfam).show()"
   ]
  },
  {
   "cell_type": "markdown",
   "metadata": {},
   "source": [
    "#### PRODUTOFAMGRP"
   ]
  },
  {
   "cell_type": "code",
   "execution_count": 8,
   "metadata": {
    "scrolled": true
   },
   "outputs": [
    {
     "data": {
      "text/plain": [
       "DataFrame[PRF_CD_GRUPO: bigint, PRF_DS_GRUPO: string, PRF_CD_SETOR: int, PRF_DT_INCLUSAO: timestamp, PRF_DT_ALTERACAO: timestamp, TM_TRUSTED: timestamp, DT_TRUSTED: int]"
      ]
     },
     "execution_count": 8,
     "metadata": {},
     "output_type": "execute_result"
    }
   ],
   "source": [
    "#LECTURA DE TABLA PARQUET\n",
    "dfProdutofamgrp=spark.read.parquet(\"/user/sparta-server/trusted/bufferticket/PRODUTOFAMGRP\")\n",
    "dfProdutofamgrp.persist()"
   ]
  },
  {
   "cell_type": "code",
   "execution_count": 12,
   "metadata": {
    "scrolled": false
   },
   "outputs": [
    {
     "name": "stdout",
     "output_type": "stream",
     "text": [
      "root\n",
      " |-- PRF_CD_GRUPO: long (nullable = true)\n",
      " |-- PRF_DS_GRUPO: string (nullable = true)\n",
      " |-- PRF_CD_SETOR: integer (nullable = true)\n",
      " |-- PRF_DT_INCLUSAO: timestamp (nullable = true)\n",
      " |-- PRF_DT_ALTERACAO: timestamp (nullable = true)\n",
      " |-- TM_TRUSTED: timestamp (nullable = true)\n",
      " |-- DT_TRUSTED: integer (nullable = true)\n",
      "\n"
     ]
    }
   ],
   "source": [
    "dfProdutofamgrp.printSchema()"
   ]
  },
  {
   "cell_type": "code",
   "execution_count": null,
   "metadata": {
    "scrolled": false
   },
   "outputs": [],
   "source": [
    "#DETECTAR DUPLICADOS\n",
    "dfProdutofamgrp.count()==dfProdutofamgrp.distinct().count()"
   ]
  },
  {
   "cell_type": "code",
   "execution_count": null,
   "metadata": {},
   "outputs": [],
   "source": [
    "dfProdutofamgrp.count()"
   ]
  },
  {
   "cell_type": "code",
   "execution_count": 23,
   "metadata": {
    "scrolled": true
   },
   "outputs": [
    {
     "data": {
      "text/plain": [
       "335"
      ]
     },
     "execution_count": 23,
     "metadata": {},
     "output_type": "execute_result"
    }
   ],
   "source": [
    "dfProdutofamgrp.select(\"PRF_CD_GRUPO\").distinct().count()"
   ]
  },
  {
   "cell_type": "code",
   "execution_count": 25,
   "metadata": {},
   "outputs": [
    {
     "data": {
      "text/plain": [
       "335"
      ]
     },
     "execution_count": 25,
     "metadata": {},
     "output_type": "execute_result"
    }
   ],
   "source": [
    "dfProdutofamgrp.count()"
   ]
  },
  {
   "cell_type": "code",
   "execution_count": 24,
   "metadata": {
    "collapsed": true
   },
   "outputs": [],
   "source": [
    "dfProdutofamgrp=dfProdutofamgrp.dropDuplicates([\"PRF_CD_GRUPO\"])"
   ]
  },
  {
   "cell_type": "code",
   "execution_count": null,
   "metadata": {},
   "outputs": [],
   "source": [
    "groupList=[i.PRF_CD_GRUPO for i in dfProdutofamgrp.select('PRF_CD_GRUPO').distinct().orderBy('PRF_CD_GRUPO').collect()]"
   ]
  },
  {
   "cell_type": "code",
   "execution_count": null,
   "metadata": {},
   "outputs": [],
   "source": [
    "len(groupList)"
   ]
  },
  {
   "cell_type": "code",
   "execution_count": null,
   "metadata": {},
   "outputs": [],
   "source": [
    "dfProdutofamgrp.describe().show()"
   ]
  },
  {
   "cell_type": "code",
   "execution_count": null,
   "metadata": {
    "scrolled": false
   },
   "outputs": [],
   "source": [
    "mostrarNulos(dfProdutofamgrp).show()"
   ]
  },
  {
   "cell_type": "markdown",
   "metadata": {},
   "source": [
    "#### PRODUTOFAMSET"
   ]
  },
  {
   "cell_type": "code",
   "execution_count": 9,
   "metadata": {
    "scrolled": true
   },
   "outputs": [
    {
     "data": {
      "text/plain": [
       "DataFrame[PRF_CD_SETOR: int, PRF_DS_SETOR: string, PRF_CD_DEPARTAMENTO: int, PRF_DT_INCLUSAO: timestamp, PRF_DT_ALTERACAO: timestamp, TM_TRUSTED: timestamp, DT_TRUSTED: int]"
      ]
     },
     "execution_count": 9,
     "metadata": {},
     "output_type": "execute_result"
    }
   ],
   "source": [
    "#LECTURA DE TABLA PARQUET\n",
    "dfProdutofamset=spark.read.parquet(\"/user/sparta-server/trusted/bufferticket/PRODUTOFAMSET\")\n",
    "dfProdutofamset.persist()"
   ]
  },
  {
   "cell_type": "code",
   "execution_count": 14,
   "metadata": {
    "scrolled": false
   },
   "outputs": [
    {
     "name": "stdout",
     "output_type": "stream",
     "text": [
      "root\n",
      " |-- PRF_CD_SETOR: integer (nullable = true)\n",
      " |-- PRF_DS_SETOR: string (nullable = true)\n",
      " |-- PRF_CD_DEPARTAMENTO: integer (nullable = true)\n",
      " |-- PRF_DT_INCLUSAO: timestamp (nullable = true)\n",
      " |-- PRF_DT_ALTERACAO: timestamp (nullable = true)\n",
      " |-- TM_TRUSTED: timestamp (nullable = true)\n",
      " |-- DT_TRUSTED: integer (nullable = true)\n",
      "\n"
     ]
    }
   ],
   "source": [
    "dfProdutofamset.printSchema()"
   ]
  },
  {
   "cell_type": "code",
   "execution_count": null,
   "metadata": {
    "scrolled": true
   },
   "outputs": [],
   "source": [
    "#DETECTAR DUPLICADOS\n",
    "dfProdutofamset.count()==dfProdutofamset.distinct().count()"
   ]
  },
  {
   "cell_type": "code",
   "execution_count": 30,
   "metadata": {},
   "outputs": [
    {
     "data": {
      "text/plain": [
       "40"
      ]
     },
     "execution_count": 30,
     "metadata": {},
     "output_type": "execute_result"
    }
   ],
   "source": [
    "dfProdutofamset.count()"
   ]
  },
  {
   "cell_type": "code",
   "execution_count": 28,
   "metadata": {},
   "outputs": [
    {
     "data": {
      "text/plain": [
       "40"
      ]
     },
     "execution_count": 28,
     "metadata": {},
     "output_type": "execute_result"
    }
   ],
   "source": [
    "dfProdutofamset.select(\"PRF_CD_SETOR\").distinct().count()"
   ]
  },
  {
   "cell_type": "code",
   "execution_count": 29,
   "metadata": {
    "collapsed": true
   },
   "outputs": [],
   "source": [
    "dfProdutofamset=dfProdutofamset.dropDuplicates([\"PRF_CD_SETOR\"])"
   ]
  },
  {
   "cell_type": "code",
   "execution_count": null,
   "metadata": {},
   "outputs": [],
   "source": [
    "dfProdutofamset.describe().show()"
   ]
  },
  {
   "cell_type": "code",
   "execution_count": null,
   "metadata": {
    "scrolled": false
   },
   "outputs": [],
   "source": [
    "mostrarNulos(dfProdutofamset).show()"
   ]
  },
  {
   "cell_type": "markdown",
   "metadata": {},
   "source": [
    "#### ITEM_VAREJO"
   ]
  },
  {
   "cell_type": "code",
   "execution_count": 10,
   "metadata": {
    "scrolled": true
   },
   "outputs": [
    {
     "data": {
      "text/plain": [
       "DataFrame[IVA_CD_ITEM: bigint, PRF_CD_SUBFAMILIA: bigint, FOR_CD_FORNECEDOR: bigint, IVA_DS_ITEM: string, IVA_DT_INSERT: timestamp, IVA_DT_UPDATE: timestamp, TM_TRUSTED: timestamp, DT_TRUSTED: int]"
      ]
     },
     "execution_count": 10,
     "metadata": {},
     "output_type": "execute_result"
    }
   ],
   "source": [
    "#LECTURA DE TABLA PARQUET\n",
    "dfItemvarejo=spark.read.parquet(\"/user/sparta-server/trusted/bufferticket/ITEM_VAREJO\")\n",
    "dfItemvarejo.persist()"
   ]
  },
  {
   "cell_type": "code",
   "execution_count": 16,
   "metadata": {
    "scrolled": false
   },
   "outputs": [
    {
     "name": "stdout",
     "output_type": "stream",
     "text": [
      "root\n",
      " |-- IVA_CD_ITEM: long (nullable = true)\n",
      " |-- PRF_CD_SUBFAMILIA: long (nullable = true)\n",
      " |-- FOR_CD_FORNECEDOR: long (nullable = true)\n",
      " |-- IVA_DS_ITEM: string (nullable = true)\n",
      " |-- IVA_DT_INSERT: timestamp (nullable = true)\n",
      " |-- IVA_DT_UPDATE: timestamp (nullable = true)\n",
      " |-- TM_TRUSTED: timestamp (nullable = true)\n",
      " |-- DT_TRUSTED: integer (nullable = true)\n",
      "\n"
     ]
    }
   ],
   "source": [
    "dfItemvarejo.printSchema()"
   ]
  },
  {
   "cell_type": "code",
   "execution_count": null,
   "metadata": {
    "scrolled": true
   },
   "outputs": [],
   "source": [
    "#DETECTAR DUPLICADOS\n",
    "dfItemvarejo.count()==dfItemvarejo.distinct().count()"
   ]
  },
  {
   "cell_type": "code",
   "execution_count": null,
   "metadata": {},
   "outputs": [],
   "source": [
    "dfItemvarejo=dfItemvarejo.dropDuplicates()"
   ]
  },
  {
   "cell_type": "code",
   "execution_count": 35,
   "metadata": {},
   "outputs": [
    {
     "data": {
      "text/plain": [
       "456658"
      ]
     },
     "execution_count": 35,
     "metadata": {},
     "output_type": "execute_result"
    }
   ],
   "source": [
    "dfItemvarejo.count()"
   ]
  },
  {
   "cell_type": "code",
   "execution_count": 33,
   "metadata": {},
   "outputs": [
    {
     "data": {
      "text/plain": [
       "456658"
      ]
     },
     "execution_count": 33,
     "metadata": {},
     "output_type": "execute_result"
    }
   ],
   "source": [
    "dfItemvarejo.select(\"IVA_CD_ITEM\").distinct().count()"
   ]
  },
  {
   "cell_type": "code",
   "execution_count": 34,
   "metadata": {
    "collapsed": true
   },
   "outputs": [],
   "source": [
    "dfItemvarejo=dfItemvarejo.dropDuplicates([\"IVA_CD_ITEM\"])"
   ]
  },
  {
   "cell_type": "code",
   "execution_count": null,
   "metadata": {},
   "outputs": [],
   "source": [
    "dfItemvarejo.describe().show()"
   ]
  },
  {
   "cell_type": "code",
   "execution_count": null,
   "metadata": {
    "scrolled": false
   },
   "outputs": [],
   "source": [
    "mostrarNulos(dfItemvarejo).show()"
   ]
  },
  {
   "cell_type": "markdown",
   "metadata": {},
   "source": [
    "#### ITEM_CUPOM"
   ]
  },
  {
   "cell_type": "code",
   "execution_count": 4,
   "metadata": {},
   "outputs": [],
   "source": [
    "#LECTURA DE TABLA PARQUET\n",
    "dfItemcupom=spark.read.parquet(\"/user/sparta-server/trusted/bufferticket/ITEM_CUPOM\")\n",
    "# dfItemcupom=spark.read.parquet(\"/bkp/ITEM_CUPOM\")"
   ]
  },
  {
   "cell_type": "code",
   "execution_count": 18,
   "metadata": {
    "scrolled": false
   },
   "outputs": [
    {
     "name": "stdout",
     "output_type": "stream",
     "text": [
      "root\n",
      " |-- CUP_ID_CUPOM: long (nullable = true)\n",
      " |-- IVA_CD_ITEM: long (nullable = true)\n",
      " |-- CUP_NU_CUPOM: integer (nullable = true)\n",
      " |-- CUP_DT_CUPOM: timestamp (nullable = true)\n",
      " |-- ICU_QT_ITECOMPRADOS: double (nullable = true)\n",
      " |-- ICU_VL_ITENS: double (nullable = true)\n",
      " |-- ICU_FG_PROMOCAO: string (nullable = true)\n",
      " |-- ICU_FG_ITEPESADO: string (nullable = true)\n",
      " |-- ICU_DT_INSERT: timestamp (nullable = true)\n",
      " |-- ICU_DT_UPDATE: timestamp (nullable = true)\n",
      " |-- TM_TRUSTED: timestamp (nullable = true)\n",
      " |-- DT_TRUSTED: integer (nullable = true)\n",
      "\n"
     ]
    }
   ],
   "source": [
    "dfItemcupom.printSchema()"
   ]
  },
  {
   "cell_type": "code",
   "execution_count": 46,
   "metadata": {},
   "outputs": [
    {
     "data": {
      "text/plain": [
       "3176595289"
      ]
     },
     "execution_count": 46,
     "metadata": {},
     "output_type": "execute_result"
    }
   ],
   "source": [
    "dfItemcupom.count()\n",
    "#3171783077\n",
    "#3176595289"
   ]
  },
  {
   "cell_type": "code",
   "execution_count": null,
   "metadata": {},
   "outputs": [],
   "source": [
    "dfItemcupom.describe().show()"
   ]
  },
  {
   "cell_type": "code",
   "execution_count": null,
   "metadata": {
    "scrolled": false
   },
   "outputs": [],
   "source": [
    "mostrarNulos(dfItemcupom).show()"
   ]
  },
  {
   "cell_type": "markdown",
   "metadata": {},
   "source": [
    "#### CUPOM"
   ]
  },
  {
   "cell_type": "code",
   "execution_count": 5,
   "metadata": {},
   "outputs": [],
   "source": [
    "#LECTURA DE TABLA PARQUET\n",
    "dfCupom=spark.read.parquet(\"/user/sparta-server/trusted/bufferticket/CUPOM\")"
   ]
  },
  {
   "cell_type": "code",
   "execution_count": 20,
   "metadata": {
    "scrolled": true
   },
   "outputs": [
    {
     "name": "stdout",
     "output_type": "stream",
     "text": [
      "root\n",
      " |-- CUP_ID_CUPOM: long (nullable = true)\n",
      " |-- TRA_CD_TRANSACAO: long (nullable = true)\n",
      " |-- CUP_NU_CUPOM: integer (nullable = true)\n",
      " |-- CUP_CD_ESTABELECIMENTO: long (nullable = true)\n",
      " |-- CUP_CD_PDV: string (nullable = true)\n",
      " |-- CUP_DT_CUPOM: timestamp (nullable = true)\n",
      " |-- CUP_HR_CUPOM: integer (nullable = true)\n",
      " |-- CUP_VL_CUPOM: double (nullable = true)\n",
      " |-- CUP_DT_INSERT: timestamp (nullable = true)\n",
      " |-- CUP_DT_UPDATE: timestamp (nullable = true)\n",
      " |-- PES_NU_CPFCNPJ: long (nullable = true)\n",
      " |-- SITE_COD: integer (nullable = true)\n",
      " |-- FISCAL_COUPON_COD: integer (nullable = true)\n",
      " |-- TRSACT_COD: integer (nullable = true)\n",
      " |-- SALE_TERMNL_COD: integer (nullable = true)\n",
      " |-- CUP_VL_TROCO: double (nullable = true)\n",
      " |-- TM_TRUSTED: timestamp (nullable = true)\n",
      " |-- DT_TRUSTED: integer (nullable = true)\n",
      "\n"
     ]
    }
   ],
   "source": [
    "dfCupom.printSchema()"
   ]
  },
  {
   "cell_type": "code",
   "execution_count": 20,
   "metadata": {},
   "outputs": [
    {
     "data": {
      "text/plain": [
       "545664710"
      ]
     },
     "execution_count": 20,
     "metadata": {},
     "output_type": "execute_result"
    }
   ],
   "source": [
    "dfCupom.count()"
   ]
  },
  {
   "cell_type": "code",
   "execution_count": 49,
   "metadata": {},
   "outputs": [
    {
     "data": {
      "text/plain": [
       "514428341"
      ]
     },
     "execution_count": 49,
     "metadata": {},
     "output_type": "execute_result"
    }
   ],
   "source": [
    "dfCupom.select('CUP_ID_CUPOM').distinct().count()"
   ]
  },
  {
   "cell_type": "code",
   "execution_count": 18,
   "metadata": {},
   "outputs": [
    {
     "name": "stdout",
     "output_type": "stream",
     "text": [
      "+-------+--------------------+\n",
      "|summary|      PES_NU_CPFCNPJ|\n",
      "+-------+--------------------+\n",
      "|  count|           104865042|\n",
      "|   mean|2.843997501977631...|\n",
      "| stddev|2.499903923385492...|\n",
      "|    min|                   4|\n",
      "|    max|         99999986234|\n",
      "+-------+--------------------+\n",
      "\n"
     ]
    }
   ],
   "source": [
    "dfCupom.describe('PES_NU_CPFCNPJ').show()"
   ]
  },
  {
   "cell_type": "code",
   "execution_count": null,
   "metadata": {
    "scrolled": true
   },
   "outputs": [],
   "source": [
    "mostrarNulos(dfCupom).toPandas()"
   ]
  },
  {
   "cell_type": "code",
   "execution_count": 19,
   "metadata": {
    "scrolled": true
   },
   "outputs": [
    {
     "data": {
      "text/html": [
       "<div>\n",
       "<table border=\"1\" class=\"dataframe\">\n",
       "  <thead>\n",
       "    <tr style=\"text-align: right;\">\n",
       "      <th></th>\n",
       "      <th>PES_NU_CPFCNPJ</th>\n",
       "    </tr>\n",
       "  </thead>\n",
       "  <tbody>\n",
       "    <tr>\n",
       "      <th>0</th>\n",
       "      <td>440799668</td>\n",
       "    </tr>\n",
       "  </tbody>\n",
       "</table>\n",
       "</div>"
      ],
      "text/plain": [
       "   PES_NU_CPFCNPJ\n",
       "0       440799668"
      ]
     },
     "execution_count": 19,
     "metadata": {},
     "output_type": "execute_result"
    }
   ],
   "source": [
    "mostrarNulos(dfCupom.select('PES_NU_CPFCNPJ')).toPandas()"
   ]
  },
  {
   "cell_type": "code",
   "execution_count": null,
   "metadata": {},
   "outputs": [],
   "source": [
    "#dfCupom.select(\"PES_NU_CPFCNPJ\").show(10)"
   ]
  },
  {
   "cell_type": "markdown",
   "metadata": {},
   "source": [
    "#### TRANSACAO"
   ]
  },
  {
   "cell_type": "code",
   "execution_count": 6,
   "metadata": {},
   "outputs": [],
   "source": [
    "#LECTURA DE TABLA PARQUET\n",
    "dfTransacao=spark.read.parquet(\"/user/sparta-server/trusted/bufferticket/TRANSACAO\")"
   ]
  },
  {
   "cell_type": "code",
   "execution_count": 22,
   "metadata": {
    "scrolled": true
   },
   "outputs": [
    {
     "name": "stdout",
     "output_type": "stream",
     "text": [
      "root\n",
      " |-- TRA_CD_TRANSACAO: long (nullable = true)\n",
      " |-- TTR_CD_TIPTRANSACAO: integer (nullable = true)\n",
      " |-- CTA_CD_CONTA: long (nullable = true)\n",
      " |-- MTR_CD_MEITRANSACAO: string (nullable = true)\n",
      " |-- EST_CD_ESTABELECIMENTO: long (nullable = true)\n",
      " |-- PLA_CD_PLANO: long (nullable = true)\n",
      " |-- CUP_NU_CUPOM: long (nullable = true)\n",
      " |-- PRD_CD_PROORIGINAL: string (nullable = true)\n",
      " |-- TRA_CD_NATTRANSACAO: string (nullable = true)\n",
      " |-- TRA_DT_TRANSACAO: timestamp (nullable = true)\n",
      " |-- TRA_HR_TRANSACAO: string (nullable = true)\n",
      " |-- TRA_DT_EFETRANSACAO: timestamp (nullable = true)\n",
      " |-- TRA_VL_TRANSACAO: double (nullable = true)\n",
      " |-- TRA_VL_COMISSAO: double (nullable = true)\n",
      " |-- TRA_VL_LIQTRANSACAO: double (nullable = true)\n",
      " |-- TRA_VL_PARC_1: double (nullable = true)\n",
      " |-- TRA_VL_PARC_DEMAIS: double (nullable = true)\n",
      " |-- TRA_TP_MOETRANSACAO: string (nullable = true)\n",
      " |-- TRA_QT_PARCELAS: integer (nullable = true)\n",
      " |-- TRA_NU_AUTORIZACAO: long (nullable = true)\n",
      " |-- TRA_NU_NSU: string (nullable = true)\n",
      " |-- TRA_CD_TRNORIGINAL: integer (nullable = true)\n",
      " |-- TRA_ID_SISORIGEM: integer (nullable = true)\n",
      " |-- TRA_DT_INSERT: timestamp (nullable = true)\n",
      " |-- TRA_DT_UPDATE: timestamp (nullable = true)\n",
      " |-- TRA_QT_CARENCIA: integer (nullable = true)\n",
      " |-- TRA_CD_TRANORIGINAL: long (nullable = true)\n",
      " |-- TRA_CD_PDV: string (nullable = true)\n",
      " |-- TRA_CD_PLAORIGINAL: string (nullable = true)\n",
      " |-- TRA_VL_TOTALTRANSACAO: double (nullable = true)\n",
      " |-- TRA_FG_QUARTNA: string (nullable = true)\n",
      " |-- TRA_CD_PRODFIN: long (nullable = true)\n",
      " |-- TRA_FG_PULACICLO: integer (nullable = true)\n",
      " |-- TRA_DT_POSTAGPRCLAPULACICLO: timestamp (nullable = true)\n",
      " |-- TM_TRUSTED: timestamp (nullable = true)\n",
      " |-- DT_TRUSTED: integer (nullable = true)\n",
      "\n"
     ]
    }
   ],
   "source": [
    "dfTransacao.printSchema()"
   ]
  },
  {
   "cell_type": "code",
   "execution_count": 51,
   "metadata": {},
   "outputs": [
    {
     "data": {
      "text/plain": [
       "470287150"
      ]
     },
     "execution_count": 51,
     "metadata": {},
     "output_type": "execute_result"
    }
   ],
   "source": [
    "dfTransacao.count()"
   ]
  },
  {
   "cell_type": "code",
   "execution_count": 52,
   "metadata": {},
   "outputs": [
    {
     "data": {
      "text/plain": [
       "470287141"
      ]
     },
     "execution_count": 52,
     "metadata": {},
     "output_type": "execute_result"
    }
   ],
   "source": [
    "dfTransacao.select(\"TRA_CD_TRANSACAO\").distinct().count()"
   ]
  },
  {
   "cell_type": "code",
   "execution_count": null,
   "metadata": {
    "collapsed": true
   },
   "outputs": [],
   "source": [
    "dfTransacao.describe().show()"
   ]
  },
  {
   "cell_type": "code",
   "execution_count": null,
   "metadata": {
    "collapsed": true
   },
   "outputs": [],
   "source": [
    "mostrarNulos(dfTransacao).show()"
   ]
  },
  {
   "cell_type": "markdown",
   "metadata": {},
   "source": [
    "## TSYS"
   ]
  },
  {
   "cell_type": "markdown",
   "metadata": {},
   "source": [
    "#### ACCOUNTS"
   ]
  },
  {
   "cell_type": "code",
   "execution_count": 7,
   "metadata": {},
   "outputs": [],
   "source": [
    "#LECTURA DE TABLA PARQUET ANALYTICS\n",
    "# dfAccounts=spark.read.parquet(\"/analytics/bc1_clustering/tables/dfAccounts\")\n",
    "dfAccounts=spark.read.parquet(\"/analytics/bc1_clustering/tables/dfAccountsRefdate\")\n",
    "dfAccounts=dfAccounts.withColumnRenamed(\"SERNO\",\"ACCOUNTSERNO\").withColumnRenamed(\"PEOPLESERNO\",\"PEOPLESERNOFK\")"
   ]
  },
  {
   "cell_type": "code",
   "execution_count": null,
   "metadata": {},
   "outputs": [],
   "source": [
    "#LECTURA DE TABLA PARQUET TRUSTED\n",
    "dfAccounts=spark.read.parquet(\"/user/sparta-server/trusted/tsys/CACCOUNTS\")"
   ]
  },
  {
   "cell_type": "code",
   "execution_count": null,
   "metadata": {},
   "outputs": [],
   "source": [
    "dfAccounts.explain()"
   ]
  },
  {
   "cell_type": "code",
   "execution_count": null,
   "metadata": {
    "scrolled": true
   },
   "outputs": [],
   "source": [
    "dfAccounts.printSchema()"
   ]
  },
  {
   "cell_type": "code",
   "execution_count": null,
   "metadata": {},
   "outputs": [],
   "source": [
    "# dfAccountsMax=dfAccounts.groupBy('SERNO').agg(max('REFDATE').alias('FECHAMAX'))\n",
    "#QUITANDO PERIODO DE VALIDACION\n",
    "dfAccountsMax=dfAccounts.where(to_date(col('REFDATE'))<'2017-11-01') \\\n",
    "    .groupBy('SERNO').agg(max('REFDATE').alias('FECHAMAX'))"
   ]
  },
  {
   "cell_type": "code",
   "execution_count": null,
   "metadata": {
    "collapsed": true
   },
   "outputs": [],
   "source": [
    "dfAccounts2=dfAccounts.join(dfAccountsMax,(dfAccountsMax.SERNO==dfAccounts.SERNO) & (dfAccountsMax.FECHAMAX==dfAccounts.REFDATE),'leftsemi')\n",
    "\n",
    "# dfAccounts2=dfAccounts.join(dfAccountsMax,(dfAccountsMax.SERNO==dfAccounts.SERNO) & (dfAccountsMax.FECHAMAX==dfAccounts.REFDATE)) \\\n",
    "#     .drop(dfAccountsMax.SERNO).drop(dfAccountsMax.FECHAMAX)\n",
    "\n",
    "\n",
    "dfAccounts2.printSchema()"
   ]
  },
  {
   "cell_type": "code",
   "execution_count": null,
   "metadata": {
    "collapsed": true
   },
   "outputs": [],
   "source": [
    "dfAccounts=dfAccounts2.withColumnRenamed(\"SERNO\",\"ACCOUNTSERNO\").withColumnRenamed(\"PEOPLESERNO\",\"PEOPLESERNOFK\")"
   ]
  },
  {
   "cell_type": "code",
   "execution_count": null,
   "metadata": {},
   "outputs": [],
   "source": [
    "dfAccounts.explain()"
   ]
  },
  {
   "cell_type": "code",
   "execution_count": null,
   "metadata": {},
   "outputs": [],
   "source": [
    "dfAccounts.persist().count()"
   ]
  },
  {
   "cell_type": "code",
   "execution_count": null,
   "metadata": {},
   "outputs": [],
   "source": [
    "# dfAccounts2= dfAccounts.where(col(\"FG_CURRENT\")==1)\n",
    "#.dropDuplicates(['ACCOUNTSERNO']).persist()"
   ]
  },
  {
   "cell_type": "code",
   "execution_count": null,
   "metadata": {},
   "outputs": [],
   "source": [
    "dfAccounts2.persist().count()\n",
    "#CON SEMIJOIN TARDÓ 17min, 8086359\n",
    "#CON INNER JOIN + DROP TARDÓ  19 min 8086359\n",
    "#FG_CURRENT 3266044"
   ]
  },
  {
   "cell_type": "code",
   "execution_count": null,
   "metadata": {
    "scrolled": true
   },
   "outputs": [],
   "source": [
    "dfAccounts2.select('SERNO').distinct().count()\n",
    "#8086359"
   ]
  },
  {
   "cell_type": "code",
   "execution_count": null,
   "metadata": {},
   "outputs": [],
   "source": [
    "dfAccounts2.where(col(\"FG_CURRENT\")==1).count()"
   ]
  },
  {
   "cell_type": "code",
   "execution_count": null,
   "metadata": {
    "collapsed": true
   },
   "outputs": [],
   "source": [
    "dfAccounts2.where(col(\"FG_CURRENT\")!=1).groupBy('stgeneral').count().show()"
   ]
  },
  {
   "cell_type": "code",
   "execution_count": null,
   "metadata": {
    "collapsed": true
   },
   "outputs": [],
   "source": [
    "#dfAccounts2.describe().toPandas()"
   ]
  },
  {
   "cell_type": "code",
   "execution_count": null,
   "metadata": {},
   "outputs": [],
   "source": [
    "#LA LECTURA ES MUY LARGA, GUARDO LOS RESULTADOS PARA ACELERAR\n",
    "dfAccounts2.write.parquet(\"/analytics/bc1_clustering/tables/dfAccountsRefdate\")"
   ]
  },
  {
   "cell_type": "code",
   "execution_count": null,
   "metadata": {
    "collapsed": true
   },
   "outputs": [],
   "source": [
    "dfAccounts=dfAccounts2"
   ]
  },
  {
   "cell_type": "code",
   "execution_count": null,
   "metadata": {
    "collapsed": true
   },
   "outputs": [],
   "source": [
    "mostrarNulos(dfAccounts).show()"
   ]
  },
  {
   "cell_type": "markdown",
   "metadata": {},
   "source": [
    "#### PEOPLE"
   ]
  },
  {
   "cell_type": "code",
   "execution_count": 8,
   "metadata": {
    "scrolled": false
   },
   "outputs": [],
   "source": [
    "#LECTURA DE TABLA ANALYTICS\n",
    "dfPeople=spark.read.parquet(\"/analytics/bc1_clustering/tables/dfPeople\")\n",
    "dfPeople=dfPeople.withColumnRenamed(\"SERNO\",\"PEOPLESERNO\").withColumn('YOB',(dfPeople[\"DOB\"]/10000).cast('integer'))"
   ]
  },
  {
   "cell_type": "code",
   "execution_count": null,
   "metadata": {
    "scrolled": false
   },
   "outputs": [],
   "source": [
    "#LECTURA DE TABLA PARQUET\n",
    "dfPeople=spark.read.parquet(\"/user/sparta-server/trusted/tsys/PEOPLE\")\n",
    "# dfPeople.persist()"
   ]
  },
  {
   "cell_type": "code",
   "execution_count": null,
   "metadata": {
    "scrolled": true
   },
   "outputs": [],
   "source": [
    "dfPeople.printSchema()"
   ]
  },
  {
   "cell_type": "code",
   "execution_count": null,
   "metadata": {
    "collapsed": true
   },
   "outputs": [],
   "source": [
    "# dfPeople2=dfPeople.filter(dfPeople[\"FG_CURRENT\"]==1)"
   ]
  },
  {
   "cell_type": "code",
   "execution_count": null,
   "metadata": {
    "scrolled": true
   },
   "outputs": [],
   "source": [
    "dfPeopleMax=dfPeople.groupBy('SERNO').agg(max('REFDATE').alias('FECHAMAX'))\n",
    "\n",
    "dfPeople2=dfPeople.join(dfPeopleMax,(dfPeopleMax.SERNO==dfPeople.SERNO) & (dfPeopleMax.FECHAMAX==dfPeople.REFDATE),'leftsemi')\n",
    "\n",
    "dfPeople2.printSchema()"
   ]
  },
  {
   "cell_type": "code",
   "execution_count": null,
   "metadata": {},
   "outputs": [],
   "source": [
    "dfPeople2.persist().count()"
   ]
  },
  {
   "cell_type": "code",
   "execution_count": null,
   "metadata": {},
   "outputs": [],
   "source": [
    "dfPeople2.select('SERNO').distinct().count()"
   ]
  },
  {
   "cell_type": "code",
   "execution_count": null,
   "metadata": {
    "collapsed": true
   },
   "outputs": [],
   "source": [
    "dfPeople2=dfPeople2.dropDuplicates(['SERNO'])"
   ]
  },
  {
   "cell_type": "code",
   "execution_count": null,
   "metadata": {},
   "outputs": [],
   "source": [
    "dfPeople2.count()"
   ]
  },
  {
   "cell_type": "code",
   "execution_count": null,
   "metadata": {
    "collapsed": true
   },
   "outputs": [],
   "source": [
    "#ESCRITURA DE LA TABLA\n",
    "dfPeople2.write.parquet(\"/analytics/bc1_clustering/tables/dfPeople\")"
   ]
  },
  {
   "cell_type": "code",
   "execution_count": null,
   "metadata": {
    "scrolled": false
   },
   "outputs": [],
   "source": [
    "dfCupom.join(dfPeople,dfCupom.PES_NU_CPFCNPJ==dfPeople.SSNUMBER).count()"
   ]
  },
  {
   "cell_type": "code",
   "execution_count": null,
   "metadata": {
    "collapsed": true
   },
   "outputs": [],
   "source": [
    "dfPeople.describe().show()"
   ]
  },
  {
   "cell_type": "code",
   "execution_count": null,
   "metadata": {
    "collapsed": true
   },
   "outputs": [],
   "source": [
    "mostrarNulos(dfPeople).show()"
   ]
  },
  {
   "cell_type": "markdown",
   "metadata": {},
   "source": [
    "# Predictive Tables"
   ]
  },
  {
   "cell_type": "markdown",
   "metadata": {},
   "source": [
    "### Estrutura Mercadologica"
   ]
  },
  {
   "cell_type": "code",
   "execution_count": 9,
   "metadata": {
    "scrolled": true
   },
   "outputs": [
    {
     "name": "stdout",
     "output_type": "stream",
     "text": [
      "+-----------+-----------------+--------------------+-----------------+-----------------+--------------+--------------+------------+------------+------------+-------------------+-------------------+-------------------+\n",
      "|IVA_CD_ITEM|FOR_CD_FORNECEDOR|         IVA_DS_ITEM|PRF_CD_SUBFAMILIA|PRF_DS_SUBFAMILIA|PRF_CD_FAMILIA|PRF_DS_FAMILIA|PRF_CD_GRUPO|PRF_DS_GRUPO|PRF_CD_SETOR|       PRF_DS_SETOR|PRF_CD_DEPARTAMENTO|PRF_DS_DEPARTAMENTO|\n",
      "+-----------+-----------------+--------------------+-----------------+-----------------+--------------+--------------+------------+------------+------------+-------------------+-------------------+-------------------+\n",
      "|    2999641|           290009|PRODUTO GENERICO ...|       5066990100|         DIVERSOS|      50669901|      DIVERSOS|      506699|       GENCO|        5066|TEXTIL - PERMANENTE|                  5|             TEXTIL|\n",
      "|    2999633|           290009|PRODUTO GENERICO ...|       5066990100|         DIVERSOS|      50669901|      DIVERSOS|      506699|       GENCO|        5066|TEXTIL - PERMANENTE|                  5|             TEXTIL|\n",
      "|    5193214|           502030|CAD DE DESCANSO R...|       5066990100|         DIVERSOS|      50669901|      DIVERSOS|      506699|       GENCO|        5066|TEXTIL - PERMANENTE|                  5|             TEXTIL|\n",
      "|     660000|           290009|PRODUTO GENERICO ...|       5066990100|         DIVERSOS|      50669901|      DIVERSOS|      506699|       GENCO|        5066|TEXTIL - PERMANENTE|                  5|             TEXTIL|\n",
      "|    2905655|            71170|AGULHA DE ACO EXT...|       5066990100|         DIVERSOS|      50669901|      DIVERSOS|      506699|       GENCO|        5066|TEXTIL - PERMANENTE|                  5|             TEXTIL|\n",
      "+-----------+-----------------+--------------------+-----------------+-----------------+--------------+--------------+------------+------------+------------+-------------------+-------------------+-------------------+\n",
      "only showing top 5 rows\n",
      "\n"
     ]
    }
   ],
   "source": [
    "#CARGAR LA EM (no hace faltar ejecutar lo siguiente)\n",
    "dfEM=spark.read.parquet(\"/analytics/bc1_clustering/tables/dfEM\")\n",
    "\n",
    "dfEM.persist()\n",
    "\n",
    "dfEM.show(5)"
   ]
  },
  {
   "cell_type": "code",
   "execution_count": 11,
   "metadata": {
    "scrolled": true
   },
   "outputs": [
    {
     "ename": "NameError",
     "evalue": "name 'dfItemvarejo' is not defined",
     "output_type": "error",
     "traceback": [
      "\u001b[0;31m---------------------------------------------------------------------------\u001b[0m",
      "\u001b[0;31mNameError\u001b[0m                                 Traceback (most recent call last)",
      "\u001b[0;32m<ipython-input-11-bb9a779ad650>\u001b[0m in \u001b[0;36m<module>\u001b[0;34m()\u001b[0m\n\u001b[0;32m----> 1\u001b[0;31m \u001b[0mdfEMtmp\u001b[0m \u001b[0;34m=\u001b[0m \u001b[0mdfItemvarejo\u001b[0m\u001b[0;34m.\u001b[0m\u001b[0mjoin\u001b[0m\u001b[0;34m(\u001b[0m\u001b[0mdfProdutofam\u001b[0m\u001b[0;34m,\u001b[0m \u001b[0mdfItemvarejo\u001b[0m\u001b[0;34m.\u001b[0m\u001b[0mPRF_CD_SUBFAMILIA\u001b[0m\u001b[0;34m==\u001b[0m\u001b[0mdfProdutofam\u001b[0m\u001b[0;34m.\u001b[0m\u001b[0mPRF_CD_SUBFAMILIA\u001b[0m\u001b[0;34m,\u001b[0m\u001b[0;34m'left_outer'\u001b[0m\u001b[0;34m)\u001b[0m     \u001b[0;34m.\u001b[0m\u001b[0mjoin\u001b[0m\u001b[0;34m(\u001b[0m\u001b[0mdfProdutofamfam\u001b[0m\u001b[0;34m,\u001b[0m \u001b[0mdfProdutofamfam\u001b[0m\u001b[0;34m.\u001b[0m\u001b[0mPRF_CD_FAMILIA\u001b[0m\u001b[0;34m==\u001b[0m\u001b[0mdfProdutofam\u001b[0m\u001b[0;34m.\u001b[0m\u001b[0mPRF_CD_FAMILIA\u001b[0m\u001b[0;34m,\u001b[0m\u001b[0;34m'left_outer'\u001b[0m\u001b[0;34m)\u001b[0m     \u001b[0;34m.\u001b[0m\u001b[0mjoin\u001b[0m\u001b[0;34m(\u001b[0m\u001b[0mdfProdutofamgrp\u001b[0m\u001b[0;34m,\u001b[0m \u001b[0mdfProdutofamgrp\u001b[0m\u001b[0;34m.\u001b[0m\u001b[0mPRF_CD_GRUPO\u001b[0m\u001b[0;34m==\u001b[0m\u001b[0mdfProdutofamfam\u001b[0m\u001b[0;34m.\u001b[0m\u001b[0mPRF_CD_GRUPO\u001b[0m\u001b[0;34m,\u001b[0m\u001b[0;34m'left_outer'\u001b[0m\u001b[0;34m)\u001b[0m     \u001b[0;34m.\u001b[0m\u001b[0mjoin\u001b[0m\u001b[0;34m(\u001b[0m\u001b[0mdfProdutofamset\u001b[0m\u001b[0;34m,\u001b[0m \u001b[0mdfProdutofamset\u001b[0m\u001b[0;34m.\u001b[0m\u001b[0mPRF_CD_SETOR\u001b[0m\u001b[0;34m==\u001b[0m\u001b[0mdfProdutofamgrp\u001b[0m\u001b[0;34m.\u001b[0m\u001b[0mPRF_CD_SETOR\u001b[0m\u001b[0;34m,\u001b[0m\u001b[0;34m'left_outer'\u001b[0m\u001b[0;34m)\u001b[0m     \u001b[0;34m.\u001b[0m\u001b[0mjoin\u001b[0m\u001b[0;34m(\u001b[0m\u001b[0mdfProdutofamdep\u001b[0m\u001b[0;34m,\u001b[0m \u001b[0mdfProdutofamdep\u001b[0m\u001b[0;34m.\u001b[0m\u001b[0mPRF_CD_DEPARTAMENTO\u001b[0m\u001b[0;34m==\u001b[0m\u001b[0mdfProdutofamset\u001b[0m\u001b[0;34m.\u001b[0m\u001b[0mPRF_CD_DEPARTAMENTO\u001b[0m\u001b[0;34m,\u001b[0m\u001b[0;34m'left_outer'\u001b[0m\u001b[0;34m)\u001b[0m\u001b[0;34m\u001b[0m\u001b[0m\n\u001b[0m\u001b[1;32m      2\u001b[0m \u001b[0mdfEMtmp\u001b[0m\u001b[0;34m.\u001b[0m\u001b[0mprintSchema\u001b[0m\u001b[0;34m(\u001b[0m\u001b[0;34m)\u001b[0m\u001b[0;34m\u001b[0m\u001b[0m\n",
      "\u001b[0;31mNameError\u001b[0m: name 'dfItemvarejo' is not defined"
     ]
    }
   ],
   "source": [
    "dfEMtmp = dfItemvarejo.join(dfProdutofam, dfItemvarejo.PRF_CD_SUBFAMILIA==dfProdutofam.PRF_CD_SUBFAMILIA,'left_outer') \\\n",
    "    .join(dfProdutofamfam, dfProdutofamfam.PRF_CD_FAMILIA==dfProdutofam.PRF_CD_FAMILIA,'left_outer') \\\n",
    "    .join(dfProdutofamgrp, dfProdutofamgrp.PRF_CD_GRUPO==dfProdutofamfam.PRF_CD_GRUPO,'left_outer') \\\n",
    "    .join(dfProdutofamset, dfProdutofamset.PRF_CD_SETOR==dfProdutofamgrp.PRF_CD_SETOR,'left_outer') \\\n",
    "    .join(dfProdutofamdep, dfProdutofamdep.PRF_CD_DEPARTAMENTO==dfProdutofamset.PRF_CD_DEPARTAMENTO,'left_outer') \n",
    "dfEMtmp.printSchema()"
   ]
  },
  {
   "cell_type": "code",
   "execution_count": 37,
   "metadata": {},
   "outputs": [],
   "source": [
    "dfEM=dfEMtmp.select(\"IVA_CD_ITEM\",\"FOR_CD_FORNECEDOR\",\"IVA_DS_ITEM\",dfProdutofam[\"PRF_CD_SUBFAMILIA\"],\"PRF_DS_SUBFAMILIA\", \\\n",
    "              dfProdutofamfam[\"PRF_CD_FAMILIA\"],\"PRF_DS_FAMILIA\",dfProdutofamgrp[\"PRF_CD_GRUPO\"],\"PRF_DS_GRUPO\", \\\n",
    "              dfProdutofamset[\"PRF_CD_SETOR\"],\"PRF_DS_SETOR\",dfProdutofamdep[\"PRF_CD_DEPARTAMENTO\"],\"PRF_DS_DEPARTAMENTO\").persist()"
   ]
  },
  {
   "cell_type": "code",
   "execution_count": 38,
   "metadata": {
    "scrolled": true
   },
   "outputs": [
    {
     "name": "stdout",
     "output_type": "stream",
     "text": [
      "root\n",
      " |-- IVA_CD_ITEM: long (nullable = true)\n",
      " |-- FOR_CD_FORNECEDOR: long (nullable = true)\n",
      " |-- IVA_DS_ITEM: string (nullable = true)\n",
      " |-- PRF_CD_SUBFAMILIA: long (nullable = true)\n",
      " |-- PRF_DS_SUBFAMILIA: string (nullable = true)\n",
      " |-- PRF_CD_FAMILIA: long (nullable = true)\n",
      " |-- PRF_DS_FAMILIA: string (nullable = true)\n",
      " |-- PRF_CD_GRUPO: long (nullable = true)\n",
      " |-- PRF_DS_GRUPO: string (nullable = true)\n",
      " |-- PRF_CD_SETOR: integer (nullable = true)\n",
      " |-- PRF_DS_SETOR: string (nullable = true)\n",
      " |-- PRF_CD_DEPARTAMENTO: integer (nullable = true)\n",
      " |-- PRF_DS_DEPARTAMENTO: string (nullable = true)\n",
      "\n"
     ]
    }
   ],
   "source": [
    "dfEM.printSchema()"
   ]
  },
  {
   "cell_type": "code",
   "execution_count": 39,
   "metadata": {},
   "outputs": [
    {
     "data": {
      "text/html": [
       "<div>\n",
       "<table border=\"1\" class=\"dataframe\">\n",
       "  <thead>\n",
       "    <tr style=\"text-align: right;\">\n",
       "      <th></th>\n",
       "      <th>IVA_CD_ITEM</th>\n",
       "      <th>FOR_CD_FORNECEDOR</th>\n",
       "      <th>IVA_DS_ITEM</th>\n",
       "      <th>PRF_CD_SUBFAMILIA</th>\n",
       "      <th>PRF_DS_SUBFAMILIA</th>\n",
       "      <th>PRF_CD_FAMILIA</th>\n",
       "      <th>PRF_DS_FAMILIA</th>\n",
       "      <th>PRF_CD_GRUPO</th>\n",
       "      <th>PRF_DS_GRUPO</th>\n",
       "      <th>PRF_CD_SETOR</th>\n",
       "      <th>PRF_DS_SETOR</th>\n",
       "      <th>PRF_CD_DEPARTAMENTO</th>\n",
       "      <th>PRF_DS_DEPARTAMENTO</th>\n",
       "    </tr>\n",
       "  </thead>\n",
       "  <tbody>\n",
       "    <tr>\n",
       "      <th>0</th>\n",
       "      <td>0</td>\n",
       "      <td>0</td>\n",
       "      <td>0</td>\n",
       "      <td>0</td>\n",
       "      <td>0</td>\n",
       "      <td>0</td>\n",
       "      <td>0</td>\n",
       "      <td>0</td>\n",
       "      <td>0</td>\n",
       "      <td>0</td>\n",
       "      <td>0</td>\n",
       "      <td>0</td>\n",
       "      <td>0</td>\n",
       "    </tr>\n",
       "  </tbody>\n",
       "</table>\n",
       "</div>"
      ],
      "text/plain": [
       "   IVA_CD_ITEM  FOR_CD_FORNECEDOR  IVA_DS_ITEM  PRF_CD_SUBFAMILIA  \\\n",
       "0            0                  0            0                  0   \n",
       "\n",
       "   PRF_DS_SUBFAMILIA  PRF_CD_FAMILIA  PRF_DS_FAMILIA  PRF_CD_GRUPO  \\\n",
       "0                  0               0               0             0   \n",
       "\n",
       "   PRF_DS_GRUPO  PRF_CD_SETOR  PRF_DS_SETOR  PRF_CD_DEPARTAMENTO  \\\n",
       "0             0             0             0                    0   \n",
       "\n",
       "   PRF_DS_DEPARTAMENTO  \n",
       "0                    0  "
      ]
     },
     "execution_count": 39,
     "metadata": {},
     "output_type": "execute_result"
    }
   ],
   "source": [
    "mostrarNulos(dfEM).toPandas()"
   ]
  },
  {
   "cell_type": "code",
   "execution_count": 40,
   "metadata": {},
   "outputs": [
    {
     "data": {
      "text/plain": [
       "True"
      ]
     },
     "execution_count": 40,
     "metadata": {},
     "output_type": "execute_result"
    }
   ],
   "source": [
    "dfEM.is_cached"
   ]
  },
  {
   "cell_type": "code",
   "execution_count": 41,
   "metadata": {},
   "outputs": [
    {
     "data": {
      "text/plain": [
       "456658"
      ]
     },
     "execution_count": 41,
     "metadata": {},
     "output_type": "execute_result"
    }
   ],
   "source": [
    "dfEM.count()"
   ]
  },
  {
   "cell_type": "code",
   "execution_count": null,
   "metadata": {
    "collapsed": true
   },
   "outputs": [],
   "source": [
    "dfEM.write.parquet(\"/analytics/bc1_clustering/tables/dfEM\")"
   ]
  },
  {
   "cell_type": "code",
   "execution_count": 12,
   "metadata": {},
   "outputs": [
    {
     "data": {
      "text/plain": [
       "3017"
      ]
     },
     "execution_count": 12,
     "metadata": {},
     "output_type": "execute_result"
    }
   ],
   "source": [
    "dfEM.select('PRF_CD_SUBFAMILIA').distinct().count()"
   ]
  },
  {
   "cell_type": "markdown",
   "metadata": {},
   "source": [
    "### User - Items - Ratings"
   ]
  },
  {
   "cell_type": "markdown",
   "metadata": {},
   "source": [
    "#### Train"
   ]
  },
  {
   "cell_type": "code",
   "execution_count": 11,
   "metadata": {
    "scrolled": true
   },
   "outputs": [
    {
     "name": "stdout",
     "output_type": "stream",
     "text": [
      "+----------+--------------------+\n",
      "|min(FECHA)|   max(CUP_DT_CUPOM)|\n",
      "+----------+--------------------+\n",
      "|2017-05-01|2017-10-31 00:00:...|\n",
      "+----------+--------------------+\n",
      "\n"
     ]
    }
   ],
   "source": [
    "dfCupom.where((to_date(col('CUP_DT_CUPOM'))>='2017-05-01') & (to_date(col('CUP_DT_CUPOM'))<'2017-11-01')) \\\n",
    "    .select('CUP_DT_CUPOM',to_date(col('CUP_DT_CUPOM')).alias('FECHA')).agg({\"FECHA\": \"min\", \"CUP_DT_CUPOM\": \"max\"}).show()"
   ]
  },
  {
   "cell_type": "code",
   "execution_count": 59,
   "metadata": {
    "collapsed": true
   },
   "outputs": [],
   "source": [
    "dfCupomFilter=dfCupom.where((to_date(col('CUP_DT_CUPOM'))>='2017-05-01') & (to_date(col('CUP_DT_CUPOM'))<'2017-11-01')) \\\n",
    "    .select('CUP_ID_CUPOM','PES_NU_CPFCNPJ','TRA_CD_TRANSACAO')"
   ]
  },
  {
   "cell_type": "code",
   "execution_count": 60,
   "metadata": {},
   "outputs": [],
   "source": [
    "#dfCupomFilter.persist().count()"
   ]
  },
  {
   "cell_type": "code",
   "execution_count": 61,
   "metadata": {},
   "outputs": [],
   "source": [
    "dfTransacaoFilter=dfTransacao.where((to_date(col('TRA_DT_TRANSACAO'))>='2017-05-01') & (to_date(col('TRA_DT_TRANSACAO'))<'2017-11-01')) \\\n",
    "    .select('TRA_CD_TRANSACAO','CTA_CD_CONTA')"
   ]
  },
  {
   "cell_type": "code",
   "execution_count": 62,
   "metadata": {},
   "outputs": [],
   "source": [
    "#dfTransacaoFilter.persist().count()"
   ]
  },
  {
   "cell_type": "code",
   "execution_count": 63,
   "metadata": {
    "scrolled": true
   },
   "outputs": [],
   "source": [
    "# dfTransacaoFilter.show(5)"
   ]
  },
  {
   "cell_type": "code",
   "execution_count": 64,
   "metadata": {},
   "outputs": [
    {
     "name": "stdout",
     "output_type": "stream",
     "text": [
      "root\n",
      " |-- CUP_ID_CUPOM: long (nullable = true)\n",
      " |-- PES_NU_CPFCNPJ: long (nullable = true)\n",
      " |-- TRA_CD_TRANSACAO: long (nullable = true)\n",
      "\n"
     ]
    }
   ],
   "source": [
    "dfCupomFilter.printSchema()"
   ]
  },
  {
   "cell_type": "code",
   "execution_count": 65,
   "metadata": {
    "scrolled": true
   },
   "outputs": [
    {
     "data": {
      "text/plain": [
       "13945016"
      ]
     },
     "execution_count": 65,
     "metadata": {},
     "output_type": "execute_result"
    }
   ],
   "source": [
    "dfPeopleFilter=dfPeople.select('PEOPLESERNO','SSNUMBER').withColumn('SSNUMBER',dfPeople[\"SSNUMBER\"].cast('long')).persist()\n",
    "dfPeopleFilter.count()"
   ]
  },
  {
   "cell_type": "code",
   "execution_count": 66,
   "metadata": {
    "scrolled": false
   },
   "outputs": [
    {
     "name": "stdout",
     "output_type": "stream",
     "text": [
      "root\n",
      " |-- PEOPLESERNO: long (nullable = true)\n",
      " |-- SSNUMBER: long (nullable = true)\n",
      "\n"
     ]
    }
   ],
   "source": [
    "dfPeopleFilter.printSchema()"
   ]
  },
  {
   "cell_type": "code",
   "execution_count": 67,
   "metadata": {},
   "outputs": [],
   "source": [
    "dfAccountsFilter=dfAccounts.select('ACCOUNTSERNO','PEOPLESERNOFK')\n",
    "#dfAccountsFilter.persist().count()"
   ]
  },
  {
   "cell_type": "code",
   "execution_count": 68,
   "metadata": {},
   "outputs": [],
   "source": [
    "new_column_1 = expr(\n",
    "    \"\"\"IF(CTA_CD_CONTA IS NULL, ACCOUNTSERNO, CTA_CD_CONTA)\"\"\"\n",
    ")\n",
    "\n",
    "dfTemp= dfCupomFilter.join(dfTransacaoFilter,dfCupomFilter.TRA_CD_TRANSACAO==dfTransacaoFilter.TRA_CD_TRANSACAO,\"left_outer\") \\\n",
    "    .drop(dfCupomFilter.TRA_CD_TRANSACAO).drop(dfTransacaoFilter.TRA_CD_TRANSACAO) \\\n",
    "    .join(dfPeopleFilter,dfCupomFilter.PES_NU_CPFCNPJ==dfPeopleFilter.SSNUMBER,\"left_outer\") \\\n",
    "    .join(dfAccountsFilter,dfPeopleFilter.PEOPLESERNO==dfAccountsFilter.PEOPLESERNOFK,\"left_outer\") \\\n",
    "    .filter(col(\"CTA_CD_CONTA\").isNotNull() | col(\"ACCOUNTSERNO\").isNotNull()) \\\n",
    "    .withColumn(\"ACCOUNTPK\",new_column_1) #.persist()"
   ]
  },
  {
   "cell_type": "code",
   "execution_count": null,
   "metadata": {},
   "outputs": [],
   "source": [
    "dfTemp.persist()"
   ]
  },
  {
   "cell_type": "code",
   "execution_count": null,
   "metadata": {},
   "outputs": [],
   "source": [
    "dfTemp.count()\n",
    "# dfCupom.unpersist() 29032591\n",
    "# dfTransacao.unpersist()"
   ]
  },
  {
   "cell_type": "code",
   "execution_count": null,
   "metadata": {
    "scrolled": true
   },
   "outputs": [],
   "source": [
    "dfTemp.groupBy(\"CUP_ID_CUPOM\",\"ACCOUNTPK\").count().where(col('count')>1).show(5)"
   ]
  },
  {
   "cell_type": "code",
   "execution_count": null,
   "metadata": {
    "collapsed": true
   },
   "outputs": [],
   "source": [
    "dfTemp.groupBy(\"CUP_ID_CUPOM\",\"ACCOUNTPK\").count().groupBy('count').count().show(50)"
   ]
  },
  {
   "cell_type": "code",
   "execution_count": 22,
   "metadata": {},
   "outputs": [],
   "source": [
    "#CREACIÓN DEL DATAFRAME REDUCIDO\n",
    "dfTempRed=dfTemp.select(\"CUP_ID_CUPOM\",\"ACCOUNTPK\").distinct()"
   ]
  },
  {
   "cell_type": "code",
   "execution_count": null,
   "metadata": {
    "scrolled": true
   },
   "outputs": [],
   "source": [
    "dfTempRed.groupBy(\"CUP_ID_CUPOM\").count().where(col('count')>1).count()\n",
    "#dfTempRed.groupBy(\"CUP_ID_CUPOM\").count().where(col('count')>1).show(5)"
   ]
  },
  {
   "cell_type": "code",
   "execution_count": null,
   "metadata": {},
   "outputs": [],
   "source": [
    "# dfTemp2.unpersist()"
   ]
  },
  {
   "cell_type": "code",
   "execution_count": null,
   "metadata": {},
   "outputs": [],
   "source": [
    "dfTempRed.select(\"CUP_ID_CUPOM\").distinct().count()\n",
    "#28586691"
   ]
  },
  {
   "cell_type": "code",
   "execution_count": 23,
   "metadata": {},
   "outputs": [],
   "source": [
    "dfTempRed.write.parquet(\"/analytics/bc2_recommender/tables/dfTempRed01Mar\")"
   ]
  },
  {
   "cell_type": "code",
   "execution_count": 69,
   "metadata": {
    "collapsed": true
   },
   "outputs": [],
   "source": [
    "dfTempRed=spark.read.parquet(\"/analytics/bc2_recommender/tables/dfTempRed01Mar\")"
   ]
  },
  {
   "cell_type": "code",
   "execution_count": 70,
   "metadata": {},
   "outputs": [],
   "source": [
    "#DESDE TempRed\n",
    "\n",
    "dfTemp2=dfTempRed.join(dfItemcupom,dfTempRed.CUP_ID_CUPOM==dfItemcupom.CUP_ID_CUPOM).groupBy(\"ACCOUNTPK\",\"IVA_CD_ITEM\") \\\n",
    "    .agg(count('*').alias('PURCHASES')).join(broadcast(dfEM),dfItemcupom.IVA_CD_ITEM==dfEM.IVA_CD_ITEM)\n",
    "\n",
    "\n",
    "#DESDE Temp\n",
    "# dfTemp2=dfTemp.join(dfItemcupom,dfTemp.CUP_ID_CUPOM==dfItemcupom.CUP_ID_CUPOM).groupBy(\"ACCOUNTPK\",\"IVA_CD_ITEM\") \\\n",
    "#     .agg(sum('ICU_VL_ITENS').alias('PURCHASES')).join(dfEM,dfItemcupom.IVA_CD_ITEM==dfEM.IVA_CD_ITEM).persist()"
   ]
  },
  {
   "cell_type": "code",
   "execution_count": 71,
   "metadata": {
    "scrolled": true
   },
   "outputs": [
    {
     "name": "stdout",
     "output_type": "stream",
     "text": [
      "root\n",
      " |-- ACCOUNTPK: long (nullable = true)\n",
      " |-- IVA_CD_ITEM: long (nullable = true)\n",
      " |-- PURCHASES: long (nullable = false)\n",
      " |-- IVA_CD_ITEM: long (nullable = true)\n",
      " |-- FOR_CD_FORNECEDOR: long (nullable = true)\n",
      " |-- IVA_DS_ITEM: string (nullable = true)\n",
      " |-- PRF_CD_SUBFAMILIA: long (nullable = true)\n",
      " |-- PRF_DS_SUBFAMILIA: string (nullable = true)\n",
      " |-- PRF_CD_FAMILIA: long (nullable = true)\n",
      " |-- PRF_DS_FAMILIA: string (nullable = true)\n",
      " |-- PRF_CD_GRUPO: long (nullable = true)\n",
      " |-- PRF_DS_GRUPO: string (nullable = true)\n",
      " |-- PRF_CD_SETOR: integer (nullable = true)\n",
      " |-- PRF_DS_SETOR: string (nullable = true)\n",
      " |-- PRF_CD_DEPARTAMENTO: integer (nullable = true)\n",
      " |-- PRF_DS_DEPARTAMENTO: string (nullable = true)\n",
      "\n"
     ]
    }
   ],
   "source": [
    "dfTemp2.printSchema()"
   ]
  },
  {
   "cell_type": "code",
   "execution_count": 69,
   "metadata": {
    "collapsed": true
   },
   "outputs": [],
   "source": [
    "dfRecommender=dfTemp2.groupBy('ACCOUNTPK','PRF_CD_FAMILIA','PRF_DS_FAMILIA').agg(sum('PURCHASES').alias('RATING'))"
   ]
  },
  {
   "cell_type": "code",
   "execution_count": 70,
   "metadata": {
    "scrolled": false
   },
   "outputs": [
    {
     "name": "stdout",
     "output_type": "stream",
     "text": [
      "root\n",
      " |-- ACCOUNTPK: long (nullable = true)\n",
      " |-- PRF_CD_FAMILIA: long (nullable = true)\n",
      " |-- PRF_DS_FAMILIA: string (nullable = true)\n",
      " |-- RATING: long (nullable = true)\n",
      "\n"
     ]
    }
   ],
   "source": [
    "dfRecommender.printSchema()"
   ]
  },
  {
   "cell_type": "code",
   "execution_count": 71,
   "metadata": {},
   "outputs": [
    {
     "data": {
      "text/plain": [
       "DataFrame[ACCOUNTPK: bigint, PRF_CD_FAMILIA: bigint, PRF_DS_FAMILIA: string, RATING: bigint]"
      ]
     },
     "execution_count": 71,
     "metadata": {},
     "output_type": "execute_result"
    }
   ],
   "source": [
    "dfRecommender.persist()"
   ]
  },
  {
   "cell_type": "code",
   "execution_count": 72,
   "metadata": {
    "collapsed": true
   },
   "outputs": [],
   "source": [
    "dfRecommender.write.parquet(\"/analytics/bc2_recommender/tables/dfRecommender26Feb\", mode='overwrite')"
   ]
  },
  {
   "cell_type": "code",
   "execution_count": 10,
   "metadata": {
    "collapsed": true
   },
   "outputs": [],
   "source": [
    "dfRecommender=spark.read.parquet(\"/analytics/bc2_recommender/tables/dfRecommender26Feb\")"
   ]
  },
  {
   "cell_type": "code",
   "execution_count": 11,
   "metadata": {
    "scrolled": true
   },
   "outputs": [
    {
     "name": "stdout",
     "output_type": "stream",
     "text": [
      "+---------+--------------+--------------------+------+\n",
      "|ACCOUNTPK|PRF_CD_FAMILIA|      PRF_DS_FAMILIA|RATING|\n",
      "+---------+--------------+--------------------+------+\n",
      "|  9800372|      10141931|           BEM ESTAR|     6|\n",
      "|   546032|      10142002|         BALAS DURAS|     9|\n",
      "|  6700225|      20225301|        CONVENCIONAL|    17|\n",
      "|  4470082|      10157207|ACIMA DE 2000ML L...|     1|\n",
      "|  9407627|      30373033|GUARDANAPOS FLHA ...|     1|\n",
      "|   332461|      10148705|BISCOITO TRADICIO...|     4|\n",
      "|  2200584|      20243918|CARNE MOIDA ATEND...|     5|\n",
      "| 12011736|      10142803|DERIVADOS DO COCO...|     1|\n",
      "| 12423534|      10142021|GOMA DE MASCAR IN...|     2|\n",
      "|  6780416|      10141508| COMP ALIMENT MINGAU|     1|\n",
      "+---------+--------------+--------------------+------+\n",
      "only showing top 10 rows\n",
      "\n"
     ]
    }
   ],
   "source": [
    "dfRecommender.show(10)"
   ]
  },
  {
   "cell_type": "code",
   "execution_count": 12,
   "metadata": {
    "collapsed": true
   },
   "outputs": [],
   "source": [
    "dfRecommender2=dfRecommender.withColumnRenamed('ACCOUNTPK','userid').withColumnRenamed('PRF_CD_FAMILIA','itemid')"
   ]
  },
  {
   "cell_type": "code",
   "execution_count": 13,
   "metadata": {
    "scrolled": true
   },
   "outputs": [
    {
     "name": "stdout",
     "output_type": "stream",
     "text": [
      "+--------+--------+--------------------+------+\n",
      "|  userid|  itemid|      PRF_DS_FAMILIA|RATING|\n",
      "+--------+--------+--------------------+------+\n",
      "| 9800372|10141931|           BEM ESTAR|     6|\n",
      "|  546032|10142002|         BALAS DURAS|     9|\n",
      "| 6700225|20225301|        CONVENCIONAL|    17|\n",
      "| 4470082|10157207|ACIMA DE 2000ML L...|     1|\n",
      "| 9407627|30373033|GUARDANAPOS FLHA ...|     1|\n",
      "|  332461|10148705|BISCOITO TRADICIO...|     4|\n",
      "| 2200584|20243918|CARNE MOIDA ATEND...|     5|\n",
      "|12011736|10142803|DERIVADOS DO COCO...|     1|\n",
      "|12423534|10142021|GOMA DE MASCAR IN...|     2|\n",
      "| 6780416|10141508| COMP ALIMENT MINGAU|     1|\n",
      "+--------+--------+--------------------+------+\n",
      "only showing top 10 rows\n",
      "\n"
     ]
    }
   ],
   "source": [
    "dfRecommender2.show(10)"
   ]
  },
  {
   "cell_type": "code",
   "execution_count": 16,
   "metadata": {
    "scrolled": false
   },
   "outputs": [
    {
     "name": "stdout",
     "output_type": "stream",
     "text": [
      "+-----------+-----------+\n",
      "|max(itemid)|max(userid)|\n",
      "+-----------+-----------+\n",
      "|   90930103|   13627517|\n",
      "+-----------+-----------+\n",
      "\n"
     ]
    }
   ],
   "source": [
    "dfRecommender2.agg({'userid':'max', 'itemid':'max'}).show()"
   ]
  },
  {
   "cell_type": "markdown",
   "metadata": {},
   "source": [
    "#### Test"
   ]
  },
  {
   "cell_type": "code",
   "execution_count": 24,
   "metadata": {
    "collapsed": true
   },
   "outputs": [],
   "source": [
    "dfCupomFilter=dfCupom.where((to_date(col('CUP_DT_CUPOM'))>='2017-11-01') & (to_date(col('CUP_DT_CUPOM'))<'2017-12-01')) \\\n",
    "    .select('CUP_ID_CUPOM','PES_NU_CPFCNPJ','TRA_CD_TRANSACAO')"
   ]
  },
  {
   "cell_type": "code",
   "execution_count": 25,
   "metadata": {},
   "outputs": [],
   "source": [
    "dfTransacaoFilter=dfTransacao.where((to_date(col('TRA_DT_TRANSACAO'))>='2017-11-01') & (to_date(col('TRA_DT_TRANSACAO'))<'2017-12-01')) \\\n",
    "    .select('TRA_CD_TRANSACAO','CTA_CD_CONTA')"
   ]
  },
  {
   "cell_type": "code",
   "execution_count": 26,
   "metadata": {
    "scrolled": true
   },
   "outputs": [
    {
     "data": {
      "text/plain": [
       "13945016"
      ]
     },
     "execution_count": 26,
     "metadata": {},
     "output_type": "execute_result"
    }
   ],
   "source": [
    "dfPeopleFilter=dfPeople.select('PEOPLESERNO','SSNUMBER').withColumn('SSNUMBER',dfPeople[\"SSNUMBER\"].cast('long')).persist()\n",
    "dfPeopleFilter.count()"
   ]
  },
  {
   "cell_type": "code",
   "execution_count": 27,
   "metadata": {
    "scrolled": false
   },
   "outputs": [
    {
     "name": "stdout",
     "output_type": "stream",
     "text": [
      "root\n",
      " |-- PEOPLESERNO: long (nullable = true)\n",
      " |-- SSNUMBER: long (nullable = true)\n",
      "\n"
     ]
    }
   ],
   "source": [
    "dfPeopleFilter.printSchema()"
   ]
  },
  {
   "cell_type": "code",
   "execution_count": 28,
   "metadata": {},
   "outputs": [],
   "source": [
    "dfAccountsFilter=dfAccounts.select('ACCOUNTSERNO','PEOPLESERNOFK')\n",
    "#dfAccountsFilter.persist().count()"
   ]
  },
  {
   "cell_type": "code",
   "execution_count": 29,
   "metadata": {},
   "outputs": [],
   "source": [
    "new_column_1 = expr(\n",
    "    \"\"\"IF(CTA_CD_CONTA IS NULL, ACCOUNTSERNO, CTA_CD_CONTA)\"\"\"\n",
    ")\n",
    "\n",
    "dfTemp= dfCupomFilter.join(dfTransacaoFilter,dfCupomFilter.TRA_CD_TRANSACAO==dfTransacaoFilter.TRA_CD_TRANSACAO,\"left_outer\") \\\n",
    "    .drop(dfCupomFilter.TRA_CD_TRANSACAO).drop(dfTransacaoFilter.TRA_CD_TRANSACAO) \\\n",
    "    .join(dfPeopleFilter,dfCupomFilter.PES_NU_CPFCNPJ==dfPeopleFilter.SSNUMBER,\"left_outer\") \\\n",
    "    .join(dfAccountsFilter,dfPeopleFilter.PEOPLESERNO==dfAccountsFilter.PEOPLESERNOFK,\"left_outer\") \\\n",
    "    .filter(col(\"CTA_CD_CONTA\").isNotNull() | col(\"ACCOUNTSERNO\").isNotNull()) \\\n",
    "    .withColumn(\"ACCOUNTPK\",new_column_1) #.persist()"
   ]
  },
  {
   "cell_type": "code",
   "execution_count": 30,
   "metadata": {},
   "outputs": [],
   "source": [
    "#CREACIÓN DEL DATAFRAME REDUCIDO\n",
    "dfTempRed=dfTemp.select(\"CUP_ID_CUPOM\",\"ACCOUNTPK\").distinct()"
   ]
  },
  {
   "cell_type": "code",
   "execution_count": 31,
   "metadata": {},
   "outputs": [],
   "source": [
    "dfTempRed.write.parquet(\"/analytics/bc2_recommender/tables/dfTempRedTest01Mar\")"
   ]
  },
  {
   "cell_type": "code",
   "execution_count": 32,
   "metadata": {
    "collapsed": true
   },
   "outputs": [],
   "source": [
    "dfTempRed=spark.read.parquet(\"/analytics/bc2_recommender/tables/dfTempRedTest01Mar\")"
   ]
  },
  {
   "cell_type": "code",
   "execution_count": 33,
   "metadata": {},
   "outputs": [],
   "source": [
    "#DESDE TempRed\n",
    "\n",
    "dfTemp2=dfTempRed.join(dfItemcupom,dfTempRed.CUP_ID_CUPOM==dfItemcupom.CUP_ID_CUPOM).groupBy(\"ACCOUNTPK\",\"IVA_CD_ITEM\") \\\n",
    "    .agg(count('*').alias('PURCHASES')).join(broadcast(dfEM),dfItemcupom.IVA_CD_ITEM==dfEM.IVA_CD_ITEM)\n",
    "\n",
    "\n",
    "#DESDE Temp\n",
    "# dfTemp2=dfTemp.join(dfItemcupom,dfTemp.CUP_ID_CUPOM==dfItemcupom.CUP_ID_CUPOM).groupBy(\"ACCOUNTPK\",\"IVA_CD_ITEM\") \\\n",
    "#     .agg(sum('ICU_VL_ITENS').alias('PURCHASES')).join(dfEM,dfItemcupom.IVA_CD_ITEM==dfEM.IVA_CD_ITEM).persist()"
   ]
  },
  {
   "cell_type": "code",
   "execution_count": 34,
   "metadata": {
    "scrolled": false
   },
   "outputs": [
    {
     "name": "stdout",
     "output_type": "stream",
     "text": [
      "root\n",
      " |-- ACCOUNTPK: long (nullable = true)\n",
      " |-- IVA_CD_ITEM: long (nullable = true)\n",
      " |-- PURCHASES: long (nullable = false)\n",
      " |-- IVA_CD_ITEM: long (nullable = true)\n",
      " |-- FOR_CD_FORNECEDOR: long (nullable = true)\n",
      " |-- IVA_DS_ITEM: string (nullable = true)\n",
      " |-- PRF_CD_SUBFAMILIA: long (nullable = true)\n",
      " |-- PRF_DS_SUBFAMILIA: string (nullable = true)\n",
      " |-- PRF_CD_FAMILIA: long (nullable = true)\n",
      " |-- PRF_DS_FAMILIA: string (nullable = true)\n",
      " |-- PRF_CD_GRUPO: long (nullable = true)\n",
      " |-- PRF_DS_GRUPO: string (nullable = true)\n",
      " |-- PRF_CD_SETOR: integer (nullable = true)\n",
      " |-- PRF_DS_SETOR: string (nullable = true)\n",
      " |-- PRF_CD_DEPARTAMENTO: integer (nullable = true)\n",
      " |-- PRF_DS_DEPARTAMENTO: string (nullable = true)\n",
      "\n"
     ]
    }
   ],
   "source": [
    "dfTemp2.printSchema()"
   ]
  },
  {
   "cell_type": "code",
   "execution_count": 35,
   "metadata": {
    "collapsed": true
   },
   "outputs": [],
   "source": [
    "dfRecommenderTest=dfTemp2.groupBy('ACCOUNTPK','PRF_CD_FAMILIA','PRF_DS_FAMILIA').agg(sum('PURCHASES').alias('RATING'))"
   ]
  },
  {
   "cell_type": "code",
   "execution_count": 36,
   "metadata": {
    "scrolled": false
   },
   "outputs": [
    {
     "name": "stdout",
     "output_type": "stream",
     "text": [
      "root\n",
      " |-- ACCOUNTPK: long (nullable = true)\n",
      " |-- PRF_CD_FAMILIA: long (nullable = true)\n",
      " |-- PRF_DS_FAMILIA: string (nullable = true)\n",
      " |-- RATING: long (nullable = true)\n",
      "\n"
     ]
    }
   ],
   "source": [
    "dfRecommenderTest.printSchema()"
   ]
  },
  {
   "cell_type": "code",
   "execution_count": 37,
   "metadata": {},
   "outputs": [
    {
     "data": {
      "text/plain": [
       "DataFrame[ACCOUNTPK: bigint, PRF_CD_FAMILIA: bigint, PRF_DS_FAMILIA: string, RATING: bigint]"
      ]
     },
     "execution_count": 37,
     "metadata": {},
     "output_type": "execute_result"
    }
   ],
   "source": [
    "dfRecommenderTest.persist()"
   ]
  },
  {
   "cell_type": "code",
   "execution_count": 38,
   "metadata": {
    "collapsed": true
   },
   "outputs": [],
   "source": [
    "dfRecommenderTest.write.parquet(\"/analytics/bc2_recommender/tables/dfRecommenderTest05Mar\", mode='overwrite')"
   ]
  },
  {
   "cell_type": "code",
   "execution_count": 45,
   "metadata": {
    "collapsed": true
   },
   "outputs": [],
   "source": [
    "dfRecommenderTest=spark.read.parquet(\"/analytics/bc2_recommender/tables/dfRecommenderTest05Mar\")"
   ]
  },
  {
   "cell_type": "code",
   "execution_count": 46,
   "metadata": {
    "scrolled": true
   },
   "outputs": [
    {
     "name": "stdout",
     "output_type": "stream",
     "text": [
      "+---------+--------------+--------------------+------+\n",
      "|ACCOUNTPK|PRF_CD_FAMILIA|      PRF_DS_FAMILIA|RATING|\n",
      "+---------+--------------+--------------------+------+\n",
      "| 11391009|      70510101|      GASOLINA COMUM|     1|\n",
      "|  9141883|      20243913|BOVINO S O TRASEI...|     4|\n",
      "|  5309070|      20226101|    EMBALADOS FRUTAS|     1|\n",
      "|  1042897|      20225607|    TUBERCULOS GERAL|     1|\n",
      "| 12937770|      30371359|    SACOLAS PLASTICA|     1|\n",
      "| 11417855|      20231914|   CHOCOLATE REDONDO|     1|\n",
      "| 10885975|      70510102|  GASOLINA ADITIVADA|     1|\n",
      "|   759616|      20225301|        CONVENCIONAL|     7|\n",
      "|  8324895|      10144207|    EXTRUSADOS MILHO|     1|\n",
      "|  2236109|      30372705|POTES POTE VIDRO ...|     1|\n",
      "+---------+--------------+--------------------+------+\n",
      "only showing top 10 rows\n",
      "\n"
     ]
    }
   ],
   "source": [
    "dfRecommenderTest.show(10)"
   ]
  },
  {
   "cell_type": "code",
   "execution_count": 47,
   "metadata": {},
   "outputs": [],
   "source": [
    "dfRecommenderTest2=dfRecommenderTest.withColumnRenamed('ACCOUNTPK','userid').withColumnRenamed('PRF_CD_FAMILIA','itemid')"
   ]
  },
  {
   "cell_type": "code",
   "execution_count": 48,
   "metadata": {
    "scrolled": true
   },
   "outputs": [
    {
     "name": "stdout",
     "output_type": "stream",
     "text": [
      "+--------+--------+--------------------+------+\n",
      "|  userid|  itemid|      PRF_DS_FAMILIA|RATING|\n",
      "+--------+--------+--------------------+------+\n",
      "|11391009|70510101|      GASOLINA COMUM|     1|\n",
      "| 9141883|20243913|BOVINO S O TRASEI...|     4|\n",
      "| 5309070|20226101|    EMBALADOS FRUTAS|     1|\n",
      "| 1042897|20225607|    TUBERCULOS GERAL|     1|\n",
      "|12937770|30371359|    SACOLAS PLASTICA|     1|\n",
      "|11417855|20231914|   CHOCOLATE REDONDO|     1|\n",
      "|10885975|70510102|  GASOLINA ADITIVADA|     1|\n",
      "|  759616|20225301|        CONVENCIONAL|     7|\n",
      "| 8324895|10144207|    EXTRUSADOS MILHO|     1|\n",
      "| 2236109|30372705|POTES POTE VIDRO ...|     1|\n",
      "+--------+--------+--------------------+------+\n",
      "only showing top 10 rows\n",
      "\n"
     ]
    }
   ],
   "source": [
    "dfRecommenderTest2.show(10)"
   ]
  },
  {
   "cell_type": "code",
   "execution_count": 21,
   "metadata": {
    "scrolled": true
   },
   "outputs": [
    {
     "name": "stdout",
     "output_type": "stream",
     "text": [
      "+-----------+-----------+\n",
      "|max(itemid)|max(userid)|\n",
      "+-----------+-----------+\n",
      "|   80130222|   13627540|\n",
      "+-----------+-----------+\n",
      "\n"
     ]
    }
   ],
   "source": [
    "dfRecommenderTest2.agg({'userid':'max', 'itemid':'max'}).show()"
   ]
  },
  {
   "cell_type": "markdown",
   "metadata": {},
   "source": [
    "### CUSTOMER SEGMENTATION BASED ON SECTOR"
   ]
  },
  {
   "cell_type": "code",
   "execution_count": 28,
   "metadata": {},
   "outputs": [],
   "source": [
    "dfCluster=dfTemp2.groupBy('ACCOUNTPK').pivot('PRF_CD_SETOR').sum('PURCHASES').fillna(0)"
   ]
  },
  {
   "cell_type": "code",
   "execution_count": 29,
   "metadata": {
    "collapsed": true
   },
   "outputs": [],
   "source": [
    "dfCluster.write.parquet(\"/analytics/bc2_recommender/tables/dfCluster01Mar\", mode='overwrite')"
   ]
  },
  {
   "cell_type": "code",
   "execution_count": 14,
   "metadata": {
    "collapsed": true
   },
   "outputs": [],
   "source": [
    "dfCluster=spark.read.parquet(\"/analytics/bc2_recommender/tables/dfCluster01Mar\")"
   ]
  },
  {
   "cell_type": "code",
   "execution_count": 19,
   "metadata": {
    "collapsed": true
   },
   "outputs": [],
   "source": [
    "nameList=dfCluster.schema.names[1:]"
   ]
  },
  {
   "cell_type": "code",
   "execution_count": 20,
   "metadata": {
    "collapsed": true
   },
   "outputs": [],
   "source": [
    "continuous_feature_assembler= VectorAssembler(inputCols=nameList, outputCol=\"unscaled_continuous_features\")"
   ]
  },
  {
   "cell_type": "code",
   "execution_count": 21,
   "metadata": {
    "collapsed": true
   },
   "outputs": [],
   "source": [
    "continuous_feature_scaler = StandardScaler(inputCol=\"unscaled_continuous_features\", outputCol=\"scaled_features\",\\\n",
    "                                           withStd=True, withMean=True)"
   ]
  },
  {
   "cell_type": "code",
   "execution_count": 22,
   "metadata": {},
   "outputs": [],
   "source": [
    "estimatorsKmeans = [continuous_feature_assembler, continuous_feature_scaler]\n",
    "\n",
    "featurePipeline = Pipeline(stages=estimatorsKmeans)\n",
    "\n",
    "sparkFeaturePipelineModel = featurePipeline.fit(dfCluster)"
   ]
  },
  {
   "cell_type": "code",
   "execution_count": 23,
   "metadata": {
    "collapsed": true
   },
   "outputs": [],
   "source": [
    "dfClusterTransformed=sparkFeaturePipelineModel.transform(dfCluster)"
   ]
  },
  {
   "cell_type": "code",
   "execution_count": 29,
   "metadata": {
    "scrolled": true
   },
   "outputs": [
    {
     "name": "stdout",
     "output_type": "stream",
     "text": [
      "root\n",
      " |-- ACCOUNTPK: long (nullable = true)\n",
      " |-- 1010: long (nullable = true)\n",
      " |-- 1011: long (nullable = true)\n",
      " |-- 1012: long (nullable = true)\n",
      " |-- 1014: long (nullable = true)\n",
      " |-- 1015: long (nullable = true)\n",
      " |-- 1016: long (nullable = true)\n",
      " |-- 1101: long (nullable = true)\n",
      " |-- 2020: long (nullable = true)\n",
      " |-- 2021: long (nullable = true)\n",
      " |-- 2022: long (nullable = true)\n",
      " |-- 2023: long (nullable = true)\n",
      " |-- 2024: long (nullable = true)\n",
      " |-- 2025: long (nullable = true)\n",
      " |-- 3031: long (nullable = true)\n",
      " |-- 3032: long (nullable = true)\n",
      " |-- 3035: long (nullable = true)\n",
      " |-- 3036: long (nullable = true)\n",
      " |-- 3037: long (nullable = true)\n",
      " |-- 3038: long (nullable = true)\n",
      " |-- 3039: long (nullable = true)\n",
      " |-- 4040: long (nullable = true)\n",
      " |-- 4041: long (nullable = true)\n",
      " |-- 4042: long (nullable = true)\n",
      " |-- 4043: long (nullable = true)\n",
      " |-- 4044: long (nullable = true)\n",
      " |-- 4045: long (nullable = true)\n",
      " |-- 4046: long (nullable = true)\n",
      " |-- 4047: long (nullable = true)\n",
      " |-- 5060: long (nullable = true)\n",
      " |-- 5064: long (nullable = true)\n",
      " |-- 5065: long (nullable = true)\n",
      " |-- 5066: long (nullable = true)\n",
      " |-- 5067: long (nullable = true)\n",
      " |-- 7051: long (nullable = true)\n",
      " |-- 8013: long (nullable = true)\n",
      " |-- 9093: long (nullable = true)\n",
      " |-- unscaled_continuous_features: vector (nullable = true)\n",
      " |-- scaled_features: vector (nullable = true)\n",
      "\n"
     ]
    }
   ],
   "source": [
    "dfClusterTransformed.printSchema()"
   ]
  },
  {
   "cell_type": "code",
   "execution_count": 66,
   "metadata": {
    "scrolled": true
   },
   "outputs": [
    {
     "name": "stdout",
     "output_type": "stream",
     "text": [
      "Within Set Sum of Squared Errors 2 = 80596411.3757271\n",
      "Within Set Sum of Squared Errors 3 = 77180719.14133634\n",
      "Within Set Sum of Squared Errors 4 = 75965924.07123102\n",
      "Within Set Sum of Squared Errors 5 = 74425424.14918414\n",
      "Within Set Sum of Squared Errors 6 = 71198809.0520889\n",
      "Within Set Sum of Squared Errors 7 = 69416949.26023422\n",
      "Within Set Sum of Squared Errors 8 = 69302356.47162203\n",
      "Within Set Sum of Squared Errors 9 = 65952362.16223281\n",
      "Within Set Sum of Squared Errors 10 = 64525331.69559927\n",
      "Within Set Sum of Squared Errors 11 = 63292910.550481394\n",
      "Within Set Sum of Squared Errors 12 = 62069135.44363219\n",
      "Within Set Sum of Squared Errors 13 = 63052457.40754479\n",
      "Within Set Sum of Squared Errors 14 = 61901609.42056282\n",
      "Within Set Sum of Squared Errors 15 = 56317376.909441166\n",
      "Within Set Sum of Squared Errors 16 = 57452180.21763211\n",
      "Within Set Sum of Squared Errors 17 = 58823207.70566337\n",
      "Within Set Sum of Squared Errors 18 = 53254044.057516314\n",
      "Within Set Sum of Squared Errors 19 = 57438153.83618009\n",
      "Within Set Sum of Squared Errors 20 = 56914046.288858905\n",
      "Within Set Sum of Squared Errors 21 = 53139340.00345228\n",
      "Within Set Sum of Squared Errors 22 = 52783882.40576099\n",
      "Within Set Sum of Squared Errors 23 = 50745316.171097785\n",
      "Within Set Sum of Squared Errors 24 = 49234261.86857411\n",
      "Within Set Sum of Squared Errors 25 = 47582439.38140096\n",
      "Within Set Sum of Squared Errors 26 = 46201031.87745088\n",
      "Within Set Sum of Squared Errors 27 = 45460076.27194013\n",
      "Within Set Sum of Squared Errors 28 = 45171920.12119663\n",
      "Within Set Sum of Squared Errors 29 = 47053845.86417868\n",
      "Within Set Sum of Squared Errors 30 = 47165426.24836722\n",
      "Within Set Sum of Squared Errors 31 = 43653969.58273401\n",
      "Within Set Sum of Squared Errors 32 = 46516380.001131855\n",
      "Within Set Sum of Squared Errors 33 = 44351002.01269771\n",
      "Within Set Sum of Squared Errors 34 = 41751459.25934335\n",
      "Within Set Sum of Squared Errors 35 = 42669964.586860776\n",
      "Within Set Sum of Squared Errors 36 = 41051721.4189074\n",
      "Within Set Sum of Squared Errors 37 = 42684755.4287745\n",
      "Within Set Sum of Squared Errors 38 = 40462511.6369217\n",
      "Within Set Sum of Squared Errors 39 = 39725453.64619099\n",
      "Within Set Sum of Squared Errors 40 = 38413985.66934703\n",
      "Within Set Sum of Squared Errors 41 = 38910495.9055002\n",
      "Within Set Sum of Squared Errors 42 = 37419494.85396989\n",
      "Within Set Sum of Squared Errors 43 = 37216957.8517622\n",
      "Within Set Sum of Squared Errors 44 = 37615086.076727696\n",
      "Within Set Sum of Squared Errors 45 = 38157823.83716728\n",
      "Within Set Sum of Squared Errors 46 = 38131849.70303753\n",
      "Within Set Sum of Squared Errors 47 = 37241383.072513565\n",
      "Within Set Sum of Squared Errors 48 = 36730396.279165916\n",
      "Within Set Sum of Squared Errors 49 = 36118506.92009698\n",
      "Within Set Sum of Squared Errors 50 = 35773425.61532035\n"
     ]
    }
   ],
   "source": [
    "listaErrores=[]\n",
    "\n",
    "for k in range(2,51):\n",
    "    #print(k)\n",
    "    kmeans = KMeans(featuresCol=\"scaled_features\").setK(k).setSeed(666)\n",
    "    #kmeans = BisectingKMeans().setK(k).setSeed(666)\n",
    "    model = kmeans.fit(dfClusterTransformed)\n",
    "    wssse = model.computeCost(dfClusterTransformed)\n",
    "    print(\"Within Set Sum of Squared Errors {} = \".format(k) + str(wssse))\n",
    "    listaErrores.append((k,wssse))"
   ]
  },
  {
   "cell_type": "code",
   "execution_count": 67,
   "metadata": {},
   "outputs": [],
   "source": [
    "pdErrors=pd.DataFrame.from_records(listaErrores, columns=['clusters','wssse'])"
   ]
  },
  {
   "cell_type": "code",
   "execution_count": 68,
   "metadata": {
    "scrolled": true
   },
   "outputs": [
    {
     "data": {
      "text/html": [
       "<div>\n",
       "<table border=\"1\" class=\"dataframe\">\n",
       "  <thead>\n",
       "    <tr style=\"text-align: right;\">\n",
       "      <th></th>\n",
       "      <th>clusters</th>\n",
       "      <th>wssse</th>\n",
       "    </tr>\n",
       "  </thead>\n",
       "  <tbody>\n",
       "    <tr>\n",
       "      <th>0</th>\n",
       "      <td>2</td>\n",
       "      <td>8.059641e+07</td>\n",
       "    </tr>\n",
       "    <tr>\n",
       "      <th>1</th>\n",
       "      <td>3</td>\n",
       "      <td>7.718072e+07</td>\n",
       "    </tr>\n",
       "    <tr>\n",
       "      <th>2</th>\n",
       "      <td>4</td>\n",
       "      <td>7.596592e+07</td>\n",
       "    </tr>\n",
       "    <tr>\n",
       "      <th>3</th>\n",
       "      <td>5</td>\n",
       "      <td>7.442542e+07</td>\n",
       "    </tr>\n",
       "    <tr>\n",
       "      <th>4</th>\n",
       "      <td>6</td>\n",
       "      <td>7.119881e+07</td>\n",
       "    </tr>\n",
       "    <tr>\n",
       "      <th>5</th>\n",
       "      <td>7</td>\n",
       "      <td>6.941695e+07</td>\n",
       "    </tr>\n",
       "    <tr>\n",
       "      <th>6</th>\n",
       "      <td>8</td>\n",
       "      <td>6.930236e+07</td>\n",
       "    </tr>\n",
       "    <tr>\n",
       "      <th>7</th>\n",
       "      <td>9</td>\n",
       "      <td>6.595236e+07</td>\n",
       "    </tr>\n",
       "    <tr>\n",
       "      <th>8</th>\n",
       "      <td>10</td>\n",
       "      <td>6.452533e+07</td>\n",
       "    </tr>\n",
       "    <tr>\n",
       "      <th>9</th>\n",
       "      <td>11</td>\n",
       "      <td>6.329291e+07</td>\n",
       "    </tr>\n",
       "    <tr>\n",
       "      <th>10</th>\n",
       "      <td>12</td>\n",
       "      <td>6.206914e+07</td>\n",
       "    </tr>\n",
       "    <tr>\n",
       "      <th>11</th>\n",
       "      <td>13</td>\n",
       "      <td>6.305246e+07</td>\n",
       "    </tr>\n",
       "    <tr>\n",
       "      <th>12</th>\n",
       "      <td>14</td>\n",
       "      <td>6.190161e+07</td>\n",
       "    </tr>\n",
       "    <tr>\n",
       "      <th>13</th>\n",
       "      <td>15</td>\n",
       "      <td>5.631738e+07</td>\n",
       "    </tr>\n",
       "    <tr>\n",
       "      <th>14</th>\n",
       "      <td>16</td>\n",
       "      <td>5.745218e+07</td>\n",
       "    </tr>\n",
       "    <tr>\n",
       "      <th>15</th>\n",
       "      <td>17</td>\n",
       "      <td>5.882321e+07</td>\n",
       "    </tr>\n",
       "    <tr>\n",
       "      <th>16</th>\n",
       "      <td>18</td>\n",
       "      <td>5.325404e+07</td>\n",
       "    </tr>\n",
       "    <tr>\n",
       "      <th>17</th>\n",
       "      <td>19</td>\n",
       "      <td>5.743815e+07</td>\n",
       "    </tr>\n",
       "    <tr>\n",
       "      <th>18</th>\n",
       "      <td>20</td>\n",
       "      <td>5.691405e+07</td>\n",
       "    </tr>\n",
       "    <tr>\n",
       "      <th>19</th>\n",
       "      <td>21</td>\n",
       "      <td>5.313934e+07</td>\n",
       "    </tr>\n",
       "    <tr>\n",
       "      <th>20</th>\n",
       "      <td>22</td>\n",
       "      <td>5.278388e+07</td>\n",
       "    </tr>\n",
       "    <tr>\n",
       "      <th>21</th>\n",
       "      <td>23</td>\n",
       "      <td>5.074532e+07</td>\n",
       "    </tr>\n",
       "    <tr>\n",
       "      <th>22</th>\n",
       "      <td>24</td>\n",
       "      <td>4.923426e+07</td>\n",
       "    </tr>\n",
       "    <tr>\n",
       "      <th>23</th>\n",
       "      <td>25</td>\n",
       "      <td>4.758244e+07</td>\n",
       "    </tr>\n",
       "    <tr>\n",
       "      <th>24</th>\n",
       "      <td>26</td>\n",
       "      <td>4.620103e+07</td>\n",
       "    </tr>\n",
       "    <tr>\n",
       "      <th>25</th>\n",
       "      <td>27</td>\n",
       "      <td>4.546008e+07</td>\n",
       "    </tr>\n",
       "    <tr>\n",
       "      <th>26</th>\n",
       "      <td>28</td>\n",
       "      <td>4.517192e+07</td>\n",
       "    </tr>\n",
       "    <tr>\n",
       "      <th>27</th>\n",
       "      <td>29</td>\n",
       "      <td>4.705385e+07</td>\n",
       "    </tr>\n",
       "    <tr>\n",
       "      <th>28</th>\n",
       "      <td>30</td>\n",
       "      <td>4.716543e+07</td>\n",
       "    </tr>\n",
       "    <tr>\n",
       "      <th>29</th>\n",
       "      <td>31</td>\n",
       "      <td>4.365397e+07</td>\n",
       "    </tr>\n",
       "    <tr>\n",
       "      <th>30</th>\n",
       "      <td>32</td>\n",
       "      <td>4.651638e+07</td>\n",
       "    </tr>\n",
       "    <tr>\n",
       "      <th>31</th>\n",
       "      <td>33</td>\n",
       "      <td>4.435100e+07</td>\n",
       "    </tr>\n",
       "    <tr>\n",
       "      <th>32</th>\n",
       "      <td>34</td>\n",
       "      <td>4.175146e+07</td>\n",
       "    </tr>\n",
       "    <tr>\n",
       "      <th>33</th>\n",
       "      <td>35</td>\n",
       "      <td>4.266996e+07</td>\n",
       "    </tr>\n",
       "    <tr>\n",
       "      <th>34</th>\n",
       "      <td>36</td>\n",
       "      <td>4.105172e+07</td>\n",
       "    </tr>\n",
       "    <tr>\n",
       "      <th>35</th>\n",
       "      <td>37</td>\n",
       "      <td>4.268476e+07</td>\n",
       "    </tr>\n",
       "    <tr>\n",
       "      <th>36</th>\n",
       "      <td>38</td>\n",
       "      <td>4.046251e+07</td>\n",
       "    </tr>\n",
       "    <tr>\n",
       "      <th>37</th>\n",
       "      <td>39</td>\n",
       "      <td>3.972545e+07</td>\n",
       "    </tr>\n",
       "    <tr>\n",
       "      <th>38</th>\n",
       "      <td>40</td>\n",
       "      <td>3.841399e+07</td>\n",
       "    </tr>\n",
       "    <tr>\n",
       "      <th>39</th>\n",
       "      <td>41</td>\n",
       "      <td>3.891050e+07</td>\n",
       "    </tr>\n",
       "    <tr>\n",
       "      <th>40</th>\n",
       "      <td>42</td>\n",
       "      <td>3.741949e+07</td>\n",
       "    </tr>\n",
       "    <tr>\n",
       "      <th>41</th>\n",
       "      <td>43</td>\n",
       "      <td>3.721696e+07</td>\n",
       "    </tr>\n",
       "    <tr>\n",
       "      <th>42</th>\n",
       "      <td>44</td>\n",
       "      <td>3.761509e+07</td>\n",
       "    </tr>\n",
       "    <tr>\n",
       "      <th>43</th>\n",
       "      <td>45</td>\n",
       "      <td>3.815782e+07</td>\n",
       "    </tr>\n",
       "    <tr>\n",
       "      <th>44</th>\n",
       "      <td>46</td>\n",
       "      <td>3.813185e+07</td>\n",
       "    </tr>\n",
       "    <tr>\n",
       "      <th>45</th>\n",
       "      <td>47</td>\n",
       "      <td>3.724138e+07</td>\n",
       "    </tr>\n",
       "    <tr>\n",
       "      <th>46</th>\n",
       "      <td>48</td>\n",
       "      <td>3.673040e+07</td>\n",
       "    </tr>\n",
       "    <tr>\n",
       "      <th>47</th>\n",
       "      <td>49</td>\n",
       "      <td>3.611851e+07</td>\n",
       "    </tr>\n",
       "    <tr>\n",
       "      <th>48</th>\n",
       "      <td>50</td>\n",
       "      <td>3.577343e+07</td>\n",
       "    </tr>\n",
       "  </tbody>\n",
       "</table>\n",
       "</div>"
      ],
      "text/plain": [
       "    clusters         wssse\n",
       "0          2  8.059641e+07\n",
       "1          3  7.718072e+07\n",
       "2          4  7.596592e+07\n",
       "3          5  7.442542e+07\n",
       "4          6  7.119881e+07\n",
       "5          7  6.941695e+07\n",
       "6          8  6.930236e+07\n",
       "7          9  6.595236e+07\n",
       "8         10  6.452533e+07\n",
       "9         11  6.329291e+07\n",
       "10        12  6.206914e+07\n",
       "11        13  6.305246e+07\n",
       "12        14  6.190161e+07\n",
       "13        15  5.631738e+07\n",
       "14        16  5.745218e+07\n",
       "15        17  5.882321e+07\n",
       "16        18  5.325404e+07\n",
       "17        19  5.743815e+07\n",
       "18        20  5.691405e+07\n",
       "19        21  5.313934e+07\n",
       "20        22  5.278388e+07\n",
       "21        23  5.074532e+07\n",
       "22        24  4.923426e+07\n",
       "23        25  4.758244e+07\n",
       "24        26  4.620103e+07\n",
       "25        27  4.546008e+07\n",
       "26        28  4.517192e+07\n",
       "27        29  4.705385e+07\n",
       "28        30  4.716543e+07\n",
       "29        31  4.365397e+07\n",
       "30        32  4.651638e+07\n",
       "31        33  4.435100e+07\n",
       "32        34  4.175146e+07\n",
       "33        35  4.266996e+07\n",
       "34        36  4.105172e+07\n",
       "35        37  4.268476e+07\n",
       "36        38  4.046251e+07\n",
       "37        39  3.972545e+07\n",
       "38        40  3.841399e+07\n",
       "39        41  3.891050e+07\n",
       "40        42  3.741949e+07\n",
       "41        43  3.721696e+07\n",
       "42        44  3.761509e+07\n",
       "43        45  3.815782e+07\n",
       "44        46  3.813185e+07\n",
       "45        47  3.724138e+07\n",
       "46        48  3.673040e+07\n",
       "47        49  3.611851e+07\n",
       "48        50  3.577343e+07"
      ]
     },
     "execution_count": 68,
     "metadata": {},
     "output_type": "execute_result"
    }
   ],
   "source": [
    "pdErrors"
   ]
  },
  {
   "cell_type": "code",
   "execution_count": 69,
   "metadata": {},
   "outputs": [
    {
     "data": {
      "image/png": "[encoded data removed]",
      "text/plain": [
       "<matplotlib.figure.Figure at 0x7ff8a2388390>"
      ]
     },
     "metadata": {},
     "output_type": "display_data"
    }
   ],
   "source": [
    "plt.clf()\n",
    "plt.plot(pdErrors.clusters,pdErrors.wssse)\n",
    "plt.show()"
   ]
  },
  {
   "cell_type": "code",
   "execution_count": 70,
   "metadata": {
    "collapsed": true
   },
   "outputs": [],
   "source": [
    "dfErrors=spark.createDataFrame(pdErrors)"
   ]
  },
  {
   "cell_type": "code",
   "execution_count": 71,
   "metadata": {
    "scrolled": true
   },
   "outputs": [
    {
     "name": "stdout",
     "output_type": "stream",
     "text": [
      "root\n",
      " |-- clusters: long (nullable = true)\n",
      " |-- wssse: double (nullable = true)\n",
      "\n"
     ]
    }
   ],
   "source": [
    "dfErrors.printSchema()"
   ]
  },
  {
   "cell_type": "code",
   "execution_count": 30,
   "metadata": {},
   "outputs": [
    {
     "data": {
      "text/plain": [
       "2570693"
      ]
     },
     "execution_count": 30,
     "metadata": {},
     "output_type": "execute_result"
    }
   ],
   "source": [
    "dfClusterTransformed.count()"
   ]
  },
  {
   "cell_type": "code",
   "execution_count": 75,
   "metadata": {
    "collapsed": true
   },
   "outputs": [],
   "source": [
    "kmeans = BisectingKMeans(featuresCol=\"scaled_features\").setK(30).setMinDivisibleClusterSize(30000).setSeed(666)"
   ]
  },
  {
   "cell_type": "code",
   "execution_count": 76,
   "metadata": {},
   "outputs": [],
   "source": [
    "model = kmeans.fit(dfClusterTransformed)"
   ]
  },
  {
   "cell_type": "code",
   "execution_count": 77,
   "metadata": {
    "collapsed": true
   },
   "outputs": [],
   "source": [
    "model.save(\"/analytics/bc2_recommender/models/model02Mar\")"
   ]
  },
  {
   "cell_type": "code",
   "execution_count": 15,
   "metadata": {
    "collapsed": true
   },
   "outputs": [],
   "source": [
    "model=BisectingKMeansModel.load(\"/analytics/bc2_recommender/models/model02Mar\")"
   ]
  },
  {
   "cell_type": "code",
   "execution_count": 24,
   "metadata": {},
   "outputs": [],
   "source": [
    "dfClusterFinal=model.transform(dfClusterTransformed).select('ACCOUNTPK','prediction')"
   ]
  },
  {
   "cell_type": "code",
   "execution_count": 27,
   "metadata": {
    "scrolled": true
   },
   "outputs": [
    {
     "name": "stdout",
     "output_type": "stream",
     "text": [
      "+----------+-------+\n",
      "|prediction|  count|\n",
      "+----------+-------+\n",
      "|         0|1038182|\n",
      "|         1| 149984|\n",
      "|         2|  81672|\n",
      "|         3| 260194|\n",
      "|         4|  66419|\n",
      "|         5|  35717|\n",
      "|         6|  95942|\n",
      "|         7|  15959|\n",
      "|         8|  65412|\n",
      "|         9|   6884|\n",
      "|        10|  48156|\n",
      "|        11|   5941|\n",
      "|        12|  25824|\n",
      "|        13|  26403|\n",
      "|        14| 210161|\n",
      "|        15|  44016|\n",
      "|        16|  45946|\n",
      "|        17|   1997|\n",
      "|        18|  45477|\n",
      "|        19|  20960|\n",
      "|        20|   9452|\n",
      "|        21|  52996|\n",
      "|        22|  20917|\n",
      "|        23|  55269|\n",
      "|        24|   6954|\n",
      "|        25|  15887|\n",
      "|        26|  41026|\n",
      "|        27|  22931|\n",
      "|        28|  24075|\n",
      "|        29|  29940|\n",
      "+----------+-------+\n",
      "\n"
     ]
    }
   ],
   "source": [
    "dfClusterFinal.groupBy('prediction').count().orderBy('prediction').show(50)"
   ]
  },
  {
   "cell_type": "markdown",
   "metadata": {},
   "source": [
    "### Most popular product per cluster-family"
   ]
  },
  {
   "cell_type": "code",
   "execution_count": 74,
   "metadata": {},
   "outputs": [],
   "source": [
    "dfFamProd=dfTemp2.groupBy('ACCOUNTPK','PRF_CD_FAMILIA','PRF_DS_FAMILIA',dfEM.IVA_CD_ITEM,'IVA_DS_ITEM') \\\n",
    "    .agg(sum('PURCHASES').alias('RATING'))"
   ]
  },
  {
   "cell_type": "code",
   "execution_count": 78,
   "metadata": {
    "collapsed": true
   },
   "outputs": [],
   "source": [
    "dfPopularProd=dfFamProd.join(dfClusterFinal,dfClusterFinal.ACCOUNTPK==dfFamProd.ACCOUNTPK).drop(dfClusterFinal.ACCOUNTPK)"
   ]
  },
  {
   "cell_type": "code",
   "execution_count": 79,
   "metadata": {
    "scrolled": true
   },
   "outputs": [
    {
     "name": "stdout",
     "output_type": "stream",
     "text": [
      "root\n",
      " |-- ACCOUNTPK: long (nullable = true)\n",
      " |-- PRF_CD_FAMILIA: long (nullable = true)\n",
      " |-- PRF_DS_FAMILIA: string (nullable = true)\n",
      " |-- IVA_CD_ITEM: long (nullable = true)\n",
      " |-- IVA_DS_ITEM: string (nullable = true)\n",
      " |-- RATING: long (nullable = true)\n",
      " |-- prediction: integer (nullable = true)\n",
      "\n"
     ]
    }
   ],
   "source": [
    "dfPopularProd.printSchema()"
   ]
  },
  {
   "cell_type": "code",
   "execution_count": 85,
   "metadata": {},
   "outputs": [
    {
     "data": {
      "text/plain": [
       "113672492"
      ]
     },
     "execution_count": 85,
     "metadata": {},
     "output_type": "execute_result"
    }
   ],
   "source": [
    "dfPopularProd.persist().count()"
   ]
  },
  {
   "cell_type": "code",
   "execution_count": 86,
   "metadata": {
    "collapsed": true
   },
   "outputs": [],
   "source": [
    "dfPopularProd.createOrReplaceTempView(\"dfPopularProd\")"
   ]
  },
  {
   "cell_type": "code",
   "execution_count": 90,
   "metadata": {},
   "outputs": [],
   "source": [
    "dfTop5Prod=spark.sql(''' \n",
    "    SELECT * FROM (\n",
    "    SELECT prediction, PRF_CD_FAMILIA, PRF_DS_FAMILIA, IVA_CD_ITEM,IVA_DS_ITEM, RATING, \n",
    "    row_number() over (partition by prediction, PRF_CD_FAMILIA order by RATING desc) as orden\n",
    "    FROM\n",
    "    (SELECT prediction, PRF_CD_FAMILIA,PRF_DS_FAMILIA,IVA_CD_ITEM,IVA_DS_ITEM, sum(RATING) as RATING FROM dfPopularProd\n",
    "    GROUP BY prediction, PRF_CD_FAMILIA,PRF_DS_FAMILIA,IVA_CD_ITEM,IVA_DS_ITEM) TOTAL\n",
    "    ) FINAL\n",
    "    WHERE orden<=5\n",
    "    ''')"
   ]
  },
  {
   "cell_type": "code",
   "execution_count": 91,
   "metadata": {
    "collapsed": true
   },
   "outputs": [],
   "source": [
    "dfTop5Prod.write.parquet(\"/analytics/bc2_recommender/tables/dfTop5Prod13Mar\", mode='overwrite')"
   ]
  },
  {
   "cell_type": "code",
   "execution_count": 28,
   "metadata": {
    "collapsed": true
   },
   "outputs": [],
   "source": [
    "dfTop5Prod=spark.read.parquet(\"/analytics/bc2_recommender/tables/dfTop5Prod13Mar\")"
   ]
  },
  {
   "cell_type": "code",
   "execution_count": 33,
   "metadata": {},
   "outputs": [
    {
     "name": "stdout",
     "output_type": "stream",
     "text": [
      "+----------+--------------+--------------------+-----------+--------------------+------+-----+\n",
      "|prediction|PRF_CD_FAMILIA|      PRF_DS_FAMILIA|IVA_CD_ITEM|         IVA_DS_ITEM|RATING|orden|\n",
      "+----------+--------------+--------------------+-----------+--------------------+------+-----+\n",
      "|         0|      20253453|    COMBOS CAFETERIA|    8679681|COMBO PAO MANTEIG...|    19|    1|\n",
      "|         0|      20253453|    COMBOS CAFETERIA|    9392190|             COMBO 4|    17|    2|\n",
      "|         0|      20253453|    COMBOS CAFETERIA|    9392564|             COMBO 9|    17|    3|\n",
      "|         0|      20253453|    COMBOS CAFETERIA|    9392602|            COMBO 13|    11|    4|\n",
      "|         0|      20253453|    COMBOS CAFETERIA|    8683360|COMBO PAO QUEIJO ...|     4|    5|\n",
      "|         0|      30381356|DORMITORIO SACOS ...|    9600809|SACO DE DORMIR C ...|    75|    1|\n",
      "|         0|      30381356|DORMITORIO SACOS ...|    9574212|SACO DE DORMIR CR...|    53|    2|\n",
      "|         0|      30381356|DORMITORIO SACOS ...|    9148540|SACO DE DORMIR CR...|    18|    3|\n",
      "|         0|      30381356|DORMITORIO SACOS ...|    9100253|SACO DE DORMIR 19...|    17|    4|\n",
      "|         1|      30372909|COMPL MESA CONJUNTOS|    9630562|JG LANCHE DEC POR...|     1|    1|\n",
      "|         1|      30373040|OUTROS FILME PVC ...|    9446370|FILME PVC CRF  15 CM|    66|    1|\n",
      "|         1|      30373040|OUTROS FILME PVC ...|    5090660|FILME DE PVC 28CM...|    51|    2|\n",
      "|         1|      30373040|OUTROS FILME PVC ...|    7291531|FILME PVC 0.28X15...|    21|    3|\n",
      "|         1|      30373040|OUTROS FILME PVC ...|    9459421|FILME PVC 028 X 1...|    14|    4|\n",
      "|         1|      30373040|OUTROS FILME PVC ...|    9563962|FILME PVC 15 RMB ...|     3|    5|\n",
      "|         1|      30384401|ACESSORIOS PARA V...|    9778101|TRAVESSEIRO PARA ...|    16|    1|\n",
      "|         1|      30384401|ACESSORIOS PARA V...|    9621946|CJ CINTA PROTECAO...|    13|    2|\n",
      "|         1|      30384401|ACESSORIOS PARA V...|    9425993|CAPA PROTECAO MAL...|     9|    3|\n",
      "|         1|      30384401|ACESSORIOS PARA V...|    9879153|CJ CINTA PARA MAL...|     5|    4|\n",
      "|         1|      30384401|ACESSORIOS PARA V...|    9425985|CAPA PROTECAO MAL...|     4|    5|\n",
      "+----------+--------------+--------------------+-----------+--------------------+------+-----+\n",
      "only showing top 20 rows\n",
      "\n"
     ]
    }
   ],
   "source": [
    "dfTop5Prod.show(20)"
   ]
  },
  {
   "cell_type": "code",
   "execution_count": 37,
   "metadata": {},
   "outputs": [
    {
     "name": "stdout",
     "output_type": "stream",
     "text": [
      "+----------+--------------+--------------------------+-----------+------------------------------------+------+-----+\n",
      "|prediction|PRF_CD_FAMILIA|PRF_DS_FAMILIA            |IVA_CD_ITEM|IVA_DS_ITEM                         |RATING|orden|\n",
      "+----------+--------------+--------------------------+-----------+------------------------------------+------+-----+\n",
      "|0         |30381356      |DORMITORIO SACOS DE DORMIR|9600809    |SACO DE DORMIR C COLCHONETE DUOCAMP |75    |1    |\n",
      "|0         |30381356      |DORMITORIO SACOS DE DORMIR|9574212    |SACO DE DORMIR CRF 217X75CM OD043957|53    |2    |\n",
      "|0         |30381356      |DORMITORIO SACOS DE DORMIR|9148540    |SACO DE DORMIR CRF 175X170XM        |18    |3    |\n",
      "|0         |30381356      |DORMITORIO SACOS DE DORMIR|9100253    |SACO DE DORMIR 190X75CM             |17    |4    |\n",
      "|2         |30381356      |DORMITORIO SACOS DE DORMIR|9600809    |SACO DE DORMIR C COLCHONETE DUOCAMP |11    |1    |\n",
      "|2         |30381356      |DORMITORIO SACOS DE DORMIR|9574212    |SACO DE DORMIR CRF 217X75CM OD043957|9     |2    |\n",
      "|2         |30381356      |DORMITORIO SACOS DE DORMIR|9100253    |SACO DE DORMIR 190X75CM             |5     |3    |\n",
      "|2         |30381356      |DORMITORIO SACOS DE DORMIR|9148540    |SACO DE DORMIR CRF 175X170XM        |1     |4    |\n",
      "|16        |30381356      |DORMITORIO SACOS DE DORMIR|9574212    |SACO DE DORMIR CRF 217X75CM OD043957|6     |1    |\n",
      "|16        |30381356      |DORMITORIO SACOS DE DORMIR|9600809    |SACO DE DORMIR C COLCHONETE DUOCAMP |5     |2    |\n",
      "|16        |30381356      |DORMITORIO SACOS DE DORMIR|9148540    |SACO DE DORMIR CRF 175X170XM        |2     |3    |\n",
      "|6         |30381356      |DORMITORIO SACOS DE DORMIR|9574212    |SACO DE DORMIR CRF 217X75CM OD043957|4     |1    |\n",
      "|6         |30381356      |DORMITORIO SACOS DE DORMIR|9600809    |SACO DE DORMIR C COLCHONETE DUOCAMP |4     |2    |\n",
      "|6         |30381356      |DORMITORIO SACOS DE DORMIR|9148540    |SACO DE DORMIR CRF 175X170XM        |2     |3    |\n",
      "|6         |30381356      |DORMITORIO SACOS DE DORMIR|9100253    |SACO DE DORMIR 190X75CM             |1     |4    |\n",
      "|13        |30381356      |DORMITORIO SACOS DE DORMIR|9574212    |SACO DE DORMIR CRF 217X75CM OD043957|9     |1    |\n",
      "|13        |30381356      |DORMITORIO SACOS DE DORMIR|9600809    |SACO DE DORMIR C COLCHONETE DUOCAMP |3     |2    |\n",
      "|13        |30381356      |DORMITORIO SACOS DE DORMIR|9148540    |SACO DE DORMIR CRF 175X170XM        |2     |3    |\n",
      "|19        |30381356      |DORMITORIO SACOS DE DORMIR|9574212    |SACO DE DORMIR CRF 217X75CM OD043957|3     |1    |\n",
      "|19        |30381356      |DORMITORIO SACOS DE DORMIR|9600809    |SACO DE DORMIR C COLCHONETE DUOCAMP |3     |2    |\n",
      "+----------+--------------+--------------------------+-----------+------------------------------------+------+-----+\n",
      "only showing top 20 rows\n",
      "\n"
     ]
    }
   ],
   "source": [
    "dfTop5Prod.where(dfTop5Prod.PRF_CD_FAMILIA=='30381356').show(20, False)"
   ]
  },
  {
   "cell_type": "code",
   "execution_count": 97,
   "metadata": {},
   "outputs": [
    {
     "data": {
      "text/plain": [
       "305007"
      ]
     },
     "execution_count": 97,
     "metadata": {},
     "output_type": "execute_result"
    }
   ],
   "source": [
    "dfTop5Prod.select('prediction','PRF_CD_FAMILIA').count()"
   ]
  },
  {
   "cell_type": "markdown",
   "metadata": {},
   "source": [
    "### ALS"
   ]
  },
  {
   "cell_type": "code",
   "execution_count": 99,
   "metadata": {
    "collapsed": true
   },
   "outputs": [],
   "source": [
    "als = ALS(rank=10, maxIter=5, userCol=\"userid\", itemCol=\"itemid\", seed=0, ratingCol=\"RATING\", implicitPrefs=True,nonnegative=True)"
   ]
  },
  {
   "cell_type": "code",
   "execution_count": 100,
   "metadata": {},
   "outputs": [],
   "source": [
    "model = als.fit(dfRecommender2)"
   ]
  },
  {
   "cell_type": "code",
   "execution_count": 101,
   "metadata": {},
   "outputs": [
    {
     "data": {
      "text/plain": [
       "10"
      ]
     },
     "execution_count": 101,
     "metadata": {},
     "output_type": "execute_result"
    }
   ],
   "source": [
    "model.rank"
   ]
  },
  {
   "cell_type": "code",
   "execution_count": 102,
   "metadata": {
    "scrolled": true
   },
   "outputs": [
    {
     "name": "stdout",
     "output_type": "stream",
     "text": [
      "+-----+----------------------------------------------------------------------------------------------------------------------------------------+\n",
      "|id   |features                                                                                                                                |\n",
      "+-----+----------------------------------------------------------------------------------------------------------------------------------------+\n",
      "|10   |[0.04950075, 0.035951197, 0.0046184477, -0.2548798, -0.40663978, -0.42311248, 0.15018618, -0.05456966, -0.13830426, -0.3845248]         |\n",
      "|40   |[-7.01544E-4, -0.42246595, -0.20613185, -0.5613107, -0.1749761, -0.32426882, 0.27154428, 0.080042824, 0.06424383, 0.18926226]           |\n",
      "|64380|[0.0035406428, 0.0063627376, -0.0064999606, 4.639617E-4, -0.0014300647, 0.006610941, 0.005155592, 9.41042E-4, 9.152727E-4, 0.0020115033]|\n",
      "|64430|[0.03535261, 0.07707989, 0.004762779, 0.07295724, -0.037575953, 0.013370853, -0.03388767, 0.005844283, 0.012891655, 7.330683E-5]        |\n",
      "|64760|[-0.34861493, 0.04763895, -0.17922126, -0.1163446, -0.18283348, 0.13026734, 0.21806248, 0.1330053, 0.012589337, -0.19064848]            |\n",
      "|64860|[-0.07948481, 0.15465152, 0.0141206, -0.005417724, -0.14377294, -0.014497605, 0.023445172, 0.012290368, 0.08749119, 0.08105697]         |\n",
      "|64880|[0.20353408, -0.06479321, 0.12885615, -0.29997557, -0.32752514, -0.2583536, 0.31890997, -0.14269207, -0.21466652, 0.049195636]          |\n",
      "|65050|[0.21127236, 0.3466755, -0.42083728, -0.010265339, -0.3124179, -0.45057365, 0.048329007, 0.19440979, 0.10767784, -0.39953193]           |\n",
      "|65200|[0.3007504, 0.18647341, -0.19159484, -0.16511893, -0.08323169, 0.3006859, 0.086834155, 0.24587327, -0.09760817, 0.15048236]             |\n",
      "|65250|[0.1943842, 0.23009917, -0.3691617, -0.42377537, -0.2781179, -0.2108325, 0.3463711, -0.08712669, 0.052080862, 0.33344632]               |\n",
      "|65320|[-0.060109816, -0.1199387, -0.33124483, -0.045046005, -0.22763506, -0.096591085, 0.22164524, -0.03899894, -0.04336772, -0.049150225]    |\n",
      "|65340|[-0.08732827, -0.06065081, -0.2828826, -0.21997415, -0.56994, 0.055174716, -0.124546275, -0.032017227, -0.111345544, -0.42001477]       |\n",
      "|65470|[0.15287063, 0.49698517, -0.06839423, -0.2611363, -0.044252414, -0.30936533, 0.13165455, -0.07268917, -0.052725866, -0.6295419]         |\n",
      "|65870|[-0.048129205, -0.09457635, -0.06581462, -0.20065753, -0.049058244, -0.10183511, 0.04886487, 0.044824988, -0.016606143, 0.053190548]    |\n",
      "|65960|[-0.038335938, 2.2666293E-4, -0.122234985, -0.052653797, 0.07197761, -0.019255262, 0.15969726, 0.15655516, -0.021449076, 0.006760797]   |\n",
      "|66080|[0.11251708, -0.017780783, -0.037644915, -0.051877137, -0.011009705, -0.07259944, 0.113374315, -0.09963937, 0.0121159945, 0.04412802]   |\n",
      "|66270|[0.23972319, 0.14075436, -0.18464985, -0.094880156, -0.03718835, 0.27455604, 0.077178754, 0.21020865, -0.09534178, 0.07906012]          |\n",
      "|66520|[0.033573058, 0.049208734, 0.023671875, 0.023655234, -0.025398275, -0.026633969, -8.196844E-4, -0.011984391, 0.029406546, 0.04518673]   |\n",
      "|66550|[0.11285303, 0.17988318, -0.20864794, 0.2572252, -0.47071165, -0.05550938, 0.08255237, -0.32894364, 0.01427401, 0.040134247]            |\n",
      "|66650|[-0.22792487, 0.03467284, -0.26654482, 0.19641398, 0.058820903, 0.044451665, 0.054058645, 0.10885629, -0.08729305, 0.0623018]           |\n",
      "+-----+----------------------------------------------------------------------------------------------------------------------------------------+\n",
      "only showing top 20 rows\n",
      "\n"
     ]
    }
   ],
   "source": [
    "model.userFactors.show(truncate=False)"
   ]
  },
  {
   "cell_type": "code",
   "execution_count": 56,
   "metadata": {
    "collapsed": true
   },
   "outputs": [],
   "source": [
    "test = spark.createDataFrame([ (12538315, 10126423),(13627517, 90930103),(4, 10105417) ], [\"userid\", \"itemid\"])"
   ]
  },
  {
   "cell_type": "code",
   "execution_count": 57,
   "metadata": {
    "collapsed": true
   },
   "outputs": [],
   "source": [
    "testTrans=model.transform(test)"
   ]
  },
  {
   "cell_type": "code",
   "execution_count": 58,
   "metadata": {},
   "outputs": [
    {
     "name": "stdout",
     "output_type": "stream",
     "text": [
      "+--------+--------+-------------+\n",
      "|  userid|  itemid|   prediction|\n",
      "+--------+--------+-------------+\n",
      "|12538315|10126423|      0.60689|\n",
      "|13627517|90930103|1.30799635E-5|\n",
      "|       4|10105417|   0.09522386|\n",
      "+--------+--------+-------------+\n",
      "\n"
     ]
    }
   ],
   "source": [
    "testTrans.show()"
   ]
  },
  {
   "cell_type": "code",
   "execution_count": 104,
   "metadata": {
    "scrolled": true
   },
   "outputs": [],
   "source": [
    "dfTransformedTest=model.transform(dfRecommenderTest2)"
   ]
  },
  {
   "cell_type": "code",
   "execution_count": 115,
   "metadata": {},
   "outputs": [
    {
     "data": {
      "text/plain": [
       "22636864"
      ]
     },
     "execution_count": 115,
     "metadata": {},
     "output_type": "execute_result"
    }
   ],
   "source": [
    "dfTransformedTest.persist().count()"
   ]
  },
  {
   "cell_type": "code",
   "execution_count": 105,
   "metadata": {
    "scrolled": false
   },
   "outputs": [
    {
     "name": "stdout",
     "output_type": "stream",
     "text": [
      "root\n",
      " |-- userid: long (nullable = true)\n",
      " |-- itemid: long (nullable = true)\n",
      " |-- PRF_DS_FAMILIA: string (nullable = true)\n",
      " |-- RATING: long (nullable = true)\n",
      " |-- prediction: float (nullable = true)\n",
      "\n"
     ]
    }
   ],
   "source": [
    "dfTransformedTest.printSchema()"
   ]
  },
  {
   "cell_type": "code",
   "execution_count": 157,
   "metadata": {
    "scrolled": true
   },
   "outputs": [],
   "source": [
    "dfTransformedTrain=model.transform(dfRecommender2)"
   ]
  },
  {
   "cell_type": "code",
   "execution_count": 158,
   "metadata": {},
   "outputs": [
    {
     "data": {
      "text/plain": [
       "83096133"
      ]
     },
     "execution_count": 158,
     "metadata": {},
     "output_type": "execute_result"
    }
   ],
   "source": [
    "dfTransformedTrain.persist().count()"
   ]
  },
  {
   "cell_type": "code",
   "execution_count": 127,
   "metadata": {
    "scrolled": true
   },
   "outputs": [
    {
     "name": "stdout",
     "output_type": "stream",
     "text": [
      "root\n",
      " |-- userid: long (nullable = true)\n",
      " |-- itemid: long (nullable = true)\n",
      " |-- PRF_DS_FAMILIA: string (nullable = true)\n",
      " |-- RATING: long (nullable = true)\n",
      " |-- prediction: float (nullable = true)\n",
      "\n"
     ]
    }
   ],
   "source": [
    "dfTransformedTrain.printSchema()"
   ]
  },
  {
   "cell_type": "markdown",
   "metadata": {},
   "source": [
    "### Evaluations methods"
   ]
  },
  {
   "cell_type": "markdown",
   "metadata": {},
   "source": [
    "#### Method 1: Global formula"
   ]
  },
  {
   "cell_type": "code",
   "execution_count": 106,
   "metadata": {
    "collapsed": true
   },
   "outputs": [],
   "source": [
    "class RankBasedEvaluator():\n",
    "    def __init__(self, user_col, rating_col, prediction_col):\n",
    "        self._user_col = user_col\n",
    "        self._rating_col = rating_col\n",
    "        self._prediction_col = prediction_col\n",
    "\n",
    "    def evaluate(self, spark, predictions):\n",
    "        # I filter out NaN predictions\n",
    "        predictions = predictions.filter(\"NOT ISNAN({0})\".format(self._prediction_col))\n",
    "        predictions.createOrReplaceTempView(\"predictions\")\n",
    "\n",
    "        denominator = predictions.groupBy().sum(self._rating_col).collect()[0][0]\n",
    "\n",
    "        spark.sql(\"\"\"SELECT {0}\n",
    "                          , {1}\n",
    "                          , PERCENT_RANK() OVER (PARTITION BY {0} ORDER BY {2} DESC) AS rank\n",
    "                     FROM predictions\"\"\".format(self._user_col, self._rating_col,\n",
    "                                                self._prediction_col)) \\\n",
    "             .createOrReplaceTempView(\"ratings_with_ranks\")\n",
    "        numerator = spark.sql(\"\"\"SELECT SUM({0} * rank)\n",
    "                                 FROM ratings_with_ranks\"\"\".format(self._rating_col)) \\\n",
    "                           .collect()[0][0]\n",
    "\n",
    "        return numerator / denominator\n",
    "\n",
    "    def transform_evaluate(self, spark, model, df):\n",
    "        predictions = model.transform(df)\n",
    "        return self.evaluate(spark, predictions)"
   ]
  },
  {
   "cell_type": "markdown",
   "metadata": {},
   "source": [
    "#### Method 2: Averaging by customer"
   ]
  },
  {
   "cell_type": "code",
   "execution_count": 110,
   "metadata": {
    "collapsed": true
   },
   "outputs": [],
   "source": [
    "class RankBasedEvaluator2():\n",
    "    def __init__(self, user_col, rating_col, prediction_col):\n",
    "        self._user_col = user_col\n",
    "        self._rating_col = rating_col\n",
    "        self._prediction_col = prediction_col\n",
    "\n",
    "    def evaluate(self, spark, predictions):\n",
    "        predictions.createOrReplaceTempView(\"original_predictions\")\n",
    "        # I filter out NaN predictions\n",
    "        spark.sql(\"\"\"SELECT *\n",
    "                     FROM original_predictions\n",
    "                     WHERE NOT ISNAN({0})\"\"\".format(self._prediction_col)) \\\n",
    "             .createOrReplaceTempView(\"predictions\")\n",
    "        spark.sql(\"\"\"SELECT {0}\n",
    "                          , SUM({1}) as rating_sum\n",
    "                     FROM predictions\n",
    "                     GROUP BY {0}\"\"\".format(self._user_col, self._rating_col)) \\\n",
    "             .createOrReplaceTempView(\"rating_sums\")\n",
    "        spark.sql(\"\"\"SELECT {0}\n",
    "                          , {1}\n",
    "                          , PERCENT_RANK() OVER (PARTITION BY {0} ORDER BY {2} DESC) AS rank\n",
    "                     FROM predictions\"\"\".format(self._user_col, self._rating_col,\n",
    "                                                self._prediction_col)) \\\n",
    "             .createOrReplaceTempView(\"ratings_with_ranks\")\n",
    "        spark.sql(\"\"\"SELECT {0},\n",
    "                     SUM({1} * rank) AS weighted_sum\n",
    "                     FROM ratings_with_ranks\n",
    "                     GROUP BY {0}\"\"\".format(self._user_col, self._rating_col)) \\\n",
    "             .createOrReplaceTempView(\"weighted_rating_sums\")\n",
    "        spark.sql(\"\"\"SELECT weighted_rating_sums.*, rating_sums.rating_sum\n",
    "                     FROM weighted_rating_sums\n",
    "                     JOIN rating_sums\n",
    "                       ON weighted_rating_sums.{0} = rating_sums.{0}\"\"\".format(self._user_col)) \\\n",
    "             .createOrReplaceTempView(\"joined_sums\")\n",
    "\n",
    "        result = spark.sql(\"\"\"SELECT AVG(weighted_sum / rating_sum)\n",
    "                              FROM joined_sums\"\"\")\n",
    "\n",
    "        return result.collect()[0][0]\n",
    "\n",
    "    def transform_evaluate(self, spark, model, df):\n",
    "        predictions = model.transform(df)\n",
    "        return self.evaluate(spark, predictions)"
   ]
  },
  {
   "cell_type": "markdown",
   "metadata": {},
   "source": [
    "#### Evaluations"
   ]
  },
  {
   "cell_type": "code",
   "execution_count": 107,
   "metadata": {
    "collapsed": true
   },
   "outputs": [],
   "source": [
    "evaluator=RankBasedEvaluator('userid','RATING','prediction')"
   ]
  },
  {
   "cell_type": "code",
   "execution_count": 108,
   "metadata": {},
   "outputs": [
    {
     "data": {
      "text/plain": [
       "0.4690345534762214"
      ]
     },
     "execution_count": 108,
     "metadata": {},
     "output_type": "execute_result"
    }
   ],
   "source": [
    "evaluator.evaluate(spark,dfTransformedTest)"
   ]
  },
  {
   "cell_type": "code",
   "execution_count": 111,
   "metadata": {},
   "outputs": [],
   "source": [
    "evaluator2=RankBasedEvaluator2('userid','RATING','prediction')"
   ]
  },
  {
   "cell_type": "code",
   "execution_count": 113,
   "metadata": {
    "scrolled": true
   },
   "outputs": [
    {
     "data": {
      "text/plain": [
       "0.4111913770984898"
      ]
     },
     "execution_count": 113,
     "metadata": {},
     "output_type": "execute_result"
    }
   ],
   "source": [
    "evaluator2.evaluate(spark,dfTransformedTest)"
   ]
  },
  {
   "cell_type": "code",
   "execution_count": 120,
   "metadata": {
    "scrolled": true
   },
   "outputs": [
    {
     "data": {
      "text/plain": [
       "13040148"
      ]
     },
     "execution_count": 120,
     "metadata": {},
     "output_type": "execute_result"
    }
   ],
   "source": [
    "dfTransformedTest.filter(\"NOT ISNAN(prediction)\").where(col('prediction')<0.5).count()"
   ]
  },
  {
   "cell_type": "code",
   "execution_count": 128,
   "metadata": {},
   "outputs": [
    {
     "name": "stdout",
     "output_type": "stream",
     "text": [
      "+-------+-----------------+--------------------+--------------------+-----------------+-------------------+\n",
      "|summary|           userid|              itemid|      PRF_DS_FAMILIA|           RATING|         prediction|\n",
      "+-------+-----------------+--------------------+--------------------+-----------------+-------------------+\n",
      "|  count|         83096133|            83096133|            83096133|         83096133|           83096133|\n",
      "|   mean|7077693.071688787| 1.625423277291154E7|                null|1.913286951632274|0.37900755572742645|\n",
      "| stddev|4537729.256233302|1.1175433091491835E7|                null| 2.24607336990005| 0.2806633680101887|\n",
      "|    min|                4|            10105408|0 A 12 MESES BERMUDA|                1|        -0.46625134|\n",
      "|    max|         13627517|            90930103|  XAROPE OUTRO SABOR|              973|          1.6338861|\n",
      "+-------+-----------------+--------------------+--------------------+-----------------+-------------------+\n",
      "\n"
     ]
    }
   ],
   "source": [
    "dfTransformedTrain.describe().show()"
   ]
  },
  {
   "cell_type": "code",
   "execution_count": 129,
   "metadata": {},
   "outputs": [
    {
     "data": {
      "text/plain": [
       "0.4143286927517335"
      ]
     },
     "execution_count": 129,
     "metadata": {},
     "output_type": "execute_result"
    }
   ],
   "source": [
    "evaluator.evaluate(spark,dfTransformedTrain)"
   ]
  },
  {
   "cell_type": "code",
   "execution_count": 130,
   "metadata": {
    "scrolled": true
   },
   "outputs": [
    {
     "data": {
      "text/plain": [
       "0.40166638710275415"
      ]
     },
     "execution_count": 130,
     "metadata": {},
     "output_type": "execute_result"
    }
   ],
   "source": [
    "evaluator2.evaluate(spark,dfTransformedTrain)"
   ]
  },
  {
   "cell_type": "markdown",
   "metadata": {},
   "source": [
    "#### Best parameters"
   ]
  },
  {
   "cell_type": "code",
   "execution_count": 148,
   "metadata": {
    "collapsed": true
   },
   "outputs": [],
   "source": [
    "ranks=[10,20]"
   ]
  },
  {
   "cell_type": "code",
   "execution_count": 149,
   "metadata": {
    "collapsed": true
   },
   "outputs": [],
   "source": [
    "lambdas=[0.01,0.1]"
   ]
  },
  {
   "cell_type": "code",
   "execution_count": 150,
   "metadata": {
    "collapsed": true
   },
   "outputs": [],
   "source": [
    "alphas=[1.0,5.0]"
   ]
  },
  {
   "cell_type": "code",
   "execution_count": 151,
   "metadata": {
    "scrolled": true
   },
   "outputs": [
    {
     "name": "stdout",
     "output_type": "stream",
     "text": [
      "Rango 10, lambda 0.01, alpha 1.0 -> 0.46821695914331757\n",
      "Rango 10, lambda 0.01, alpha 5.0 -> 0.4719210233214084\n",
      "Rango 10, lambda 0.1, alpha 1.0 -> 0.46755560938381885\n",
      "Rango 10, lambda 0.1, alpha 5.0 -> 0.46786484076303353\n",
      "Rango 20, lambda 0.01, alpha 1.0 -> 0.4654762274748008\n",
      "Rango 20, lambda 0.01, alpha 5.0 -> 0.0\n",
      "Rango 20, lambda 0.1, alpha 1.0 -> 0.4657528228841245\n",
      "Rango 20, lambda 0.1, alpha 5.0 -> 0.4726229164961475\n"
     ]
    }
   ],
   "source": [
    "for rank in ranks:\n",
    "    for lambd in lambdas:\n",
    "        for alpha in alphas:\n",
    "            als = ALS(rank=rank, maxIter=10, userCol=\"userid\", itemCol=\"itemid\", seed=0, ratingCol=\"RATING\", \\\n",
    "                      implicitPrefs=True, regParam=lambd,alpha=alpha,nonnegative=True )\n",
    "            model = als.fit(dfRecommender2)\n",
    "            dfTransformedTest=model.transform(dfRecommenderTest2)\n",
    "            dfTransformedTest.persist().count()\n",
    "            evaluacion=evaluator.evaluate(spark,dfTransformedTest)\n",
    "            dfTransformedTest.unpersist()\n",
    "            print(\"Rango {0}, lambda {1}, alpha {2} -> {3}\".format(rank,lambd,alpha,evaluacion))\n",
    "            \n",
    "            "
   ]
  },
  {
   "cell_type": "code",
   "execution_count": 156,
   "metadata": {},
   "outputs": [
    {
     "name": "stdout",
     "output_type": "stream",
     "text": [
      "+--------+--------------------+\n",
      "|      id|            features|\n",
      "+--------+--------------------+\n",
      "|10105410|[0.0, 0.22157684,...|\n",
      "|10105420|[0.058929723, 0.2...|\n",
      "|10107820|[0.0, 0.1795444, ...|\n",
      "|10107930|[0.039082967, 0.0...|\n",
      "|10108310|[0.026259428, 0.1...|\n",
      "+--------+--------------------+\n",
      "only showing top 5 rows\n",
      "\n"
     ]
    }
   ],
   "source": [
    "model.itemFactors.show(5)"
   ]
  },
  {
   "cell_type": "code",
   "execution_count": 38,
   "metadata": {
    "collapsed": true
   },
   "outputs": [],
   "source": [
    "als = ALS(rank=10, maxIter=10, userCol=\"userid\", itemCol=\"itemid\", seed=0, ratingCol=\"RATING\", \\\n",
    "                      implicitPrefs=True, regParam=0.1,alpha=1,nonnegative=True)"
   ]
  },
  {
   "cell_type": "code",
   "execution_count": 39,
   "metadata": {
    "collapsed": true
   },
   "outputs": [],
   "source": [
    "model = als.fit(dfRecommender2)"
   ]
  },
  {
   "cell_type": "code",
   "execution_count": 49,
   "metadata": {},
   "outputs": [
    {
     "data": {
      "text/plain": [
       "22636864"
      ]
     },
     "execution_count": 49,
     "metadata": {},
     "output_type": "execute_result"
    }
   ],
   "source": [
    "dfTransformedTest=model.transform(dfRecommenderTest2)\n",
    "dfTransformedTest.persist().count()\n"
   ]
  },
  {
   "cell_type": "code",
   "execution_count": 64,
   "metadata": {},
   "outputs": [
    {
     "name": "stdout",
     "output_type": "stream",
     "text": [
      "+-------+--------+--------------------+------+------------+\n",
      "| userid|  itemid|      PRF_DS_FAMILIA|RATING|  prediction|\n",
      "+-------+--------+--------------------+------+------------+\n",
      "| 273827|20232911|       MASSA FRANCES|    32|  0.95777994|\n",
      "| 295075|10148434|            NATALINA|    34|         NaN|\n",
      "| 325924|30391504|   RACAO UMIDA SACHE|   106|   0.9946916|\n",
      "| 326802|30391504|   RACAO UMIDA SACHE|    39|    0.959075|\n",
      "| 333285|10126918|     ESMALTE REGULAR|    38|0.0013956989|\n",
      "| 358812|20225301|        CONVENCIONAL|    34|   1.0422972|\n",
      "| 369261|20225301|        CONVENCIONAL|    33|    1.051559|\n",
      "| 378325|30391504|   RACAO UMIDA SACHE|    56|    1.097845|\n",
      "| 402253|10148434|            NATALINA|    37|         NaN|\n",
      "| 442117|10142123|TORRADO MOIDO ALM...|    44|  0.82005084|\n",
      "| 456314|10148433|              BASICA|    32|   0.5725901|\n",
      "| 459646|20253506|   ROTISSERIA GRANEL|    43|  0.44298536|\n",
      "| 505707|20253506|   ROTISSERIA GRANEL|    32|  0.38199434|\n",
      "| 508314|30391403|   RACAO UMIDA SACHE|    33|   0.8897452|\n",
      "| 516853|30391504|   RACAO UMIDA SACHE|    37|    0.971701|\n",
      "| 556674|30391504|   RACAO UMIDA SACHE|    31|   0.9571763|\n",
      "| 603411|10148433|              BASICA|    32|  0.45063344|\n",
      "| 606059|30391504|   RACAO UMIDA SACHE|    37|  0.89569646|\n",
      "| 628293|20225301|        CONVENCIONAL|    38|   1.0145302|\n",
      "| 657925|30384503|            ENFEITES|    36|0.0012665072|\n",
      "| 732087|10156443|    LIQUIDO ATE 399G|    36|   0.7177345|\n",
      "| 762802|10148434|            NATALINA|    34|         NaN|\n",
      "| 794315|20225301|        CONVENCIONAL|    37|   1.0684316|\n",
      "| 857510|30383911|FLORES PLANTAS FL...|    37|  0.89700705|\n",
      "| 860290|30391504|   RACAO UMIDA SACHE|    56|   1.0123676|\n",
      "| 883815|10147711|CHOCOLATE TABLETE...|    32|  0.42105323|\n",
      "| 959351|30391504|   RACAO UMIDA SACHE|    73|   1.0051329|\n",
      "| 961627|30391504|   RACAO UMIDA SACHE|    34|   0.9106267|\n",
      "| 962536|20232911|       MASSA FRANCES|    33|   0.9162124|\n",
      "| 963105|10109032|         TINTO CHILE|    31|  0.03648513|\n",
      "| 963697|10148433|              BASICA|    32| 0.046865698|\n",
      "| 966637|30384503|            ENFEITES|    37|0.0024058013|\n",
      "| 976979|10126918|     ESMALTE REGULAR|    32| 0.054396212|\n",
      "| 980152|10144208|    EXTRUSADOS TRIGO|    32|   0.7020099|\n",
      "|1058338|10126918|     ESMALTE REGULAR|    32|  0.21528669|\n",
      "|1094242|10105419|       TRAD POP LATA|    32|   1.0702307|\n",
      "|1186192|30391504|   RACAO UMIDA SACHE|    46|  0.99404645|\n",
      "|1198005|20225301|        CONVENCIONAL|    39|   1.0234753|\n",
      "|1214025|10126918|     ESMALTE REGULAR|    46|  0.20846269|\n",
      "|1216078|10144207|    EXTRUSADOS MILHO|    32|   1.0857185|\n",
      "|1242582|10126918|     ESMALTE REGULAR|    68|  0.41609392|\n",
      "|1250557|20225301|        CONVENCIONAL|    52|   1.0362874|\n",
      "|1250557|20225402|            LARANJAS|    37|   0.9690867|\n",
      "|1259939|10148434|            NATALINA|    32|         NaN|\n",
      "|1271647|10141603|    BRANCO ACIMA 1KG|    33|    0.770083|\n",
      "|1284583|10142123|TORRADO MOIDO ALM...|    34|  0.37643883|\n",
      "|1297093|30384503|            ENFEITES|    42|0.0016689028|\n",
      "|1318204|10148433|              BASICA|    32|   0.5643216|\n",
      "|1324706|10126918|     ESMALTE REGULAR|    31|  0.13486406|\n",
      "|1370416|10126918|     ESMALTE REGULAR|    35|  0.39743966|\n",
      "|1418047|30391504|   RACAO UMIDA SACHE|    38|   0.9409122|\n",
      "|1571582|10126918|     ESMALTE REGULAR|    36| 0.023351537|\n",
      "|1619010|10142123|TORRADO MOIDO ALM...|    42|   0.4830867|\n",
      "|1662403|30384503|            ENFEITES|    38| 2.041336E-4|\n",
      "|1703068|10148434|            NATALINA|    34|         NaN|\n",
      "|1754652|20225301|        CONVENCIONAL|    32|   1.0666033|\n",
      "|1766620|10127102|FOLHA DUPL 13 A 1...|    32|  0.36445662|\n",
      "|1773589|10105419|       TRAD POP LATA|    54|  0.98626375|\n",
      "|1818929|30384503|            ENFEITES|    44|2.1732385E-4|\n",
      "|1836045|30391504|   RACAO UMIDA SACHE|    54|  0.88228667|\n",
      "|2118324|10126918|     ESMALTE REGULAR|    32|         NaN|\n",
      "|2277012|30391504|   RACAO UMIDA SACHE|    60|   0.9367657|\n",
      "|2387066|10107923|    WHISKY IMPORTADO|    34| 0.030660007|\n",
      "|2415898|30383911|FLORES PLANTAS FL...|    49|   0.9525719|\n",
      "|2421659|10115620|      ROUPA COMUM PO|    46|  0.13300255|\n",
      "|2430097|10115620|      ROUPA COMUM PO|    39|   0.6730922|\n",
      "|2469864|30391504|   RACAO UMIDA SACHE|    35|   1.0758597|\n",
      "|2678667|70510103|    ALCOOL HIDRATADO|    39|   0.9409416|\n",
      "|2691645|10105419|       TRAD POP LATA|    34|  0.91853476|\n",
      "|2793174|20243719|FRANGO INTEIRO E ...|    40|  0.94785833|\n",
      "|2842699|10148433|              BASICA|    32|0.0028708866|\n",
      "|2855089|30391504|   RACAO UMIDA SACHE|    45|   0.9814284|\n",
      "|2872058|10145601|                SOJA|    32|  0.79297423|\n",
      "|2929837|10105419|       TRAD POP LATA|    31|   0.1328989|\n",
      "|2986688|30383911|FLORES PLANTAS FL...|    32|  0.98631895|\n",
      "|3049893|10142123|TORRADO MOIDO ALM...|   106|  0.65570045|\n",
      "|3094564|10148433|              BASICA|    32|  0.09054109|\n",
      "|3189135|20225710|                ALHO|    36|  0.89935905|\n",
      "|3378358|10148434|            NATALINA|    32|         NaN|\n",
      "|3468411|10148433|              BASICA|    31|   0.7699758|\n",
      "|3486726|10105415|SELECIONADAS INTE...|    41|   0.9147816|\n",
      "|3486726|10105419|       TRAD POP LATA|    54|   0.9811405|\n",
      "|3773579|10109032|         TINTO CHILE|    57|  0.06637685|\n",
      "|4254117|10148433|              BASICA|    32|   0.5725901|\n",
      "|4405824|30383911|FLORES PLANTAS FL...|    32|  0.94406843|\n",
      "|4428800|20225301|        CONVENCIONAL|    32|   1.0453283|\n",
      "|4443962|10148433|              BASICA|    32|  0.36464614|\n",
      "|4450025|10109023|   BRANCO ROSE CHILE|    33|  0.21775305|\n",
      "|4467134|50652104|TOALHA DE BANHO R...|    32|  0.52152056|\n",
      "|4612947|30391504|   RACAO UMIDA SACHE|    32|   1.0920787|\n",
      "|4665146|30391504|   RACAO UMIDA SACHE|    31|   0.9341787|\n",
      "|4721231|10105419|       TRAD POP LATA|    32|  0.27332914|\n",
      "|4848489|30391504|   RACAO UMIDA SACHE|    37|   1.0613481|\n",
      "|4862169|10142123|TORRADO MOIDO ALM...|    39|  0.65344894|\n",
      "|4863059|30391504|   RACAO UMIDA SACHE|    53|   1.0123407|\n",
      "|4932511|10105419|       TRAD POP LATA|    43|  0.94573563|\n",
      "|5003224|10126918|     ESMALTE REGULAR|    42|   0.3011988|\n",
      "|5017470|20232911|       MASSA FRANCES|    32|  0.75441015|\n",
      "|5018898|30384503|            ENFEITES|    58| 0.008299173|\n",
      "|5023903|30383911|FLORES PLANTAS FL...|    32|   0.9355489|\n",
      "+-------+--------+--------------------+------+------------+\n",
      "only showing top 100 rows\n",
      "\n"
     ]
    }
   ],
   "source": [
    "dfTransformedTest.where(dfTransformedTest.RATING>30).where(dfTransformedTest.userid!=8).orderBy('userid','itemid').show(100)"
   ]
  },
  {
   "cell_type": "code",
   "execution_count": null,
   "metadata": {
    "collapsed": true
   },
   "outputs": [],
   "source": [
    "evaluator.evaluate(spark,dfTransformedTest)"
   ]
  },
  {
   "cell_type": "code",
   "execution_count": 147,
   "metadata": {
    "scrolled": true
   },
   "outputs": [
    {
     "name": "stdout",
     "output_type": "stream",
     "text": [
      "+-------+-------------------+\n",
      "|summary|         prediction|\n",
      "+-------+-------------------+\n",
      "|  count|           20841127|\n",
      "|   mean| 0.3940158237906615|\n",
      "| stddev|0.31093469043488986|\n",
      "|    min|                0.0|\n",
      "|    max|           1.642262|\n",
      "+-------+-------------------+\n",
      "\n"
     ]
    }
   ],
   "source": [
    "dfTransformedTest.select('prediction').filter(\"NOT ISNAN(prediction)\").describe().show()"
   ]
  },
  {
   "cell_type": "code",
   "execution_count": 170,
   "metadata": {},
   "outputs": [
    {
     "data": {
      "text/plain": [
       "Column<b'features[0]'>"
      ]
     },
     "execution_count": 170,
     "metadata": {},
     "output_type": "execute_result"
    }
   ],
   "source": [
    "model.userFactors.select('features')[0][0]"
   ]
  },
  {
   "cell_type": "code",
   "execution_count": 160,
   "metadata": {},
   "outputs": [
    {
     "data": {
      "text/plain": [
       "Row(userid=4856313, itemid=30373204, PRF_DS_FAMILIA='COLCHOES CASAL ESPUMA', RATING=1, prediction=0.0008301583002321422)"
      ]
     },
     "execution_count": 160,
     "metadata": {},
     "output_type": "execute_result"
    }
   ],
   "source": [
    "dfTransformedTrain.head()"
   ]
  },
  {
   "cell_type": "code",
   "execution_count": 126,
   "metadata": {
    "collapsed": true
   },
   "outputs": [
    {
     "data": {
      "text/plain": [
       "['ALS',\n",
       " 'ALSModel',\n",
       " 'ArrayType',\n",
       " 'BinaryType',\n",
       " 'BisectingKMeans',\n",
       " 'BisectingKMeansModel',\n",
       " 'BooleanType',\n",
       " 'ByteType',\n",
       " 'Comm',\n",
       " 'DataType',\n",
       " 'DateType',\n",
       " 'DecimalType',\n",
       " 'DoubleType',\n",
       " 'ElementwiseProduct',\n",
       " 'FloatType',\n",
       " 'In',\n",
       " 'IntegerType',\n",
       " 'KMeans',\n",
       " 'KMeansModel',\n",
       " 'LongType',\n",
       " 'Magics',\n",
       " 'MapType',\n",
       " 'ModelRepositoryMagics',\n",
       " 'MyClass',\n",
       " 'NullType',\n",
       " 'Out',\n",
       " 'PCA',\n",
       " 'PCAModel',\n",
       " 'Path',\n",
       " 'Pipeline',\n",
       " 'PipelineModel',\n",
       " 'RankBasedEvaluator',\n",
       " 'RankBasedEvaluator2',\n",
       " 'SQLContext',\n",
       " 'ShortType',\n",
       " 'SimpleSparkSerializer',\n",
       " 'SparkContext',\n",
       " 'SparkSession',\n",
       " 'StandardScaler',\n",
       " 'StorageLevel',\n",
       " 'StringType',\n",
       " 'StructField',\n",
       " 'StructType',\n",
       " 'TimestampType',\n",
       " 'VectorAssembler',\n",
       " '_',\n",
       " '_101',\n",
       " '_108',\n",
       " '_113',\n",
       " '_115',\n",
       " '_119',\n",
       " '_120',\n",
       " '_121',\n",
       " '_124',\n",
       " '_30',\n",
       " '_36',\n",
       " '_38',\n",
       " '_39',\n",
       " '_40',\n",
       " '_42',\n",
       " '_44',\n",
       " '_45',\n",
       " '_47',\n",
       " '_49',\n",
       " '_5',\n",
       " '_50',\n",
       " '_51',\n",
       " '_53',\n",
       " '_65',\n",
       " '_81',\n",
       " '_85',\n",
       " '_94',\n",
       " '_95',\n",
       " '_96',\n",
       " '_97',\n",
       " '__',\n",
       " '___',\n",
       " '__builtin__',\n",
       " '__builtins__',\n",
       " '__doc__',\n",
       " '__loader__',\n",
       " '__name__',\n",
       " '__package__',\n",
       " '__spec__',\n",
       " '_dh',\n",
       " '_i',\n",
       " '_i1',\n",
       " '_i10',\n",
       " '_i100',\n",
       " '_i101',\n",
       " '_i102',\n",
       " '_i103',\n",
       " '_i104',\n",
       " '_i105',\n",
       " '_i106',\n",
       " '_i107',\n",
       " '_i108',\n",
       " '_i109',\n",
       " '_i11',\n",
       " '_i110',\n",
       " '_i111',\n",
       " '_i112',\n",
       " '_i113',\n",
       " '_i114',\n",
       " '_i115',\n",
       " '_i116',\n",
       " '_i117',\n",
       " '_i118',\n",
       " '_i119',\n",
       " '_i12',\n",
       " '_i120',\n",
       " '_i121',\n",
       " '_i122',\n",
       " '_i123',\n",
       " '_i124',\n",
       " '_i125',\n",
       " '_i126',\n",
       " '_i13',\n",
       " '_i14',\n",
       " '_i15',\n",
       " '_i16',\n",
       " '_i17',\n",
       " '_i18',\n",
       " '_i19',\n",
       " '_i2',\n",
       " '_i20',\n",
       " '_i21',\n",
       " '_i22',\n",
       " '_i23',\n",
       " '_i24',\n",
       " '_i25',\n",
       " '_i26',\n",
       " '_i27',\n",
       " '_i28',\n",
       " '_i29',\n",
       " '_i3',\n",
       " '_i30',\n",
       " '_i31',\n",
       " '_i32',\n",
       " '_i33',\n",
       " '_i34',\n",
       " '_i35',\n",
       " '_i36',\n",
       " '_i37',\n",
       " '_i38',\n",
       " '_i39',\n",
       " '_i4',\n",
       " '_i40',\n",
       " '_i41',\n",
       " '_i42',\n",
       " '_i43',\n",
       " '_i44',\n",
       " '_i45',\n",
       " '_i46',\n",
       " '_i47',\n",
       " '_i48',\n",
       " '_i49',\n",
       " '_i5',\n",
       " '_i50',\n",
       " '_i51',\n",
       " '_i52',\n",
       " '_i53',\n",
       " '_i54',\n",
       " '_i55',\n",
       " '_i56',\n",
       " '_i57',\n",
       " '_i58',\n",
       " '_i59',\n",
       " '_i6',\n",
       " '_i60',\n",
       " '_i61',\n",
       " '_i62',\n",
       " '_i63',\n",
       " '_i64',\n",
       " '_i65',\n",
       " '_i66',\n",
       " '_i67',\n",
       " '_i68',\n",
       " '_i69',\n",
       " '_i7',\n",
       " '_i70',\n",
       " '_i71',\n",
       " '_i72',\n",
       " '_i73',\n",
       " '_i74',\n",
       " '_i75',\n",
       " '_i76',\n",
       " '_i77',\n",
       " '_i78',\n",
       " '_i79',\n",
       " '_i8',\n",
       " '_i80',\n",
       " '_i81',\n",
       " '_i82',\n",
       " '_i83',\n",
       " '_i84',\n",
       " '_i85',\n",
       " '_i86',\n",
       " '_i87',\n",
       " '_i88',\n",
       " '_i89',\n",
       " '_i9',\n",
       " '_i90',\n",
       " '_i91',\n",
       " '_i92',\n",
       " '_i93',\n",
       " '_i94',\n",
       " '_i95',\n",
       " '_i96',\n",
       " '_i97',\n",
       " '_i98',\n",
       " '_i99',\n",
       " '_ih',\n",
       " '_ii',\n",
       " '_iii',\n",
       " '_kernel_key',\n",
       " '_oh',\n",
       " '_port_sender',\n",
       " '_pythonstartup',\n",
       " '_secure_request',\n",
       " '_spark_kernel_property',\n",
       " 'als',\n",
       " 'argparse',\n",
       " 'atexit',\n",
       " 'broadcast',\n",
       " 'cell_magic',\n",
       " 'code',\n",
       " 'col',\n",
       " 'concat',\n",
       " 'continuous_feature_assembler',\n",
       " 'continuous_feature_scaler',\n",
       " 'count',\n",
       " 'countDistinct',\n",
       " 'count_null',\n",
       " 'dfAccounts',\n",
       " 'dfAccountsFilter',\n",
       " 'dfCluster',\n",
       " 'dfClusterFinal',\n",
       " 'dfClusterTransformed',\n",
       " 'dfCupom',\n",
       " 'dfCupomFilter',\n",
       " 'dfEM',\n",
       " 'dfFamProd',\n",
       " 'dfItemcupom',\n",
       " 'dfPeople',\n",
       " 'dfPeopleFilter',\n",
       " 'dfPopularProd',\n",
       " 'dfProdutofam',\n",
       " 'dfRecommender',\n",
       " 'dfRecommender2',\n",
       " 'dfRecommenderTest',\n",
       " 'dfRecommenderTest2',\n",
       " 'dfTemp',\n",
       " 'dfTemp2',\n",
       " 'dfTempRed',\n",
       " 'dfTop5Prod',\n",
       " 'dfTransacao',\n",
       " 'dfTransacaoFilter',\n",
       " 'dfTransformedTest',\n",
       " 'dfTransformedTrain',\n",
       " 'estimatorsKmeans',\n",
       " 'evaluator',\n",
       " 'evaluator2',\n",
       " 'exit',\n",
       " 'expr',\n",
       " 'f',\n",
       " 'featurePipeline',\n",
       " 'find_connection_file',\n",
       " 'from_unixtime',\n",
       " 'get_containers_conf',\n",
       " 'get_ipython',\n",
       " 'greatest',\n",
       " 'ip',\n",
       " 'json',\n",
       " 'length',\n",
       " 'line_cell_magic',\n",
       " 'line_magic',\n",
       " 'lit',\n",
       " 'lpad',\n",
       " 'magics',\n",
       " 'magics_class',\n",
       " 'max',\n",
       " 'mleap',\n",
       " 'model',\n",
       " 'model_rep_id',\n",
       " 'model_rep_url',\n",
       " 'model_rep_vip',\n",
       " 'mostrarNulos',\n",
       " 'nameList',\n",
       " 'new_column_1',\n",
       " 'os',\n",
       " 'pd',\n",
       " 'pkg_resources',\n",
       " 'platform',\n",
       " 'plt',\n",
       " 'py4j',\n",
       " 'pyspark',\n",
       " 'pyspark_submit_args',\n",
       " 'quit',\n",
       " 're',\n",
       " 'requests',\n",
       " 'sc',\n",
       " 'secure_delete',\n",
       " 'secure_get',\n",
       " 'secure_post',\n",
       " 'shell_file',\n",
       " 'shell_file_model',\n",
       " 'shlex',\n",
       " 'spark',\n",
       " 'sparkFeaturePipelineModel',\n",
       " 'spark_home',\n",
       " 'sql',\n",
       " 'sqlContext',\n",
       " 'sqlCtx',\n",
       " 'substring',\n",
       " 'sum',\n",
       " 'sys',\n",
       " 'testfunc',\n",
       " 'to_date',\n",
       " 'unix_timestamp',\n",
       " 'urlparse',\n",
       " 'when',\n",
       " 'x']"
      ]
     },
     "execution_count": 126,
     "metadata": {},
     "output_type": "execute_result"
    }
   ],
   "source": [
    "dir()"
   ]
  }
 ],
 "metadata": {
  "anaconda-cloud": {},
  "kernelspec": {
   "display_name": "Python 3",
   "language": "python",
   "name": "python3"
  },
  "language_info": {
   "codemirror_mode": {
    "name": "ipython",
    "version": 3
   },
   "file_extension": ".py",
   "mimetype": "text/x-python",
   "name": "python",
   "nbconvert_exporter": "python",
   "pygments_lexer": "ipython3",
   "version": "3.7.1"
  }
 },
 "nbformat": 4,
 "nbformat_minor": 1
}
