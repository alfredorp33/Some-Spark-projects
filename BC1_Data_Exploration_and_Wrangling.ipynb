{
 "cells": [
  {
   "cell_type": "markdown",
   "metadata": {},
   "source": [
    "# Data Loading"
   ]
  },
  {
   "cell_type": "code",
   "execution_count": 1,
   "metadata": {
    "collapsed": true
   },
   "outputs": [],
   "source": [
    "spark.conf.set(\"spark.sql.shuffle.partitions\", 1000)\n",
    "spark.conf.set(\"spark.sql.autoBroadcastJoinThreshold\", -1)"
   ]
  },
  {
   "cell_type": "code",
   "execution_count": 2,
   "metadata": {
    "collapsed": false
   },
   "outputs": [],
   "source": [
    "from pyspark.sql.types import DateType, IntegerType\n",
    "from pyspark.sql.functions import from_unixtime, unix_timestamp,to_date, max, when\n",
    "from pyspark.sql.functions import col, sum, greatest, expr, count, countDistinct, concat,substring, lit, length, lpad\n",
    "from pyspark.sql.types import *\n",
    "from pyspark.sql.functions import broadcast\n",
    "#import datetime"
   ]
  },
  {
   "cell_type": "code",
   "execution_count": 3,
   "metadata": {
    "collapsed": true
   },
   "outputs": [],
   "source": [
    "#FUNCIONES PARA EXTRAER NULOS POR COLUMNA\n",
    "def count_null(col_name):\n",
    "  return sum(col(col_name).isNull().cast('integer')).alias(col_name)\n",
    "\n",
    "def mostrarNulos(dataframe):\n",
    "    # Run the aggregation. The *exprs converts the list of expressions into\n",
    "    # variable function arguments.\n",
    "    exprs = []\n",
    "    for col_name in dataframe.columns:\n",
    "      exprs.append(count_null(col_name))\n",
    "    return dataframe.agg(*exprs)"
   ]
  },
  {
   "cell_type": "code",
   "execution_count": 4,
   "metadata": {
    "collapsed": true
   },
   "outputs": [],
   "source": [
    "#PARA LOCAL DEL TRABAJO\n",
    "#spark = SparkSession.builder.getOrCreate()"
   ]
  },
  {
   "cell_type": "markdown",
   "metadata": {},
   "source": [
    "## Buffer Ticket"
   ]
  },
  {
   "cell_type": "markdown",
   "metadata": {},
   "source": [
    "#### PRODUTOFAM"
   ]
  },
  {
   "cell_type": "code",
   "execution_count": 4,
   "metadata": {
    "collapsed": false,
    "scrolled": true
   },
   "outputs": [
    {
     "data": {
      "text/plain": [
       "DataFrame[PRF_CD_SUBFAMILIA: bigint, PRF_DS_SUBFAMILIA: string, PRF_CD_FAMILIA: bigint, PRF_DT_INCLUSAO: timestamp, PRF_DT_ALTERACAO: timestamp, TM_TRUSTED: timestamp, DT_TRUSTED: int]"
      ]
     },
     "execution_count": 4,
     "metadata": {},
     "output_type": "execute_result"
    }
   ],
   "source": [
    "#LECTURA DE TABLA PARQUET\n",
    "dfProdutofam=spark.read.parquet(\"/user/sparta-server/trusted/bufferticket/PRODUTOFAM\")\n",
    "dfProdutofam.persist()"
   ]
  },
  {
   "cell_type": "code",
   "execution_count": 5,
   "metadata": {
    "collapsed": false,
    "scrolled": false
   },
   "outputs": [
    {
     "name": "stdout",
     "output_type": "stream",
     "text": [
      "root\n",
      " |-- PRF_CD_SUBFAMILIA: long (nullable = true)\n",
      " |-- PRF_DS_SUBFAMILIA: string (nullable = true)\n",
      " |-- PRF_CD_FAMILIA: long (nullable = true)\n",
      " |-- PRF_DT_INCLUSAO: timestamp (nullable = true)\n",
      " |-- PRF_DT_ALTERACAO: timestamp (nullable = true)\n",
      " |-- TM_TRUSTED: timestamp (nullable = true)\n",
      " |-- DT_TRUSTED: integer (nullable = true)\n",
      "\n"
     ]
    }
   ],
   "source": [
    "dfProdutofam.printSchema()"
   ]
  },
  {
   "cell_type": "code",
   "execution_count": null,
   "metadata": {
    "collapsed": false
   },
   "outputs": [],
   "source": [
    "dfProdutofam.describe().show()"
   ]
  },
  {
   "cell_type": "code",
   "execution_count": 14,
   "metadata": {
    "collapsed": false
   },
   "outputs": [
    {
     "data": {
      "text/plain": [
       "3076"
      ]
     },
     "execution_count": 14,
     "metadata": {},
     "output_type": "execute_result"
    }
   ],
   "source": [
    "#DETECTAR DUPLICADOS\n",
    "dfProdutofam.count()"
   ]
  },
  {
   "cell_type": "code",
   "execution_count": 7,
   "metadata": {
    "collapsed": false
   },
   "outputs": [
    {
     "data": {
      "text/plain": [
       "3076"
      ]
     },
     "execution_count": 7,
     "metadata": {},
     "output_type": "execute_result"
    }
   ],
   "source": [
    "dfProdutofam.select(\"PRF_CD_SUBFAMILIA\").distinct().count()"
   ]
  },
  {
   "cell_type": "code",
   "execution_count": 13,
   "metadata": {
    "collapsed": true
   },
   "outputs": [],
   "source": [
    "dfProdutofam=dfProdutofam.dropDuplicates([\"PRF_CD_SUBFAMILIA\"])"
   ]
  },
  {
   "cell_type": "code",
   "execution_count": null,
   "metadata": {
    "collapsed": false
   },
   "outputs": [],
   "source": [
    "#CONVERSION A FECHA, PARA CUANDO SEA NECESARIO\n",
    "\n",
    "#dfProdutofam.select(\"PRF_DT_INCLUSAO\").cast(DateType)\n",
    "#dfProdutofam.withColumn(\"record_date\",dfProdutofam['PRF_DT_INCLUSAO'].cast(DateType())).show()\n",
    "#dfProdutofam.withColumn(\"parsed\", to_date(to_timestamp(\"PRF_DT_INCLUSAO\", \"dd/MM/yy\"))).show()\n",
    "dfProdutofam.withColumn(\"parsed\", to_date(from_unixtime(unix_timestamp(\"PRF_DT_INCLUSAO\", \"dd/MM/yy\")))).show()\n",
    "\n",
    "#ESCRITURA A PARQUET\n",
    "\n",
    "#df.write.parquet(\"testparquet\")\n",
    "#df2= spark.read.parquet(\"testparquet\")"
   ]
  },
  {
   "cell_type": "code",
   "execution_count": null,
   "metadata": {
    "collapsed": false,
    "scrolled": false
   },
   "outputs": [],
   "source": [
    "mostrarNulos(dfProdutofam).show()"
   ]
  },
  {
   "cell_type": "markdown",
   "metadata": {},
   "source": [
    "#### PRODUTOFAMDEP"
   ]
  },
  {
   "cell_type": "code",
   "execution_count": 15,
   "metadata": {
    "collapsed": false,
    "scrolled": true
   },
   "outputs": [
    {
     "data": {
      "text/plain": [
       "DataFrame[PRF_CD_DEPARTAMENTO: int, PRF_DS_DEPARTAMENTO: string, PRF_DT_INCLUSAO: timestamp, PRF_DT_ALTERACAO: timestamp, TM_TRUSTED: timestamp, DT_TRUSTED: int]"
      ]
     },
     "execution_count": 15,
     "metadata": {},
     "output_type": "execute_result"
    }
   ],
   "source": [
    "#LECTURA DE TABLA PARQUET\n",
    "dfProdutofamdep=spark.read.parquet(\"/user/sparta-server/trusted/bufferticket/PRODUTOFAMDEP\")\n",
    "dfProdutofamdep.persist()"
   ]
  },
  {
   "cell_type": "code",
   "execution_count": 16,
   "metadata": {
    "collapsed": false,
    "scrolled": false
   },
   "outputs": [
    {
     "name": "stdout",
     "output_type": "stream",
     "text": [
      "root\n",
      " |-- PRF_CD_DEPARTAMENTO: integer (nullable = true)\n",
      " |-- PRF_DS_DEPARTAMENTO: string (nullable = true)\n",
      " |-- PRF_DT_INCLUSAO: timestamp (nullable = true)\n",
      " |-- PRF_DT_ALTERACAO: timestamp (nullable = true)\n",
      " |-- TM_TRUSTED: timestamp (nullable = true)\n",
      " |-- DT_TRUSTED: integer (nullable = true)\n",
      "\n"
     ]
    }
   ],
   "source": [
    "dfProdutofamdep.printSchema()"
   ]
  },
  {
   "cell_type": "code",
   "execution_count": 20,
   "metadata": {
    "collapsed": false
   },
   "outputs": [
    {
     "data": {
      "text/plain": [
       "9"
      ]
     },
     "execution_count": 20,
     "metadata": {},
     "output_type": "execute_result"
    }
   ],
   "source": [
    "#DETECTAR DUPLICADOS\n",
    "dfProdutofamdep.count()"
   ]
  },
  {
   "cell_type": "code",
   "execution_count": 18,
   "metadata": {
    "collapsed": false
   },
   "outputs": [
    {
     "data": {
      "text/plain": [
       "9"
      ]
     },
     "execution_count": 18,
     "metadata": {},
     "output_type": "execute_result"
    }
   ],
   "source": [
    "dfProdutofamdep.select(\"PRF_CD_DEPARTAMENTO\").distinct().count()"
   ]
  },
  {
   "cell_type": "code",
   "execution_count": 19,
   "metadata": {
    "collapsed": false
   },
   "outputs": [],
   "source": [
    "dfProdutofamdep=dfProdutofamdep.dropDuplicates([\"PRF_CD_DEPARTAMENTO\"])"
   ]
  },
  {
   "cell_type": "code",
   "execution_count": null,
   "metadata": {
    "collapsed": false
   },
   "outputs": [],
   "source": [
    "dfProdutofamdep.describe().show()"
   ]
  },
  {
   "cell_type": "code",
   "execution_count": null,
   "metadata": {
    "collapsed": false,
    "scrolled": true
   },
   "outputs": [],
   "source": [
    "mostrarNulos(dfProdutofamdep).show()"
   ]
  },
  {
   "cell_type": "markdown",
   "metadata": {},
   "source": [
    "#### PRODUTOFAMFAM"
   ]
  },
  {
   "cell_type": "code",
   "execution_count": 8,
   "metadata": {
    "collapsed": false,
    "scrolled": true
   },
   "outputs": [
    {
     "data": {
      "text/plain": [
       "DataFrame[PRF_CD_FAMILIA: bigint, PRF_DS_FAMILIA: string, PRF_CD_GRUPO: bigint, PRF_DT_INCLUSAO: timestamp, PRF_DT_ALTERACAO: timestamp, TM_TRUSTED: timestamp, DT_TRUSTED: int]"
      ]
     },
     "execution_count": 8,
     "metadata": {},
     "output_type": "execute_result"
    }
   ],
   "source": [
    "#LECTURA DE TABLA PARQUET\n",
    "dfProdutofamfam=spark.read.parquet(\"/user/sparta-server/trusted/bufferticket/PRODUTOFAMFAM\")\n",
    "dfProdutofamfam.persist()"
   ]
  },
  {
   "cell_type": "code",
   "execution_count": null,
   "metadata": {
    "collapsed": false,
    "scrolled": false
   },
   "outputs": [],
   "source": [
    "dfProdutofamfam.printSchema()"
   ]
  },
  {
   "cell_type": "code",
   "execution_count": null,
   "metadata": {
    "collapsed": false,
    "scrolled": false
   },
   "outputs": [],
   "source": [
    "#DETECTAR DUPLICADOS\n",
    "dfProdutofamfam.count()==dfProdutofamfam.distinct().count()"
   ]
  },
  {
   "cell_type": "code",
   "execution_count": null,
   "metadata": {
    "collapsed": false
   },
   "outputs": [],
   "source": [
    "dfProdutofamfam.describe().show()"
   ]
  },
  {
   "cell_type": "code",
   "execution_count": 12,
   "metadata": {
    "collapsed": false
   },
   "outputs": [
    {
     "data": {
      "text/plain": [
       "3079"
      ]
     },
     "execution_count": 12,
     "metadata": {},
     "output_type": "execute_result"
    }
   ],
   "source": [
    "dfProdutofamfam.count()"
   ]
  },
  {
   "cell_type": "code",
   "execution_count": 10,
   "metadata": {
    "collapsed": false
   },
   "outputs": [
    {
     "data": {
      "text/plain": [
       "3079"
      ]
     },
     "execution_count": 10,
     "metadata": {},
     "output_type": "execute_result"
    }
   ],
   "source": [
    "dfProdutofamfam.select(\"PRF_CD_FAMILIA\").distinct().count()"
   ]
  },
  {
   "cell_type": "code",
   "execution_count": 11,
   "metadata": {
    "collapsed": false
   },
   "outputs": [],
   "source": [
    "dfProdutofamfam=dfProdutofamfam.dropDuplicates([\"PRF_CD_FAMILIA\"])"
   ]
  },
  {
   "cell_type": "code",
   "execution_count": null,
   "metadata": {
    "collapsed": false
   },
   "outputs": [],
   "source": [
    "dfProdutofamfam.groupBy(\"PRF_CD_FAMILIA\").count().where(col('count')>1).show(50)"
   ]
  },
  {
   "cell_type": "code",
   "execution_count": null,
   "metadata": {
    "collapsed": false,
    "scrolled": false
   },
   "outputs": [],
   "source": [
    "mostrarNulos(dfProdutofamfam).show()"
   ]
  },
  {
   "cell_type": "markdown",
   "metadata": {},
   "source": [
    "#### PRODUTOFAMGRP"
   ]
  },
  {
   "cell_type": "code",
   "execution_count": 21,
   "metadata": {
    "collapsed": false,
    "scrolled": true
   },
   "outputs": [
    {
     "data": {
      "text/plain": [
       "DataFrame[PRF_CD_GRUPO: bigint, PRF_DS_GRUPO: string, PRF_CD_SETOR: int, PRF_DT_INCLUSAO: timestamp, PRF_DT_ALTERACAO: timestamp, TM_TRUSTED: timestamp, DT_TRUSTED: int]"
      ]
     },
     "execution_count": 21,
     "metadata": {},
     "output_type": "execute_result"
    }
   ],
   "source": [
    "#LECTURA DE TABLA PARQUET\n",
    "dfProdutofamgrp=spark.read.parquet(\"/user/sparta-server/trusted/bufferticket/PRODUTOFAMGRP\")\n",
    "dfProdutofamgrp.persist()"
   ]
  },
  {
   "cell_type": "code",
   "execution_count": 22,
   "metadata": {
    "collapsed": false,
    "scrolled": false
   },
   "outputs": [
    {
     "name": "stdout",
     "output_type": "stream",
     "text": [
      "root\n",
      " |-- PRF_CD_GRUPO: long (nullable = true)\n",
      " |-- PRF_DS_GRUPO: string (nullable = true)\n",
      " |-- PRF_CD_SETOR: integer (nullable = true)\n",
      " |-- PRF_DT_INCLUSAO: timestamp (nullable = true)\n",
      " |-- PRF_DT_ALTERACAO: timestamp (nullable = true)\n",
      " |-- TM_TRUSTED: timestamp (nullable = true)\n",
      " |-- DT_TRUSTED: integer (nullable = true)\n",
      "\n"
     ]
    }
   ],
   "source": [
    "dfProdutofamgrp.printSchema()"
   ]
  },
  {
   "cell_type": "code",
   "execution_count": null,
   "metadata": {
    "collapsed": false,
    "scrolled": false
   },
   "outputs": [],
   "source": [
    "#DETECTAR DUPLICADOS\n",
    "dfProdutofamgrp.count()==dfProdutofamgrp.distinct().count()"
   ]
  },
  {
   "cell_type": "code",
   "execution_count": null,
   "metadata": {
    "collapsed": false
   },
   "outputs": [],
   "source": [
    "dfProdutofamgrp.count()"
   ]
  },
  {
   "cell_type": "code",
   "execution_count": 23,
   "metadata": {
    "collapsed": false,
    "scrolled": true
   },
   "outputs": [
    {
     "data": {
      "text/plain": [
       "335"
      ]
     },
     "execution_count": 23,
     "metadata": {},
     "output_type": "execute_result"
    }
   ],
   "source": [
    "dfProdutofamgrp.select(\"PRF_CD_GRUPO\").distinct().count()"
   ]
  },
  {
   "cell_type": "code",
   "execution_count": 25,
   "metadata": {
    "collapsed": false
   },
   "outputs": [
    {
     "data": {
      "text/plain": [
       "335"
      ]
     },
     "execution_count": 25,
     "metadata": {},
     "output_type": "execute_result"
    }
   ],
   "source": [
    "dfProdutofamgrp.count()"
   ]
  },
  {
   "cell_type": "code",
   "execution_count": 24,
   "metadata": {
    "collapsed": true
   },
   "outputs": [],
   "source": [
    "dfProdutofamgrp=dfProdutofamgrp.dropDuplicates([\"PRF_CD_GRUPO\"])"
   ]
  },
  {
   "cell_type": "code",
   "execution_count": null,
   "metadata": {
    "collapsed": false
   },
   "outputs": [],
   "source": [
    "groupList=[i.PRF_CD_GRUPO for i in dfProdutofamgrp.select('PRF_CD_GRUPO').distinct().orderBy('PRF_CD_GRUPO').collect()]"
   ]
  },
  {
   "cell_type": "code",
   "execution_count": null,
   "metadata": {
    "collapsed": false
   },
   "outputs": [],
   "source": [
    "len(groupList)"
   ]
  },
  {
   "cell_type": "code",
   "execution_count": null,
   "metadata": {
    "collapsed": false
   },
   "outputs": [],
   "source": [
    "dfProdutofamgrp.describe().show()"
   ]
  },
  {
   "cell_type": "code",
   "execution_count": null,
   "metadata": {
    "collapsed": false,
    "scrolled": false
   },
   "outputs": [],
   "source": [
    "mostrarNulos(dfProdutofamgrp).show()"
   ]
  },
  {
   "cell_type": "markdown",
   "metadata": {},
   "source": [
    "#### PRODUTOFAMSET"
   ]
  },
  {
   "cell_type": "code",
   "execution_count": 26,
   "metadata": {
    "collapsed": false,
    "scrolled": true
   },
   "outputs": [
    {
     "data": {
      "text/plain": [
       "DataFrame[PRF_CD_SETOR: int, PRF_DS_SETOR: string, PRF_CD_DEPARTAMENTO: int, PRF_DT_INCLUSAO: timestamp, PRF_DT_ALTERACAO: timestamp, TM_TRUSTED: timestamp, DT_TRUSTED: int]"
      ]
     },
     "execution_count": 26,
     "metadata": {},
     "output_type": "execute_result"
    }
   ],
   "source": [
    "#LECTURA DE TABLA PARQUET\n",
    "dfProdutofamset=spark.read.parquet(\"/user/sparta-server/trusted/bufferticket/PRODUTOFAMSET\")\n",
    "dfProdutofamset.persist()"
   ]
  },
  {
   "cell_type": "code",
   "execution_count": null,
   "metadata": {
    "collapsed": false,
    "scrolled": false
   },
   "outputs": [],
   "source": [
    "dfProdutofamset.printSchema()"
   ]
  },
  {
   "cell_type": "code",
   "execution_count": null,
   "metadata": {
    "collapsed": false,
    "scrolled": true
   },
   "outputs": [],
   "source": [
    "#DETECTAR DUPLICADOS\n",
    "dfProdutofamset.count()==dfProdutofamset.distinct().count()"
   ]
  },
  {
   "cell_type": "code",
   "execution_count": 30,
   "metadata": {
    "collapsed": false
   },
   "outputs": [
    {
     "data": {
      "text/plain": [
       "40"
      ]
     },
     "execution_count": 30,
     "metadata": {},
     "output_type": "execute_result"
    }
   ],
   "source": [
    "dfProdutofamset.count()"
   ]
  },
  {
   "cell_type": "code",
   "execution_count": 28,
   "metadata": {
    "collapsed": false
   },
   "outputs": [
    {
     "data": {
      "text/plain": [
       "40"
      ]
     },
     "execution_count": 28,
     "metadata": {},
     "output_type": "execute_result"
    }
   ],
   "source": [
    "dfProdutofamset.select(\"PRF_CD_SETOR\").distinct().count()"
   ]
  },
  {
   "cell_type": "code",
   "execution_count": 29,
   "metadata": {
    "collapsed": true
   },
   "outputs": [],
   "source": [
    "dfProdutofamset=dfProdutofamset.dropDuplicates([\"PRF_CD_SETOR\"])"
   ]
  },
  {
   "cell_type": "code",
   "execution_count": null,
   "metadata": {
    "collapsed": false
   },
   "outputs": [],
   "source": [
    "dfProdutofamset.describe().show()"
   ]
  },
  {
   "cell_type": "code",
   "execution_count": null,
   "metadata": {
    "collapsed": false,
    "scrolled": false
   },
   "outputs": [],
   "source": [
    "mostrarNulos(dfProdutofamset).show()"
   ]
  },
  {
   "cell_type": "markdown",
   "metadata": {},
   "source": [
    "#### ITEM_VAREJO"
   ]
  },
  {
   "cell_type": "code",
   "execution_count": 31,
   "metadata": {
    "collapsed": false,
    "scrolled": true
   },
   "outputs": [
    {
     "data": {
      "text/plain": [
       "DataFrame[IVA_CD_ITEM: bigint, PRF_CD_SUBFAMILIA: bigint, FOR_CD_FORNECEDOR: bigint, IVA_DS_ITEM: string, IVA_DT_INSERT: timestamp, IVA_DT_UPDATE: timestamp, TM_TRUSTED: timestamp, DT_TRUSTED: int]"
      ]
     },
     "execution_count": 31,
     "metadata": {},
     "output_type": "execute_result"
    }
   ],
   "source": [
    "#LECTURA DE TABLA PARQUET\n",
    "dfItemvarejo=spark.read.parquet(\"/user/sparta-server/trusted/bufferticket/ITEM_VAREJO\")\n",
    "dfItemvarejo.persist()"
   ]
  },
  {
   "cell_type": "code",
   "execution_count": 42,
   "metadata": {
    "collapsed": false,
    "scrolled": false
   },
   "outputs": [
    {
     "name": "stdout",
     "output_type": "stream",
     "text": [
      "root\n",
      " |-- IVA_CD_ITEM: long (nullable = true)\n",
      " |-- PRF_CD_SUBFAMILIA: long (nullable = true)\n",
      " |-- FOR_CD_FORNECEDOR: long (nullable = true)\n",
      " |-- IVA_DS_ITEM: string (nullable = true)\n",
      " |-- IVA_DT_INSERT: timestamp (nullable = true)\n",
      " |-- IVA_DT_UPDATE: timestamp (nullable = true)\n",
      " |-- TM_TRUSTED: timestamp (nullable = true)\n",
      " |-- DT_TRUSTED: integer (nullable = true)\n",
      "\n"
     ]
    }
   ],
   "source": [
    "dfItemvarejo.printSchema()"
   ]
  },
  {
   "cell_type": "code",
   "execution_count": null,
   "metadata": {
    "collapsed": false,
    "scrolled": true
   },
   "outputs": [],
   "source": [
    "#DETECTAR DUPLICADOS\n",
    "dfItemvarejo.count()==dfItemvarejo.distinct().count()"
   ]
  },
  {
   "cell_type": "code",
   "execution_count": null,
   "metadata": {
    "collapsed": false
   },
   "outputs": [],
   "source": [
    "dfItemvarejo=dfItemvarejo.dropDuplicates()"
   ]
  },
  {
   "cell_type": "code",
   "execution_count": 35,
   "metadata": {
    "collapsed": false
   },
   "outputs": [
    {
     "data": {
      "text/plain": [
       "456658"
      ]
     },
     "execution_count": 35,
     "metadata": {},
     "output_type": "execute_result"
    }
   ],
   "source": [
    "dfItemvarejo.count()"
   ]
  },
  {
   "cell_type": "code",
   "execution_count": 33,
   "metadata": {
    "collapsed": false
   },
   "outputs": [
    {
     "data": {
      "text/plain": [
       "456658"
      ]
     },
     "execution_count": 33,
     "metadata": {},
     "output_type": "execute_result"
    }
   ],
   "source": [
    "dfItemvarejo.select(\"IVA_CD_ITEM\").distinct().count()"
   ]
  },
  {
   "cell_type": "code",
   "execution_count": 34,
   "metadata": {
    "collapsed": true
   },
   "outputs": [],
   "source": [
    "dfItemvarejo=dfItemvarejo.dropDuplicates([\"IVA_CD_ITEM\"])"
   ]
  },
  {
   "cell_type": "code",
   "execution_count": null,
   "metadata": {
    "collapsed": false
   },
   "outputs": [],
   "source": [
    "dfItemvarejo.describe().show()"
   ]
  },
  {
   "cell_type": "code",
   "execution_count": null,
   "metadata": {
    "collapsed": false,
    "scrolled": false
   },
   "outputs": [],
   "source": [
    "mostrarNulos(dfItemvarejo).show()"
   ]
  },
  {
   "cell_type": "markdown",
   "metadata": {},
   "source": [
    "#### ITEM_CUPOM"
   ]
  },
  {
   "cell_type": "code",
   "execution_count": 13,
   "metadata": {
    "collapsed": false
   },
   "outputs": [],
   "source": [
    "#LECTURA DE TABLA PARQUET\n",
    "dfItemcupom=spark.read.parquet(\"/user/sparta-server/trusted/bufferticket/ITEM_CUPOM\")\n",
    "# dfItemcupom=spark.read.parquet(\"/bkp/ITEM_CUPOM\")"
   ]
  },
  {
   "cell_type": "code",
   "execution_count": 14,
   "metadata": {
    "collapsed": false,
    "scrolled": false
   },
   "outputs": [
    {
     "name": "stdout",
     "output_type": "stream",
     "text": [
      "root\n",
      " |-- CUP_ID_CUPOM: long (nullable = true)\n",
      " |-- IVA_CD_ITEM: long (nullable = true)\n",
      " |-- CUP_NU_CUPOM: integer (nullable = true)\n",
      " |-- CUP_DT_CUPOM: timestamp (nullable = true)\n",
      " |-- ICU_QT_ITECOMPRADOS: double (nullable = true)\n",
      " |-- ICU_VL_ITENS: double (nullable = true)\n",
      " |-- ICU_FG_PROMOCAO: string (nullable = true)\n",
      " |-- ICU_FG_ITEPESADO: string (nullable = true)\n",
      " |-- ICU_DT_INSERT: timestamp (nullable = true)\n",
      " |-- ICU_DT_UPDATE: timestamp (nullable = true)\n",
      " |-- TM_TRUSTED: timestamp (nullable = true)\n",
      " |-- DT_TRUSTED: integer (nullable = true)\n",
      "\n"
     ]
    }
   ],
   "source": [
    "dfItemcupom.printSchema()"
   ]
  },
  {
   "cell_type": "code",
   "execution_count": 46,
   "metadata": {
    "collapsed": false
   },
   "outputs": [
    {
     "data": {
      "text/plain": [
       "3176595289"
      ]
     },
     "execution_count": 46,
     "metadata": {},
     "output_type": "execute_result"
    }
   ],
   "source": [
    "dfItemcupom.count()\n",
    "#3171783077\n",
    "#3176595289"
   ]
  },
  {
   "cell_type": "code",
   "execution_count": null,
   "metadata": {
    "collapsed": false
   },
   "outputs": [],
   "source": [
    "dfItemcupom.describe().show()"
   ]
  },
  {
   "cell_type": "code",
   "execution_count": null,
   "metadata": {
    "collapsed": false,
    "scrolled": false
   },
   "outputs": [],
   "source": [
    "mostrarNulos(dfItemcupom).show()"
   ]
  },
  {
   "cell_type": "markdown",
   "metadata": {},
   "source": [
    "#### CUPOM"
   ]
  },
  {
   "cell_type": "code",
   "execution_count": 15,
   "metadata": {
    "collapsed": false
   },
   "outputs": [],
   "source": [
    "#LECTURA DE TABLA PARQUET\n",
    "dfCupom=spark.read.parquet(\"/user/sparta-server/trusted/bufferticket/CUPOM\")"
   ]
  },
  {
   "cell_type": "code",
   "execution_count": 16,
   "metadata": {
    "collapsed": false,
    "scrolled": false
   },
   "outputs": [
    {
     "name": "stdout",
     "output_type": "stream",
     "text": [
      "root\n",
      " |-- CUP_ID_CUPOM: long (nullable = true)\n",
      " |-- TRA_CD_TRANSACAO: long (nullable = true)\n",
      " |-- CUP_NU_CUPOM: integer (nullable = true)\n",
      " |-- CUP_CD_ESTABELECIMENTO: long (nullable = true)\n",
      " |-- CUP_CD_PDV: string (nullable = true)\n",
      " |-- CUP_DT_CUPOM: timestamp (nullable = true)\n",
      " |-- CUP_HR_CUPOM: integer (nullable = true)\n",
      " |-- CUP_VL_CUPOM: double (nullable = true)\n",
      " |-- CUP_DT_INSERT: timestamp (nullable = true)\n",
      " |-- CUP_DT_UPDATE: timestamp (nullable = true)\n",
      " |-- PES_NU_CPFCNPJ: long (nullable = true)\n",
      " |-- SITE_COD: integer (nullable = true)\n",
      " |-- FISCAL_COUPON_COD: integer (nullable = true)\n",
      " |-- TRSACT_COD: integer (nullable = true)\n",
      " |-- SALE_TERMNL_COD: integer (nullable = true)\n",
      " |-- CUP_VL_TROCO: double (nullable = true)\n",
      " |-- TM_TRUSTED: timestamp (nullable = true)\n",
      " |-- DT_TRUSTED: integer (nullable = true)\n",
      "\n"
     ]
    }
   ],
   "source": [
    "dfCupom.printSchema()"
   ]
  },
  {
   "cell_type": "code",
   "execution_count": 17,
   "metadata": {
    "collapsed": false
   },
   "outputs": [
    {
     "data": {
      "text/plain": [
       "519187849"
      ]
     },
     "execution_count": 17,
     "metadata": {},
     "output_type": "execute_result"
    }
   ],
   "source": [
    "dfCupom.count()"
   ]
  },
  {
   "cell_type": "code",
   "execution_count": 49,
   "metadata": {
    "collapsed": false
   },
   "outputs": [
    {
     "data": {
      "text/plain": [
       "514428341"
      ]
     },
     "execution_count": 49,
     "metadata": {},
     "output_type": "execute_result"
    }
   ],
   "source": [
    "dfCupom.select('CUP_ID_CUPOM').distinct().count()"
   ]
  },
  {
   "cell_type": "code",
   "execution_count": null,
   "metadata": {
    "collapsed": true
   },
   "outputs": [],
   "source": [
    "dfCupom.describe().show()"
   ]
  },
  {
   "cell_type": "code",
   "execution_count": null,
   "metadata": {
    "collapsed": false,
    "scrolled": true
   },
   "outputs": [],
   "source": [
    "mostrarNulos(dfCupom).toPandas()"
   ]
  },
  {
   "cell_type": "code",
   "execution_count": null,
   "metadata": {
    "collapsed": false
   },
   "outputs": [],
   "source": [
    "#dfCupom.select(\"PES_NU_CPFCNPJ\").show(10)"
   ]
  },
  {
   "cell_type": "markdown",
   "metadata": {},
   "source": [
    "#### TRANSACAO"
   ]
  },
  {
   "cell_type": "code",
   "execution_count": 18,
   "metadata": {
    "collapsed": false
   },
   "outputs": [],
   "source": [
    "#LECTURA DE TABLA PARQUET\n",
    "dfTransacao=spark.read.parquet(\"/user/sparta-server/trusted/bufferticket/TRANSACAO\")"
   ]
  },
  {
   "cell_type": "code",
   "execution_count": 19,
   "metadata": {
    "collapsed": false,
    "scrolled": true
   },
   "outputs": [
    {
     "name": "stdout",
     "output_type": "stream",
     "text": [
      "root\n",
      " |-- TRA_CD_TRANSACAO: long (nullable = true)\n",
      " |-- TTR_CD_TIPTRANSACAO: integer (nullable = true)\n",
      " |-- CTA_CD_CONTA: long (nullable = true)\n",
      " |-- MTR_CD_MEITRANSACAO: string (nullable = true)\n",
      " |-- EST_CD_ESTABELECIMENTO: long (nullable = true)\n",
      " |-- PLA_CD_PLANO: long (nullable = true)\n",
      " |-- CUP_NU_CUPOM: long (nullable = true)\n",
      " |-- PRD_CD_PROORIGINAL: string (nullable = true)\n",
      " |-- TRA_CD_NATTRANSACAO: string (nullable = true)\n",
      " |-- TRA_DT_TRANSACAO: timestamp (nullable = true)\n",
      " |-- TRA_HR_TRANSACAO: string (nullable = true)\n",
      " |-- TRA_DT_EFETRANSACAO: timestamp (nullable = true)\n",
      " |-- TRA_VL_TRANSACAO: double (nullable = true)\n",
      " |-- TRA_VL_COMISSAO: double (nullable = true)\n",
      " |-- TRA_VL_LIQTRANSACAO: double (nullable = true)\n",
      " |-- TRA_VL_PARC_1: double (nullable = true)\n",
      " |-- TRA_VL_PARC_DEMAIS: double (nullable = true)\n",
      " |-- TRA_TP_MOETRANSACAO: string (nullable = true)\n",
      " |-- TRA_QT_PARCELAS: integer (nullable = true)\n",
      " |-- TRA_NU_AUTORIZACAO: long (nullable = true)\n",
      " |-- TRA_NU_NSU: string (nullable = true)\n",
      " |-- TRA_CD_TRNORIGINAL: integer (nullable = true)\n",
      " |-- TRA_ID_SISORIGEM: integer (nullable = true)\n",
      " |-- TRA_DT_INSERT: timestamp (nullable = true)\n",
      " |-- TRA_DT_UPDATE: timestamp (nullable = true)\n",
      " |-- TRA_QT_CARENCIA: integer (nullable = true)\n",
      " |-- TRA_CD_TRANORIGINAL: long (nullable = true)\n",
      " |-- TRA_CD_PDV: string (nullable = true)\n",
      " |-- TRA_CD_PLAORIGINAL: string (nullable = true)\n",
      " |-- TRA_VL_TOTALTRANSACAO: double (nullable = true)\n",
      " |-- TRA_FG_QUARTNA: string (nullable = true)\n",
      " |-- TRA_CD_PRODFIN: long (nullable = true)\n",
      " |-- TRA_FG_PULACICLO: integer (nullable = true)\n",
      " |-- TRA_DT_POSTAGPRCLAPULACICLO: timestamp (nullable = true)\n",
      " |-- TM_TRUSTED: timestamp (nullable = true)\n",
      " |-- DT_TRUSTED: integer (nullable = true)\n",
      "\n"
     ]
    }
   ],
   "source": [
    "dfTransacao.printSchema()"
   ]
  },
  {
   "cell_type": "code",
   "execution_count": 51,
   "metadata": {
    "collapsed": false
   },
   "outputs": [
    {
     "data": {
      "text/plain": [
       "470287150"
      ]
     },
     "execution_count": 51,
     "metadata": {},
     "output_type": "execute_result"
    }
   ],
   "source": [
    "dfTransacao.count()"
   ]
  },
  {
   "cell_type": "code",
   "execution_count": 52,
   "metadata": {
    "collapsed": false
   },
   "outputs": [
    {
     "data": {
      "text/plain": [
       "470287141"
      ]
     },
     "execution_count": 52,
     "metadata": {},
     "output_type": "execute_result"
    }
   ],
   "source": [
    "dfTransacao.select(\"TRA_CD_TRANSACAO\").distinct().count()"
   ]
  },
  {
   "cell_type": "code",
   "execution_count": null,
   "metadata": {
    "collapsed": true
   },
   "outputs": [],
   "source": [
    "dfTransacao.describe().show()"
   ]
  },
  {
   "cell_type": "code",
   "execution_count": null,
   "metadata": {
    "collapsed": true
   },
   "outputs": [],
   "source": [
    "mostrarNulos(dfTransacao).show()"
   ]
  },
  {
   "cell_type": "markdown",
   "metadata": {},
   "source": [
    "## TSYS"
   ]
  },
  {
   "cell_type": "markdown",
   "metadata": {},
   "source": [
    "####  CodeProducts"
   ]
  },
  {
   "cell_type": "code",
   "execution_count": 20,
   "metadata": {
    "collapsed": false
   },
   "outputs": [],
   "source": [
    "#ARCHIVO CREADO A MANO CON LOS CÓDIGOS\n",
    "dfCodeproducts = spark.read \\\n",
    "    .option(\"header\", \"true\").option(\"inferSchema\",\"true\").option(\"delimiter\", \",\").csv(\"/analytics/bc1_clustering/inputs/Codeproducts2.csv\")\n",
    "    #.option(\"header\", \"false\").option(\"inferSchema\",\"true\").option(\"delimiter\", \"|\").csv(\"file:///C:\\\\Users\\Fabian de Plasencia\\Documents\\Business Case 1\\sample_BC_TSYS_CACCOUNTS.txt\")\n",
    "    #.option(\"header\", \"true\").option(\"inferSchema\",\"true\").option(\"delimiter\", \"|\").csv(\"file:///C:\\Users\\Fabiande\\Documents\\Business Case 1\\BC_PRODUTOFAMDEP.txt\")"
   ]
  },
  {
   "cell_type": "code",
   "execution_count": 21,
   "metadata": {
    "collapsed": false,
    "scrolled": true
   },
   "outputs": [
    {
     "name": "stdout",
     "output_type": "stream",
     "text": [
      "root\n",
      " |-- SERNO: integer (nullable = true)\n",
      " |-- CD_GL: string (nullable = true)\n",
      " |-- DESCRICAO: string (nullable = true)\n",
      " |-- TIPO_TRNS: string (nullable = true)\n",
      " |-- TIPO_TRNS_N2: string (nullable = true)\n",
      " |-- FG_TRNS: string (nullable = true)\n",
      " |-- FG_ONOFF: string (nullable = true)\n",
      " |-- CICLO: string (nullable = true)\n",
      " |-- CORTE: string (nullable = true)\n",
      " |-- JUROS: string (nullable = true)\n",
      " |-- MEIOPAGAM: string (nullable = true)\n",
      " |-- FG_ONOFFCASE: string (nullable = true)\n",
      " |-- MC: string (nullable = true)\n",
      " |-- MC2: string (nullable = true)\n",
      " |-- VISA: string (nullable = true)\n",
      " |-- VISA2: string (nullable = true)\n",
      " |-- CHIP: string (nullable = true)\n",
      " |-- CRIADA_EM: string (nullable = true)\n",
      " |-- ATUALIZADA_EM: string (nullable = true)\n",
      " |-- ORIGEM: string (nullable = true)\n",
      " |-- LOCALCOMPRA: string (nullable = true)\n",
      " |-- PRODUTO: string (nullable = true)\n",
      " |-- TIPO_TRANSACAO: string (nullable = true)\n",
      "\n"
     ]
    }
   ],
   "source": [
    "dfCodeproducts.printSchema()"
   ]
  },
  {
   "cell_type": "code",
   "execution_count": 22,
   "metadata": {
    "collapsed": false,
    "scrolled": false
   },
   "outputs": [
    {
     "name": "stdout",
     "output_type": "stream",
     "text": [
      "+------------------------------+\n",
      "|PRODUTO                       |\n",
      "+------------------------------+\n",
      "|Saque_Parcelado               |\n",
      "|Emprestimo_Pessoal            |\n",
      "|Parcelamento_Fatura_Automatico|\n",
      "|Overlimit                     |\n",
      "|Off_Us                        |\n",
      "|Pagamento_de_Contas           |\n",
      "|Saque_a_Vista                 |\n",
      "|Parcelamento_Fatura_Facil     |\n",
      "+------------------------------+\n",
      "\n"
     ]
    }
   ],
   "source": [
    "dfCodeproducts.select('PRODUTO').distinct().show(300, truncate=False)"
   ]
  },
  {
   "cell_type": "code",
   "execution_count": null,
   "metadata": {
    "collapsed": false,
    "scrolled": true
   },
   "outputs": [],
   "source": [
    "mostrarNulos(dfCodeproducts).show()"
   ]
  },
  {
   "cell_type": "markdown",
   "metadata": {},
   "source": [
    "#### ACCOUNTS"
   ]
  },
  {
   "cell_type": "code",
   "execution_count": 34,
   "metadata": {
    "collapsed": false
   },
   "outputs": [],
   "source": [
    "#LECTURA DE TABLA PARQUET ANALYTICS\n",
    "# dfAccounts=spark.read.parquet(\"/analytics/bc1_clustering/tables/dfAccounts\")\n",
    "dfAccounts=spark.read.parquet(\"/analytics/bc1_clustering/tables/dfAccountsRefdate\")\n",
    "dfAccounts=dfAccounts.withColumnRenamed(\"SERNO\",\"ACCOUNTSERNO\").withColumnRenamed(\"PEOPLESERNO\",\"PEOPLESERNOFK\")"
   ]
  },
  {
   "cell_type": "code",
   "execution_count": null,
   "metadata": {
    "collapsed": false
   },
   "outputs": [],
   "source": [
    "#LECTURA DE TABLA PARQUET TRUSTED\n",
    "dfAccounts=spark.read.parquet(\"/user/sparta-server/trusted/tsys/CACCOUNTS\")"
   ]
  },
  {
   "cell_type": "code",
   "execution_count": null,
   "metadata": {
    "collapsed": false
   },
   "outputs": [],
   "source": [
    "dfAccounts.explain()"
   ]
  },
  {
   "cell_type": "code",
   "execution_count": null,
   "metadata": {
    "collapsed": false,
    "scrolled": true
   },
   "outputs": [],
   "source": [
    "dfAccounts.printSchema()"
   ]
  },
  {
   "cell_type": "code",
   "execution_count": null,
   "metadata": {
    "collapsed": false
   },
   "outputs": [],
   "source": [
    "# dfAccountsMax=dfAccounts.groupBy('SERNO').agg(max('REFDATE').alias('FECHAMAX'))\n",
    "#QUITANDO PERIODO DE VALIDACION\n",
    "dfAccountsMax=dfAccounts.where(to_date(col('REFDATE'))<'2017-11-01') \\\n",
    "    .groupBy('SERNO').agg(max('REFDATE').alias('FECHAMAX'))"
   ]
  },
  {
   "cell_type": "code",
   "execution_count": null,
   "metadata": {
    "collapsed": true
   },
   "outputs": [],
   "source": [
    "dfAccounts2=dfAccounts.join(dfAccountsMax,(dfAccountsMax.SERNO==dfAccounts.SERNO) & (dfAccountsMax.FECHAMAX==dfAccounts.REFDATE),'leftsemi')\n",
    "\n",
    "# dfAccounts2=dfAccounts.join(dfAccountsMax,(dfAccountsMax.SERNO==dfAccounts.SERNO) & (dfAccountsMax.FECHAMAX==dfAccounts.REFDATE)) \\\n",
    "#     .drop(dfAccountsMax.SERNO).drop(dfAccountsMax.FECHAMAX)\n",
    "\n",
    "\n",
    "dfAccounts2.printSchema()"
   ]
  },
  {
   "cell_type": "code",
   "execution_count": null,
   "metadata": {
    "collapsed": true
   },
   "outputs": [],
   "source": [
    "dfAccounts=dfAccounts2.withColumnRenamed(\"SERNO\",\"ACCOUNTSERNO\").withColumnRenamed(\"PEOPLESERNO\",\"PEOPLESERNOFK\")"
   ]
  },
  {
   "cell_type": "code",
   "execution_count": null,
   "metadata": {
    "collapsed": false
   },
   "outputs": [],
   "source": [
    "dfAccounts.explain()"
   ]
  },
  {
   "cell_type": "code",
   "execution_count": null,
   "metadata": {
    "collapsed": false
   },
   "outputs": [],
   "source": [
    "dfAccounts.persist().count()"
   ]
  },
  {
   "cell_type": "code",
   "execution_count": null,
   "metadata": {
    "collapsed": false
   },
   "outputs": [],
   "source": [
    "# dfAccounts2= dfAccounts.where(col(\"FG_CURRENT\")==1)\n",
    "#.dropDuplicates(['ACCOUNTSERNO']).persist()"
   ]
  },
  {
   "cell_type": "code",
   "execution_count": null,
   "metadata": {
    "collapsed": false
   },
   "outputs": [],
   "source": [
    "dfAccounts2.persist().count()\n",
    "#CON SEMIJOIN TARDÓ 17min, 8086359\n",
    "#CON INNER JOIN + DROP TARDÓ  19 min 8086359\n",
    "#FG_CURRENT 3266044"
   ]
  },
  {
   "cell_type": "code",
   "execution_count": null,
   "metadata": {
    "collapsed": false,
    "scrolled": true
   },
   "outputs": [],
   "source": [
    "dfAccounts2.select('SERNO').distinct().count()\n",
    "#8086359"
   ]
  },
  {
   "cell_type": "code",
   "execution_count": null,
   "metadata": {
    "collapsed": false
   },
   "outputs": [],
   "source": [
    "dfAccounts2.where(col(\"FG_CURRENT\")==1).count()"
   ]
  },
  {
   "cell_type": "code",
   "execution_count": null,
   "metadata": {
    "collapsed": true
   },
   "outputs": [],
   "source": [
    "dfAccounts2.where(col(\"FG_CURRENT\")!=1).groupBy('stgeneral').count().show()"
   ]
  },
  {
   "cell_type": "code",
   "execution_count": null,
   "metadata": {
    "collapsed": true
   },
   "outputs": [],
   "source": [
    "#dfAccounts2.describe().toPandas()"
   ]
  },
  {
   "cell_type": "code",
   "execution_count": null,
   "metadata": {
    "collapsed": false
   },
   "outputs": [],
   "source": [
    "#LA LECTURA ES MUY LARGA, GUARDO LOS RESULTADOS PARA ACELERAR\n",
    "dfAccounts2.write.parquet(\"/analytics/bc1_clustering/tables/dfAccountsRefdate\")"
   ]
  },
  {
   "cell_type": "code",
   "execution_count": null,
   "metadata": {
    "collapsed": true
   },
   "outputs": [],
   "source": [
    "dfAccounts=dfAccounts2"
   ]
  },
  {
   "cell_type": "code",
   "execution_count": null,
   "metadata": {
    "collapsed": true
   },
   "outputs": [],
   "source": [
    "mostrarNulos(dfAccounts).show()"
   ]
  },
  {
   "cell_type": "markdown",
   "metadata": {},
   "source": [
    "#### PEOPLE"
   ]
  },
  {
   "cell_type": "code",
   "execution_count": 30,
   "metadata": {
    "collapsed": false,
    "scrolled": false
   },
   "outputs": [],
   "source": [
    "#LECTURA DE TABLA ANALYTICS\n",
    "dfPeople=spark.read.parquet(\"/analytics/bc1_clustering/tables/dfPeople\")\n",
    "dfPeople=dfPeople.withColumnRenamed(\"SERNO\",\"PEOPLESERNO\").withColumn('YOB',(dfPeople[\"DOB\"]/10000).cast('integer'))"
   ]
  },
  {
   "cell_type": "code",
   "execution_count": null,
   "metadata": {
    "collapsed": false,
    "scrolled": false
   },
   "outputs": [],
   "source": [
    "#LECTURA DE TABLA PARQUET\n",
    "dfPeople=spark.read.parquet(\"/user/sparta-server/trusted/tsys/PEOPLE\")\n",
    "# dfPeople.persist()"
   ]
  },
  {
   "cell_type": "code",
   "execution_count": null,
   "metadata": {
    "collapsed": false,
    "scrolled": true
   },
   "outputs": [],
   "source": [
    "dfPeople.printSchema()"
   ]
  },
  {
   "cell_type": "code",
   "execution_count": null,
   "metadata": {
    "collapsed": true
   },
   "outputs": [],
   "source": [
    "# dfPeople2=dfPeople.filter(dfPeople[\"FG_CURRENT\"]==1)"
   ]
  },
  {
   "cell_type": "code",
   "execution_count": null,
   "metadata": {
    "collapsed": false,
    "scrolled": true
   },
   "outputs": [],
   "source": [
    "dfPeopleMax=dfPeople.groupBy('SERNO').agg(max('REFDATE').alias('FECHAMAX'))\n",
    "\n",
    "dfPeople2=dfPeople.join(dfPeopleMax,(dfPeopleMax.SERNO==dfPeople.SERNO) & (dfPeopleMax.FECHAMAX==dfPeople.REFDATE),'leftsemi')\n",
    "\n",
    "dfPeople2.printSchema()"
   ]
  },
  {
   "cell_type": "code",
   "execution_count": null,
   "metadata": {
    "collapsed": false
   },
   "outputs": [],
   "source": [
    "dfPeople2.persist().count()"
   ]
  },
  {
   "cell_type": "code",
   "execution_count": null,
   "metadata": {
    "collapsed": false
   },
   "outputs": [],
   "source": [
    "dfPeople2.select('SERNO').distinct().count()"
   ]
  },
  {
   "cell_type": "code",
   "execution_count": null,
   "metadata": {
    "collapsed": true
   },
   "outputs": [],
   "source": [
    "dfPeople2=dfPeople2.dropDuplicates(['SERNO'])"
   ]
  },
  {
   "cell_type": "code",
   "execution_count": null,
   "metadata": {
    "collapsed": false
   },
   "outputs": [],
   "source": [
    "dfPeople2.count()"
   ]
  },
  {
   "cell_type": "code",
   "execution_count": null,
   "metadata": {
    "collapsed": true
   },
   "outputs": [],
   "source": [
    "#ESCRITURA DE LA TABLA\n",
    "dfPeople2.write.parquet(\"/analytics/bc1_clustering/tables/dfPeople\")"
   ]
  },
  {
   "cell_type": "code",
   "execution_count": null,
   "metadata": {
    "collapsed": false,
    "scrolled": false
   },
   "outputs": [],
   "source": [
    "dfCupom.join(dfPeople,dfCupom.PES_NU_CPFCNPJ==dfPeople.SSNUMBER).count()"
   ]
  },
  {
   "cell_type": "code",
   "execution_count": null,
   "metadata": {
    "collapsed": true
   },
   "outputs": [],
   "source": [
    "dfPeople.describe().show()"
   ]
  },
  {
   "cell_type": "code",
   "execution_count": null,
   "metadata": {
    "collapsed": true
   },
   "outputs": [],
   "source": [
    "mostrarNulos(dfPeople).show()"
   ]
  },
  {
   "cell_type": "markdown",
   "metadata": {},
   "source": [
    "#### TRANSACTIONS TSYS"
   ]
  },
  {
   "cell_type": "code",
   "execution_count": 56,
   "metadata": {
    "collapsed": true
   },
   "outputs": [],
   "source": [
    "#MEJOR LEER LA TABLA PROCESADA!\n",
    "dfTrantsysTratada=spark.read.parquet(\"/analytics/bc1_clustering/tables/dfTrantsysTratada02Ene\")\n",
    "# dfTrantsysTratada=spark.read.parquet(\"/analytics/bc1_clustering/tables/dfTrantsysTratada11Dic\")"
   ]
  },
  {
   "cell_type": "code",
   "execution_count": 9,
   "metadata": {
    "collapsed": false
   },
   "outputs": [],
   "source": [
    "#LECTURA DE TABLA PARQUET\n",
    "#Landing\n",
    "# dfTrantsys=spark.read.parquet(\"/user/sparta-server/landing/tsys/CTRANSACTIONS/DT_LANDING=20171202\")\n",
    "#Trusted\n",
    "dfTrantsys=spark.read.parquet(\"/user/sparta-server/trusted/tsys/CTRANSACTIONS\")\n",
    "dfTrantsys=dfTrantsys.withColumnRenamed(\"SERNO\",\"TRANSACTIONSERNO\") \\\n",
    "    .withColumnRenamed(\"CACCSERNO\",\"ACCOUNTSERNOFK\")"
   ]
  },
  {
   "cell_type": "code",
   "execution_count": 10,
   "metadata": {
    "collapsed": false,
    "scrolled": true
   },
   "outputs": [
    {
     "name": "stdout",
     "output_type": "stream",
     "text": [
      "root\n",
      " |-- TYPE: string (nullable = true)\n",
      " |-- INSTITUTION_ID: integer (nullable = true)\n",
      " |-- TRANSACTIONSERNO: long (nullable = true)\n",
      " |-- PARTITIONKEY: long (nullable = true)\n",
      " |-- ACCOUNTSERNOFK: long (nullable = true)\n",
      " |-- CARDSERNO: long (nullable = true)\n",
      " |-- PRODUCT: integer (nullable = true)\n",
      " |-- BATCHSERNO: long (nullable = true)\n",
      " |-- TYPESERNO_ALLOC: long (nullable = true)\n",
      " |-- TYPESERNO_FEES: long (nullable = true)\n",
      " |-- TYPESERNO_REPORTS: long (nullable = true)\n",
      " |-- TYPESERNO_REWARDS: long (nullable = true)\n",
      " |-- TYPESERNO_GLEDGER: long (nullable = true)\n",
      " |-- TYPESERNO_DIVERT: long (nullable = true)\n",
      " |-- ORIG_MSG_TYPE: string (nullable = true)\n",
      " |-- I000_MSG_TYPE: string (nullable = true)\n",
      " |-- I002_NUMBER: string (nullable = true)\n",
      " |-- I003_PROC_CODE: string (nullable = true)\n",
      " |-- I004_AMT_TRXN: double (nullable = true)\n",
      " |-- I005_AMT_SETTLE: double (nullable = true)\n",
      " |-- I006_AMT_BILL: double (nullable = true)\n",
      " |-- I007_LOAD_DATE: string (nullable = true)\n",
      " |-- I008_BILLING_FEE: double (nullable = true)\n",
      " |-- I011_TRACE_NUM: string (nullable = true)\n",
      " |-- I012_TRXN_TIME: string (nullable = true)\n",
      " |-- I013_TRXN_DATE: string (nullable = true)\n",
      " |-- I015_SETTLE_DATE: string (nullable = true)\n",
      " |-- I016_CONVERS_DATE: string (nullable = true)\n",
      " |-- I018_MERCH_TYPE: string (nullable = true)\n",
      " |-- I019_ACQ_COUNTRY: string (nullable = true)\n",
      " |-- I022_POS_ENTRY: string (nullable = true)\n",
      " |-- I023_SEQUENCE: string (nullable = true)\n",
      " |-- I024_FUNCT_CODE: string (nullable = true)\n",
      " |-- I025_POS_COND: string (nullable = true)\n",
      " |-- I028_TRXN_FEE: double (nullable = true)\n",
      " |-- I031_ARN: string (nullable = true)\n",
      " |-- I032_ACQUIRER_ID: string (nullable = true)\n",
      " |-- I037_RET_REF_NUM: string (nullable = true)\n",
      " |-- I038_AUTH_ID: string (nullable = true)\n",
      " |-- I039_RESP_CD: string (nullable = true)\n",
      " |-- I041_POS_ID: string (nullable = true)\n",
      " |-- I042_MERCH_ID: string (nullable = true)\n",
      " |-- I043A_MERCH_NAME: string (nullable = true)\n",
      " |-- I043B_MERCH_CITY: string (nullable = true)\n",
      " |-- I043C_MERCH_CNT: string (nullable = true)\n",
      " |-- I044_REASON_CODE: string (nullable = true)\n",
      " |-- I048_TEXT_DATA: string (nullable = true)\n",
      " |-- I049_CUR_TRXN: string (nullable = true)\n",
      " |-- I050_CUR_SETTLE: string (nullable = true)\n",
      " |-- I051_CUR_BILL: string (nullable = true)\n",
      " |-- I059_POS_GEO_DATA: string (nullable = true)\n",
      " |-- I060_POS_CAP: string (nullable = true)\n",
      " |-- I062V2_TRANS_ID: string (nullable = true)\n",
      " |-- I062M_INF_DATA: string (nullable = true)\n",
      " |-- AMOUNT: double (nullable = true)\n",
      " |-- EMBEDDEDFEE: double (nullable = true)\n",
      " |-- VALUEDATE: string (nullable = true)\n",
      " |-- POSTDATE: string (nullable = true)\n",
      " |-- POSTTIMESTAMP: string (nullable = true)\n",
      " |-- STGENERAL: string (nullable = true)\n",
      " |-- CASHBACKAMOUNT: double (nullable = true)\n",
      " |-- TOTALPOINTS: double (nullable = true)\n",
      " |-- MINDUEVALUEDATE: string (nullable = true)\n",
      " |-- DESCSTRINGID: string (nullable = true)\n",
      " |-- DEF_CACCSERNO: long (nullable = true)\n",
      " |-- INSTAMENTTYPE: integer (nullable = true)\n",
      " |-- INSTALMENTSNUMBER: integer (nullable = true)\n",
      " |-- INSTALMENTSEQ: integer (nullable = true)\n",
      " |-- INSTALMENTOFFSET: integer (nullable = true)\n",
      " |-- INSTALMENTORIGAMOUNT: double (nullable = true)\n",
      " |-- INSTALMENTPLANSERNO: long (nullable = true)\n",
      " |-- SINGLE_MSG_FLAG: integer (nullable = true)\n",
      " |-- AUTHACCOUNTTYPE: string (nullable = true)\n",
      " |-- ORIGINATOR: string (nullable = true)\n",
      " |-- PROXYCARDNUMBER: string (nullable = true)\n",
      " |-- SUMMCOMCODE: string (nullable = true)\n",
      " |-- AUTHTRXNTYPE: integer (nullable = true)\n",
      " |-- AUTHSERNO: long (nullable = true)\n",
      " |-- AUTHREASONCODE: integer (nullable = true)\n",
      " |-- PAYMENTMODE: string (nullable = true)\n",
      " |-- ORIGINATORREASONCODE: string (nullable = true)\n",
      " |-- REFDATE: timestamp (nullable = true)\n",
      " |-- FG_CURRENT: integer (nullable = true)\n",
      " |-- TM_INSERT: timestamp (nullable = true)\n",
      " |-- TM_UPDATE: timestamp (nullable = true)\n",
      " |-- MSGCLASS: long (nullable = true)\n",
      " |-- MSGTYPE: long (nullable = true)\n",
      " |-- TRXNTYPE: long (nullable = true)\n",
      " |-- TRXNENTRY: long (nullable = true)\n",
      " |-- TYPESERNO_PROBE: long (nullable = true)\n",
      " |-- TYPESERNO_DESC: long (nullable = true)\n",
      " |-- DESCRIPTIONARGS: string (nullable = true)\n",
      " |-- TRXNMSGIDENTIFIER: string (nullable = true)\n",
      " |-- NU_CUPOMFISC: string (nullable = true)\n",
      " |-- REVERSED_AMT: double (nullable = true)\n",
      " |-- ID_EMPRS: integer (nullable = true)\n",
      " |-- TM_TRUSTED: timestamp (nullable = true)\n",
      " |-- TAXFLAG: string (nullable = true)\n",
      " |-- TAXBASEAMOUNT: double (nullable = true)\n",
      " |-- AUTHIMMEDIATEPOSTING: string (nullable = true)\n",
      " |-- TOKEN: string (nullable = true)\n",
      " |-- TOKENASSURANCELEVEL: string (nullable = true)\n",
      " |-- TOKENREQUESTORID: string (nullable = true)\n",
      " |-- WALLETIDENTIFIER: string (nullable = true)\n",
      " |-- DT_TRUSTED: integer (nullable = true)\n",
      "\n"
     ]
    }
   ],
   "source": [
    "dfTrantsys.printSchema()"
   ]
  },
  {
   "cell_type": "code",
   "execution_count": null,
   "metadata": {
    "collapsed": true
   },
   "outputs": [],
   "source": [
    "# dfTrantsys= dfTrantsys.select(\"_c2\",\"_c4\",\"_c12\").withColumnRenamed(\"_c2\",\"TRANSACTIONSERNO\") \\\n",
    "#     .withColumnRenamed(\"_c4\",\"ACCOUNTSERNOFK\").withColumnRenamed(\"_c12\",\"TYPESERNO_GLEDGER\") "
   ]
  },
  {
   "cell_type": "code",
   "execution_count": null,
   "metadata": {
    "collapsed": false
   },
   "outputs": [],
   "source": [
    "dfTrantsys.count()"
   ]
  },
  {
   "cell_type": "code",
   "execution_count": null,
   "metadata": {
    "collapsed": true
   },
   "outputs": [],
   "source": [
    "# dfTrantsys2=dfTrantsys.where(col('FG_CURRENT')==1)"
   ]
  },
  {
   "cell_type": "code",
   "execution_count": 11,
   "metadata": {
    "collapsed": true
   },
   "outputs": [],
   "source": [
    "dfTrantsysMax=dfTrantsys.groupBy('TRANSACTIONSERNO').agg(max('REFDATE').alias('FECHAMAX'))\n",
    "\n",
    "dfTrantsys2=dfTrantsys.join(dfTrantsysMax,(dfTrantsysMax.TRANSACTIONSERNO==dfTrantsys.TRANSACTIONSERNO) & (dfTrantsysMax.FECHAMAX==dfTrantsys.REFDATE),'leftsemi')"
   ]
  },
  {
   "cell_type": "code",
   "execution_count": null,
   "metadata": {
    "collapsed": false
   },
   "outputs": [],
   "source": [
    "dfTrantsys2.count()"
   ]
  },
  {
   "cell_type": "code",
   "execution_count": null,
   "metadata": {
    "collapsed": false
   },
   "outputs": [],
   "source": [
    "dfTrantsys2.select('TRANSACTIONSERNO').distinct().count()"
   ]
  },
  {
   "cell_type": "code",
   "execution_count": 12,
   "metadata": {
    "collapsed": true
   },
   "outputs": [],
   "source": [
    "dfTrantsys3=dfTrantsys2.dropDuplicates(['TRANSACTIONSERNO'])"
   ]
  },
  {
   "cell_type": "code",
   "execution_count": 13,
   "metadata": {
    "collapsed": false
   },
   "outputs": [],
   "source": [
    "#CARGAR dfCodeproducts ANTES DE ESTO\n",
    "BCdfCodeproducts=broadcast(dfCodeproducts.select(\"SERNO\",\"PRODUTO\"))"
   ]
  },
  {
   "cell_type": "code",
   "execution_count": 14,
   "metadata": {
    "collapsed": false
   },
   "outputs": [],
   "source": [
    "dfTrantsysTratada=dfTrantsys3.join(BCdfCodeproducts,BCdfCodeproducts.SERNO==dfTrantsys.TYPESERNO_GLEDGER) \\\n",
    "    .select('TRANSACTIONSERNO','ACCOUNTSERNOFK','TYPESERNO_GLEDGER','I013_TRXN_DATE','I018_MERCH_TYPE','AMOUNT','VALUEDATE','POSTDATE','STGENERAL','REFDATE','FG_CURRENT','TM_INSERT','PRODUTO')"
   ]
  },
  {
   "cell_type": "code",
   "execution_count": 15,
   "metadata": {
    "collapsed": false,
    "scrolled": false
   },
   "outputs": [
    {
     "name": "stdout",
     "output_type": "stream",
     "text": [
      "root\n",
      " |-- TRANSACTIONSERNO: long (nullable = true)\n",
      " |-- ACCOUNTSERNOFK: long (nullable = true)\n",
      " |-- TYPESERNO_GLEDGER: long (nullable = true)\n",
      " |-- I013_TRXN_DATE: string (nullable = true)\n",
      " |-- I018_MERCH_TYPE: string (nullable = true)\n",
      " |-- AMOUNT: double (nullable = true)\n",
      " |-- VALUEDATE: string (nullable = true)\n",
      " |-- POSTDATE: string (nullable = true)\n",
      " |-- STGENERAL: string (nullable = true)\n",
      " |-- REFDATE: timestamp (nullable = true)\n",
      " |-- FG_CURRENT: integer (nullable = true)\n",
      " |-- TM_INSERT: timestamp (nullable = true)\n",
      " |-- PRODUTO: string (nullable = true)\n",
      "\n"
     ]
    }
   ],
   "source": [
    "dfTrantsysTratada.printSchema()"
   ]
  },
  {
   "cell_type": "code",
   "execution_count": 16,
   "metadata": {
    "collapsed": false
   },
   "outputs": [],
   "source": [
    "#SOLO LAS TRANSACCIONES NECESARIAS\n",
    "dfTrantsysTratada.write.parquet(\"/analytics/bc1_clustering/tables/dfTrantsysTratada02Ene\")"
   ]
  },
  {
   "cell_type": "code",
   "execution_count": 17,
   "metadata": {
    "collapsed": true
   },
   "outputs": [],
   "source": [
    "dfTrantsysTratada=spark.read.parquet(\"/analytics/bc1_clustering/tables/dfTrantsysTratada02Ene\")"
   ]
  },
  {
   "cell_type": "code",
   "execution_count": null,
   "metadata": {
    "collapsed": false
   },
   "outputs": [],
   "source": [
    "dfTrantsysTratada.count()"
   ]
  },
  {
   "cell_type": "code",
   "execution_count": null,
   "metadata": {
    "collapsed": false
   },
   "outputs": [],
   "source": [
    "dfTrantsysTratada.where(col('POSTDATE')>='20151201').count()"
   ]
  },
  {
   "cell_type": "code",
   "execution_count": null,
   "metadata": {
    "collapsed": false
   },
   "outputs": [],
   "source": [
    "dfTrantsysTratada.where(col('I013_TRXN_DATE')>='20151201').count()"
   ]
  },
  {
   "cell_type": "code",
   "execution_count": null,
   "metadata": {
    "collapsed": false
   },
   "outputs": [],
   "source": [
    "dfTrantsysTratada.where(col('REFDATE')>='20151201').count()"
   ]
  },
  {
   "cell_type": "code",
   "execution_count": null,
   "metadata": {
    "collapsed": true
   },
   "outputs": [],
   "source": [
    "dfTrantsys.count()"
   ]
  },
  {
   "cell_type": "code",
   "execution_count": null,
   "metadata": {
    "collapsed": false
   },
   "outputs": [],
   "source": [
    "dfTrantsys2.select('SERNO').distinct().count()"
   ]
  },
  {
   "cell_type": "code",
   "execution_count": null,
   "metadata": {
    "collapsed": false,
    "scrolled": false
   },
   "outputs": [],
   "source": [
    "dfTrantsys2.describe().show()"
   ]
  },
  {
   "cell_type": "code",
   "execution_count": null,
   "metadata": {
    "collapsed": false,
    "scrolled": true
   },
   "outputs": [],
   "source": [
    "mostrarNulos(dfTrantsys2).show()"
   ]
  },
  {
   "cell_type": "code",
   "execution_count": null,
   "metadata": {
    "collapsed": false
   },
   "outputs": [],
   "source": [
    "dfTrantsys.agg({'I013_TRXN_DATE':'min','I007_LOAD_DATE':'min','I015_SETTLE_DATE':'min','VALUEDATE':'min','POSTDATE':'min'}).show()"
   ]
  },
  {
   "cell_type": "code",
   "execution_count": null,
   "metadata": {
    "collapsed": false,
    "scrolled": true
   },
   "outputs": [],
   "source": [
    "mostrarNulos(dfTrantsys.select('I007_LOAD_DATE','I013_TRXN_DATE','I015_SETTLE_DATE','REFDATE','VALUEDATE','POSTDATE')).show()"
   ]
  },
  {
   "cell_type": "markdown",
   "metadata": {},
   "source": [
    "#### CEXTENSION"
   ]
  },
  {
   "cell_type": "code",
   "execution_count": 57,
   "metadata": {
    "collapsed": false
   },
   "outputs": [],
   "source": [
    "#LECTURA DE TABLA PARQUET\n",
    "dfExtension=spark.read.parquet(\"/user/sparta-server/trusted/tsys/CEXTENSION\")"
   ]
  },
  {
   "cell_type": "code",
   "execution_count": null,
   "metadata": {
    "collapsed": false,
    "scrolled": true
   },
   "outputs": [],
   "source": [
    "dfExtension.printSchema()"
   ]
  },
  {
   "cell_type": "code",
   "execution_count": null,
   "metadata": {
    "collapsed": false
   },
   "outputs": [],
   "source": [
    "dfExtension.count()"
   ]
  },
  {
   "cell_type": "code",
   "execution_count": null,
   "metadata": {
    "collapsed": true
   },
   "outputs": [],
   "source": [
    "# dfExtension2Max=dfExtension2.groupBy('ROW_SERNO').agg(max('REFDATE').alias('FECHAMAX'))\n",
    "\n",
    "# dfExtension3=dfExtension2.join(dfExtension2Max,(dfExtension2Max.ROW_SERNO==dfExtension2.ROW_SERNO) & (dfExtension2Max.FECHAMAX==dfExtension2.REFDATE),'leftsemi')\n",
    "\n",
    "# dfExtension3.printSchema()"
   ]
  },
  {
   "cell_type": "code",
   "execution_count": null,
   "metadata": {
    "collapsed": false
   },
   "outputs": [],
   "source": [
    "# dfExtension3.count()\n",
    "#2645496"
   ]
  },
  {
   "cell_type": "code",
   "execution_count": null,
   "metadata": {
    "collapsed": true
   },
   "outputs": [],
   "source": [
    "dfExtension.describe().show()"
   ]
  },
  {
   "cell_type": "code",
   "execution_count": null,
   "metadata": {
    "collapsed": true
   },
   "outputs": [],
   "source": [
    "mostrarNulos(dfTrantsys.select('')).show()"
   ]
  },
  {
   "cell_type": "markdown",
   "metadata": {},
   "source": [
    "#### STATEMENTS"
   ]
  },
  {
   "cell_type": "code",
   "execution_count": 58,
   "metadata": {
    "collapsed": false
   },
   "outputs": [],
   "source": [
    "#LECTURA DE TABLA PARQUET\n",
    "dfStatements=spark.read.parquet(\"/user/sparta-server/trusted/tsys/CSTATEMENTS\")"
   ]
  },
  {
   "cell_type": "code",
   "execution_count": null,
   "metadata": {
    "collapsed": false,
    "scrolled": true
   },
   "outputs": [],
   "source": [
    "dfStatements.printSchema()"
   ]
  },
  {
   "cell_type": "code",
   "execution_count": null,
   "metadata": {
    "collapsed": false
   },
   "outputs": [],
   "source": [
    "dfStatements.persist().count()"
   ]
  },
  {
   "cell_type": "code",
   "execution_count": null,
   "metadata": {
    "collapsed": false
   },
   "outputs": [],
   "source": [
    "dfStatements.where(col('FG_CURRENT')==1).count()"
   ]
  },
  {
   "cell_type": "code",
   "execution_count": null,
   "metadata": {
    "collapsed": true
   },
   "outputs": [],
   "source": [
    "# dfStatements2=dfStatements.where(col('FG_CURRENT')==1).persist()"
   ]
  },
  {
   "cell_type": "code",
   "execution_count": null,
   "metadata": {
    "collapsed": false
   },
   "outputs": [],
   "source": [
    "# dfStatementsMax=dfStatements.groupBy('SERNO').agg(max('REFDATE').alias('FECHAMAX'))\n",
    "\n",
    "# dfStatements2=dfStatements.join(dfStatementsMax,(dfStatementsMax.SERNO==dfStatements.SERNO) & (dfStatementsMax.FECHAMAX==dfStatements.REFDATE),'leftsemi')\n",
    "\n",
    "# dfStatements2.printSchema()"
   ]
  },
  {
   "cell_type": "code",
   "execution_count": null,
   "metadata": {
    "collapsed": false,
    "scrolled": true
   },
   "outputs": [],
   "source": [
    "# dfStatements2.count()\n",
    "# 60592044"
   ]
  },
  {
   "cell_type": "code",
   "execution_count": null,
   "metadata": {
    "collapsed": false
   },
   "outputs": [],
   "source": [
    "dfStatements.select('SERNO').distinct().count()"
   ]
  },
  {
   "cell_type": "code",
   "execution_count": null,
   "metadata": {
    "collapsed": true
   },
   "outputs": [],
   "source": [
    "dfStatements.describe().show()"
   ]
  },
  {
   "cell_type": "code",
   "execution_count": null,
   "metadata": {
    "collapsed": true
   },
   "outputs": [],
   "source": [
    "mostrarNulos(dfStatements).show()"
   ]
  },
  {
   "cell_type": "markdown",
   "metadata": {},
   "source": [
    "#### STATEMENTINSTOFFERS"
   ]
  },
  {
   "cell_type": "code",
   "execution_count": 59,
   "metadata": {
    "collapsed": false
   },
   "outputs": [],
   "source": [
    "#LECTURA DE TABLA PARQUET\n",
    "dfStatementinstoffers=spark.read.parquet(\"/user/sparta-server/trusted/tsys/CSTATEMENTINSTOFFERS\")"
   ]
  },
  {
   "cell_type": "code",
   "execution_count": null,
   "metadata": {
    "collapsed": false,
    "scrolled": false
   },
   "outputs": [],
   "source": [
    "dfStatementinstoffers.printSchema()"
   ]
  },
  {
   "cell_type": "code",
   "execution_count": null,
   "metadata": {
    "collapsed": false
   },
   "outputs": [],
   "source": [
    "dfStatementinstoffers.persist().count()"
   ]
  },
  {
   "cell_type": "code",
   "execution_count": null,
   "metadata": {
    "collapsed": true
   },
   "outputs": [],
   "source": [
    "dfStatementinstoffers=dfStatementinstoffers.where(col('FG_CURRENT')==1).persist()"
   ]
  },
  {
   "cell_type": "code",
   "execution_count": null,
   "metadata": {
    "collapsed": false
   },
   "outputs": [],
   "source": [
    "# dfStatementinstoffersMax=dfStatementinstoffers.groupBy('SERNO').agg(max('REFDATE').alias('FECHAMAX'))\n",
    "\n",
    "# dfStatementinstoffers2=dfStatementinstoffers.join(dfStatementinstoffersMax,(dfStatementinstoffersMax.SERNO==dfStatementinstoffers.SERNO) & (dfStatementinstoffersMax.FECHAMAX==dfStatementinstoffers.REFDATE),'leftsemi')\n",
    "\n",
    "# dfStatementinstoffers2.printSchema()"
   ]
  },
  {
   "cell_type": "code",
   "execution_count": null,
   "metadata": {
    "collapsed": false,
    "scrolled": true
   },
   "outputs": [],
   "source": [
    "# dfStatementinstoffers2.count()\n",
    "#398251162"
   ]
  },
  {
   "cell_type": "code",
   "execution_count": null,
   "metadata": {
    "collapsed": false
   },
   "outputs": [],
   "source": [
    "dfStatementinstoffers.select('SERNO').distinct().count()"
   ]
  },
  {
   "cell_type": "code",
   "execution_count": null,
   "metadata": {
    "collapsed": true
   },
   "outputs": [],
   "source": [
    "dfStatementinstoffers2.describe().show()"
   ]
  },
  {
   "cell_type": "code",
   "execution_count": null,
   "metadata": {
    "collapsed": true
   },
   "outputs": [],
   "source": [
    "mostrarNulos(dfStatementinstoffers2).show()"
   ]
  },
  {
   "cell_type": "markdown",
   "metadata": {},
   "source": [
    "#### RISKDOMAINS"
   ]
  },
  {
   "cell_type": "code",
   "execution_count": 60,
   "metadata": {
    "collapsed": false
   },
   "outputs": [],
   "source": [
    "#LECTURA DE TABLA PARQUET\n",
    "dfRiskdomains=spark.read.parquet(\"/user/sparta-server/trusted/tsys/RISKDOMAINS\")"
   ]
  },
  {
   "cell_type": "code",
   "execution_count": null,
   "metadata": {
    "collapsed": false,
    "scrolled": true
   },
   "outputs": [],
   "source": [
    "dfRiskdomains.printSchema()"
   ]
  },
  {
   "cell_type": "code",
   "execution_count": null,
   "metadata": {
    "collapsed": false
   },
   "outputs": [],
   "source": [
    "dfRiskdomains.persist().count()"
   ]
  },
  {
   "cell_type": "code",
   "execution_count": null,
   "metadata": {
    "collapsed": false
   },
   "outputs": [],
   "source": [
    "# dfRiskdomainsMax=dfRiskdomains.groupBy('SERNO').agg(max('REFDATE').alias('FECHAMAX'))\n",
    "\n",
    "# dfRiskdomains2=dfRiskdomains.join(dfRiskdomainsMax,(dfRiskdomainsMax.SERNO==dfRiskdomains.SERNO) & (dfRiskdomainsMax.FECHAMAX==dfRiskdomains.REFDATE),'leftsemi')\n",
    "\n",
    "# dfRiskdomains2.printSchema()"
   ]
  },
  {
   "cell_type": "code",
   "execution_count": null,
   "metadata": {
    "collapsed": true
   },
   "outputs": [],
   "source": [
    "dfRiskdomains2.describe().show()"
   ]
  },
  {
   "cell_type": "code",
   "execution_count": null,
   "metadata": {
    "collapsed": true
   },
   "outputs": [],
   "source": [
    "mostrarNulos(dfRiskdomains2).show()"
   ]
  },
  {
   "cell_type": "markdown",
   "metadata": {},
   "source": [
    "# Predictive Tables"
   ]
  },
  {
   "cell_type": "markdown",
   "metadata": {},
   "source": [
    "### Estrutura Mercadologica"
   ]
  },
  {
   "cell_type": "code",
   "execution_count": 10,
   "metadata": {
    "collapsed": false,
    "scrolled": true
   },
   "outputs": [
    {
     "name": "stdout",
     "output_type": "stream",
     "text": [
      "+-----------+-----------------+--------------------+-----------------+-----------------+--------------+--------------+------------+------------+------------+-------------------+-------------------+-------------------+\n",
      "|IVA_CD_ITEM|FOR_CD_FORNECEDOR|         IVA_DS_ITEM|PRF_CD_SUBFAMILIA|PRF_DS_SUBFAMILIA|PRF_CD_FAMILIA|PRF_DS_FAMILIA|PRF_CD_GRUPO|PRF_DS_GRUPO|PRF_CD_SETOR|       PRF_DS_SETOR|PRF_CD_DEPARTAMENTO|PRF_DS_DEPARTAMENTO|\n",
      "+-----------+-----------------+--------------------+-----------------+-----------------+--------------+--------------+------------+------------+------------+-------------------+-------------------+-------------------+\n",
      "|    2999641|           290009|PRODUTO GENERICO ...|       5066990100|         DIVERSOS|      50669901|      DIVERSOS|      506699|       GENCO|        5066|TEXTIL - PERMANENTE|                  5|             TEXTIL|\n",
      "|    2999633|           290009|PRODUTO GENERICO ...|       5066990100|         DIVERSOS|      50669901|      DIVERSOS|      506699|       GENCO|        5066|TEXTIL - PERMANENTE|                  5|             TEXTIL|\n",
      "|    5193214|           502030|CAD DE DESCANSO R...|       5066990100|         DIVERSOS|      50669901|      DIVERSOS|      506699|       GENCO|        5066|TEXTIL - PERMANENTE|                  5|             TEXTIL|\n",
      "|     660000|           290009|PRODUTO GENERICO ...|       5066990100|         DIVERSOS|      50669901|      DIVERSOS|      506699|       GENCO|        5066|TEXTIL - PERMANENTE|                  5|             TEXTIL|\n",
      "|    2905655|            71170|AGULHA DE ACO EXT...|       5066990100|         DIVERSOS|      50669901|      DIVERSOS|      506699|       GENCO|        5066|TEXTIL - PERMANENTE|                  5|             TEXTIL|\n",
      "+-----------+-----------------+--------------------+-----------------+-----------------+--------------+--------------+------------+------------+------------+-------------------+-------------------+-------------------+\n",
      "only showing top 5 rows\n",
      "\n"
     ]
    }
   ],
   "source": [
    "#CARGAR LA EM (no hace faltar ejecutar lo siguiente)\n",
    "dfEM=spark.read.parquet(\"/analytics/bc1_clustering/tables/dfEM\")\n",
    "\n",
    "dfEM.persist()\n",
    "\n",
    "dfEM.show(5)"
   ]
  },
  {
   "cell_type": "code",
   "execution_count": 11,
   "metadata": {
    "collapsed": false,
    "scrolled": true
   },
   "outputs": [
    {
     "ename": "NameError",
     "evalue": "name 'dfItemvarejo' is not defined",
     "output_type": "error",
     "traceback": [
      "\u001b[0;31m---------------------------------------------------------------------------\u001b[0m",
      "\u001b[0;31mNameError\u001b[0m                                 Traceback (most recent call last)",
      "\u001b[0;32m<ipython-input-11-bb9a779ad650>\u001b[0m in \u001b[0;36m<module>\u001b[0;34m()\u001b[0m\n\u001b[0;32m----> 1\u001b[0;31m \u001b[0mdfEMtmp\u001b[0m \u001b[0;34m=\u001b[0m \u001b[0mdfItemvarejo\u001b[0m\u001b[0;34m.\u001b[0m\u001b[0mjoin\u001b[0m\u001b[0;34m(\u001b[0m\u001b[0mdfProdutofam\u001b[0m\u001b[0;34m,\u001b[0m \u001b[0mdfItemvarejo\u001b[0m\u001b[0;34m.\u001b[0m\u001b[0mPRF_CD_SUBFAMILIA\u001b[0m\u001b[0;34m==\u001b[0m\u001b[0mdfProdutofam\u001b[0m\u001b[0;34m.\u001b[0m\u001b[0mPRF_CD_SUBFAMILIA\u001b[0m\u001b[0;34m,\u001b[0m\u001b[0;34m'left_outer'\u001b[0m\u001b[0;34m)\u001b[0m     \u001b[0;34m.\u001b[0m\u001b[0mjoin\u001b[0m\u001b[0;34m(\u001b[0m\u001b[0mdfProdutofamfam\u001b[0m\u001b[0;34m,\u001b[0m \u001b[0mdfProdutofamfam\u001b[0m\u001b[0;34m.\u001b[0m\u001b[0mPRF_CD_FAMILIA\u001b[0m\u001b[0;34m==\u001b[0m\u001b[0mdfProdutofam\u001b[0m\u001b[0;34m.\u001b[0m\u001b[0mPRF_CD_FAMILIA\u001b[0m\u001b[0;34m,\u001b[0m\u001b[0;34m'left_outer'\u001b[0m\u001b[0;34m)\u001b[0m     \u001b[0;34m.\u001b[0m\u001b[0mjoin\u001b[0m\u001b[0;34m(\u001b[0m\u001b[0mdfProdutofamgrp\u001b[0m\u001b[0;34m,\u001b[0m \u001b[0mdfProdutofamgrp\u001b[0m\u001b[0;34m.\u001b[0m\u001b[0mPRF_CD_GRUPO\u001b[0m\u001b[0;34m==\u001b[0m\u001b[0mdfProdutofamfam\u001b[0m\u001b[0;34m.\u001b[0m\u001b[0mPRF_CD_GRUPO\u001b[0m\u001b[0;34m,\u001b[0m\u001b[0;34m'left_outer'\u001b[0m\u001b[0;34m)\u001b[0m     \u001b[0;34m.\u001b[0m\u001b[0mjoin\u001b[0m\u001b[0;34m(\u001b[0m\u001b[0mdfProdutofamset\u001b[0m\u001b[0;34m,\u001b[0m \u001b[0mdfProdutofamset\u001b[0m\u001b[0;34m.\u001b[0m\u001b[0mPRF_CD_SETOR\u001b[0m\u001b[0;34m==\u001b[0m\u001b[0mdfProdutofamgrp\u001b[0m\u001b[0;34m.\u001b[0m\u001b[0mPRF_CD_SETOR\u001b[0m\u001b[0;34m,\u001b[0m\u001b[0;34m'left_outer'\u001b[0m\u001b[0;34m)\u001b[0m     \u001b[0;34m.\u001b[0m\u001b[0mjoin\u001b[0m\u001b[0;34m(\u001b[0m\u001b[0mdfProdutofamdep\u001b[0m\u001b[0;34m,\u001b[0m \u001b[0mdfProdutofamdep\u001b[0m\u001b[0;34m.\u001b[0m\u001b[0mPRF_CD_DEPARTAMENTO\u001b[0m\u001b[0;34m==\u001b[0m\u001b[0mdfProdutofamset\u001b[0m\u001b[0;34m.\u001b[0m\u001b[0mPRF_CD_DEPARTAMENTO\u001b[0m\u001b[0;34m,\u001b[0m\u001b[0;34m'left_outer'\u001b[0m\u001b[0;34m)\u001b[0m\u001b[0;34m\u001b[0m\u001b[0m\n\u001b[0m\u001b[1;32m      2\u001b[0m \u001b[0mdfEMtmp\u001b[0m\u001b[0;34m.\u001b[0m\u001b[0mprintSchema\u001b[0m\u001b[0;34m(\u001b[0m\u001b[0;34m)\u001b[0m\u001b[0;34m\u001b[0m\u001b[0m\n",
      "\u001b[0;31mNameError\u001b[0m: name 'dfItemvarejo' is not defined"
     ]
    }
   ],
   "source": [
    "dfEMtmp = dfItemvarejo.join(dfProdutofam, dfItemvarejo.PRF_CD_SUBFAMILIA==dfProdutofam.PRF_CD_SUBFAMILIA,'left_outer') \\\n",
    "    .join(dfProdutofamfam, dfProdutofamfam.PRF_CD_FAMILIA==dfProdutofam.PRF_CD_FAMILIA,'left_outer') \\\n",
    "    .join(dfProdutofamgrp, dfProdutofamgrp.PRF_CD_GRUPO==dfProdutofamfam.PRF_CD_GRUPO,'left_outer') \\\n",
    "    .join(dfProdutofamset, dfProdutofamset.PRF_CD_SETOR==dfProdutofamgrp.PRF_CD_SETOR,'left_outer') \\\n",
    "    .join(dfProdutofamdep, dfProdutofamdep.PRF_CD_DEPARTAMENTO==dfProdutofamset.PRF_CD_DEPARTAMENTO,'left_outer') \n",
    "dfEMtmp.printSchema()"
   ]
  },
  {
   "cell_type": "code",
   "execution_count": 37,
   "metadata": {
    "collapsed": false
   },
   "outputs": [],
   "source": [
    "dfEM=dfEMtmp.select(\"IVA_CD_ITEM\",\"FOR_CD_FORNECEDOR\",\"IVA_DS_ITEM\",dfProdutofam[\"PRF_CD_SUBFAMILIA\"],\"PRF_DS_SUBFAMILIA\", \\\n",
    "              dfProdutofamfam[\"PRF_CD_FAMILIA\"],\"PRF_DS_FAMILIA\",dfProdutofamgrp[\"PRF_CD_GRUPO\"],\"PRF_DS_GRUPO\", \\\n",
    "              dfProdutofamset[\"PRF_CD_SETOR\"],\"PRF_DS_SETOR\",dfProdutofamdep[\"PRF_CD_DEPARTAMENTO\"],\"PRF_DS_DEPARTAMENTO\").persist()"
   ]
  },
  {
   "cell_type": "code",
   "execution_count": 38,
   "metadata": {
    "collapsed": false,
    "scrolled": true
   },
   "outputs": [
    {
     "name": "stdout",
     "output_type": "stream",
     "text": [
      "root\n",
      " |-- IVA_CD_ITEM: long (nullable = true)\n",
      " |-- FOR_CD_FORNECEDOR: long (nullable = true)\n",
      " |-- IVA_DS_ITEM: string (nullable = true)\n",
      " |-- PRF_CD_SUBFAMILIA: long (nullable = true)\n",
      " |-- PRF_DS_SUBFAMILIA: string (nullable = true)\n",
      " |-- PRF_CD_FAMILIA: long (nullable = true)\n",
      " |-- PRF_DS_FAMILIA: string (nullable = true)\n",
      " |-- PRF_CD_GRUPO: long (nullable = true)\n",
      " |-- PRF_DS_GRUPO: string (nullable = true)\n",
      " |-- PRF_CD_SETOR: integer (nullable = true)\n",
      " |-- PRF_DS_SETOR: string (nullable = true)\n",
      " |-- PRF_CD_DEPARTAMENTO: integer (nullable = true)\n",
      " |-- PRF_DS_DEPARTAMENTO: string (nullable = true)\n",
      "\n"
     ]
    }
   ],
   "source": [
    "dfEM.printSchema()"
   ]
  },
  {
   "cell_type": "code",
   "execution_count": 39,
   "metadata": {
    "collapsed": false
   },
   "outputs": [
    {
     "data": {
      "text/html": [
       "<div>\n",
       "<table border=\"1\" class=\"dataframe\">\n",
       "  <thead>\n",
       "    <tr style=\"text-align: right;\">\n",
       "      <th></th>\n",
       "      <th>IVA_CD_ITEM</th>\n",
       "      <th>FOR_CD_FORNECEDOR</th>\n",
       "      <th>IVA_DS_ITEM</th>\n",
       "      <th>PRF_CD_SUBFAMILIA</th>\n",
       "      <th>PRF_DS_SUBFAMILIA</th>\n",
       "      <th>PRF_CD_FAMILIA</th>\n",
       "      <th>PRF_DS_FAMILIA</th>\n",
       "      <th>PRF_CD_GRUPO</th>\n",
       "      <th>PRF_DS_GRUPO</th>\n",
       "      <th>PRF_CD_SETOR</th>\n",
       "      <th>PRF_DS_SETOR</th>\n",
       "      <th>PRF_CD_DEPARTAMENTO</th>\n",
       "      <th>PRF_DS_DEPARTAMENTO</th>\n",
       "    </tr>\n",
       "  </thead>\n",
       "  <tbody>\n",
       "    <tr>\n",
       "      <th>0</th>\n",
       "      <td>0</td>\n",
       "      <td>0</td>\n",
       "      <td>0</td>\n",
       "      <td>0</td>\n",
       "      <td>0</td>\n",
       "      <td>0</td>\n",
       "      <td>0</td>\n",
       "      <td>0</td>\n",
       "      <td>0</td>\n",
       "      <td>0</td>\n",
       "      <td>0</td>\n",
       "      <td>0</td>\n",
       "      <td>0</td>\n",
       "    </tr>\n",
       "  </tbody>\n",
       "</table>\n",
       "</div>"
      ],
      "text/plain": [
       "   IVA_CD_ITEM  FOR_CD_FORNECEDOR  IVA_DS_ITEM  PRF_CD_SUBFAMILIA  \\\n",
       "0            0                  0            0                  0   \n",
       "\n",
       "   PRF_DS_SUBFAMILIA  PRF_CD_FAMILIA  PRF_DS_FAMILIA  PRF_CD_GRUPO  \\\n",
       "0                  0               0               0             0   \n",
       "\n",
       "   PRF_DS_GRUPO  PRF_CD_SETOR  PRF_DS_SETOR  PRF_CD_DEPARTAMENTO  \\\n",
       "0             0             0             0                    0   \n",
       "\n",
       "   PRF_DS_DEPARTAMENTO  \n",
       "0                    0  "
      ]
     },
     "execution_count": 39,
     "metadata": {},
     "output_type": "execute_result"
    }
   ],
   "source": [
    "mostrarNulos(dfEM).toPandas()"
   ]
  },
  {
   "cell_type": "code",
   "execution_count": 40,
   "metadata": {
    "collapsed": false
   },
   "outputs": [
    {
     "data": {
      "text/plain": [
       "True"
      ]
     },
     "execution_count": 40,
     "metadata": {},
     "output_type": "execute_result"
    }
   ],
   "source": [
    "dfEM.is_cached"
   ]
  },
  {
   "cell_type": "code",
   "execution_count": 41,
   "metadata": {
    "collapsed": false
   },
   "outputs": [
    {
     "data": {
      "text/plain": [
       "456658"
      ]
     },
     "execution_count": 41,
     "metadata": {},
     "output_type": "execute_result"
    }
   ],
   "source": [
    "dfEM.count()"
   ]
  },
  {
   "cell_type": "code",
   "execution_count": null,
   "metadata": {
    "collapsed": true
   },
   "outputs": [],
   "source": [
    "dfEM.write.parquet(\"/analytics/bc1_clustering/tables/dfEM\")"
   ]
  },
  {
   "cell_type": "code",
   "execution_count": 12,
   "metadata": {
    "collapsed": false
   },
   "outputs": [
    {
     "data": {
      "text/plain": [
       "3017"
      ]
     },
     "execution_count": 12,
     "metadata": {},
     "output_type": "execute_result"
    }
   ],
   "source": [
    "dfEM.select('PRF_CD_SUBFAMILIA').distinct().count()"
   ]
  },
  {
   "cell_type": "markdown",
   "metadata": {},
   "source": [
    "### User - Purchases"
   ]
  },
  {
   "cell_type": "code",
   "execution_count": null,
   "metadata": {
    "collapsed": true
   },
   "outputs": [],
   "source": [
    "#PARA EVITAR EL TIMEOUT DE BROADCAST\n",
    "#spark.conf.set(\"spark.sql.broadcastTimeout\",300)\n"
   ]
  },
  {
   "cell_type": "code",
   "execution_count": 23,
   "metadata": {
    "collapsed": false,
    "scrolled": true
   },
   "outputs": [
    {
     "name": "stdout",
     "output_type": "stream",
     "text": [
      "+----------+--------------------+\n",
      "|min(FECHA)|   max(CUP_DT_CUPOM)|\n",
      "+----------+--------------------+\n",
      "|2016-11-01|2017-10-31 00:00:...|\n",
      "+----------+--------------------+\n",
      "\n"
     ]
    }
   ],
   "source": [
    "dfCupom.where((to_date(col('CUP_DT_CUPOM'))>='2016-11-01') & (to_date(col('CUP_DT_CUPOM'))<'2017-11-01')) \\\n",
    "    .select('CUP_DT_CUPOM',to_date(col('CUP_DT_CUPOM')).alias('FECHA')).agg({\"FECHA\": \"min\", \"CUP_DT_CUPOM\": \"max\"}).show()"
   ]
  },
  {
   "cell_type": "code",
   "execution_count": 24,
   "metadata": {
    "collapsed": true
   },
   "outputs": [],
   "source": [
    "dfCupomFilter=dfCupom.where((to_date(col('CUP_DT_CUPOM'))>='2016-11-01') & (to_date(col('CUP_DT_CUPOM'))<'2017-11-01')) \\\n",
    "    .select('CUP_ID_CUPOM','PES_NU_CPFCNPJ','TRA_CD_TRANSACAO')"
   ]
  },
  {
   "cell_type": "code",
   "execution_count": 25,
   "metadata": {
    "collapsed": false
   },
   "outputs": [],
   "source": [
    "#dfCupomFilter.persist().count()"
   ]
  },
  {
   "cell_type": "code",
   "execution_count": 26,
   "metadata": {
    "collapsed": false
   },
   "outputs": [],
   "source": [
    "dfTransacaoFilter=dfTransacao.where((to_date(col('TRA_DT_TRANSACAO'))>='2016-11-01') & (to_date(col('TRA_DT_TRANSACAO'))<'2017-11-01')) \\\n",
    "    .select('TRA_CD_TRANSACAO','CTA_CD_CONTA')"
   ]
  },
  {
   "cell_type": "code",
   "execution_count": null,
   "metadata": {
    "collapsed": false
   },
   "outputs": [],
   "source": [
    "#dfTransacaoFilter.persist().count()"
   ]
  },
  {
   "cell_type": "code",
   "execution_count": null,
   "metadata": {
    "collapsed": false,
    "scrolled": true
   },
   "outputs": [],
   "source": [
    "# dfTransacaoFilter.show(5)"
   ]
  },
  {
   "cell_type": "code",
   "execution_count": 27,
   "metadata": {
    "collapsed": false
   },
   "outputs": [
    {
     "name": "stdout",
     "output_type": "stream",
     "text": [
      "root\n",
      " |-- CUP_ID_CUPOM: long (nullable = true)\n",
      " |-- PES_NU_CPFCNPJ: long (nullable = true)\n",
      " |-- TRA_CD_TRANSACAO: long (nullable = true)\n",
      "\n"
     ]
    }
   ],
   "source": [
    "dfCupomFilter.printSchema()"
   ]
  },
  {
   "cell_type": "code",
   "execution_count": 31,
   "metadata": {
    "collapsed": false,
    "scrolled": true
   },
   "outputs": [
    {
     "data": {
      "text/plain": [
       "13945016"
      ]
     },
     "execution_count": 31,
     "metadata": {},
     "output_type": "execute_result"
    }
   ],
   "source": [
    "dfPeopleFilter=dfPeople.select('PEOPLESERNO','SSNUMBER').withColumn('SSNUMBER',dfPeople[\"SSNUMBER\"].cast('long')).persist()\n",
    "dfPeopleFilter.count()"
   ]
  },
  {
   "cell_type": "code",
   "execution_count": 32,
   "metadata": {
    "collapsed": false,
    "scrolled": false
   },
   "outputs": [
    {
     "name": "stdout",
     "output_type": "stream",
     "text": [
      "root\n",
      " |-- PEOPLESERNO: long (nullable = true)\n",
      " |-- SSNUMBER: long (nullable = true)\n",
      "\n"
     ]
    }
   ],
   "source": [
    "dfPeopleFilter.printSchema()"
   ]
  },
  {
   "cell_type": "code",
   "execution_count": 35,
   "metadata": {
    "collapsed": false
   },
   "outputs": [],
   "source": [
    "dfAccountsFilter=dfAccounts.select('ACCOUNTSERNO','PEOPLESERNOFK')\n",
    "#dfAccountsFilter.persist().count()"
   ]
  },
  {
   "cell_type": "code",
   "execution_count": 36,
   "metadata": {
    "collapsed": false
   },
   "outputs": [],
   "source": [
    "# #EJECUCIÓN POR PASOS, SI NO FUNCIONA LA COMPLETA\n",
    "\n",
    "# dftest1=dfCupomFilter.join(dfTransacaoFilter,dfCupomFilter.TRA_CD_TRANSACAO==dfTransacaoFilter.TRA_CD_TRANSACAO,\"left_outer\") \\\n",
    "#     .drop(dfCupomFilter.TRA_CD_TRANSACAO).drop(dfTransacaoFilter.TRA_CD_TRANSACAO)\n",
    "# # dftest1.persist()\n",
    "# # dftest1.count()\n",
    "\n",
    "# dftest1.printSchema()\n",
    "\n",
    "# dftest1.printSchema()\n",
    "\n",
    "# dftest1.write.parquet(\"/analytics/bc1_clustering/tables/dftest1\")\n",
    "\n",
    "# dftest1=spark.read.parquet(\"/analytics/bc1_clustering/tables/dftest1\")\n",
    "\n",
    "# dftest2=dftest1.join(dfPeopleFilter,dftest1.PES_NU_CPFCNPJ==dfPeopleFilter.SSNUMBER,\"left_outer\")\n",
    "# # dftest2.persist()\n",
    "# # dftest2.count()\n",
    "\n",
    "# dftest2.write.parquet(\"/analytics/bc1_clustering/tables/dftest2\")\n",
    "\n",
    "# dftest1.unpersist()\n",
    "\n",
    "# dfPeopleFilter.unpersist()\n",
    "\n",
    "# dfAccountsFilter.printSchema()\n",
    "\n",
    "# dftest3=dftest2.join(dfAccountsFilter,dftest2.PEOPLESERNO==dfAccountsFilter.PEOPLESERNOFK,\"left_outer\")\n",
    "# # dftest3.persist()\n",
    "# # dftest3.count()\n",
    "\n",
    "# dftest3.write.parquet(\"/analytics/bc1_clustering/tables/dftest3\")\n",
    "\n",
    "# dftest2.unpersist()\n",
    "\n",
    "# new_column_1 = expr(\n",
    "#     \"\"\"IF(CTA_CD_CONTA IS NULL, ACCOUNTSERNO, CTA_CD_CONTA)\"\"\"\n",
    "# )\n",
    "\n",
    "# dfTemp=dftest3.filter(col(\"CTA_CD_CONTA\").isNotNull() | col(\"ACCOUNTSERNO\").isNotNull()) \\\n",
    "#     .withColumn(\"ACCOUNTPK\",new_column_1)\n",
    "# # dfTemp.persist()\n",
    "# # dfTemp.count()\n",
    "\n",
    "# dftest3.unpersist()"
   ]
  },
  {
   "cell_type": "code",
   "execution_count": 37,
   "metadata": {
    "collapsed": false
   },
   "outputs": [],
   "source": [
    "#CON ACCOUNT Y MONTO DE DINERO POR PRODUCTO\n",
    "new_column_1 = expr(\n",
    "    \"\"\"IF(CTA_CD_CONTA IS NULL, ACCOUNTSERNO, CTA_CD_CONTA)\"\"\"\n",
    ")\n",
    "\n",
    "dfTemp= dfCupomFilter.join(dfTransacaoFilter,dfCupomFilter.TRA_CD_TRANSACAO==dfTransacaoFilter.TRA_CD_TRANSACAO,\"left_outer\") \\\n",
    "    .drop(dfCupomFilter.TRA_CD_TRANSACAO).drop(dfTransacaoFilter.TRA_CD_TRANSACAO) \\\n",
    "    .join(dfPeopleFilter,dfCupomFilter.PES_NU_CPFCNPJ==dfPeopleFilter.SSNUMBER,\"left_outer\") \\\n",
    "    .join(dfAccountsFilter,dfPeopleFilter.PEOPLESERNO==dfAccountsFilter.PEOPLESERNOFK,\"left_outer\") \\\n",
    "    .filter(col(\"CTA_CD_CONTA\").isNotNull() | col(\"ACCOUNTSERNO\").isNotNull()) \\\n",
    "    .withColumn(\"ACCOUNTPK\",new_column_1) #.persist()"
   ]
  },
  {
   "cell_type": "code",
   "execution_count": null,
   "metadata": {
    "collapsed": false
   },
   "outputs": [],
   "source": [
    "#CON ACCOUNT Y MONTO DE DINERO POR PRODUCTO\n",
    "# new_column_1 = expr(\n",
    "#     \"\"\"IF(CTA_CD_CONTA IS NULL, ACCOUNTSERNO, CTA_CD_CONTA)\"\"\"\n",
    "# )\n",
    "\n",
    "# dfTemp= dfCupom.join(dfTransacao,dfCupom.TRA_CD_TRANSACAO==dfTransacao.TRA_CD_TRANSACAO,\"left_outer\") \\\n",
    "#     .join(dfPeople,dfCupom.PES_NU_CPFCNPJ==dfPeople.SSNUMBER,\"left_outer\") \\\n",
    "#     .join(dfAccounts,dfPeople.PEOPLESERNO==dfAccounts.PEOPLESERNOFK,\"left_outer\") \\\n",
    "#     .filter(col(\"CTA_CD_CONTA\").isNotNull() | col(\"ACCOUNTSERNO\").isNotNull()) \\\n",
    "#     .withColumn(\"ACCOUNTPK\",new_column_1) #.persist()"
   ]
  },
  {
   "cell_type": "code",
   "execution_count": null,
   "metadata": {
    "collapsed": false
   },
   "outputs": [],
   "source": [
    "dfTemp.persist()"
   ]
  },
  {
   "cell_type": "code",
   "execution_count": null,
   "metadata": {
    "collapsed": false
   },
   "outputs": [],
   "source": [
    "dfTemp.count()\n",
    "# dfCupom.unpersist() 29032591\n",
    "# dfTransacao.unpersist()"
   ]
  },
  {
   "cell_type": "code",
   "execution_count": null,
   "metadata": {
    "collapsed": false,
    "scrolled": true
   },
   "outputs": [],
   "source": [
    "dfTemp.groupBy(\"CUP_ID_CUPOM\",\"ACCOUNTPK\").count().where(col('count')>1).show(5)"
   ]
  },
  {
   "cell_type": "code",
   "execution_count": null,
   "metadata": {
    "collapsed": true
   },
   "outputs": [],
   "source": [
    "dfTemp.groupBy(\"CUP_ID_CUPOM\",\"ACCOUNTPK\").count().groupBy('count').count().show(50)"
   ]
  },
  {
   "cell_type": "code",
   "execution_count": 38,
   "metadata": {
    "collapsed": false
   },
   "outputs": [],
   "source": [
    "#CREACIÓN DEL DATAFRAME REDUCIDO\n",
    "dfTempRed=dfTemp.select(\"CUP_ID_CUPOM\",\"ACCOUNTPK\").distinct()"
   ]
  },
  {
   "cell_type": "code",
   "execution_count": null,
   "metadata": {
    "collapsed": false,
    "scrolled": true
   },
   "outputs": [],
   "source": [
    "dfTempRed.groupBy(\"CUP_ID_CUPOM\").count().where(col('count')>1).count()\n",
    "#dfTempRed.groupBy(\"CUP_ID_CUPOM\").count().where(col('count')>1).show(5)"
   ]
  },
  {
   "cell_type": "code",
   "execution_count": null,
   "metadata": {
    "collapsed": false
   },
   "outputs": [],
   "source": [
    "# dfTemp2.unpersist()"
   ]
  },
  {
   "cell_type": "code",
   "execution_count": null,
   "metadata": {
    "collapsed": false,
    "scrolled": true
   },
   "outputs": [],
   "source": [
    "dfTempRed.filter(col(\"CUP_ID_CUPOM\")==1496147340).show(5)"
   ]
  },
  {
   "cell_type": "code",
   "execution_count": null,
   "metadata": {
    "collapsed": false
   },
   "outputs": [],
   "source": [
    "dfTempRed.select(\"CUP_ID_CUPOM\").distinct().count()\n",
    "#28586691"
   ]
  },
  {
   "cell_type": "code",
   "execution_count": null,
   "metadata": {
    "collapsed": false
   },
   "outputs": [],
   "source": [
    "dfTempRed.write.parquet(\"/analytics/bc1_clustering/tables/dfTempRedVal19Dic\")"
   ]
  },
  {
   "cell_type": "code",
   "execution_count": 61,
   "metadata": {
    "collapsed": true
   },
   "outputs": [],
   "source": [
    "dfTempRed=spark.read.parquet(\"/analytics/bc1_clustering/tables/dfTempRedVal19Dic\")"
   ]
  },
  {
   "cell_type": "code",
   "execution_count": null,
   "metadata": {
    "collapsed": false
   },
   "outputs": [],
   "source": [
    "# #CHEQUEO\n",
    "# # ACCOUNT 11030376 GROUP 101054 MONEY 150.64\n",
    "# dfTest=dfTempRed.filter(col(\"ACCOUNTPK\")==11030376)\n",
    "\n",
    "# dfTest2=dfItemcupom.join(broadcast(dfTest),dfItemcupom.CUP_ID_CUPOM==dfTest.CUP_ID_CUPOM).persist()\n",
    "\n",
    "# dfTest3=dfTest2.join(broadcast(dfEM),dfTest2.IVA_CD_ITEM==dfEM.IVA_CD_ITEM).filter(col(\"PRF_CD_GRUPO\")==101054).persist()\n",
    "\n",
    "# dfTest3.agg(sum(\"ICU_VL_ITENS\")).show(5)"
   ]
  },
  {
   "cell_type": "code",
   "execution_count": 39,
   "metadata": {
    "collapsed": false
   },
   "outputs": [],
   "source": [
    "#DESDE TempRed\n",
    "\n",
    "dfTemp2=dfTempRed.join(dfItemcupom,dfTempRed.CUP_ID_CUPOM==dfItemcupom.CUP_ID_CUPOM).groupBy(\"ACCOUNTPK\",\"IVA_CD_ITEM\") \\\n",
    "    .agg(sum('ICU_VL_ITENS').alias('PURCHASES')).join(broadcast(dfEM),dfItemcupom.IVA_CD_ITEM==dfEM.IVA_CD_ITEM)\n",
    "\n",
    "\n",
    "#DESDE Temp\n",
    "# dfTemp2=dfTemp.join(dfItemcupom,dfTemp.CUP_ID_CUPOM==dfItemcupom.CUP_ID_CUPOM).groupBy(\"ACCOUNTPK\",\"IVA_CD_ITEM\") \\\n",
    "#     .agg(sum('ICU_VL_ITENS').alias('PURCHASES')).join(dfEM,dfItemcupom.IVA_CD_ITEM==dfEM.IVA_CD_ITEM).persist()"
   ]
  },
  {
   "cell_type": "code",
   "execution_count": null,
   "metadata": {
    "collapsed": false
   },
   "outputs": [],
   "source": [
    "dfTemp2.printSchema()"
   ]
  },
  {
   "cell_type": "code",
   "execution_count": null,
   "metadata": {
    "collapsed": false
   },
   "outputs": [],
   "source": [
    "dfTemp.show(5)"
   ]
  },
  {
   "cell_type": "code",
   "execution_count": null,
   "metadata": {
    "collapsed": false
   },
   "outputs": [],
   "source": [
    "dfTemp2.show(5)"
   ]
  },
  {
   "cell_type": "code",
   "execution_count": null,
   "metadata": {
    "collapsed": false,
    "scrolled": true
   },
   "outputs": [],
   "source": [
    "#CON LISTA DE CATEGORIAS ENCONTRADAS\n",
    "dfBuffer=dfTemp2.groupBy(\"ACCOUNTPK\").pivot(\"PRF_CD_SUBFAMILIA\").sum(\"PURCHASES\")\n",
    "\n",
    "#CON LISTA COMPLETA DE EST. MERCADOLOGICA\n",
    "#dfBuffer=dfTemp2.groupBy(\"ACCOUNTPK\").pivot(\"PRF_CD_GRUPO\",groupList).sum(\"PURCHASES\").persist()"
   ]
  },
  {
   "cell_type": "code",
   "execution_count": null,
   "metadata": {
    "collapsed": false,
    "scrolled": false
   },
   "outputs": [],
   "source": [
    "#dfBuffer.unpersist()\n",
    "#dfTemp2.filter(dfTemp2['ACCOUNTPK']==3796007).groupBy('ACCOUNTPK','PRF_CD_GRUPO').sum('PURCHASES').show()"
   ]
  },
  {
   "cell_type": "code",
   "execution_count": null,
   "metadata": {
    "collapsed": false
   },
   "outputs": [],
   "source": [
    "len(dfBuffer.columns)"
   ]
  },
  {
   "cell_type": "code",
   "execution_count": null,
   "metadata": {
    "collapsed": false
   },
   "outputs": [],
   "source": [
    "dfBuffer.show(5)"
   ]
  },
  {
   "cell_type": "markdown",
   "metadata": {},
   "source": [
    "### User - Financial Product"
   ]
  },
  {
   "cell_type": "code",
   "execution_count": null,
   "metadata": {
    "collapsed": true
   },
   "outputs": [],
   "source": [
    "#CARGAR dfTrantsysTratada más abajo"
   ]
  },
  {
   "cell_type": "code",
   "execution_count": 66,
   "metadata": {
    "collapsed": false
   },
   "outputs": [],
   "source": [
    "BCdfCodeproducts=broadcast(dfCodeproducts.select(\"SERNO\",\"PRODUTO\"))"
   ]
  },
  {
   "cell_type": "code",
   "execution_count": 67,
   "metadata": {
    "collapsed": false
   },
   "outputs": [],
   "source": [
    "dfTempTranTsys=dfTrantsysTratada.where((col('I013_TRXN_DATE')>='20151101') & (col('I013_TRXN_DATE')<'20171101')) \\\n",
    "    .groupBy(\"ACCOUNTSERNOFK\",\"PRODUTO\").agg(count('*').alias('TRANSACTIONS'))"
   ]
  },
  {
   "cell_type": "code",
   "execution_count": 68,
   "metadata": {
    "collapsed": false
   },
   "outputs": [],
   "source": [
    "# dfTempTranTsys=dfTrantsys.join(BCdfCodeproducts,BCdfCodeproducts.SERNO==dfTrantsys.TYPESERNO_GLEDGER) \\\n",
    "#     .groupBy(\"ACCOUNTSERNOFK\",\"PRODUTO\").agg(count('SERNO').alias('TRANSACTIONS'))"
   ]
  },
  {
   "cell_type": "code",
   "execution_count": 69,
   "metadata": {
    "collapsed": false
   },
   "outputs": [
    {
     "name": "stdout",
     "output_type": "stream",
     "text": [
      "root\n",
      " |-- ACCOUNTSERNOFK: long (nullable = true)\n",
      " |-- PRODUTO: string (nullable = true)\n",
      " |-- TRANSACTIONS: long (nullable = false)\n",
      "\n"
     ]
    }
   ],
   "source": [
    "dfTempTranTsys.printSchema()"
   ]
  },
  {
   "cell_type": "code",
   "execution_count": null,
   "metadata": {
    "collapsed": true
   },
   "outputs": [],
   "source": [
    "# dfTempTranTsys.write.parquet(\"/analytics/bc1_clustering/tables/dfTempTranTsys\")"
   ]
  },
  {
   "cell_type": "code",
   "execution_count": null,
   "metadata": {
    "collapsed": true
   },
   "outputs": [],
   "source": [
    "# dfTempTranTsys=spark.read.parquet(\"/analytics/bc1_clustering/tables/dfTempTranTsys\")"
   ]
  },
  {
   "cell_type": "code",
   "execution_count": null,
   "metadata": {
    "collapsed": true
   },
   "outputs": [],
   "source": [
    "# #CON ACCOUNT\n",
    "# dfTempTsys=dfTempRed.select(\"ACCOUNTPK\").distinct() \\\n",
    "#     .join(dfTempTranTsys,dfTempTranTsys.ACCOUNTSERNOFK==dfTempRed.ACCOUNTPK) "
   ]
  },
  {
   "cell_type": "code",
   "execution_count": null,
   "metadata": {
    "collapsed": false
   },
   "outputs": [],
   "source": [
    "# dfTsys=dfTempTsys.groupBy(\"ACCOUNTPK\").pivot(\"PRODUTO\").sum(\"TRANSACTIONS\").fillna(0)"
   ]
  },
  {
   "cell_type": "code",
   "execution_count": 70,
   "metadata": {
    "collapsed": true
   },
   "outputs": [],
   "source": [
    "dfTsys=dfTempTranTsys.groupBy(\"ACCOUNTSERNOFK\").pivot(\"PRODUTO\").sum(\"TRANSACTIONS\").fillna(0)"
   ]
  },
  {
   "cell_type": "code",
   "execution_count": 71,
   "metadata": {
    "collapsed": false
   },
   "outputs": [
    {
     "data": {
      "text/plain": [
       "3156089"
      ]
     },
     "execution_count": 71,
     "metadata": {},
     "output_type": "execute_result"
    }
   ],
   "source": [
    "dfTsys.count()"
   ]
  },
  {
   "cell_type": "code",
   "execution_count": 72,
   "metadata": {
    "collapsed": false,
    "scrolled": true
   },
   "outputs": [
    {
     "data": {
      "text/plain": [
       "29019"
      ]
     },
     "execution_count": 72,
     "metadata": {},
     "output_type": "execute_result"
    }
   ],
   "source": [
    "dfTsys.filter(col(\"Emprestimo_Pessoal\")>0).count()"
   ]
  },
  {
   "cell_type": "code",
   "execution_count": 73,
   "metadata": {
    "collapsed": true
   },
   "outputs": [],
   "source": [
    "dfTsys.createOrReplaceTempView(\"tTsys\")"
   ]
  },
  {
   "cell_type": "code",
   "execution_count": 74,
   "metadata": {
    "collapsed": false
   },
   "outputs": [],
   "source": [
    "dfTsysBin=spark.sql(\"\"\"SELECT ACCOUNTSERNOFK as ACCOUNTPK, \n",
    "    SUM(CASE WHEN Emprestimo_Pessoal>0 THEN 1 ELSE 0 END) Emprestimo_Pessoal,\n",
    "    SUM(CASE WHEN Pagamento_de_Contas>0 THEN 1 ELSE 0 END) Pagamento_de_Contas, \n",
    "    SUM(CASE WHEN Parcelamento_Fatura_Automatico>0 THEN 1 ELSE 0 END) Parcelamento_Fatura_Automatico, \n",
    "    SUM(CASE WHEN Parcelamento_Fatura_Facil>0 THEN 1 ELSE 0 END) Parcelamento_Fatura_Facil, \n",
    "    SUM(CASE WHEN Saque_Parcelado>0 THEN 1 ELSE 0 END) Saque_Parcelado, \n",
    "    SUM(CASE WHEN Saque_a_Vista>0 THEN 1 ELSE 0 END) Saque_a_Vista,\n",
    "    SUM(CASE WHEN Overlimit>0 THEN 1 ELSE 0 END) Overlimit\n",
    "    from tTsys group by ACCOUNTSERNOFK \"\"\")"
   ]
  },
  {
   "cell_type": "code",
   "execution_count": 75,
   "metadata": {
    "collapsed": false
   },
   "outputs": [
    {
     "name": "stdout",
     "output_type": "stream",
     "text": [
      "root\n",
      " |-- ACCOUNTPK: long (nullable = true)\n",
      " |-- Emprestimo_Pessoal: long (nullable = true)\n",
      " |-- Pagamento_de_Contas: long (nullable = true)\n",
      " |-- Parcelamento_Fatura_Automatico: long (nullable = true)\n",
      " |-- Parcelamento_Fatura_Facil: long (nullable = true)\n",
      " |-- Saque_Parcelado: long (nullable = true)\n",
      " |-- Saque_a_Vista: long (nullable = true)\n",
      " |-- Overlimit: long (nullable = true)\n",
      "\n"
     ]
    }
   ],
   "source": [
    "dfTsysBin.printSchema()"
   ]
  },
  {
   "cell_type": "code",
   "execution_count": null,
   "metadata": {
    "collapsed": false
   },
   "outputs": [],
   "source": [
    "dfTsysBin.describe().toPandas()"
   ]
  },
  {
   "cell_type": "markdown",
   "metadata": {},
   "source": [
    "### Off-us"
   ]
  },
  {
   "cell_type": "code",
   "execution_count": null,
   "metadata": {
    "collapsed": false
   },
   "outputs": [],
   "source": [
    "# dfProdOffUs=broadcast(dfCodeproducts.select(\"SERNO\",\"PRODUTO\").where(col('PRODUTO')=='Off_Us'))"
   ]
  },
  {
   "cell_type": "code",
   "execution_count": null,
   "metadata": {
    "collapsed": false,
    "scrolled": true
   },
   "outputs": [],
   "source": [
    "# dfProdOffUs.printSchema()"
   ]
  },
  {
   "cell_type": "code",
   "execution_count": 76,
   "metadata": {
    "collapsed": false
   },
   "outputs": [],
   "source": [
    "dfOffUs=dfTrantsysTratada.where(col('PRODUTO')=='Off_Us') \\\n",
    "    .where((col('I013_TRXN_DATE')>='20161101') & (col('I013_TRXN_DATE')<'20171101')) \\\n",
    "    .where(col('STGENERAL')!='REJC') \\\n",
    "    .select('ACCOUNTSERNOFK','I018_MERCH_TYPE','AMOUNT') \\\n",
    "    .groupBy(\"ACCOUNTSERNOFK\").pivot(\"I018_MERCH_TYPE\").sum(\"AMOUNT\").fillna(0)"
   ]
  },
  {
   "cell_type": "code",
   "execution_count": 77,
   "metadata": {
    "collapsed": true
   },
   "outputs": [],
   "source": [
    "# dfOffUs=dfTrantsys.join(dfProdOffUs,dfProdOffUs.SERNO==dfTrantsys.TYPESERNO_GLEDGER).where(col('STGENERAL')!='REJC') \\\n",
    "#     .select('ACCOUNTSERNOFK','I018_MERCH_TYPE','AMOUNT') \\\n",
    "#     .groupBy(\"ACCOUNTSERNOFK\").pivot(\"I018_MERCH_TYPE\").sum(\"AMOUNT\").fillna(0)"
   ]
  },
  {
   "cell_type": "code",
   "execution_count": 78,
   "metadata": {
    "collapsed": false
   },
   "outputs": [
    {
     "name": "stdout",
     "output_type": "stream",
     "text": [
      "root\n",
      " |-- ACCOUNTSERNOFK: long (nullable = true)\n",
      " |-- : double (nullable = false)\n",
      " |-- 0742: double (nullable = false)\n",
      " |-- 0763: double (nullable = false)\n",
      " |-- 0780: double (nullable = false)\n",
      " |-- 1520: double (nullable = false)\n",
      " |-- 1711: double (nullable = false)\n",
      " |-- 1731: double (nullable = false)\n",
      " |-- 1740: double (nullable = false)\n",
      " |-- 1750: double (nullable = false)\n",
      " |-- 1761: double (nullable = false)\n",
      " |-- 1771: double (nullable = false)\n",
      " |-- 1799: double (nullable = false)\n",
      " |-- 2741: double (nullable = false)\n",
      " |-- 2791: double (nullable = false)\n",
      " |-- 2842: double (nullable = false)\n",
      " |-- 3000: double (nullable = false)\n",
      " |-- 3001: double (nullable = false)\n",
      " |-- 3005: double (nullable = false)\n",
      " |-- 3007: double (nullable = false)\n",
      " |-- 3008: double (nullable = false)\n",
      " |-- 3009: double (nullable = false)\n",
      " |-- 3010: double (nullable = false)\n",
      " |-- 3011: double (nullable = false)\n",
      " |-- 3012: double (nullable = false)\n",
      " |-- 3013: double (nullable = false)\n",
      " |-- 3015: double (nullable = false)\n",
      " |-- 3016: double (nullable = false)\n",
      " |-- 3017: double (nullable = false)\n",
      " |-- 3018: double (nullable = false)\n",
      " |-- 3020: double (nullable = false)\n",
      " |-- 3025: double (nullable = false)\n",
      " |-- 3026: double (nullable = false)\n",
      " |-- 3028: double (nullable = false)\n",
      " |-- 3029: double (nullable = false)\n",
      " |-- 3030: double (nullable = false)\n",
      " |-- 3034: double (nullable = false)\n",
      " |-- 3035: double (nullable = false)\n",
      " |-- 3039: double (nullable = false)\n",
      " |-- 3042: double (nullable = false)\n",
      " |-- 3043: double (nullable = false)\n",
      " |-- 3047: double (nullable = false)\n",
      " |-- 3048: double (nullable = false)\n",
      " |-- 3051: double (nullable = false)\n",
      " |-- 3052: double (nullable = false)\n",
      " |-- 3056: double (nullable = false)\n",
      " |-- 3057: double (nullable = false)\n",
      " |-- 3058: double (nullable = false)\n",
      " |-- 3066: double (nullable = false)\n",
      " |-- 3069: double (nullable = false)\n",
      " |-- 3076: double (nullable = false)\n",
      " |-- 3077: double (nullable = false)\n",
      " |-- 3079: double (nullable = false)\n",
      " |-- 3082: double (nullable = false)\n",
      " |-- 3088: double (nullable = false)\n",
      " |-- 3098: double (nullable = false)\n",
      " |-- 3102: double (nullable = false)\n",
      " |-- 3127: double (nullable = false)\n",
      " |-- 3132: double (nullable = false)\n",
      " |-- 3136: double (nullable = false)\n",
      " |-- 3161: double (nullable = false)\n",
      " |-- 3171: double (nullable = false)\n",
      " |-- 3174: double (nullable = false)\n",
      " |-- 3180: double (nullable = false)\n",
      " |-- 3182: double (nullable = false)\n",
      " |-- 3187: double (nullable = false)\n",
      " |-- 3211: double (nullable = false)\n",
      " |-- 3217: double (nullable = false)\n",
      " |-- 3219: double (nullable = false)\n",
      " |-- 3221: double (nullable = false)\n",
      " |-- 3239: double (nullable = false)\n",
      " |-- 3245: double (nullable = false)\n",
      " |-- 3246: double (nullable = false)\n",
      " |-- 3247: double (nullable = false)\n",
      " |-- 3248: double (nullable = false)\n",
      " |-- 3256: double (nullable = false)\n",
      " |-- 3260: double (nullable = false)\n",
      " |-- 3261: double (nullable = false)\n",
      " |-- 3294: double (nullable = false)\n",
      " |-- 3296: double (nullable = false)\n",
      " |-- 3351: double (nullable = false)\n",
      " |-- 3355: double (nullable = false)\n",
      " |-- 3357: double (nullable = false)\n",
      " |-- 3359: double (nullable = false)\n",
      " |-- 3364: double (nullable = false)\n",
      " |-- 3366: double (nullable = false)\n",
      " |-- 3374: double (nullable = false)\n",
      " |-- 3381: double (nullable = false)\n",
      " |-- 3387: double (nullable = false)\n",
      " |-- 3389: double (nullable = false)\n",
      " |-- 3390: double (nullable = false)\n",
      " |-- 3393: double (nullable = false)\n",
      " |-- 3395: double (nullable = false)\n",
      " |-- 3405: double (nullable = false)\n",
      " |-- 3441: double (nullable = false)\n",
      " |-- 3501: double (nullable = false)\n",
      " |-- 3502: double (nullable = false)\n",
      " |-- 3503: double (nullable = false)\n",
      " |-- 3504: double (nullable = false)\n",
      " |-- 3505: double (nullable = false)\n",
      " |-- 3506: double (nullable = false)\n",
      " |-- 3508: double (nullable = false)\n",
      " |-- 3509: double (nullable = false)\n",
      " |-- 3510: double (nullable = false)\n",
      " |-- 3512: double (nullable = false)\n",
      " |-- 3513: double (nullable = false)\n",
      " |-- 3515: double (nullable = false)\n",
      " |-- 3516: double (nullable = false)\n",
      " |-- 3517: double (nullable = false)\n",
      " |-- 3528: double (nullable = false)\n",
      " |-- 3530: double (nullable = false)\n",
      " |-- 3533: double (nullable = false)\n",
      " |-- 3535: double (nullable = false)\n",
      " |-- 3543: double (nullable = false)\n",
      " |-- 3548: double (nullable = false)\n",
      " |-- 3549: double (nullable = false)\n",
      " |-- 3553: double (nullable = false)\n",
      " |-- 3555: double (nullable = false)\n",
      " |-- 3562: double (nullable = false)\n",
      " |-- 3563: double (nullable = false)\n",
      " |-- 3567: double (nullable = false)\n",
      " |-- 3579: double (nullable = false)\n",
      " |-- 3581: double (nullable = false)\n",
      " |-- 3583: double (nullable = false)\n",
      " |-- 3584: double (nullable = false)\n",
      " |-- 3586: double (nullable = false)\n",
      " |-- 3590: double (nullable = false)\n",
      " |-- 3591: double (nullable = false)\n",
      " |-- 3596: double (nullable = false)\n",
      " |-- 3602: double (nullable = false)\n",
      " |-- 3604: double (nullable = false)\n",
      " |-- 3607: double (nullable = false)\n",
      " |-- 3608: double (nullable = false)\n",
      " |-- 3612: double (nullable = false)\n",
      " |-- 3615: double (nullable = false)\n",
      " |-- 3617: double (nullable = false)\n",
      " |-- 3621: double (nullable = false)\n",
      " |-- 3625: double (nullable = false)\n",
      " |-- 3628: double (nullable = false)\n",
      " |-- 3629: double (nullable = false)\n",
      " |-- 3631: double (nullable = false)\n",
      " |-- 3637: double (nullable = false)\n",
      " |-- 3638: double (nullable = false)\n",
      " |-- 3640: double (nullable = false)\n",
      " |-- 3641: double (nullable = false)\n",
      " |-- 3642: double (nullable = false)\n",
      " |-- 3644: double (nullable = false)\n",
      " |-- 3649: double (nullable = false)\n",
      " |-- 3650: double (nullable = false)\n",
      " |-- 3654: double (nullable = false)\n",
      " |-- 3655: double (nullable = false)\n",
      " |-- 3656: double (nullable = false)\n",
      " |-- 3660: double (nullable = false)\n",
      " |-- 3662: double (nullable = false)\n",
      " |-- 3665: double (nullable = false)\n",
      " |-- 3667: double (nullable = false)\n",
      " |-- 3668: double (nullable = false)\n",
      " |-- 3672: double (nullable = false)\n",
      " |-- 3676: double (nullable = false)\n",
      " |-- 3680: double (nullable = false)\n",
      " |-- 3687: double (nullable = false)\n",
      " |-- 3690: double (nullable = false)\n",
      " |-- 3692: double (nullable = false)\n",
      " |-- 3693: double (nullable = false)\n",
      " |-- 3695: double (nullable = false)\n",
      " |-- 3700: double (nullable = false)\n",
      " |-- 3703: double (nullable = false)\n",
      " |-- 3709: double (nullable = false)\n",
      " |-- 3715: double (nullable = false)\n",
      " |-- 3719: double (nullable = false)\n",
      " |-- 3721: double (nullable = false)\n",
      " |-- 3722: double (nullable = false)\n",
      " |-- 3726: double (nullable = false)\n",
      " |-- 3728: double (nullable = false)\n",
      " |-- 3730: double (nullable = false)\n",
      " |-- 3731: double (nullable = false)\n",
      " |-- 3737: double (nullable = false)\n",
      " |-- 3742: double (nullable = false)\n",
      " |-- 3750: double (nullable = false)\n",
      " |-- 3751: double (nullable = false)\n",
      " |-- 3765: double (nullable = false)\n",
      " |-- 3769: double (nullable = false)\n",
      " |-- 3771: double (nullable = false)\n",
      " |-- 3773: double (nullable = false)\n",
      " |-- 3774: double (nullable = false)\n",
      " |-- 3778: double (nullable = false)\n",
      " |-- 3779: double (nullable = false)\n",
      " |-- 3780: double (nullable = false)\n",
      " |-- 3782: double (nullable = false)\n",
      " |-- 3792: double (nullable = false)\n",
      " |-- 3793: double (nullable = false)\n",
      " |-- 3795: double (nullable = false)\n",
      " |-- 3808: double (nullable = false)\n",
      " |-- 3811: double (nullable = false)\n",
      " |-- 3812: double (nullable = false)\n",
      " |-- 3813: double (nullable = false)\n",
      " |-- 3814: double (nullable = false)\n",
      " |-- 3816: double (nullable = false)\n",
      " |-- 3824: double (nullable = false)\n",
      " |-- 3825: double (nullable = false)\n",
      " |-- 3829: double (nullable = false)\n",
      " |-- 4011: double (nullable = false)\n",
      " |-- 4111: double (nullable = false)\n",
      " |-- 4112: double (nullable = false)\n",
      " |-- 4119: double (nullable = false)\n",
      " |-- 4121: double (nullable = false)\n",
      " |-- 4131: double (nullable = false)\n",
      " |-- 4214: double (nullable = false)\n",
      " |-- 4215: double (nullable = false)\n",
      " |-- 4225: double (nullable = false)\n",
      " |-- 4411: double (nullable = false)\n",
      " |-- 4457: double (nullable = false)\n",
      " |-- 4468: double (nullable = false)\n",
      " |-- 4511: double (nullable = false)\n",
      " |-- 4582: double (nullable = false)\n",
      " |-- 4722: double (nullable = false)\n",
      " |-- 4723: double (nullable = false)\n",
      " |-- 4784: double (nullable = false)\n",
      " |-- 4789: double (nullable = false)\n",
      " |-- 4812: double (nullable = false)\n",
      " |-- 4813: double (nullable = false)\n",
      " |-- 4814: double (nullable = false)\n",
      " |-- 4816: double (nullable = false)\n",
      " |-- 4821: double (nullable = false)\n",
      " |-- 4829: double (nullable = false)\n",
      " |-- 4899: double (nullable = false)\n",
      " |-- 4900: double (nullable = false)\n",
      " |-- 5013: double (nullable = false)\n",
      " |-- 5021: double (nullable = false)\n",
      " |-- 5039: double (nullable = false)\n",
      " |-- 5044: double (nullable = false)\n",
      " |-- 5045: double (nullable = false)\n",
      " |-- 5046: double (nullable = false)\n",
      " |-- 5047: double (nullable = false)\n",
      " |-- 5051: double (nullable = false)\n",
      " |-- 5065: double (nullable = false)\n",
      " |-- 5072: double (nullable = false)\n",
      " |-- 5074: double (nullable = false)\n",
      " |-- 5085: double (nullable = false)\n",
      " |-- 5094: double (nullable = false)\n",
      " |-- 5099: double (nullable = false)\n",
      " |-- 5111: double (nullable = false)\n",
      " |-- 5122: double (nullable = false)\n",
      " |-- 5131: double (nullable = false)\n",
      " |-- 5137: double (nullable = false)\n",
      " |-- 5139: double (nullable = false)\n",
      " |-- 5169: double (nullable = false)\n",
      " |-- 5172: double (nullable = false)\n",
      " |-- 5192: double (nullable = false)\n",
      " |-- 5193: double (nullable = false)\n",
      " |-- 5198: double (nullable = false)\n",
      " |-- 5199: double (nullable = false)\n",
      " |-- 5200: double (nullable = false)\n",
      " |-- 5211: double (nullable = false)\n",
      " |-- 5231: double (nullable = false)\n",
      " |-- 5251: double (nullable = false)\n",
      " |-- 5261: double (nullable = false)\n",
      " |-- 5271: double (nullable = false)\n",
      " |-- 5300: double (nullable = false)\n",
      " |-- 5309: double (nullable = false)\n",
      " |-- 5310: double (nullable = false)\n",
      " |-- 5311: double (nullable = false)\n",
      " |-- 5331: double (nullable = false)\n",
      " |-- 5399: double (nullable = false)\n",
      " |-- 5411: double (nullable = false)\n",
      " |-- 5422: double (nullable = false)\n",
      " |-- 5441: double (nullable = false)\n",
      " |-- 5451: double (nullable = false)\n",
      " |-- 5462: double (nullable = false)\n",
      " |-- 5499: double (nullable = false)\n",
      " |-- 5511: double (nullable = false)\n",
      " |-- 5521: double (nullable = false)\n",
      " |-- 5531: double (nullable = false)\n",
      " |-- 5532: double (nullable = false)\n",
      " |-- 5533: double (nullable = false)\n",
      " |-- 5541: double (nullable = false)\n",
      " |-- 5542: double (nullable = false)\n",
      " |-- 5551: double (nullable = false)\n",
      " |-- 5561: double (nullable = false)\n",
      " |-- 5571: double (nullable = false)\n",
      " |-- 5592: double (nullable = false)\n",
      " |-- 5598: double (nullable = false)\n",
      " |-- 5599: double (nullable = false)\n",
      " |-- 5611: double (nullable = false)\n",
      " |-- 5621: double (nullable = false)\n",
      " |-- 5631: double (nullable = false)\n",
      " |-- 5641: double (nullable = false)\n",
      " |-- 5651: double (nullable = false)\n",
      " |-- 5655: double (nullable = false)\n",
      " |-- 5661: double (nullable = false)\n",
      " |-- 5681: double (nullable = false)\n",
      " |-- 5691: double (nullable = false)\n",
      " |-- 5697: double (nullable = false)\n",
      " |-- 5698: double (nullable = false)\n",
      " |-- 5699: double (nullable = false)\n",
      " |-- 5712: double (nullable = false)\n",
      " |-- 5713: double (nullable = false)\n",
      " |-- 5714: double (nullable = false)\n",
      " |-- 5718: double (nullable = false)\n",
      " |-- 5719: double (nullable = false)\n",
      " |-- 5722: double (nullable = false)\n",
      " |-- 5732: double (nullable = false)\n",
      " |-- 5733: double (nullable = false)\n",
      " |-- 5734: double (nullable = false)\n",
      " |-- 5735: double (nullable = false)\n",
      " |-- 5811: double (nullable = false)\n",
      " |-- 5812: double (nullable = false)\n",
      " |-- 5813: double (nullable = false)\n",
      " |-- 5814: double (nullable = false)\n",
      " |-- 5815: double (nullable = false)\n",
      " |-- 5816: double (nullable = false)\n",
      " |-- 5817: double (nullable = false)\n",
      " |-- 5818: double (nullable = false)\n",
      " |-- 5912: double (nullable = false)\n",
      " |-- 5921: double (nullable = false)\n",
      " |-- 5931: double (nullable = false)\n",
      " |-- 5932: double (nullable = false)\n",
      " |-- 5933: double (nullable = false)\n",
      " |-- 5935: double (nullable = false)\n",
      " |-- 5937: double (nullable = false)\n",
      " |-- 5940: double (nullable = false)\n",
      " |-- 5941: double (nullable = false)\n",
      " |-- 5942: double (nullable = false)\n",
      " |-- 5943: double (nullable = false)\n",
      " |-- 5944: double (nullable = false)\n",
      " |-- 5945: double (nullable = false)\n",
      " |-- 5946: double (nullable = false)\n",
      " |-- 5947: double (nullable = false)\n",
      " |-- 5948: double (nullable = false)\n",
      " |-- 5949: double (nullable = false)\n",
      " |-- 5950: double (nullable = false)\n",
      " |-- 5960: double (nullable = false)\n",
      " |-- 5962: double (nullable = false)\n",
      " |-- 5963: double (nullable = false)\n",
      " |-- 5964: double (nullable = false)\n",
      " |-- 5965: double (nullable = false)\n",
      " |-- 5966: double (nullable = false)\n",
      " |-- 5967: double (nullable = false)\n",
      " |-- 5968: double (nullable = false)\n",
      " |-- 5969: double (nullable = false)\n",
      " |-- 5970: double (nullable = false)\n",
      " |-- 5971: double (nullable = false)\n",
      " |-- 5972: double (nullable = false)\n",
      " |-- 5973: double (nullable = false)\n",
      " |-- 5975: double (nullable = false)\n",
      " |-- 5976: double (nullable = false)\n",
      " |-- 5977: double (nullable = false)\n",
      " |-- 5978: double (nullable = false)\n",
      " |-- 5983: double (nullable = false)\n",
      " |-- 5992: double (nullable = false)\n",
      " |-- 5993: double (nullable = false)\n",
      " |-- 5994: double (nullable = false)\n",
      " |-- 5995: double (nullable = false)\n",
      " |-- 5996: double (nullable = false)\n",
      " |-- 5997: double (nullable = false)\n",
      " |-- 5998: double (nullable = false)\n",
      " |-- 5999: double (nullable = false)\n",
      " |-- 6012: double (nullable = false)\n",
      " |-- 6051: double (nullable = false)\n",
      " |-- 6211: double (nullable = false)\n",
      " |-- 6300: double (nullable = false)\n",
      " |-- 6513: double (nullable = false)\n",
      " |-- 6540: double (nullable = false)\n",
      " |-- 7011: double (nullable = false)\n",
      " |-- 7012: double (nullable = false)\n",
      " |-- 7032: double (nullable = false)\n",
      " |-- 7033: double (nullable = false)\n",
      " |-- 7210: double (nullable = false)\n",
      " |-- 7211: double (nullable = false)\n",
      " |-- 7216: double (nullable = false)\n",
      " |-- 7217: double (nullable = false)\n",
      " |-- 7221: double (nullable = false)\n",
      " |-- 7230: double (nullable = false)\n",
      " |-- 7251: double (nullable = false)\n",
      " |-- 7261: double (nullable = false)\n",
      " |-- 7273: double (nullable = false)\n",
      " |-- 7276: double (nullable = false)\n",
      " |-- 7277: double (nullable = false)\n",
      " |-- 7278: double (nullable = false)\n",
      " |-- 7296: double (nullable = false)\n",
      " |-- 7297: double (nullable = false)\n",
      " |-- 7298: double (nullable = false)\n",
      " |-- 7299: double (nullable = false)\n",
      " |-- 7311: double (nullable = false)\n",
      " |-- 7321: double (nullable = false)\n",
      " |-- 7333: double (nullable = false)\n",
      " |-- 7338: double (nullable = false)\n",
      " |-- 7339: double (nullable = false)\n",
      " |-- 7342: double (nullable = false)\n",
      " |-- 7349: double (nullable = false)\n",
      " |-- 7361: double (nullable = false)\n",
      " |-- 7372: double (nullable = false)\n",
      " |-- 7375: double (nullable = false)\n",
      " |-- 7379: double (nullable = false)\n",
      " |-- 7392: double (nullable = false)\n",
      " |-- 7393: double (nullable = false)\n",
      " |-- 7394: double (nullable = false)\n",
      " |-- 7395: double (nullable = false)\n",
      " |-- 7399: double (nullable = false)\n",
      " |-- 7512: double (nullable = false)\n",
      " |-- 7513: double (nullable = false)\n",
      " |-- 7519: double (nullable = false)\n",
      " |-- 7523: double (nullable = false)\n",
      " |-- 7531: double (nullable = false)\n",
      " |-- 7534: double (nullable = false)\n",
      " |-- 7535: double (nullable = false)\n",
      " |-- 7538: double (nullable = false)\n",
      " |-- 7542: double (nullable = false)\n",
      " |-- 7549: double (nullable = false)\n",
      " |-- 7622: double (nullable = false)\n",
      " |-- 7623: double (nullable = false)\n",
      " |-- 7629: double (nullable = false)\n",
      " |-- 7631: double (nullable = false)\n",
      " |-- 7641: double (nullable = false)\n",
      " |-- 7692: double (nullable = false)\n",
      " |-- 7699: double (nullable = false)\n",
      " |-- 7829: double (nullable = false)\n",
      " |-- 7832: double (nullable = false)\n",
      " |-- 7841: double (nullable = false)\n",
      " |-- 7911: double (nullable = false)\n",
      " |-- 7922: double (nullable = false)\n",
      " |-- 7929: double (nullable = false)\n",
      " |-- 7932: double (nullable = false)\n",
      " |-- 7933: double (nullable = false)\n",
      " |-- 7941: double (nullable = false)\n",
      " |-- 7991: double (nullable = false)\n",
      " |-- 7992: double (nullable = false)\n",
      " |-- 7993: double (nullable = false)\n",
      " |-- 7994: double (nullable = false)\n",
      " |-- 7995: double (nullable = false)\n",
      " |-- 7996: double (nullable = false)\n",
      " |-- 7997: double (nullable = false)\n",
      " |-- 7998: double (nullable = false)\n",
      " |-- 7999: double (nullable = false)\n",
      " |-- 8011: double (nullable = false)\n",
      " |-- 8021: double (nullable = false)\n",
      " |-- 8031: double (nullable = false)\n",
      " |-- 8041: double (nullable = false)\n",
      " |-- 8042: double (nullable = false)\n",
      " |-- 8043: double (nullable = false)\n",
      " |-- 8049: double (nullable = false)\n",
      " |-- 8050: double (nullable = false)\n",
      " |-- 8062: double (nullable = false)\n",
      " |-- 8071: double (nullable = false)\n",
      " |-- 8099: double (nullable = false)\n",
      " |-- 8111: double (nullable = false)\n",
      " |-- 8211: double (nullable = false)\n",
      " |-- 8220: double (nullable = false)\n",
      " |-- 8241: double (nullable = false)\n",
      " |-- 8242: double (nullable = false)\n",
      " |-- 8244: double (nullable = false)\n",
      " |-- 8249: double (nullable = false)\n",
      " |-- 8299: double (nullable = false)\n",
      " |-- 8351: double (nullable = false)\n",
      " |-- 8398: double (nullable = false)\n",
      " |-- 8641: double (nullable = false)\n",
      " |-- 8651: double (nullable = false)\n",
      " |-- 8661: double (nullable = false)\n",
      " |-- 8675: double (nullable = false)\n",
      " |-- 8699: double (nullable = false)\n",
      " |-- 8734: double (nullable = false)\n",
      " |-- 8911: double (nullable = false)\n",
      " |-- 8931: double (nullable = false)\n",
      " |-- 8999: double (nullable = false)\n",
      " |-- 9211: double (nullable = false)\n",
      " |-- 9222: double (nullable = false)\n",
      " |-- 9311: double (nullable = false)\n",
      " |-- 9399: double (nullable = false)\n",
      " |-- 9402: double (nullable = false)\n",
      " |-- 9405: double (nullable = false)\n",
      "\n"
     ]
    }
   ],
   "source": [
    "dfOffUs.printSchema()"
   ]
  },
  {
   "cell_type": "markdown",
   "metadata": {},
   "source": [
    "### Definitive accounts"
   ]
  },
  {
   "cell_type": "code",
   "execution_count": 79,
   "metadata": {
    "collapsed": false
   },
   "outputs": [],
   "source": [
    "dfUniqueAcc=dfBuffer.select('ACCOUNTPK').union(dfOffUs.select('ACCOUNTSERNOFK')).distinct()"
   ]
  },
  {
   "cell_type": "code",
   "execution_count": 80,
   "metadata": {
    "collapsed": false,
    "scrolled": true
   },
   "outputs": [
    {
     "name": "stdout",
     "output_type": "stream",
     "text": [
      "root\n",
      " |-- ACCOUNTPK: long (nullable = true)\n",
      "\n"
     ]
    }
   ],
   "source": [
    "dfUniqueAcc.printSchema()"
   ]
  },
  {
   "cell_type": "code",
   "execution_count": 81,
   "metadata": {
    "collapsed": false
   },
   "outputs": [
    {
     "data": {
      "text/plain": [
       "3991865"
      ]
     },
     "execution_count": 81,
     "metadata": {},
     "output_type": "execute_result"
    }
   ],
   "source": [
    "dfUniqueAcc.count()"
   ]
  },
  {
   "cell_type": "code",
   "execution_count": 82,
   "metadata": {
    "collapsed": false
   },
   "outputs": [
    {
     "data": {
      "text/plain": [
       "3991865"
      ]
     },
     "execution_count": 82,
     "metadata": {},
     "output_type": "execute_result"
    }
   ],
   "source": [
    "dfUniqueAcc.select('ACCOUNTPK').distinct().count()"
   ]
  },
  {
   "cell_type": "code",
   "execution_count": 83,
   "metadata": {
    "collapsed": false
   },
   "outputs": [
    {
     "name": "stdout",
     "output_type": "stream",
     "text": [
      "+-------------------------+--------+\n",
      "|count(DISTINCT ACCOUNTPK)|count(1)|\n",
      "+-------------------------+--------+\n",
      "|                  3230266| 3230266|\n",
      "+-------------------------+--------+\n",
      "\n"
     ]
    }
   ],
   "source": [
    "dfBuffer.agg(countDistinct('ACCOUNTPK'),count('*')).show()\n",
    "#2648132| 2648132"
   ]
  },
  {
   "cell_type": "code",
   "execution_count": 84,
   "metadata": {
    "collapsed": false
   },
   "outputs": [
    {
     "name": "stdout",
     "output_type": "stream",
     "text": [
      "+------------------------------+--------+\n",
      "|count(DISTINCT ACCOUNTSERNOFK)|count(1)|\n",
      "+------------------------------+--------+\n",
      "|                       2477678| 2477678|\n",
      "+------------------------------+--------+\n",
      "\n"
     ]
    }
   ],
   "source": [
    "dfOffUs.agg(countDistinct('ACCOUNTSERNOFK'),count('*')).show()\n",
    "#3024473| 3024473"
   ]
  },
  {
   "cell_type": "code",
   "execution_count": 85,
   "metadata": {
    "collapsed": false
   },
   "outputs": [],
   "source": [
    "dfDefAcc=dfAccounts.join(dfUniqueAcc,dfUniqueAcc.ACCOUNTPK==dfAccounts.ACCOUNTSERNO) \\\n",
    "    .select(dfUniqueAcc.ACCOUNTPK,dfAccounts.CUSTSERNO,dfAccounts.BALANCE,dfAccounts.INSTALMENTBALANCEFOROVLMCHECK,dfAccounts.CREDITLIMIT )"
   ]
  },
  {
   "cell_type": "code",
   "execution_count": 86,
   "metadata": {
    "collapsed": false
   },
   "outputs": [
    {
     "name": "stdout",
     "output_type": "stream",
     "text": [
      "root\n",
      " |-- ACCOUNTPK: long (nullable = true)\n",
      " |-- CUSTSERNO: long (nullable = true)\n",
      " |-- BALANCE: double (nullable = true)\n",
      " |-- INSTALMENTBALANCEFOROVLMCHECK: double (nullable = true)\n",
      " |-- CREDITLIMIT: double (nullable = true)\n",
      "\n"
     ]
    }
   ],
   "source": [
    "dfDefAcc.printSchema()"
   ]
  },
  {
   "cell_type": "code",
   "execution_count": 87,
   "metadata": {
    "collapsed": false
   },
   "outputs": [
    {
     "data": {
      "text/plain": [
       "3991780"
      ]
     },
     "execution_count": 87,
     "metadata": {},
     "output_type": "execute_result"
    }
   ],
   "source": [
    "dfDefAcc.persist().count()"
   ]
  },
  {
   "cell_type": "code",
   "execution_count": 88,
   "metadata": {
    "collapsed": false
   },
   "outputs": [
    {
     "data": {
      "text/plain": [
       "3991780"
      ]
     },
     "execution_count": 88,
     "metadata": {},
     "output_type": "execute_result"
    }
   ],
   "source": [
    "dfDefAcc.select('ACCOUNTPK').distinct().count()"
   ]
  },
  {
   "cell_type": "markdown",
   "metadata": {},
   "source": [
    "### Overlimit Authorization"
   ]
  },
  {
   "cell_type": "code",
   "execution_count": 89,
   "metadata": {
    "collapsed": false
   },
   "outputs": [],
   "source": [
    "dfExtension2=dfExtension.where(to_date(col('REFDATE'))<'2017-11-01') \\\n",
    "    .where((col('ENTITY_INDICATOR')=='A') & (col('FIELD_NO')==1532))\n",
    "\n",
    "dfExtension2Max=dfExtension2.groupBy('ROW_SERNO').agg(max('REFDATE').alias('FECHAMAX'))\n",
    "\n",
    "dfExtension3=dfExtension2.join(dfExtension2Max,(dfExtension2Max.ROW_SERNO==dfExtension2.ROW_SERNO) & (dfExtension2Max.FECHAMAX==dfExtension2.REFDATE),'leftsemi')\n"
   ]
  },
  {
   "cell_type": "code",
   "execution_count": 90,
   "metadata": {
    "collapsed": false
   },
   "outputs": [],
   "source": [
    "dfOverlimitAuth=dfExtension3.groupBy('ROW_SERNO').agg(max('VALUE').alias('Overlimit_Auth')) \\\n",
    "    .withColumn('Overlimit_Auth',when(col('Overlimit_Auth')=='1',1).otherwise(0))\n",
    "#     .withColumn('Overlimit2',when(col('Overlimit')=='1',1).otherwise(0))"
   ]
  },
  {
   "cell_type": "code",
   "execution_count": 91,
   "metadata": {
    "collapsed": false,
    "scrolled": true
   },
   "outputs": [
    {
     "name": "stdout",
     "output_type": "stream",
     "text": [
      "root\n",
      " |-- ROW_SERNO: long (nullable = true)\n",
      " |-- Overlimit_Auth: integer (nullable = false)\n",
      "\n"
     ]
    }
   ],
   "source": [
    "dfOverlimitAuth.printSchema()"
   ]
  },
  {
   "cell_type": "code",
   "execution_count": 92,
   "metadata": {
    "collapsed": false
   },
   "outputs": [
    {
     "data": {
      "text/plain": [
       "DataFrame[ROW_SERNO: bigint, Overlimit_Auth: int]"
      ]
     },
     "execution_count": 92,
     "metadata": {},
     "output_type": "execute_result"
    }
   ],
   "source": [
    "dfOverlimitAuth.persist()"
   ]
  },
  {
   "cell_type": "code",
   "execution_count": 59,
   "metadata": {
    "collapsed": false,
    "scrolled": false
   },
   "outputs": [
    {
     "name": "stdout",
     "output_type": "stream",
     "text": [
      "+-------+--------------------+------------------+\n",
      "|summary|           ROW_SERNO|    Overlimit_Auth|\n",
      "+-------+--------------------+------------------+\n",
      "|  count|             2647548|           2647548|\n",
      "|   mean|1.0732928123612868E7|0.5972144792086866|\n",
      "| stddev|   3572317.003341495|0.4904583936376508|\n",
      "|    min|                  18|                 0|\n",
      "|    max|            13429722|                 1|\n",
      "+-------+--------------------+------------------+\n",
      "\n"
     ]
    }
   ],
   "source": [
    "dfOverlimitAuth.describe().show()"
   ]
  },
  {
   "cell_type": "code",
   "execution_count": 93,
   "metadata": {
    "collapsed": false
   },
   "outputs": [
    {
     "name": "stdout",
     "output_type": "stream",
     "text": [
      "+--------------+-------+\n",
      "|Overlimit_Auth|  count|\n",
      "+--------------+-------+\n",
      "|             1|1581154|\n",
      "|             0|1066394|\n",
      "+--------------+-------+\n",
      "\n"
     ]
    }
   ],
   "source": [
    "dfOverlimitAuth.groupBy('Overlimit_Auth').count().show()"
   ]
  },
  {
   "cell_type": "markdown",
   "metadata": {},
   "source": [
    "### Closing balance & Installments offers"
   ]
  },
  {
   "cell_type": "code",
   "execution_count": 94,
   "metadata": {
    "collapsed": true
   },
   "outputs": [],
   "source": [
    "dfStatementsMax=dfStatements.where(to_date(col('REFDATE'))<'2017-11-01') \\\n",
    "    .groupBy('ACC_SERNO').agg(max('REFDATE').alias('FECHAMAX'))\n",
    "\n",
    "dfStatements2=dfStatements.join(dfStatementsMax,(dfStatementsMax.ACC_SERNO==dfStatements.ACC_SERNO) & (dfStatementsMax.FECHAMAX==dfStatements.REFDATE),'leftsemi')\n",
    "\n",
    "# dfStatements2.printSchema()"
   ]
  },
  {
   "cell_type": "code",
   "execution_count": 95,
   "metadata": {
    "collapsed": true
   },
   "outputs": [],
   "source": [
    "dfStatementinstoffersMax=dfStatementinstoffers.groupBy('SERNO').agg(max('REFDATE').alias('FECHAMAX'))\n",
    "\n",
    "dfStatementinstoffers2=dfStatementinstoffers.join(dfStatementinstoffersMax,(dfStatementinstoffersMax.SERNO==dfStatementinstoffers.SERNO) & (dfStatementinstoffersMax.FECHAMAX==dfStatementinstoffers.REFDATE),'leftsemi')\n",
    "\n",
    "# dfStatementinstoffers2.printSchema()"
   ]
  },
  {
   "cell_type": "code",
   "execution_count": 96,
   "metadata": {
    "collapsed": false
   },
   "outputs": [],
   "source": [
    "dfClBalInstOff=dfStatements2.join(dfStatementinstoffers2, dfStatements2.SERNO==dfStatementinstoffers2.STMTSERNO, 'left_outer') \\\n",
    "    .groupBy('ACC_SERNO','CLOSING_BALANCE').agg(countDistinct(dfStatementinstoffers2['SERNO']).alias('INSTALLMENTSOFFERS'))\n",
    "#     .withColumnRenamed('count','INSTALLMENTSOFFERS')"
   ]
  },
  {
   "cell_type": "code",
   "execution_count": 97,
   "metadata": {
    "collapsed": false,
    "scrolled": false
   },
   "outputs": [
    {
     "name": "stdout",
     "output_type": "stream",
     "text": [
      "root\n",
      " |-- ACC_SERNO: long (nullable = true)\n",
      " |-- CLOSING_BALANCE: double (nullable = true)\n",
      " |-- INSTALLMENTSOFFERS: long (nullable = false)\n",
      "\n"
     ]
    }
   ],
   "source": [
    "dfClBalInstOff.printSchema()"
   ]
  },
  {
   "cell_type": "code",
   "execution_count": 98,
   "metadata": {
    "collapsed": false
   },
   "outputs": [
    {
     "data": {
      "text/plain": [
       "4105426"
      ]
     },
     "execution_count": 98,
     "metadata": {},
     "output_type": "execute_result"
    }
   ],
   "source": [
    "dfClBalInstOff.persist().count()"
   ]
  },
  {
   "cell_type": "code",
   "execution_count": 99,
   "metadata": {
    "collapsed": false
   },
   "outputs": [
    {
     "name": "stdout",
     "output_type": "stream",
     "text": [
      "+-------+------------------+\n",
      "|summary|INSTALLMENTSOFFERS|\n",
      "+-------+------------------+\n",
      "|  count|           4105426|\n",
      "|   mean| 5.233881697051658|\n",
      "| stddev| 4.130780233632609|\n",
      "|    min|                 0|\n",
      "|    max|                28|\n",
      "+-------+------------------+\n",
      "\n"
     ]
    }
   ],
   "source": [
    "dfClBalInstOff.describe('INSTALLMENTSOFFERS').show()"
   ]
  },
  {
   "cell_type": "markdown",
   "metadata": {},
   "source": [
    "### Risk Domains"
   ]
  },
  {
   "cell_type": "code",
   "execution_count": 100,
   "metadata": {
    "collapsed": false,
    "scrolled": true
   },
   "outputs": [
    {
     "name": "stdout",
     "output_type": "stream",
     "text": [
      "root\n",
      " |-- TYPE: string (nullable = true)\n",
      " |-- INSTITUTION_ID: integer (nullable = true)\n",
      " |-- SERNO: long (nullable = true)\n",
      " |-- TABINDICATOR: string (nullable = true)\n",
      " |-- CUSTSERNO: long (nullable = true)\n",
      " |-- HIERARCHYSERNO: long (nullable = true)\n",
      " |-- NUMBERX: string (nullable = true)\n",
      " |-- NAME: string (nullable = true)\n",
      " |-- MAKEAUTHGROUP: integer (nullable = true)\n",
      " |-- AUTHCURRENCY: string (nullable = true)\n",
      " |-- AUTHLIMIT: double (nullable = true)\n",
      " |-- AUTHLIMITPERIOD: integer (nullable = true)\n",
      " |-- AUTHALLTRXN: integer (nullable = true)\n",
      " |-- AUTHALLTRXNPERIOD: integer (nullable = true)\n",
      " |-- AUTHUSAGECODE: long (nullable = true)\n",
      " |-- AUTHUDECLINETRXN: integer (nullable = true)\n",
      " |-- AUTHUDECLINELIMIT: double (nullable = true)\n",
      " |-- AUTHUDECLINEPERIOD: integer (nullable = true)\n",
      " |-- AUTHCASHLIMIT: double (nullable = true)\n",
      " |-- AUTHCASHTRNXNS: integer (nullable = true)\n",
      " |-- AUTHCASHPERIOD: integer (nullable = true)\n",
      " |-- AUTHTEBONUS: double (nullable = true)\n",
      " |-- AUTHTMPBONUS: double (nullable = true)\n",
      " |-- AUTHTMPBONUSDATE: timestamp (nullable = true)\n",
      " |-- EXTRAAUTHLIMIT: double (nullable = true)\n",
      " |-- AUTH1TRXNLIMIT: double (nullable = true)\n",
      " |-- AUTHACCOUNTTYPE: integer (nullable = true)\n",
      " |-- REPLENISHMENTDATEANCHOR: string (nullable = true)\n",
      " |-- REPLENISHMENTCASHDATEANCHOR: string (nullable = true)\n",
      " |-- STAUTHORIZATION: string (nullable = true)\n",
      " |-- LOGACTION: string (nullable = true)\n",
      " |-- CAPROFSERNO: long (nullable = true)\n",
      " |-- REFDATE: timestamp (nullable = true)\n",
      " |-- FG_CURRENT: integer (nullable = true)\n",
      " |-- TM_INSERT: timestamp (nullable = true)\n",
      " |-- TM_UPDATE: timestamp (nullable = true)\n",
      " |-- ENTITYVERSIONNO: long (nullable = true)\n",
      " |-- REPLENISHMENTEFFECTIVEDATE: string (nullable = true)\n",
      " |-- ID_EMPRS: integer (nullable = true)\n",
      " |-- TM_TRUSTED: timestamp (nullable = true)\n",
      " |-- DT_TRUSTED: integer (nullable = true)\n",
      "\n"
     ]
    }
   ],
   "source": [
    "dfRiskdomains.printSchema()"
   ]
  },
  {
   "cell_type": "code",
   "execution_count": 101,
   "metadata": {
    "collapsed": false
   },
   "outputs": [],
   "source": [
    "dfRiskdomainsMax=dfRiskdomains.where(to_date(col('REFDATE'))<'2017-11-01') \\\n",
    "    .where(col(\"NAME\").isin({\"Primary Group 1\", \"Additional Group 4\",\"Personal Loan\"})) \\\n",
    "    .groupBy('CUSTSERNO','NAME').agg(max('TM_INSERT').alias('FECHAMAX'))\n",
    "\n",
    "dfRiskdomains2=dfRiskdomains.where(col(\"NAME\").isin({\"Primary Group 1\", \"Additional Group 4\",\"Personal Loan\"})) \\\n",
    "    .join(dfRiskdomainsMax,(dfRiskdomainsMax.CUSTSERNO==dfRiskdomains.CUSTSERNO) & (dfRiskdomainsMax.NAME==dfRiskdomains.NAME) & (dfRiskdomainsMax.FECHAMAX==dfRiskdomains.TM_INSERT),'leftsemi') \\\n",
    "    .select('CUSTSERNO','NAME','AUTHLIMIT','AUTHCASHLIMIT')\n",
    "# dfStatementinstoffers2.printSchema()"
   ]
  },
  {
   "cell_type": "code",
   "execution_count": 102,
   "metadata": {
    "collapsed": false,
    "scrolled": false
   },
   "outputs": [
    {
     "data": {
      "text/plain": [
       "20462249"
      ]
     },
     "execution_count": 102,
     "metadata": {},
     "output_type": "execute_result"
    }
   ],
   "source": [
    "dfRiskdomains2.persist().count()"
   ]
  },
  {
   "cell_type": "code",
   "execution_count": 103,
   "metadata": {
    "collapsed": false
   },
   "outputs": [
    {
     "name": "stdout",
     "output_type": "stream",
     "text": [
      "root\n",
      " |-- CUSTSERNO: long (nullable = true)\n",
      " |-- NAME: string (nullable = true)\n",
      " |-- AUTHLIMIT: double (nullable = true)\n",
      " |-- AUTHCASHLIMIT: double (nullable = true)\n",
      "\n"
     ]
    }
   ],
   "source": [
    "dfRiskdomains2.printSchema()"
   ]
  },
  {
   "cell_type": "code",
   "execution_count": 104,
   "metadata": {
    "collapsed": false
   },
   "outputs": [
    {
     "data": {
      "text/plain": [
       "6297269"
      ]
     },
     "execution_count": 104,
     "metadata": {},
     "output_type": "execute_result"
    }
   ],
   "source": [
    "dfRiskdomains2.select('CUSTSERNO').distinct().count()"
   ]
  },
  {
   "cell_type": "code",
   "execution_count": 105,
   "metadata": {
    "collapsed": false
   },
   "outputs": [],
   "source": [
    "dfPG1=dfRiskdomains2.where(col('NAME')==\"Primary Group 1\").withColumnRenamed('AUTHLIMIT','tmpLimitUse') \\\n",
    "    .withColumnRenamed('AUTHCASHLIMIT','tmpLimitCashOut').drop('NAME').dropDuplicates(['CUSTSERNO'])"
   ]
  },
  {
   "cell_type": "code",
   "execution_count": 106,
   "metadata": {
    "collapsed": false
   },
   "outputs": [
    {
     "data": {
      "text/plain": [
       "4519582"
      ]
     },
     "execution_count": 106,
     "metadata": {},
     "output_type": "execute_result"
    }
   ],
   "source": [
    "dfPG1.select('CUSTSERNO').distinct().count()"
   ]
  },
  {
   "cell_type": "code",
   "execution_count": 107,
   "metadata": {
    "collapsed": false,
    "scrolled": false
   },
   "outputs": [
    {
     "name": "stdout",
     "output_type": "stream",
     "text": [
      "root\n",
      " |-- CUSTSERNO: long (nullable = true)\n",
      " |-- tmpLimitUse: double (nullable = true)\n",
      " |-- tmpLimitCashOut: double (nullable = true)\n",
      "\n"
     ]
    }
   ],
   "source": [
    "dfPG1.printSchema()"
   ]
  },
  {
   "cell_type": "code",
   "execution_count": 108,
   "metadata": {
    "collapsed": false
   },
   "outputs": [],
   "source": [
    "dfAG4=dfRiskdomains2.where(col('NAME')==\"Additional Group 4\").withColumnRenamed('AUTHLIMIT','tmpLimitOffUs') \\\n",
    "    .drop('NAME').drop('AUTHCASHLIMIT').dropDuplicates(['CUSTSERNO'])"
   ]
  },
  {
   "cell_type": "code",
   "execution_count": 109,
   "metadata": {
    "collapsed": false
   },
   "outputs": [
    {
     "data": {
      "text/plain": [
       "4827484"
      ]
     },
     "execution_count": 109,
     "metadata": {},
     "output_type": "execute_result"
    }
   ],
   "source": [
    "dfAG4.select('CUSTSERNO').distinct().count()"
   ]
  },
  {
   "cell_type": "code",
   "execution_count": 110,
   "metadata": {
    "collapsed": false,
    "scrolled": true
   },
   "outputs": [
    {
     "data": {
      "text/plain": [
       "4827484"
      ]
     },
     "execution_count": 110,
     "metadata": {},
     "output_type": "execute_result"
    }
   ],
   "source": [
    "dfAG4.count()"
   ]
  },
  {
   "cell_type": "code",
   "execution_count": 111,
   "metadata": {
    "collapsed": false
   },
   "outputs": [],
   "source": [
    "dfPL=dfRiskdomains2.where(col('NAME')==\"Personal Loan\").withColumnRenamed('AUTHLIMIT','tmpLimitPersLoan') \\\n",
    "    .drop('NAME').drop('AUTHCASHLIMIT').dropDuplicates(['CUSTSERNO'])"
   ]
  },
  {
   "cell_type": "code",
   "execution_count": 112,
   "metadata": {
    "collapsed": false,
    "scrolled": false
   },
   "outputs": [
    {
     "data": {
      "text/plain": [
       "5579982"
      ]
     },
     "execution_count": 112,
     "metadata": {},
     "output_type": "execute_result"
    }
   ],
   "source": [
    "dfPL.select('CUSTSERNO').distinct().count()"
   ]
  },
  {
   "cell_type": "code",
   "execution_count": 113,
   "metadata": {
    "collapsed": false,
    "scrolled": true
   },
   "outputs": [
    {
     "data": {
      "text/plain": [
       "5579982"
      ]
     },
     "execution_count": 113,
     "metadata": {},
     "output_type": "execute_result"
    }
   ],
   "source": [
    "dfPL.count()"
   ]
  },
  {
   "cell_type": "code",
   "execution_count": 114,
   "metadata": {
    "collapsed": true
   },
   "outputs": [],
   "source": [
    "dfUniqueCust=dfRiskdomains2.select('CUSTSERNO').distinct()"
   ]
  },
  {
   "cell_type": "code",
   "execution_count": 115,
   "metadata": {
    "collapsed": false
   },
   "outputs": [
    {
     "name": "stdout",
     "output_type": "stream",
     "text": [
      "root\n",
      " |-- CUSTSERNO: long (nullable = true)\n",
      " |-- tmpLimitUse: double (nullable = true)\n",
      " |-- tmpLimitCashOut: double (nullable = true)\n",
      "\n"
     ]
    }
   ],
   "source": [
    "dfPG1.printSchema()"
   ]
  },
  {
   "cell_type": "code",
   "execution_count": 116,
   "metadata": {
    "collapsed": true
   },
   "outputs": [],
   "source": [
    "dfLimTmp1=dfUniqueCust.join(dfPG1,dfUniqueCust.CUSTSERNO==dfPG1.CUSTSERNO, 'left_outer').drop(dfPG1.CUSTSERNO)"
   ]
  },
  {
   "cell_type": "code",
   "execution_count": 117,
   "metadata": {
    "collapsed": false,
    "scrolled": false
   },
   "outputs": [
    {
     "name": "stdout",
     "output_type": "stream",
     "text": [
      "+---------+-----------+---------------+\n",
      "|CUSTSERNO|tmpLimitUse|tmpLimitCashOut|\n",
      "+---------+-----------+---------------+\n",
      "|    13401|     -100.0|          -10.0|\n",
      "|    67148|     -100.0|          -15.0|\n",
      "+---------+-----------+---------------+\n",
      "only showing top 2 rows\n",
      "\n"
     ]
    }
   ],
   "source": [
    "dfLimTmp1.show(2)"
   ]
  },
  {
   "cell_type": "code",
   "execution_count": 118,
   "metadata": {
    "collapsed": true
   },
   "outputs": [],
   "source": [
    "dfLimTmp2=dfLimTmp1.join(dfAG4,dfLimTmp1.CUSTSERNO==dfAG4.CUSTSERNO, 'left_outer').drop(dfAG4.CUSTSERNO)"
   ]
  },
  {
   "cell_type": "code",
   "execution_count": 119,
   "metadata": {
    "collapsed": false,
    "scrolled": true
   },
   "outputs": [
    {
     "name": "stdout",
     "output_type": "stream",
     "text": [
      "+---------+-----------+---------------+-------------+\n",
      "|CUSTSERNO|tmpLimitUse|tmpLimitCashOut|tmpLimitOffUs|\n",
      "+---------+-----------+---------------+-------------+\n",
      "|    13401|     -100.0|          -10.0|       -100.0|\n",
      "|    67148|     -100.0|          -15.0|       -100.0|\n",
      "+---------+-----------+---------------+-------------+\n",
      "only showing top 2 rows\n",
      "\n"
     ]
    }
   ],
   "source": [
    "dfLimTmp2.show(2)"
   ]
  },
  {
   "cell_type": "code",
   "execution_count": 120,
   "metadata": {
    "collapsed": true
   },
   "outputs": [],
   "source": [
    "dfLimites=dfLimTmp2.join(dfPL,dfLimTmp2.CUSTSERNO==dfPL.CUSTSERNO, 'left_outer').drop(dfPL.CUSTSERNO).fillna(0)"
   ]
  },
  {
   "cell_type": "code",
   "execution_count": 121,
   "metadata": {
    "collapsed": false,
    "scrolled": false
   },
   "outputs": [
    {
     "data": {
      "text/plain": [
       "6297269"
      ]
     },
     "execution_count": 121,
     "metadata": {},
     "output_type": "execute_result"
    }
   ],
   "source": [
    "dfLimites.persist().count()"
   ]
  },
  {
   "cell_type": "code",
   "execution_count": 122,
   "metadata": {
    "collapsed": false
   },
   "outputs": [],
   "source": [
    "dfDefAccLimitsTmp=dfDefAcc.join(dfLimites,dfLimites.CUSTSERNO==dfDefAcc.CUSTSERNO,'left_outer') \\\n",
    "    .drop(dfDefAcc.CUSTSERNO).fillna(0)"
   ]
  },
  {
   "cell_type": "code",
   "execution_count": 123,
   "metadata": {
    "collapsed": false
   },
   "outputs": [
    {
     "data": {
      "text/plain": [
       "3991780"
      ]
     },
     "execution_count": 123,
     "metadata": {},
     "output_type": "execute_result"
    }
   ],
   "source": [
    "dfDefAcc.count()"
   ]
  },
  {
   "cell_type": "code",
   "execution_count": 124,
   "metadata": {
    "collapsed": false,
    "scrolled": true
   },
   "outputs": [
    {
     "data": {
      "text/plain": [
       "3991780"
      ]
     },
     "execution_count": 124,
     "metadata": {},
     "output_type": "execute_result"
    }
   ],
   "source": [
    "dfDefAccLimitsTmp.persist().count()"
   ]
  },
  {
   "cell_type": "code",
   "execution_count": 125,
   "metadata": {
    "collapsed": false,
    "scrolled": true
   },
   "outputs": [],
   "source": [
    "# mostrarNulos(dfDefAccLimitsTmp).toPandas()"
   ]
  },
  {
   "cell_type": "code",
   "execution_count": 126,
   "metadata": {
    "collapsed": true
   },
   "outputs": [],
   "source": [
    "dfDefAccLimitsTmp.createOrReplaceTempView(\"tdfDefAccLimitsTmp\")"
   ]
  },
  {
   "cell_type": "code",
   "execution_count": 127,
   "metadata": {
    "collapsed": false
   },
   "outputs": [],
   "source": [
    "dfDefAccLimits=spark.sql(\"\"\"\n",
    "    SELECT ACCOUNTPK, BALANCE, INSTALMENTBALANCEFOROVLMCHECK, CREDITLIMIT, LimitUse, LimitOffUs, LimitPersLoan, \n",
    "    CASE WHEN tmpLimitCashOut<0 THEN (LimitUse*tmpLimitCashOut/(-100)) ELSE tmpLimitCashOut END AS LimitCashOut\n",
    "    FROM (SELECT ACCOUNTPK, BALANCE, INSTALMENTBALANCEFOROVLMCHECK, CREDITLIMIT, tmpLimitCashOut,\n",
    "    CASE WHEN tmpLimitUse<0 THEN (CREDITLIMIT*tmpLimitUse/(-100)) ELSE tmpLimitUse END AS LimitUse,\n",
    "    CASE WHEN tmpLimitOffUs<0 THEN (CREDITLIMIT*tmpLimitOffUs/(-100)) ELSE tmpLimitOffUs END AS LimitOffUs,\n",
    "    CASE WHEN tmpLimitPersLoan<0 THEN (CREDITLIMIT*tmpLimitPersLoan/(-100)) ELSE tmpLimitPersLoan END AS LimitPersLoan\n",
    "    FROM tdfDefAccLimitsTmp) A\"\"\")"
   ]
  },
  {
   "cell_type": "code",
   "execution_count": 94,
   "metadata": {
    "collapsed": false,
    "scrolled": true
   },
   "outputs": [
    {
     "data": {
      "text/html": [
       "<div>\n",
       "<table border=\"1\" class=\"dataframe\">\n",
       "  <thead>\n",
       "    <tr style=\"text-align: right;\">\n",
       "      <th></th>\n",
       "      <th>summary</th>\n",
       "      <th>ACCOUNTPK</th>\n",
       "      <th>BALANCE</th>\n",
       "      <th>INSTALMENTBALANCEFOROVLMCHECK</th>\n",
       "      <th>CREDITLIMIT</th>\n",
       "      <th>LimitUse</th>\n",
       "      <th>LimitOffUs</th>\n",
       "      <th>LimitPersLoan</th>\n",
       "      <th>LimitCashOut</th>\n",
       "    </tr>\n",
       "  </thead>\n",
       "  <tbody>\n",
       "    <tr>\n",
       "      <th>0</th>\n",
       "      <td>count</td>\n",
       "      <td>3991780</td>\n",
       "      <td>3991780</td>\n",
       "      <td>3991780</td>\n",
       "      <td>3991780</td>\n",
       "      <td>3991780</td>\n",
       "      <td>3991780</td>\n",
       "      <td>3991780</td>\n",
       "      <td>3991780</td>\n",
       "    </tr>\n",
       "    <tr>\n",
       "      <th>1</th>\n",
       "      <td>mean</td>\n",
       "      <td>8131360.095442635</td>\n",
       "      <td>-494.8582471979921</td>\n",
       "      <td>-563.7208977784344</td>\n",
       "      <td>3731.082978944235</td>\n",
       "      <td>3809.3147984101333</td>\n",
       "      <td>3432.1167758875467</td>\n",
       "      <td>754.773367319842</td>\n",
       "      <td>384.19598720987887</td>\n",
       "    </tr>\n",
       "    <tr>\n",
       "      <th>2</th>\n",
       "      <td>stddev</td>\n",
       "      <td>4308956.778108518</td>\n",
       "      <td>922.0532597219234</td>\n",
       "      <td>1334.881613843868</td>\n",
       "      <td>4161.313003661229</td>\n",
       "      <td>5281.76385666031</td>\n",
       "      <td>5291.929836213554</td>\n",
       "      <td>2825.46767215399</td>\n",
       "      <td>667.5731161227383</td>\n",
       "    </tr>\n",
       "    <tr>\n",
       "      <th>3</th>\n",
       "      <td>min</td>\n",
       "      <td>3</td>\n",
       "      <td>-39146.57</td>\n",
       "      <td>-34274.1</td>\n",
       "      <td>0.0</td>\n",
       "      <td>0.0</td>\n",
       "      <td>0.0</td>\n",
       "      <td>0.0</td>\n",
       "      <td>0.0</td>\n",
       "    </tr>\n",
       "    <tr>\n",
       "      <th>4</th>\n",
       "      <td>max</td>\n",
       "      <td>13627540</td>\n",
       "      <td>26608.24</td>\n",
       "      <td>57490.97</td>\n",
       "      <td>85000.0</td>\n",
       "      <td>50000.0</td>\n",
       "      <td>50000.0</td>\n",
       "      <td>114000.0</td>\n",
       "      <td>9000.0</td>\n",
       "    </tr>\n",
       "  </tbody>\n",
       "</table>\n",
       "</div>"
      ],
      "text/plain": [
       "  summary          ACCOUNTPK             BALANCE  \\\n",
       "0   count            3991780             3991780   \n",
       "1    mean  8131360.095442635  -494.8582471979921   \n",
       "2  stddev  4308956.778108518   922.0532597219234   \n",
       "3     min                  3           -39146.57   \n",
       "4     max           13627540            26608.24   \n",
       "\n",
       "  INSTALMENTBALANCEFOROVLMCHECK        CREDITLIMIT            LimitUse  \\\n",
       "0                       3991780            3991780             3991780   \n",
       "1            -563.7208977784344  3731.082978944235  3809.3147984101333   \n",
       "2             1334.881613843868  4161.313003661229    5281.76385666031   \n",
       "3                      -34274.1                0.0                 0.0   \n",
       "4                      57490.97            85000.0             50000.0   \n",
       "\n",
       "           LimitOffUs     LimitPersLoan        LimitCashOut  \n",
       "0             3991780           3991780             3991780  \n",
       "1  3432.1167758875467  754.773367319842  384.19598720987887  \n",
       "2   5291.929836213554  2825.46767215399   667.5731161227383  \n",
       "3                 0.0               0.0                 0.0  \n",
       "4             50000.0          114000.0              9000.0  "
      ]
     },
     "execution_count": 94,
     "metadata": {},
     "output_type": "execute_result"
    }
   ],
   "source": [
    "# dfDefAccLimits.persist().describe().toPandas()"
   ]
  },
  {
   "cell_type": "code",
   "execution_count": 128,
   "metadata": {
    "collapsed": false
   },
   "outputs": [
    {
     "name": "stdout",
     "output_type": "stream",
     "text": [
      "root\n",
      " |-- ACCOUNTPK: long (nullable = true)\n",
      " |-- BALANCE: double (nullable = false)\n",
      " |-- INSTALMENTBALANCEFOROVLMCHECK: double (nullable = false)\n",
      " |-- CREDITLIMIT: double (nullable = false)\n",
      " |-- LimitUse: double (nullable = true)\n",
      " |-- LimitOffUs: double (nullable = true)\n",
      " |-- LimitPersLoan: double (nullable = true)\n",
      " |-- LimitCashOut: double (nullable = true)\n",
      "\n"
     ]
    }
   ],
   "source": [
    "dfDefAccLimits.printSchema()"
   ]
  },
  {
   "cell_type": "code",
   "execution_count": 129,
   "metadata": {
    "collapsed": false
   },
   "outputs": [
    {
     "data": {
      "text/plain": [
       "3991780"
      ]
     },
     "execution_count": 129,
     "metadata": {},
     "output_type": "execute_result"
    }
   ],
   "source": [
    "dfDefAccLimits.persist().count()"
   ]
  },
  {
   "cell_type": "markdown",
   "metadata": {},
   "source": [
    "### Final Matrix Union"
   ]
  },
  {
   "cell_type": "code",
   "execution_count": 130,
   "metadata": {
    "collapsed": true
   },
   "outputs": [],
   "source": [
    "dfFinTmp=dfDefAccLimits.join(dfClBalInstOff,dfDefAccLimits.ACCOUNTPK==dfClBalInstOff.ACC_SERNO,'left_outer').drop(dfClBalInstOff.ACC_SERNO)"
   ]
  },
  {
   "cell_type": "code",
   "execution_count": 131,
   "metadata": {
    "collapsed": false
   },
   "outputs": [],
   "source": [
    "dfFinTmp2=dfFinTmp.join(dfTsysBin, dfFinTmp.ACCOUNTPK==dfTsysBin.ACCOUNTPK,'left_outer').drop(dfTsysBin.ACCOUNTPK)"
   ]
  },
  {
   "cell_type": "code",
   "execution_count": 132,
   "metadata": {
    "collapsed": false,
    "scrolled": true
   },
   "outputs": [
    {
     "data": {
      "text/plain": [
       "3991780"
      ]
     },
     "execution_count": 132,
     "metadata": {},
     "output_type": "execute_result"
    }
   ],
   "source": [
    "dfFinTmp2.persist().count()"
   ]
  },
  {
   "cell_type": "code",
   "execution_count": 133,
   "metadata": {
    "collapsed": true
   },
   "outputs": [],
   "source": [
    "dfFinTmp3=dfFinTmp2.join(dfOverlimitAuth, dfFinTmp2.ACCOUNTPK==dfOverlimitAuth.ROW_SERNO,'left_outer').drop(dfOverlimitAuth.ROW_SERNO)"
   ]
  },
  {
   "cell_type": "code",
   "execution_count": 134,
   "metadata": {
    "collapsed": false
   },
   "outputs": [
    {
     "data": {
      "text/plain": [
       "18"
      ]
     },
     "execution_count": 134,
     "metadata": {},
     "output_type": "execute_result"
    }
   ],
   "source": [
    "len(dfFinTmp3.columns)"
   ]
  },
  {
   "cell_type": "code",
   "execution_count": 135,
   "metadata": {
    "collapsed": false
   },
   "outputs": [],
   "source": [
    "# mostrarNulos(dfFinTmp2).toPandas()"
   ]
  },
  {
   "cell_type": "code",
   "execution_count": 136,
   "metadata": {
    "collapsed": false
   },
   "outputs": [],
   "source": [
    "dfFinTmp4=dfFinTmp3.join(dfOffUs, dfFinTmp3.ACCOUNTPK==dfOffUs.ACCOUNTSERNOFK,'left_outer').drop(dfOffUs.ACCOUNTSERNOFK)"
   ]
  },
  {
   "cell_type": "code",
   "execution_count": 137,
   "metadata": {
    "collapsed": false
   },
   "outputs": [
    {
     "data": {
      "text/plain": [
       "3991780"
      ]
     },
     "execution_count": 137,
     "metadata": {},
     "output_type": "execute_result"
    }
   ],
   "source": [
    "dfFinTmp4.count()"
   ]
  },
  {
   "cell_type": "code",
   "execution_count": 138,
   "metadata": {
    "collapsed": false
   },
   "outputs": [
    {
     "data": {
      "text/plain": [
       "487"
      ]
     },
     "execution_count": 138,
     "metadata": {},
     "output_type": "execute_result"
    }
   ],
   "source": [
    "len(dfFinTmp4.columns)"
   ]
  },
  {
   "cell_type": "code",
   "execution_count": 144,
   "metadata": {
    "collapsed": true
   },
   "outputs": [],
   "source": [
    "dfFinalMatrix=dfFinTmp4.join(dfBuffer, dfFinTmp4.ACCOUNTPK==dfBuffer.ACCOUNTPK,'left_outer') \\\n",
    "    .drop(dfBuffer.ACCOUNTPK).withColumnRenamed('','NULO').fillna(0)"
   ]
  },
  {
   "cell_type": "code",
   "execution_count": 140,
   "metadata": {
    "collapsed": true
   },
   "outputs": [],
   "source": [
    "# dfFinalMatrix=dfDefAccLimits.join(dfClBalInstOff,dfDefAccLimits.ACCOUNTPK==dfClBalInstOff.ACC_SERNO,'left_outer').drop(dfClBalInstOff.ACC_SERNO) \\\n",
    "#     .join(dfTsysBin, dfDefAccLimits.ACCOUNTPK==dfTsysBin.ACCOUNTPK,'left_outer').drop(dfTsysBin.ACCOUNTPK) \\\n",
    "#     .join(dfOverlimitAuth, dfDefAccLimits.ACCOUNTPK==dfOverlimitAuth.ROW_SERNO,'left_outer').drop(dfOverlimitAuth.ROW_SERNO) \\\n",
    "#     .join(dfOffUs, dfDefAccLimits.ACCOUNTPK==dfOffUs.ACCOUNTSERNOFK,'left_outer').drop(dfOffUs.ACCOUNTSERNOFK) \\\n",
    "#     .join(dfBuffer, dfDefAccLimits.ACCOUNTPK==dfBuffer.ACCOUNTPK,'left_outer').drop(dfBuffer.ACCOUNTPK).fillna(0)"
   ]
  },
  {
   "cell_type": "code",
   "execution_count": 145,
   "metadata": {
    "collapsed": false,
    "scrolled": true
   },
   "outputs": [
    {
     "data": {
      "text/plain": [
       "3188"
      ]
     },
     "execution_count": 145,
     "metadata": {},
     "output_type": "execute_result"
    }
   ],
   "source": [
    "len(dfFinalMatrix.columns)"
   ]
  },
  {
   "cell_type": "code",
   "execution_count": 142,
   "metadata": {
    "collapsed": false
   },
   "outputs": [
    {
     "ename": "Py4JJavaError",
     "evalue": "An error occurred while calling o798.count.\n: org.apache.spark.SparkException: Job 105 cancelled \n\tat org.apache.spark.scheduler.DAGScheduler.org$apache$spark$scheduler$DAGScheduler$$failJobAndIndependentStages(DAGScheduler.scala:1435)\n\tat org.apache.spark.scheduler.DAGScheduler.handleJobCancellation(DAGScheduler.scala:1375)\n\tat org.apache.spark.scheduler.DAGSchedulerEventProcessLoop.doOnReceive(DAGScheduler.scala:1622)\n\tat org.apache.spark.scheduler.DAGSchedulerEventProcessLoop.onReceive(DAGScheduler.scala:1605)\n\tat org.apache.spark.scheduler.DAGSchedulerEventProcessLoop.onReceive(DAGScheduler.scala:1594)\n\tat org.apache.spark.util.EventLoop$$anon$1.run(EventLoop.scala:48)\n\tat org.apache.spark.scheduler.DAGScheduler.runJob(DAGScheduler.scala:628)\n\tat org.apache.spark.SparkContext.runJob(SparkContext.scala:1918)\n\tat org.apache.spark.SparkContext.runJob(SparkContext.scala:1931)\n\tat org.apache.spark.SparkContext.runJob(SparkContext.scala:1944)\n\tat org.apache.spark.SparkContext.runJob(SparkContext.scala:1958)\n\tat org.apache.spark.rdd.RDD$$anonfun$collect$1.apply(RDD.scala:935)\n\tat org.apache.spark.rdd.RDDOperationScope$.withScope(RDDOperationScope.scala:151)\n\tat org.apache.spark.rdd.RDDOperationScope$.withScope(RDDOperationScope.scala:112)\n\tat org.apache.spark.rdd.RDD.withScope(RDD.scala:362)\n\tat org.apache.spark.rdd.RDD.collect(RDD.scala:934)\n\tat org.apache.spark.sql.execution.SparkPlan.executeCollect(SparkPlan.scala:275)\n\tat org.apache.spark.sql.Dataset$$anonfun$org$apache$spark$sql$Dataset$$execute$1$1.apply(Dataset.scala:2371)\n\tat org.apache.spark.sql.execution.SQLExecution$.withNewExecutionId(SQLExecution.scala:57)\n\tat org.apache.spark.sql.Dataset.withNewExecutionId(Dataset.scala:2765)\n\tat org.apache.spark.sql.Dataset.org$apache$spark$sql$Dataset$$execute$1(Dataset.scala:2370)\n\tat org.apache.spark.sql.Dataset.org$apache$spark$sql$Dataset$$collect(Dataset.scala:2377)\n\tat org.apache.spark.sql.Dataset$$anonfun$count$1.apply(Dataset.scala:2405)\n\tat org.apache.spark.sql.Dataset$$anonfun$count$1.apply(Dataset.scala:2404)\n\tat org.apache.spark.sql.Dataset.withCallback(Dataset.scala:2778)\n\tat org.apache.spark.sql.Dataset.count(Dataset.scala:2404)\n\tat sun.reflect.GeneratedMethodAccessor77.invoke(Unknown Source)\n\tat sun.reflect.DelegatingMethodAccessorImpl.invoke(DelegatingMethodAccessorImpl.java:43)\n\tat java.lang.reflect.Method.invoke(Method.java:498)\n\tat py4j.reflection.MethodInvoker.invoke(MethodInvoker.java:244)\n\tat py4j.reflection.ReflectionEngine.invoke(ReflectionEngine.java:357)\n\tat py4j.Gateway.invoke(Gateway.java:280)\n\tat py4j.commands.AbstractCommand.invokeMethod(AbstractCommand.java:132)\n\tat py4j.commands.CallCommand.execute(CallCommand.java:79)\n\tat py4j.GatewayConnection.run(GatewayConnection.java:214)\n\tat java.lang.Thread.run(Thread.java:748)\n",
     "output_type": "error",
     "traceback": [
      "\u001b[0;31m---------------------------------------------------------------------------\u001b[0m",
      "\u001b[0;31mPy4JJavaError\u001b[0m                             Traceback (most recent call last)",
      "\u001b[0;32m<ipython-input-142-2890acd4db1d>\u001b[0m in \u001b[0;36m<module>\u001b[0;34m()\u001b[0m\n\u001b[0;32m----> 1\u001b[0;31m \u001b[0mdfFinalMatrix\u001b[0m\u001b[0;34m.\u001b[0m\u001b[0mcount\u001b[0m\u001b[0;34m(\u001b[0m\u001b[0;34m)\u001b[0m\u001b[0;34m\u001b[0m\u001b[0m\n\u001b[0m",
      "\u001b[0;32m/opt/spark/dist/python/pyspark/sql/dataframe.py\u001b[0m in \u001b[0;36mcount\u001b[0;34m(self)\u001b[0m\n\u001b[1;32m    378\u001b[0m         \u001b[0;36m2\u001b[0m\u001b[0;34m\u001b[0m\u001b[0m\n\u001b[1;32m    379\u001b[0m         \"\"\"\n\u001b[0;32m--> 380\u001b[0;31m         \u001b[0;32mreturn\u001b[0m \u001b[0mint\u001b[0m\u001b[0;34m(\u001b[0m\u001b[0mself\u001b[0m\u001b[0;34m.\u001b[0m\u001b[0m_jdf\u001b[0m\u001b[0;34m.\u001b[0m\u001b[0mcount\u001b[0m\u001b[0;34m(\u001b[0m\u001b[0;34m)\u001b[0m\u001b[0;34m)\u001b[0m\u001b[0;34m\u001b[0m\u001b[0m\n\u001b[0m\u001b[1;32m    381\u001b[0m \u001b[0;34m\u001b[0m\u001b[0m\n\u001b[1;32m    382\u001b[0m     \u001b[0;34m@\u001b[0m\u001b[0mignore_unicode_prefix\u001b[0m\u001b[0;34m\u001b[0m\u001b[0m\n",
      "\u001b[0;32m/opt/spark/dist/python/lib/py4j-0.10.4-src.zip/py4j/java_gateway.py\u001b[0m in \u001b[0;36m__call__\u001b[0;34m(self, *args)\u001b[0m\n\u001b[1;32m   1131\u001b[0m         \u001b[0manswer\u001b[0m \u001b[0;34m=\u001b[0m \u001b[0mself\u001b[0m\u001b[0;34m.\u001b[0m\u001b[0mgateway_client\u001b[0m\u001b[0;34m.\u001b[0m\u001b[0msend_command\u001b[0m\u001b[0;34m(\u001b[0m\u001b[0mcommand\u001b[0m\u001b[0;34m)\u001b[0m\u001b[0;34m\u001b[0m\u001b[0m\n\u001b[1;32m   1132\u001b[0m         return_value = get_return_value(\n\u001b[0;32m-> 1133\u001b[0;31m             answer, self.gateway_client, self.target_id, self.name)\n\u001b[0m\u001b[1;32m   1134\u001b[0m \u001b[0;34m\u001b[0m\u001b[0m\n\u001b[1;32m   1135\u001b[0m         \u001b[0;32mfor\u001b[0m \u001b[0mtemp_arg\u001b[0m \u001b[0;32min\u001b[0m \u001b[0mtemp_args\u001b[0m\u001b[0;34m:\u001b[0m\u001b[0;34m\u001b[0m\u001b[0m\n",
      "\u001b[0;32m/opt/spark/dist/python/pyspark/sql/utils.py\u001b[0m in \u001b[0;36mdeco\u001b[0;34m(*a, **kw)\u001b[0m\n\u001b[1;32m     61\u001b[0m     \u001b[0;32mdef\u001b[0m \u001b[0mdeco\u001b[0m\u001b[0;34m(\u001b[0m\u001b[0;34m*\u001b[0m\u001b[0ma\u001b[0m\u001b[0;34m,\u001b[0m \u001b[0;34m**\u001b[0m\u001b[0mkw\u001b[0m\u001b[0;34m)\u001b[0m\u001b[0;34m:\u001b[0m\u001b[0;34m\u001b[0m\u001b[0m\n\u001b[1;32m     62\u001b[0m         \u001b[0;32mtry\u001b[0m\u001b[0;34m:\u001b[0m\u001b[0;34m\u001b[0m\u001b[0m\n\u001b[0;32m---> 63\u001b[0;31m             \u001b[0;32mreturn\u001b[0m \u001b[0mf\u001b[0m\u001b[0;34m(\u001b[0m\u001b[0;34m*\u001b[0m\u001b[0ma\u001b[0m\u001b[0;34m,\u001b[0m \u001b[0;34m**\u001b[0m\u001b[0mkw\u001b[0m\u001b[0;34m)\u001b[0m\u001b[0;34m\u001b[0m\u001b[0m\n\u001b[0m\u001b[1;32m     64\u001b[0m         \u001b[0;32mexcept\u001b[0m \u001b[0mpy4j\u001b[0m\u001b[0;34m.\u001b[0m\u001b[0mprotocol\u001b[0m\u001b[0;34m.\u001b[0m\u001b[0mPy4JJavaError\u001b[0m \u001b[0;32mas\u001b[0m \u001b[0me\u001b[0m\u001b[0;34m:\u001b[0m\u001b[0;34m\u001b[0m\u001b[0m\n\u001b[1;32m     65\u001b[0m             \u001b[0ms\u001b[0m \u001b[0;34m=\u001b[0m \u001b[0me\u001b[0m\u001b[0;34m.\u001b[0m\u001b[0mjava_exception\u001b[0m\u001b[0;34m.\u001b[0m\u001b[0mtoString\u001b[0m\u001b[0;34m(\u001b[0m\u001b[0;34m)\u001b[0m\u001b[0;34m\u001b[0m\u001b[0m\n",
      "\u001b[0;32m/opt/spark/dist/python/lib/py4j-0.10.4-src.zip/py4j/protocol.py\u001b[0m in \u001b[0;36mget_return_value\u001b[0;34m(answer, gateway_client, target_id, name)\u001b[0m\n\u001b[1;32m    317\u001b[0m                 raise Py4JJavaError(\n\u001b[1;32m    318\u001b[0m                     \u001b[0;34m\"An error occurred while calling {0}{1}{2}.\\n\"\u001b[0m\u001b[0;34m.\u001b[0m\u001b[0;34m\u001b[0m\u001b[0m\n\u001b[0;32m--> 319\u001b[0;31m                     format(target_id, \".\", name), value)\n\u001b[0m\u001b[1;32m    320\u001b[0m             \u001b[0;32melse\u001b[0m\u001b[0;34m:\u001b[0m\u001b[0;34m\u001b[0m\u001b[0m\n\u001b[1;32m    321\u001b[0m                 raise Py4JError(\n",
      "\u001b[0;31mPy4JJavaError\u001b[0m: An error occurred while calling o798.count.\n: org.apache.spark.SparkException: Job 105 cancelled \n\tat org.apache.spark.scheduler.DAGScheduler.org$apache$spark$scheduler$DAGScheduler$$failJobAndIndependentStages(DAGScheduler.scala:1435)\n\tat org.apache.spark.scheduler.DAGScheduler.handleJobCancellation(DAGScheduler.scala:1375)\n\tat org.apache.spark.scheduler.DAGSchedulerEventProcessLoop.doOnReceive(DAGScheduler.scala:1622)\n\tat org.apache.spark.scheduler.DAGSchedulerEventProcessLoop.onReceive(DAGScheduler.scala:1605)\n\tat org.apache.spark.scheduler.DAGSchedulerEventProcessLoop.onReceive(DAGScheduler.scala:1594)\n\tat org.apache.spark.util.EventLoop$$anon$1.run(EventLoop.scala:48)\n\tat org.apache.spark.scheduler.DAGScheduler.runJob(DAGScheduler.scala:628)\n\tat org.apache.spark.SparkContext.runJob(SparkContext.scala:1918)\n\tat org.apache.spark.SparkContext.runJob(SparkContext.scala:1931)\n\tat org.apache.spark.SparkContext.runJob(SparkContext.scala:1944)\n\tat org.apache.spark.SparkContext.runJob(SparkContext.scala:1958)\n\tat org.apache.spark.rdd.RDD$$anonfun$collect$1.apply(RDD.scala:935)\n\tat org.apache.spark.rdd.RDDOperationScope$.withScope(RDDOperationScope.scala:151)\n\tat org.apache.spark.rdd.RDDOperationScope$.withScope(RDDOperationScope.scala:112)\n\tat org.apache.spark.rdd.RDD.withScope(RDD.scala:362)\n\tat org.apache.spark.rdd.RDD.collect(RDD.scala:934)\n\tat org.apache.spark.sql.execution.SparkPlan.executeCollect(SparkPlan.scala:275)\n\tat org.apache.spark.sql.Dataset$$anonfun$org$apache$spark$sql$Dataset$$execute$1$1.apply(Dataset.scala:2371)\n\tat org.apache.spark.sql.execution.SQLExecution$.withNewExecutionId(SQLExecution.scala:57)\n\tat org.apache.spark.sql.Dataset.withNewExecutionId(Dataset.scala:2765)\n\tat org.apache.spark.sql.Dataset.org$apache$spark$sql$Dataset$$execute$1(Dataset.scala:2370)\n\tat org.apache.spark.sql.Dataset.org$apache$spark$sql$Dataset$$collect(Dataset.scala:2377)\n\tat org.apache.spark.sql.Dataset$$anonfun$count$1.apply(Dataset.scala:2405)\n\tat org.apache.spark.sql.Dataset$$anonfun$count$1.apply(Dataset.scala:2404)\n\tat org.apache.spark.sql.Dataset.withCallback(Dataset.scala:2778)\n\tat org.apache.spark.sql.Dataset.count(Dataset.scala:2404)\n\tat sun.reflect.GeneratedMethodAccessor77.invoke(Unknown Source)\n\tat sun.reflect.DelegatingMethodAccessorImpl.invoke(DelegatingMethodAccessorImpl.java:43)\n\tat java.lang.reflect.Method.invoke(Method.java:498)\n\tat py4j.reflection.MethodInvoker.invoke(MethodInvoker.java:244)\n\tat py4j.reflection.ReflectionEngine.invoke(ReflectionEngine.java:357)\n\tat py4j.Gateway.invoke(Gateway.java:280)\n\tat py4j.commands.AbstractCommand.invokeMethod(AbstractCommand.java:132)\n\tat py4j.commands.CallCommand.execute(CallCommand.java:79)\n\tat py4j.GatewayConnection.run(GatewayConnection.java:214)\n\tat java.lang.Thread.run(Thread.java:748)\n"
     ]
    }
   ],
   "source": [
    "dfFinalMatrix.count()"
   ]
  },
  {
   "cell_type": "code",
   "execution_count": 108,
   "metadata": {
    "collapsed": true
   },
   "outputs": [
    {
     "name": "stdout",
     "output_type": "stream",
     "text": [
      "root\n",
      " |-- ACCOUNTPK: long (nullable = true)\n",
      " |-- BALANCE: double (nullable = false)\n",
      " |-- INSTALMENTBALANCEFOROVLMCHECK: double (nullable = false)\n",
      " |-- CREDITLIMIT: double (nullable = false)\n",
      " |-- LimitUse: double (nullable = false)\n",
      " |-- LimitOffUs: double (nullable = false)\n",
      " |-- LimitPersLoan: double (nullable = false)\n",
      " |-- LimitCashOut: double (nullable = false)\n",
      " |-- CLOSING_BALANCE: double (nullable = false)\n",
      " |-- INSTALLMENTSOFFERS: long (nullable = true)\n",
      " |-- Emprestimo_Pessoal: long (nullable = true)\n",
      " |-- Pagamento_de_Contas: long (nullable = true)\n",
      " |-- Parcelamento_Fatura_Automatico: long (nullable = true)\n",
      " |-- Parcelamento_Fatura_Facil: long (nullable = true)\n",
      " |-- Saque_Parcelado: long (nullable = true)\n",
      " |-- Saque_a_Vista: long (nullable = true)\n",
      " |-- Overlimit: long (nullable = true)\n",
      " |-- Overlimit_Auth: integer (nullable = true)\n",
      " |-- NULO: double (nullable = false)\n",
      " |-- 0742: double (nullable = false)\n",
      " |-- 0763: double (nullable = false)\n",
      " |-- 0780: double (nullable = false)\n",
      " |-- 1520: double (nullable = false)\n",
      " |-- 1711: double (nullable = false)\n",
      " |-- 1731: double (nullable = false)\n",
      " |-- 1740: double (nullable = false)\n",
      " |-- 1750: double (nullable = false)\n",
      " |-- 1761: double (nullable = false)\n",
      " |-- 1771: double (nullable = false)\n",
      " |-- 1799: double (nullable = false)\n",
      " |-- 2741: double (nullable = false)\n",
      " |-- 2791: double (nullable = false)\n",
      " |-- 2842: double (nullable = false)\n",
      " |-- 3000: double (nullable = false)\n",
      " |-- 3001: double (nullable = false)\n",
      " |-- 3005: double (nullable = false)\n",
      " |-- 3007: double (nullable = false)\n",
      " |-- 3008: double (nullable = false)\n",
      " |-- 3009: double (nullable = false)\n",
      " |-- 3010: double (nullable = false)\n",
      " |-- 3011: double (nullable = false)\n",
      " |-- 3012: double (nullable = false)\n",
      " |-- 3013: double (nullable = false)\n",
      " |-- 3015: double (nullable = false)\n",
      " |-- 3016: double (nullable = false)\n",
      " |-- 3017: double (nullable = false)\n",
      " |-- 3018: double (nullable = false)\n",
      " |-- 3020: double (nullable = false)\n",
      " |-- 3025: double (nullable = false)\n",
      " |-- 3026: double (nullable = false)\n",
      " |-- 3028: double (nullable = false)\n",
      " |-- 3029: double (nullable = false)\n",
      " |-- 3030: double (nullable = false)\n",
      " |-- 3034: double (nullable = false)\n",
      " |-- 3035: double (nullable = false)\n",
      " |-- 3039: double (nullable = false)\n",
      " |-- 3042: double (nullable = false)\n",
      " |-- 3043: double (nullable = false)\n",
      " |-- 3047: double (nullable = false)\n",
      " |-- 3048: double (nullable = false)\n",
      " |-- 3051: double (nullable = false)\n",
      " |-- 3052: double (nullable = false)\n",
      " |-- 3056: double (nullable = false)\n",
      " |-- 3057: double (nullable = false)\n",
      " |-- 3058: double (nullable = false)\n",
      " |-- 3066: double (nullable = false)\n",
      " |-- 3069: double (nullable = false)\n",
      " |-- 3076: double (nullable = false)\n",
      " |-- 3077: double (nullable = false)\n",
      " |-- 3079: double (nullable = false)\n",
      " |-- 3082: double (nullable = false)\n",
      " |-- 3088: double (nullable = false)\n",
      " |-- 3098: double (nullable = false)\n",
      " |-- 3102: double (nullable = false)\n",
      " |-- 3127: double (nullable = false)\n",
      " |-- 3132: double (nullable = false)\n",
      " |-- 3136: double (nullable = false)\n",
      " |-- 3161: double (nullable = false)\n",
      " |-- 3171: double (nullable = false)\n",
      " |-- 3174: double (nullable = false)\n",
      " |-- 3180: double (nullable = false)\n",
      " |-- 3182: double (nullable = false)\n",
      " |-- 3187: double (nullable = false)\n",
      " |-- 3211: double (nullable = false)\n",
      " |-- 3217: double (nullable = false)\n",
      " |-- 3219: double (nullable = false)\n",
      " |-- 3221: double (nullable = false)\n",
      " |-- 3239: double (nullable = false)\n",
      " |-- 3245: double (nullable = false)\n",
      " |-- 3246: double (nullable = false)\n",
      " |-- 3247: double (nullable = false)\n",
      " |-- 3248: double (nullable = false)\n",
      " |-- 3256: double (nullable = false)\n",
      " |-- 3260: double (nullable = false)\n",
      " |-- 3261: double (nullable = false)\n",
      " |-- 3294: double (nullable = false)\n",
      " |-- 3296: double (nullable = false)\n",
      " |-- 3351: double (nullable = false)\n",
      " |-- 3355: double (nullable = false)\n",
      " |-- 3357: double (nullable = false)\n",
      " |-- 3359: double (nullable = false)\n",
      " |-- 3364: double (nullable = false)\n",
      " |-- 3366: double (nullable = false)\n",
      " |-- 3374: double (nullable = false)\n",
      " |-- 3381: double (nullable = false)\n",
      " |-- 3387: double (nullable = false)\n",
      " |-- 3389: double (nullable = false)\n",
      " |-- 3390: double (nullable = false)\n",
      " |-- 3393: double (nullable = false)\n",
      " |-- 3395: double (nullable = false)\n",
      " |-- 3405: double (nullable = false)\n",
      " |-- 3441: double (nullable = false)\n",
      " |-- 3501: double (nullable = false)\n",
      " |-- 3502: double (nullable = false)\n",
      " |-- 3503: double (nullable = false)\n",
      " |-- 3504: double (nullable = false)\n",
      " |-- 3505: double (nullable = false)\n",
      " |-- 3506: double (nullable = false)\n",
      " |-- 3508: double (nullable = false)\n",
      " |-- 3509: double (nullable = false)\n",
      " |-- 3510: double (nullable = false)\n",
      " |-- 3512: double (nullable = false)\n",
      " |-- 3513: double (nullable = false)\n",
      " |-- 3515: double (nullable = false)\n",
      " |-- 3516: double (nullable = false)\n",
      " |-- 3517: double (nullable = false)\n",
      " |-- 3528: double (nullable = false)\n",
      " |-- 3530: double (nullable = false)\n",
      " |-- 3533: double (nullable = false)\n",
      " |-- 3535: double (nullable = false)\n",
      " |-- 3543: double (nullable = false)\n",
      " |-- 3548: double (nullable = false)\n",
      " |-- 3549: double (nullable = false)\n",
      " |-- 3553: double (nullable = false)\n",
      " |-- 3555: double (nullable = false)\n",
      " |-- 3562: double (nullable = false)\n",
      " |-- 3563: double (nullable = false)\n",
      " |-- 3567: double (nullable = false)\n",
      " |-- 3579: double (nullable = false)\n",
      " |-- 3581: double (nullable = false)\n",
      " |-- 3583: double (nullable = false)\n",
      " |-- 3584: double (nullable = false)\n",
      " |-- 3586: double (nullable = false)\n",
      " |-- 3590: double (nullable = false)\n",
      " |-- 3591: double (nullable = false)\n",
      " |-- 3596: double (nullable = false)\n",
      " |-- 3602: double (nullable = false)\n",
      " |-- 3604: double (nullable = false)\n",
      " |-- 3607: double (nullable = false)\n",
      " |-- 3608: double (nullable = false)\n",
      " |-- 3612: double (nullable = false)\n",
      " |-- 3615: double (nullable = false)\n",
      " |-- 3617: double (nullable = false)\n",
      " |-- 3621: double (nullable = false)\n",
      " |-- 3625: double (nullable = false)\n",
      " |-- 3628: double (nullable = false)\n",
      " |-- 3629: double (nullable = false)\n",
      " |-- 3631: double (nullable = false)\n",
      " |-- 3637: double (nullable = false)\n",
      " |-- 3638: double (nullable = false)\n",
      " |-- 3640: double (nullable = false)\n",
      " |-- 3641: double (nullable = false)\n",
      " |-- 3642: double (nullable = false)\n",
      " |-- 3644: double (nullable = false)\n",
      " |-- 3649: double (nullable = false)\n",
      " |-- 3650: double (nullable = false)\n",
      " |-- 3654: double (nullable = false)\n",
      " |-- 3655: double (nullable = false)\n",
      " |-- 3656: double (nullable = false)\n",
      " |-- 3660: double (nullable = false)\n",
      " |-- 3662: double (nullable = false)\n",
      " |-- 3665: double (nullable = false)\n",
      " |-- 3667: double (nullable = false)\n",
      " |-- 3668: double (nullable = false)\n",
      " |-- 3672: double (nullable = false)\n",
      " |-- 3676: double (nullable = false)\n",
      " |-- 3680: double (nullable = false)\n",
      " |-- 3687: double (nullable = false)\n",
      " |-- 3690: double (nullable = false)\n",
      " |-- 3692: double (nullable = false)\n",
      " |-- 3693: double (nullable = false)\n",
      " |-- 3695: double (nullable = false)\n",
      " |-- 3700: double (nullable = false)\n",
      " |-- 3703: double (nullable = false)\n",
      " |-- 3709: double (nullable = false)\n",
      " |-- 3715: double (nullable = false)\n",
      " |-- 3719: double (nullable = false)\n",
      " |-- 3721: double (nullable = false)\n",
      " |-- 3722: double (nullable = false)\n",
      " |-- 3726: double (nullable = false)\n",
      " |-- 3728: double (nullable = false)\n",
      " |-- 3730: double (nullable = false)\n",
      " |-- 3731: double (nullable = false)\n",
      " |-- 3737: double (nullable = false)\n",
      " |-- 3742: double (nullable = false)\n",
      " |-- 3750: double (nullable = false)\n",
      " |-- 3751: double (nullable = false)\n",
      " |-- 3765: double (nullable = false)\n",
      " |-- 3769: double (nullable = false)\n",
      " |-- 3771: double (nullable = false)\n",
      " |-- 3773: double (nullable = false)\n",
      " |-- 3774: double (nullable = false)\n",
      " |-- 3778: double (nullable = false)\n",
      " |-- 3779: double (nullable = false)\n",
      " |-- 3780: double (nullable = false)\n",
      " |-- 3782: double (nullable = false)\n",
      " |-- 3792: double (nullable = false)\n",
      " |-- 3793: double (nullable = false)\n",
      " |-- 3795: double (nullable = false)\n",
      " |-- 3808: double (nullable = false)\n",
      " |-- 3811: double (nullable = false)\n",
      " |-- 3812: double (nullable = false)\n",
      " |-- 3813: double (nullable = false)\n",
      " |-- 3814: double (nullable = false)\n",
      " |-- 3816: double (nullable = false)\n",
      " |-- 3824: double (nullable = false)\n",
      " |-- 3825: double (nullable = false)\n",
      " |-- 3829: double (nullable = false)\n",
      " |-- 4011: double (nullable = false)\n",
      " |-- 4111: double (nullable = false)\n",
      " |-- 4112: double (nullable = false)\n",
      " |-- 4119: double (nullable = false)\n",
      " |-- 4121: double (nullable = false)\n",
      " |-- 4131: double (nullable = false)\n",
      " |-- 4214: double (nullable = false)\n",
      " |-- 4215: double (nullable = false)\n",
      " |-- 4225: double (nullable = false)\n",
      " |-- 4411: double (nullable = false)\n",
      " |-- 4457: double (nullable = false)\n",
      " |-- 4468: double (nullable = false)\n",
      " |-- 4511: double (nullable = false)\n",
      " |-- 4582: double (nullable = false)\n",
      " |-- 4722: double (nullable = false)\n",
      " |-- 4723: double (nullable = false)\n",
      " |-- 4784: double (nullable = false)\n",
      " |-- 4789: double (nullable = false)\n",
      " |-- 4812: double (nullable = false)\n",
      " |-- 4813: double (nullable = false)\n",
      " |-- 4814: double (nullable = false)\n",
      " |-- 4816: double (nullable = false)\n",
      " |-- 4821: double (nullable = false)\n",
      " |-- 4829: double (nullable = false)\n",
      " |-- 4899: double (nullable = false)\n",
      " |-- 4900: double (nullable = false)\n",
      " |-- 5013: double (nullable = false)\n",
      " |-- 5021: double (nullable = false)\n",
      " |-- 5039: double (nullable = false)\n",
      " |-- 5044: double (nullable = false)\n",
      " |-- 5045: double (nullable = false)\n",
      " |-- 5046: double (nullable = false)\n",
      " |-- 5047: double (nullable = false)\n",
      " |-- 5051: double (nullable = false)\n",
      " |-- 5065: double (nullable = false)\n",
      " |-- 5072: double (nullable = false)\n",
      " |-- 5074: double (nullable = false)\n",
      " |-- 5085: double (nullable = false)\n",
      " |-- 5094: double (nullable = false)\n",
      " |-- 5099: double (nullable = false)\n",
      " |-- 5111: double (nullable = false)\n",
      " |-- 5122: double (nullable = false)\n",
      " |-- 5131: double (nullable = false)\n",
      " |-- 5137: double (nullable = false)\n",
      " |-- 5139: double (nullable = false)\n",
      " |-- 5169: double (nullable = false)\n",
      " |-- 5172: double (nullable = false)\n",
      " |-- 5192: double (nullable = false)\n",
      " |-- 5193: double (nullable = false)\n",
      " |-- 5198: double (nullable = false)\n",
      " |-- 5199: double (nullable = false)\n",
      " |-- 5200: double (nullable = false)\n",
      " |-- 5211: double (nullable = false)\n",
      " |-- 5231: double (nullable = false)\n",
      " |-- 5251: double (nullable = false)\n",
      " |-- 5261: double (nullable = false)\n",
      " |-- 5271: double (nullable = false)\n",
      " |-- 5300: double (nullable = false)\n",
      " |-- 5309: double (nullable = false)\n",
      " |-- 5310: double (nullable = false)\n",
      " |-- 5311: double (nullable = false)\n",
      " |-- 5331: double (nullable = false)\n",
      " |-- 5399: double (nullable = false)\n",
      " |-- 5411: double (nullable = false)\n",
      " |-- 5422: double (nullable = false)\n",
      " |-- 5441: double (nullable = false)\n",
      " |-- 5451: double (nullable = false)\n",
      " |-- 5462: double (nullable = false)\n",
      " |-- 5499: double (nullable = false)\n",
      " |-- 5511: double (nullable = false)\n",
      " |-- 5521: double (nullable = false)\n",
      " |-- 5531: double (nullable = false)\n",
      " |-- 5532: double (nullable = false)\n",
      " |-- 5533: double (nullable = false)\n",
      " |-- 5541: double (nullable = false)\n",
      " |-- 5542: double (nullable = false)\n",
      " |-- 5551: double (nullable = false)\n",
      " |-- 5561: double (nullable = false)\n",
      " |-- 5571: double (nullable = false)\n",
      " |-- 5592: double (nullable = false)\n",
      " |-- 5598: double (nullable = false)\n",
      " |-- 5599: double (nullable = false)\n",
      " |-- 5611: double (nullable = false)\n",
      " |-- 5621: double (nullable = false)\n",
      " |-- 5631: double (nullable = false)\n",
      " |-- 5641: double (nullable = false)\n",
      " |-- 5651: double (nullable = false)\n",
      " |-- 5655: double (nullable = false)\n",
      " |-- 5661: double (nullable = false)\n",
      " |-- 5681: double (nullable = false)\n",
      " |-- 5691: double (nullable = false)\n",
      " |-- 5697: double (nullable = false)\n",
      " |-- 5698: double (nullable = false)\n",
      " |-- 5699: double (nullable = false)\n",
      " |-- 5712: double (nullable = false)\n",
      " |-- 5713: double (nullable = false)\n",
      " |-- 5714: double (nullable = false)\n",
      " |-- 5718: double (nullable = false)\n",
      " |-- 5719: double (nullable = false)\n",
      " |-- 5722: double (nullable = false)\n",
      " |-- 5732: double (nullable = false)\n",
      " |-- 5733: double (nullable = false)\n",
      " |-- 5734: double (nullable = false)\n",
      " |-- 5735: double (nullable = false)\n",
      " |-- 5811: double (nullable = false)\n",
      " |-- 5812: double (nullable = false)\n",
      " |-- 5813: double (nullable = false)\n",
      " |-- 5814: double (nullable = false)\n",
      " |-- 5815: double (nullable = false)\n",
      " |-- 5816: double (nullable = false)\n",
      " |-- 5817: double (nullable = false)\n",
      " |-- 5818: double (nullable = false)\n",
      " |-- 5912: double (nullable = false)\n",
      " |-- 5921: double (nullable = false)\n",
      " |-- 5931: double (nullable = false)\n",
      " |-- 5932: double (nullable = false)\n",
      " |-- 5933: double (nullable = false)\n",
      " |-- 5935: double (nullable = false)\n",
      " |-- 5937: double (nullable = false)\n",
      " |-- 5940: double (nullable = false)\n",
      " |-- 5941: double (nullable = false)\n",
      " |-- 5942: double (nullable = false)\n",
      " |-- 5943: double (nullable = false)\n",
      " |-- 5944: double (nullable = false)\n",
      " |-- 5945: double (nullable = false)\n",
      " |-- 5946: double (nullable = false)\n",
      " |-- 5947: double (nullable = false)\n",
      " |-- 5948: double (nullable = false)\n",
      " |-- 5949: double (nullable = false)\n",
      " |-- 5950: double (nullable = false)\n",
      " |-- 5960: double (nullable = false)\n",
      " |-- 5962: double (nullable = false)\n",
      " |-- 5963: double (nullable = false)\n",
      " |-- 5964: double (nullable = false)\n",
      " |-- 5965: double (nullable = false)\n",
      " |-- 5966: double (nullable = false)\n",
      " |-- 5967: double (nullable = false)\n",
      " |-- 5968: double (nullable = false)\n",
      " |-- 5969: double (nullable = false)\n",
      " |-- 5970: double (nullable = false)\n",
      " |-- 5971: double (nullable = false)\n",
      " |-- 5972: double (nullable = false)\n",
      " |-- 5973: double (nullable = false)\n",
      " |-- 5975: double (nullable = false)\n",
      " |-- 5976: double (nullable = false)\n",
      " |-- 5977: double (nullable = false)\n",
      " |-- 5978: double (nullable = false)\n",
      " |-- 5983: double (nullable = false)\n",
      " |-- 5992: double (nullable = false)\n",
      " |-- 5993: double (nullable = false)\n",
      " |-- 5994: double (nullable = false)\n",
      " |-- 5995: double (nullable = false)\n",
      " |-- 5996: double (nullable = false)\n",
      " |-- 5997: double (nullable = false)\n",
      " |-- 5998: double (nullable = false)\n",
      " |-- 5999: double (nullable = false)\n",
      " |-- 6012: double (nullable = false)\n",
      " |-- 6051: double (nullable = false)\n",
      " |-- 6211: double (nullable = false)\n",
      " |-- 6300: double (nullable = false)\n",
      " |-- 6513: double (nullable = false)\n",
      " |-- 6540: double (nullable = false)\n",
      " |-- 7011: double (nullable = false)\n",
      " |-- 7012: double (nullable = false)\n",
      " |-- 7032: double (nullable = false)\n",
      " |-- 7033: double (nullable = false)\n",
      " |-- 7210: double (nullable = false)\n",
      " |-- 7211: double (nullable = false)\n",
      " |-- 7216: double (nullable = false)\n",
      " |-- 7217: double (nullable = false)\n",
      " |-- 7221: double (nullable = false)\n",
      " |-- 7230: double (nullable = false)\n",
      " |-- 7251: double (nullable = false)\n",
      " |-- 7261: double (nullable = false)\n",
      " |-- 7273: double (nullable = false)\n",
      " |-- 7276: double (nullable = false)\n",
      " |-- 7277: double (nullable = false)\n",
      " |-- 7278: double (nullable = false)\n",
      " |-- 7296: double (nullable = false)\n",
      " |-- 7297: double (nullable = false)\n",
      " |-- 7298: double (nullable = false)\n",
      " |-- 7299: double (nullable = false)\n",
      " |-- 7311: double (nullable = false)\n",
      " |-- 7321: double (nullable = false)\n",
      " |-- 7333: double (nullable = false)\n",
      " |-- 7338: double (nullable = false)\n",
      " |-- 7339: double (nullable = false)\n",
      " |-- 7342: double (nullable = false)\n",
      " |-- 7349: double (nullable = false)\n",
      " |-- 7361: double (nullable = false)\n",
      " |-- 7372: double (nullable = false)\n",
      " |-- 7375: double (nullable = false)\n",
      " |-- 7379: double (nullable = false)\n",
      " |-- 7392: double (nullable = false)\n",
      " |-- 7393: double (nullable = false)\n",
      " |-- 7394: double (nullable = false)\n",
      " |-- 7395: double (nullable = false)\n",
      " |-- 7399: double (nullable = false)\n",
      " |-- 7512: double (nullable = false)\n",
      " |-- 7513: double (nullable = false)\n",
      " |-- 7519: double (nullable = false)\n",
      " |-- 7523: double (nullable = false)\n",
      " |-- 7531: double (nullable = false)\n",
      " |-- 7534: double (nullable = false)\n",
      " |-- 7535: double (nullable = false)\n",
      " |-- 7538: double (nullable = false)\n",
      " |-- 7542: double (nullable = false)\n",
      " |-- 7549: double (nullable = false)\n",
      " |-- 7622: double (nullable = false)\n",
      " |-- 7623: double (nullable = false)\n",
      " |-- 7629: double (nullable = false)\n",
      " |-- 7631: double (nullable = false)\n",
      " |-- 7641: double (nullable = false)\n",
      " |-- 7692: double (nullable = false)\n",
      " |-- 7699: double (nullable = false)\n",
      " |-- 7829: double (nullable = false)\n",
      " |-- 7832: double (nullable = false)\n",
      " |-- 7841: double (nullable = false)\n",
      " |-- 7911: double (nullable = false)\n",
      " |-- 7922: double (nullable = false)\n",
      " |-- 7929: double (nullable = false)\n",
      " |-- 7932: double (nullable = false)\n",
      " |-- 7933: double (nullable = false)\n",
      " |-- 7941: double (nullable = false)\n",
      " |-- 7991: double (nullable = false)\n",
      " |-- 7992: double (nullable = false)\n",
      " |-- 7993: double (nullable = false)\n",
      " |-- 7994: double (nullable = false)\n",
      " |-- 7995: double (nullable = false)\n",
      " |-- 7996: double (nullable = false)\n",
      " |-- 7997: double (nullable = false)\n",
      " |-- 7998: double (nullable = false)\n",
      " |-- 7999: double (nullable = false)\n",
      " |-- 8011: double (nullable = false)\n",
      " |-- 8021: double (nullable = false)\n",
      " |-- 8031: double (nullable = false)\n",
      " |-- 8041: double (nullable = false)\n",
      " |-- 8042: double (nullable = false)\n",
      " |-- 8043: double (nullable = false)\n",
      " |-- 8049: double (nullable = false)\n",
      " |-- 8050: double (nullable = false)\n",
      " |-- 8062: double (nullable = false)\n",
      " |-- 8071: double (nullable = false)\n",
      " |-- 8099: double (nullable = false)\n",
      " |-- 8111: double (nullable = false)\n",
      " |-- 8211: double (nullable = false)\n",
      " |-- 8220: double (nullable = false)\n",
      " |-- 8241: double (nullable = false)\n",
      " |-- 8242: double (nullable = false)\n",
      " |-- 8244: double (nullable = false)\n",
      " |-- 8249: double (nullable = false)\n",
      " |-- 8299: double (nullable = false)\n",
      " |-- 8351: double (nullable = false)\n",
      " |-- 8398: double (nullable = false)\n",
      " |-- 8641: double (nullable = false)\n",
      " |-- 8651: double (nullable = false)\n",
      " |-- 8661: double (nullable = false)\n",
      " |-- 8675: double (nullable = false)\n",
      " |-- 8699: double (nullable = false)\n",
      " |-- 8734: double (nullable = false)\n",
      " |-- 8911: double (nullable = false)\n",
      " |-- 8931: double (nullable = false)\n",
      " |-- 8999: double (nullable = false)\n",
      " |-- 9211: double (nullable = false)\n",
      " |-- 9222: double (nullable = false)\n",
      " |-- 9311: double (nullable = false)\n",
      " |-- 9399: double (nullable = false)\n",
      " |-- 9402: double (nullable = false)\n",
      " |-- 9405: double (nullable = false)\n",
      " |-- 101054: double (nullable = false)\n",
      " |-- 101069: double (nullable = false)\n",
      " |-- 101075: double (nullable = false)\n",
      " |-- 101076: double (nullable = false)\n",
      " |-- 101078: double (nullable = false)\n",
      " |-- 101079: double (nullable = false)\n",
      " |-- 101081: double (nullable = false)\n",
      " |-- 101083: double (nullable = false)\n",
      " |-- 101085: double (nullable = false)\n",
      " |-- 101086: double (nullable = false)\n",
      " |-- 101087: double (nullable = false)\n",
      " |-- 101089: double (nullable = false)\n",
      " |-- 101090: double (nullable = false)\n",
      " |-- 101092: double (nullable = false)\n",
      " |-- 101096: double (nullable = false)\n",
      " |-- 101148: double (nullable = false)\n",
      " |-- 101149: double (nullable = false)\n",
      " |-- 101151: double (nullable = false)\n",
      " |-- 101152: double (nullable = false)\n",
      " |-- 101153: double (nullable = false)\n",
      " |-- 101154: double (nullable = false)\n",
      " |-- 101155: double (nullable = false)\n",
      " |-- 101156: double (nullable = false)\n",
      " |-- 101158: double (nullable = false)\n",
      " |-- 101159: double (nullable = false)\n",
      " |-- 101160: double (nullable = false)\n",
      " |-- 101161: double (nullable = false)\n",
      " |-- 101162: double (nullable = false)\n",
      " |-- 101163: double (nullable = false)\n",
      " |-- 101164: double (nullable = false)\n",
      " |-- 101165: double (nullable = false)\n",
      " |-- 101167: double (nullable = false)\n",
      " |-- 101168: double (nullable = false)\n",
      " |-- 101259: double (nullable = false)\n",
      " |-- 101260: double (nullable = false)\n",
      " |-- 101261: double (nullable = false)\n",
      " |-- 101263: double (nullable = false)\n",
      " |-- 101264: double (nullable = false)\n",
      " |-- 101265: double (nullable = false)\n",
      " |-- 101266: double (nullable = false)\n",
      " |-- 101268: double (nullable = false)\n",
      " |-- 101269: double (nullable = false)\n",
      " |-- 101270: double (nullable = false)\n",
      " |-- 101271: double (nullable = false)\n",
      " |-- 101272: double (nullable = false)\n",
      " |-- 101273: double (nullable = false)\n",
      " |-- 101275: double (nullable = false)\n",
      " |-- 101277: double (nullable = false)\n",
      " |-- 101278: double (nullable = false)\n",
      " |-- 101279: double (nullable = false)\n",
      " |-- 101280: double (nullable = false)\n",
      " |-- 101413: double (nullable = false)\n",
      " |-- 101414: double (nullable = false)\n",
      " |-- 101415: double (nullable = false)\n",
      " |-- 101416: double (nullable = false)\n",
      " |-- 101417: double (nullable = false)\n",
      " |-- 101418: double (nullable = false)\n",
      " |-- 101419: double (nullable = false)\n",
      " |-- 101420: double (nullable = false)\n",
      " |-- 101421: double (nullable = false)\n",
      " |-- 101422: double (nullable = false)\n",
      " |-- 101423: double (nullable = false)\n",
      " |-- 101425: double (nullable = false)\n",
      " |-- 101427: double (nullable = false)\n",
      " |-- 101428: double (nullable = false)\n",
      " |-- 101429: double (nullable = false)\n",
      " |-- 101430: double (nullable = false)\n",
      " |-- 101431: double (nullable = false)\n",
      " |-- 101432: double (nullable = false)\n",
      " |-- 101433: double (nullable = false)\n",
      " |-- 101434: double (nullable = false)\n",
      " |-- 101435: double (nullable = false)\n",
      " |-- 101437: double (nullable = false)\n",
      " |-- 101440: double (nullable = false)\n",
      " |-- 101441: double (nullable = false)\n",
      " |-- 101442: double (nullable = false)\n",
      " |-- 101445: double (nullable = false)\n",
      " |-- 101447: double (nullable = false)\n",
      " |-- 101449: double (nullable = false)\n",
      " |-- 101454: double (nullable = false)\n",
      " |-- 101456: double (nullable = false)\n",
      " |-- 101468: double (nullable = false)\n",
      " |-- 101470: double (nullable = false)\n",
      " |-- 101475: double (nullable = false)\n",
      " |-- 101477: double (nullable = false)\n",
      " |-- 101480: double (nullable = false)\n",
      " |-- 101484: double (nullable = false)\n",
      " |-- 101485: double (nullable = false)\n",
      " |-- 101487: double (nullable = false)\n",
      " |-- 101489: double (nullable = false)\n",
      " |-- 101490: double (nullable = false)\n",
      " |-- 101526: double (nullable = false)\n",
      " |-- 101537: double (nullable = false)\n",
      " |-- 101555: double (nullable = false)\n",
      " |-- 101556: double (nullable = false)\n",
      " |-- 101557: double (nullable = false)\n",
      " |-- 101558: double (nullable = false)\n",
      " |-- 101561: double (nullable = false)\n",
      " |-- 101563: double (nullable = false)\n",
      " |-- 101564: double (nullable = false)\n",
      " |-- 101565: double (nullable = false)\n",
      " |-- 101569: double (nullable = false)\n",
      " |-- 101572: double (nullable = false)\n",
      " |-- 101576: double (nullable = false)\n",
      " |-- 101577: double (nullable = false)\n",
      " |-- 101578: double (nullable = false)\n",
      " |-- 101601: double (nullable = false)\n",
      " |-- 110101: double (nullable = false)\n",
      " |-- 202004: double (nullable = false)\n",
      " |-- 202005: double (nullable = false)\n",
      " |-- 202006: double (nullable = false)\n",
      " |-- 202073: double (nullable = false)\n",
      " |-- 202074: double (nullable = false)\n",
      " |-- 202075: double (nullable = false)\n",
      " |-- 202078: double (nullable = false)\n",
      " |-- 202143: double (nullable = false)\n",
      " |-- 202144: double (nullable = false)\n",
      " |-- 202145: double (nullable = false)\n",
      " |-- 202146: double (nullable = false)\n",
      " |-- 202147: double (nullable = false)\n",
      " |-- 202148: double (nullable = false)\n",
      " |-- 202253: double (nullable = false)\n",
      " |-- 202254: double (nullable = false)\n",
      " |-- 202255: double (nullable = false)\n",
      " |-- 202256: double (nullable = false)\n",
      " |-- 202257: double (nullable = false)\n",
      " |-- 202258: double (nullable = false)\n",
      " |-- 202261: double (nullable = false)\n",
      " |-- 202262: double (nullable = false)\n",
      " |-- 202263: double (nullable = false)\n",
      " |-- 202319: double (nullable = false)\n",
      " |-- 202320: double (nullable = false)\n",
      " |-- 202328: double (nullable = false)\n",
      " |-- 202329: double (nullable = false)\n",
      " |-- 202330: double (nullable = false)\n",
      " |-- 202332: double (nullable = false)\n",
      " |-- 202437: double (nullable = false)\n",
      " |-- 202438: double (nullable = false)\n",
      " |-- 202439: double (nullable = false)\n",
      " |-- 202444: double (nullable = false)\n",
      " |-- 202447: double (nullable = false)\n",
      " |-- 202449: double (nullable = false)\n",
      " |-- 202534: double (nullable = false)\n",
      " |-- 202535: double (nullable = false)\n",
      " |-- 303134: double (nullable = false)\n",
      " |-- 303135: double (nullable = false)\n",
      " |-- 303202: double (nullable = false)\n",
      " |-- 303506: double (nullable = false)\n",
      " |-- 303507: double (nullable = false)\n",
      " |-- 303508: double (nullable = false)\n",
      " |-- 303509: double (nullable = false)\n",
      " |-- 303617: double (nullable = false)\n",
      " |-- 303630: double (nullable = false)\n",
      " |-- 303631: double (nullable = false)\n",
      " |-- 303705: double (nullable = false)\n",
      " |-- 303713: double (nullable = false)\n",
      " |-- 303727: double (nullable = false)\n",
      " |-- 303728: double (nullable = false)\n",
      " |-- 303729: double (nullable = false)\n",
      " |-- 303730: double (nullable = false)\n",
      " |-- 303731: double (nullable = false)\n",
      " |-- 303732: double (nullable = false)\n",
      " |-- 303809: double (nullable = false)\n",
      " |-- 303813: double (nullable = false)\n",
      " |-- 303815: double (nullable = false)\n",
      " |-- 303837: double (nullable = false)\n",
      " |-- 303838: double (nullable = false)\n",
      " |-- 303839: double (nullable = false)\n",
      " |-- 303840: double (nullable = false)\n",
      " |-- 303841: double (nullable = false)\n",
      " |-- 303842: double (nullable = false)\n",
      " |-- 303844: double (nullable = false)\n",
      " |-- 303845: double (nullable = false)\n",
      " |-- 303847: double (nullable = false)\n",
      " |-- 303848: double (nullable = false)\n",
      " |-- 303914: double (nullable = false)\n",
      " |-- 303915: double (nullable = false)\n",
      " |-- 303916: double (nullable = false)\n",
      " |-- 303917: double (nullable = false)\n",
      " |-- 404012: double (nullable = false)\n",
      " |-- 404013: double (nullable = false)\n",
      " |-- 404014: double (nullable = false)\n",
      " |-- 404015: double (nullable = false)\n",
      " |-- 404016: double (nullable = false)\n",
      " |-- 404017: double (nullable = false)\n",
      " |-- 404018: double (nullable = false)\n",
      " |-- 404113: double (nullable = false)\n",
      " |-- 404115: double (nullable = false)\n",
      " |-- 404117: double (nullable = false)\n",
      " |-- 404118: double (nullable = false)\n",
      " |-- 404120: double (nullable = false)\n",
      " |-- 404121: double (nullable = false)\n",
      " |-- 404122: double (nullable = false)\n",
      " |-- 404215: double (nullable = false)\n",
      " |-- 404217: double (nullable = false)\n",
      " |-- 404219: double (nullable = false)\n",
      " |-- 404320: double (nullable = false)\n",
      " |-- 404324: double (nullable = false)\n",
      " |-- 404325: double (nullable = false)\n",
      " |-- 404326: double (nullable = false)\n",
      " |-- 404327: double (nullable = false)\n",
      " |-- 404328: double (nullable = false)\n",
      " |-- 404416: double (nullable = false)\n",
      " |-- 404417: double (nullable = false)\n",
      " |-- 404418: double (nullable = false)\n",
      " |-- 404419: double (nullable = false)\n",
      " |-- 404513: double (nullable = false)\n",
      " |-- 404514: double (nullable = false)\n",
      " |-- 404614: double (nullable = false)\n",
      " |-- 404615: double (nullable = false)\n",
      " |-- 404617: double (nullable = false)\n",
      " |-- 404707: double (nullable = false)\n",
      " |-- 506017: double (nullable = false)\n",
      " |-- 506067: double (nullable = false)\n",
      " |-- 506091: double (nullable = false)\n",
      " |-- 506093: double (nullable = false)\n",
      " |-- 506401: double (nullable = false)\n",
      " |-- 506402: double (nullable = false)\n",
      " |-- 506404: double (nullable = false)\n",
      " |-- 506405: double (nullable = false)\n",
      " |-- 506406: double (nullable = false)\n",
      " |-- 506408: double (nullable = false)\n",
      " |-- 506409: double (nullable = false)\n",
      " |-- 506521: double (nullable = false)\n",
      " |-- 506571: double (nullable = false)\n",
      " |-- 506581: double (nullable = false)\n",
      " |-- 506586: double (nullable = false)\n",
      " |-- 506612: double (nullable = false)\n",
      " |-- 506624: double (nullable = false)\n",
      " |-- 506631: double (nullable = false)\n",
      " |-- 506663: double (nullable = false)\n",
      " |-- 506669: double (nullable = false)\n",
      " |-- 506741: double (nullable = false)\n",
      " |-- 506758: double (nullable = false)\n",
      " |-- 506761: double (nullable = false)\n",
      " |-- 506771: double (nullable = false)\n",
      " |-- 506773: double (nullable = false)\n",
      " |-- 705101: double (nullable = false)\n",
      " |-- 705103: double (nullable = false)\n",
      " |-- 801302: double (nullable = false)\n",
      " |-- 909301: double (nullable = false)\n",
      "\n"
     ]
    }
   ],
   "source": [
    "dfFinalMatrix.printSchema()"
   ]
  },
  {
   "cell_type": "markdown",
   "metadata": {},
   "source": [
    "### Dataframe for cluster analysis by department and sector"
   ]
  },
  {
   "cell_type": "code",
   "execution_count": 125,
   "metadata": {
    "collapsed": false
   },
   "outputs": [],
   "source": [
    "dfAnalysis=dfTemp2.groupBy(\"ACCOUNTPK\",\"PRF_DS_DEPARTAMENTO\",\"PRF_DS_SETOR\").sum(\"PURCHASES\").withColumnRenamed('sum(PURCHASES)',\"PURCHASES\")"
   ]
  },
  {
   "cell_type": "code",
   "execution_count": 126,
   "metadata": {
    "collapsed": false,
    "scrolled": true
   },
   "outputs": [
    {
     "name": "stdout",
     "output_type": "stream",
     "text": [
      "root\n",
      " |-- ACCOUNTPK: long (nullable = true)\n",
      " |-- PRF_DS_DEPARTAMENTO: string (nullable = true)\n",
      " |-- PRF_DS_SETOR: string (nullable = true)\n",
      " |-- PURCHASES: double (nullable = true)\n",
      "\n"
     ]
    }
   ],
   "source": [
    "dfAnalysis.printSchema()"
   ]
  },
  {
   "cell_type": "code",
   "execution_count": null,
   "metadata": {
    "collapsed": true
   },
   "outputs": [],
   "source": [
    "#dfDemographic=dfAccounts.join(dfPeople,dfPeople.PEOPLESERNO==dfAccounts.PEOPLESERNOFK)"
   ]
  },
  {
   "cell_type": "code",
   "execution_count": null,
   "metadata": {
    "collapsed": true
   },
   "outputs": [],
   "source": [
    "# dfAnalysisBin=dfTemp2.groupBy(\"ACCOUNTPK\",\"PRF_DS_DEPARTAMENTO\",\"PRF_DS_SETOR\") \\\n",
    "#     .agg(countDistinct(dfTemp2.PRF_CD_SUBFAMILIA).alias('SUBFAMILIES'))"
   ]
  },
  {
   "cell_type": "code",
   "execution_count": null,
   "metadata": {
    "collapsed": true
   },
   "outputs": [],
   "source": [
    "# dfAnalysisBin.printSchema()"
   ]
  },
  {
   "cell_type": "markdown",
   "metadata": {},
   "source": [
    "### November validation dataframe"
   ]
  },
  {
   "cell_type": "code",
   "execution_count": 110,
   "metadata": {
    "collapsed": false,
    "scrolled": true
   },
   "outputs": [
    {
     "name": "stdout",
     "output_type": "stream",
     "text": [
      "root\n",
      " |-- TRANSACTIONSERNO: long (nullable = true)\n",
      " |-- ACCOUNTSERNOFK: long (nullable = true)\n",
      " |-- TYPESERNO_GLEDGER: long (nullable = true)\n",
      " |-- I013_TRXN_DATE: string (nullable = true)\n",
      " |-- I018_MERCH_TYPE: string (nullable = true)\n",
      " |-- AMOUNT: double (nullable = true)\n",
      " |-- VALUEDATE: string (nullable = true)\n",
      " |-- POSTDATE: string (nullable = true)\n",
      " |-- STGENERAL: string (nullable = true)\n",
      " |-- REFDATE: timestamp (nullable = true)\n",
      " |-- FG_CURRENT: integer (nullable = true)\n",
      " |-- TM_INSERT: timestamp (nullable = true)\n",
      " |-- PRODUTO: string (nullable = true)\n",
      "\n"
     ]
    }
   ],
   "source": [
    "dfTrantsysTratada.printSchema()"
   ]
  },
  {
   "cell_type": "code",
   "execution_count": 111,
   "metadata": {
    "collapsed": false
   },
   "outputs": [],
   "source": [
    "dfValidacionNov=dfTrantsys.where((col('I013_TRXN_DATE')>='20171101') & (col('I013_TRXN_DATE')<'20171201')) \\\n",
    "    .join(dfCodeproducts,dfCodeproducts.SERNO==dfTrantsys.TYPESERNO_GLEDGER) \\\n",
    "    .where((col('TIPO_TRANSACAO')=='producao') & (col('FG_TRNS')=='TRANSACAO') & (col('PRODUTO')!='Off_Us')) \\\n",
    "    .select('TRANSACTIONSERNO','ACCOUNTSERNOFK','TYPESERNO_GLEDGER','VALUEDATE','I013_TRXN_DATE','POSTDATE','STGENERAL','REFDATE','FG_CURRENT','TM_INSERT','PRODUTO')\n",
    "    #.where((col('VALUEDATE')>='20171101') & (col('VALUEDATE')<'20171101'))   .where(to_date(col('REFDATE'))>='2017-11-01') \n",
    "    #.select('TRANSACTIONSERNO','ACCOUNTSERNOFK','TYPESERNO_GLEDGER','I018_MERCH_TYPE','AMOUNT','VALUEDATE','POSTDATE','STGENERAL','REFDATE','FG_CURRENT','TM_INSERT','PRODUTO')"
   ]
  },
  {
   "cell_type": "code",
   "execution_count": null,
   "metadata": {
    "collapsed": true
   },
   "outputs": [],
   "source": [
    "dfValidacionNov=dfTrantsysTratada.drop('PRODUTO').where((col('I013_TRXN_DATE'))>='2017-11-01') \\\n",
    "    .join(dfCodeproducts,dfCodeproducts.SERNO==dfTrantsysTratada.TYPESERNO_GLEDGER) \\\n",
    "    .where((col('TIPO_TRANSACAO')=='producao') & (col('FG_TRNS')=='TRANSACAO') & (col('PRODUTO')!='Off_Us')) \\\n",
    "    .select('TRANSACTIONSERNO','ACCOUNTSERNOFK','TYPESERNO_GLEDGER','VALUEDATE','I013_TRXN_DATE','POSTDATE','STGENERAL','REFDATE','FG_CURRENT','TM_INSERT','PRODUTO')\n",
    "    #.where((col('VALUEDATE')>='20171101') & (col('VALUEDATE')<'20171101'))   .where(to_date(col('REFDATE'))>='2017-11-01') \n",
    "    #.select('TRANSACTIONSERNO','ACCOUNTSERNOFK','TYPESERNO_GLEDGER','I018_MERCH_TYPE','AMOUNT','VALUEDATE','POSTDATE','STGENERAL','REFDATE','FG_CURRENT','TM_INSERT','PRODUTO')"
   ]
  },
  {
   "cell_type": "code",
   "execution_count": 112,
   "metadata": {
    "collapsed": false,
    "scrolled": true
   },
   "outputs": [
    {
     "data": {
      "text/plain": [
       "617879"
      ]
     },
     "execution_count": 112,
     "metadata": {},
     "output_type": "execute_result"
    }
   ],
   "source": [
    "dfValidacionNov.persist().count()"
   ]
  },
  {
   "cell_type": "code",
   "execution_count": 113,
   "metadata": {
    "collapsed": false
   },
   "outputs": [
    {
     "name": "stdout",
     "output_type": "stream",
     "text": [
      "+----------------+--------------+-----------------+---------+--------------+--------+---------+--------------------+----------+--------------------+------------------+\n",
      "|TRANSACTIONSERNO|ACCOUNTSERNOFK|TYPESERNO_GLEDGER|VALUEDATE|I013_TRXN_DATE|POSTDATE|STGENERAL|             REFDATE|FG_CURRENT|           TM_INSERT|           PRODUTO|\n",
      "+----------------+--------------+-----------------+---------+--------------+--------+---------+--------------------+----------+--------------------+------------------+\n",
      "|      2792324521|       6419151|             3328|     null|      20171129|    null|     IPST|2017-12-01 00:00:...|         1|2017-12-02 03:45:...|Emprestimo_Pessoal|\n",
      "|      2792324580|       1554241|             3328|     null|      20171129|    null|     IPST|2017-12-01 00:00:...|         1|2017-12-02 03:45:...|Emprestimo_Pessoal|\n",
      "|      2792324627|       1842232|             3328|     null|      20171129|    null|     IPST|2017-12-01 00:00:...|         1|2017-12-02 03:45:...|Emprestimo_Pessoal|\n",
      "|      2792324635|      10177610|             3328|     null|      20171129|    null|     IPST|2017-12-01 00:00:...|         1|2017-12-02 03:45:...|Emprestimo_Pessoal|\n",
      "|      2792324651|        726093|             3328|     null|      20171129|    null|     IPST|2017-12-01 00:00:...|         1|2017-12-02 03:45:...|Emprestimo_Pessoal|\n",
      "+----------------+--------------+-----------------+---------+--------------+--------+---------+--------------------+----------+--------------------+------------------+\n",
      "only showing top 5 rows\n",
      "\n"
     ]
    }
   ],
   "source": [
    "dfValidacionNov.where(col('PRODUTO').like('Empr%')).show(5)"
   ]
  },
  {
   "cell_type": "code",
   "execution_count": 114,
   "metadata": {
    "collapsed": false
   },
   "outputs": [
    {
     "name": "stdout",
     "output_type": "stream",
     "text": [
      "+-------------+-------------------+\n",
      "|min(POSTDATE)|min(I013_TRXN_DATE)|\n",
      "+-------------+-------------------+\n",
      "|             |           20171101|\n",
      "+-------------+-------------------+\n",
      "\n"
     ]
    }
   ],
   "source": [
    "dfValidacionNov.agg({'I013_TRXN_DATE':'min','POSTDATE':'min'}).show()"
   ]
  },
  {
   "cell_type": "code",
   "execution_count": 115,
   "metadata": {
    "collapsed": false
   },
   "outputs": [
    {
     "name": "stdout",
     "output_type": "stream",
     "text": [
      "+--------------------+------------------------------+\n",
      "|             PRODUTO|count(DISTINCT ACCOUNTSERNOFK)|\n",
      "+--------------------+------------------------------+\n",
      "|     Saque_Parcelado|                          6501|\n",
      "|  Emprestimo_Pessoal|                          1042|\n",
      "|Parcelamento_Fatu...|                        136136|\n",
      "|           Overlimit|                        169535|\n",
      "| Pagamento_de_Contas|                         29631|\n",
      "|       Saque_a_Vista|                          8034|\n",
      "|Parcelamento_Fatu...|                         56201|\n",
      "+--------------------+------------------------------+\n",
      "\n"
     ]
    }
   ],
   "source": [
    "dfValidacionNov.groupBy('PRODUTO').agg(countDistinct('ACCOUNTSERNOFK')).show(50)"
   ]
  },
  {
   "cell_type": "markdown",
   "metadata": {},
   "source": [
    "### Save tables in hdfs"
   ]
  },
  {
   "cell_type": "code",
   "execution_count": 127,
   "metadata": {
    "collapsed": true
   },
   "outputs": [],
   "source": [
    "dfAnalysis.write.parquet(\"/analytics/bc1_clustering/tables/dfAnalysis02Ene\")"
   ]
  },
  {
   "cell_type": "code",
   "execution_count": null,
   "metadata": {
    "collapsed": false
   },
   "outputs": [],
   "source": [
    "dfTsys.write.parquet(\"/analytics/bc1_clustering/tables/dfTsysAccYrOriginal\")"
   ]
  },
  {
   "cell_type": "code",
   "execution_count": null,
   "metadata": {
    "collapsed": false
   },
   "outputs": [],
   "source": [
    "#dfEM.write.parquet(\"/analytics/bc1_clustering/tables/dfEM\")\n",
    "#dfBuffer.fillna(0).write.parquet(\"/tmp/dfBuffer\")\n",
    "#\"7898940742035\"\n",
    "dfBuffer.fillna(0).write.parquet(\"/analytics/bc1_clustering/tables/dfBufferTest11Ene\")\n",
    "#dfBufferAccYrSubVal19Dic"
   ]
  },
  {
   "cell_type": "code",
   "execution_count": 146,
   "metadata": {
    "collapsed": false
   },
   "outputs": [],
   "source": [
    "dfFinalMatrix.write.parquet(\"/analytics/bc1_clustering/tables/dfFinalMatrixSubVal04Ene\")"
   ]
  },
  {
   "cell_type": "code",
   "execution_count": null,
   "metadata": {
    "collapsed": false
   },
   "outputs": [],
   "source": [
    "dfEM.write.parquet(\"/analytics/bc1_clustering/tables/dfEM\")"
   ]
  },
  {
   "cell_type": "code",
   "execution_count": 116,
   "metadata": {
    "collapsed": false
   },
   "outputs": [],
   "source": [
    "dfValidacionNov.write.parquet(\"/analytics/bc1_clustering/tables/dfValidacionNov\")"
   ]
  },
  {
   "cell_type": "code",
   "execution_count": 143,
   "metadata": {
    "collapsed": true
   },
   "outputs": [],
   "source": [
    "dfBuffer=spark.read.parquet(\"/analytics/bc1_clustering/tables/dfBufferAccYrSubVal19Dic\")"
   ]
  },
  {
   "cell_type": "code",
   "execution_count": null,
   "metadata": {
    "collapsed": true
   },
   "outputs": [],
   "source": [
    "dfFinalMatrix=spark.read.parquet(\"/analytics/bc1_clustering/tables/dfFinalMatrixGrpVal02Ene\")"
   ]
  },
  {
   "cell_type": "code",
   "execution_count": null,
   "metadata": {
    "collapsed": true
   },
   "outputs": [],
   "source": [
    "dfTsys=spark.read.parquet(\"/analytics/bc1_clustering/tables/dfTsysAccYrOriginal\")"
   ]
  },
  {
   "cell_type": "code",
   "execution_count": 1,
   "metadata": {
    "collapsed": false
   },
   "outputs": [
    {
     "data": {
      "text/plain": [
       "'/var/sds/homes/fdeplasencia/workspace/bc1_clustering'"
      ]
     },
     "execution_count": 1,
     "metadata": {},
     "output_type": "execute_result"
    }
   ],
   "source": [
    "pwd"
   ]
  }
 ],
 "metadata": {
  "anaconda-cloud": {},
  "kernelspec": {
   "display_name": "PySpark Python3 - Spark 2.1.0",
   "language": "python",
   "name": "spark2python3"
  },
  "language_info": {
   "codemirror_mode": {
    "name": "ipython",
    "version": 3
   },
   "file_extension": ".py",
   "mimetype": "text/x-python",
   "name": "python",
   "nbconvert_exporter": "python",
   "pygments_lexer": "ipython3",
   "version": "3.5.2"
  }
 },
 "nbformat": 4,
 "nbformat_minor": 1
}
